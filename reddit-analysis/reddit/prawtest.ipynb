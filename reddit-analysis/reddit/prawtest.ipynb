{
 "cells": [
  {
   "cell_type": "code",
   "execution_count": 2,
   "metadata": {},
   "outputs": [],
   "source": [
    "import praw\n",
    "import json\n",
    "import time\n",
    "from dotenv import load_dotenv\n",
    "import os"
   ]
  },
  {
   "cell_type": "code",
   "execution_count": 3,
   "metadata": {},
   "outputs": [],
   "source": [
    "load_dotenv()\n",
    "\n",
    "CLIENT_ID=os.getenv(\"CLIENT_ID\")\n",
    "CLIENT_SECRET=os.getenv(\"CLIENT_SECRET\")\n",
    "USERNAME=os.getenv(\"USERNAME\")\n",
    "PASSWORD=os.getenv(\"PASSWORD\")\n",
    "\n",
    "reddit = praw.Reddit(client_id=CLIENT_ID,\n",
    "            client_secret=CLIENT_SECRET,\n",
    "            user_agent=True,\n",
    "            username=USERNAME,\n",
    "            password=PASSWORD)\n"
   ]
  },
  {
   "cell_type": "code",
   "execution_count": 4,
   "metadata": {},
   "outputs": [],
   "source": [
    "subreddit_name = \"frugal\"\n",
    "subreddit = reddit.subreddit(subreddit_name)"
   ]
  },
  {
   "cell_type": "code",
   "execution_count": 5,
   "metadata": {},
   "outputs": [
    {
     "name": "stdout",
     "output_type": "stream",
     "text": [
      "{'id': '1185njd', 'author': 'bethany_katherine', 'created_utc': 1676992257.0, 'title': 'UPDATE: 30 pounds of bananas', 'selftext': 'Alright y’all. The bananas have all been used.', 'url': 'https://i.redd.it/n4cxhl2zmlja1.jpg', 'score': 50221, 'upvote_ratio': 0.93, 'num_comments': 704, 'subreddit': 'frugal', 'permalink': '/r/Frugal/comments/1185njd/update_30_pounds_of_bananas/', 'link_flair_text': 'Frugal Win 🎉', 'author_flair_text': None, 'edited': False, 'locked': False, 'is_original_content': False, 'is_self': False, 'over_18': False, 'stickied': False}\n"
     ]
    }
   ],
   "source": [
    "def submission_to_object(submission):\n",
    "    return {\n",
    "        \"id\": submission.id,\n",
    "        \"author\": str(submission.author),\n",
    "        \"created_utc\": submission.created_utc,\n",
    "        \"title\": submission.title,\n",
    "        \"selftext\": submission.selftext,\n",
    "        \"url\": submission.url,\n",
    "        \"score\": submission.score,\n",
    "        \"upvote_ratio\": submission.upvote_ratio,\n",
    "        \"num_comments\": submission.num_comments,\n",
    "        \"subreddit\": str(submission.subreddit).lower(),\n",
    "        \"permalink\": submission.permalink,\n",
    "        \"link_flair_text\": submission.link_flair_text,\n",
    "        \"author_flair_text\": submission.author_flair_text,\n",
    "        # \"clicked\": submission.clicked,\n",
    "        # \"distinguished\": submission.distinguished,\n",
    "        \"edited\": submission.edited,\n",
    "        \"locked\": submission.locked,\n",
    "        \"is_original_content\": submission.is_original_content,\n",
    "        \"is_self\": submission.is_self,\n",
    "        # \"name\": submission.name,\n",
    "        \"over_18\": submission.over_18,\n",
    "        # \"poll_data\": submission.poll_data,\n",
    "        # \"spoiler\": submission.spoiler,\n",
    "        \"stickied\": submission.stickied,\n",
    "    }\n",
    "submissions_scraped_utc = int(time.time())\n",
    "submissions = subreddit.top(limit=10, time_filter='all')\n",
    "submissions = [submission_to_object(submission) for submission in submissions]\n",
    "print(submissions[0])"
   ]
  },
  {
   "cell_type": "code",
   "execution_count": 6,
   "metadata": {},
   "outputs": [
    {
     "name": "stdout",
     "output_type": "stream",
     "text": [
      "Scraped 10 submissions from frugal\n"
     ]
    }
   ],
   "source": [
    "# save the submissions to a json file\n",
    "submissions_scrape = {\n",
    "    \"subreddit_name\": subreddit_name,\n",
    "    \"scraped_utc\": submissions_scraped_utc,\n",
    "    \"submissions\": submissions\n",
    "}\n",
    "\n",
    "with open(f\"data/submissions/submissions_{subreddit_name}_{submissions_scraped_utc}.json\", \"w\") as f:\n",
    "    json.dump(submissions_scrape, f)\n",
    "\n",
    "print(\"Scraped\", len(submissions), \"submissions from\", subreddit_name)"
   ]
  },
  {
   "cell_type": "code",
   "execution_count": 7,
   "metadata": {},
   "outputs": [
    {
     "name": "stdout",
     "output_type": "stream",
     "text": [
      "{'remaining': 999.0, 'reset_timestamp': 1726991999.6067772, 'used': 1}\n",
      "Sun Sep 22 09:59:59 2024\n"
     ]
    }
   ],
   "source": [
    "lim_dict = reddit.auth.limits\n",
    "print(lim_dict)\n",
    "\n",
    "# convert unix timestamp to human readable time\n",
    "unix_timestamp = lim_dict[\"reset_timestamp\"]\n",
    "human_readable_time = time.ctime(unix_timestamp)\n",
    "print(human_readable_time)"
   ]
  },
  {
   "cell_type": "code",
   "execution_count": 8,
   "metadata": {},
   "outputs": [
    {
     "name": "stdout",
     "output_type": "stream",
     "text": [
      "False\n",
      "384\n"
     ]
    }
   ],
   "source": [
    "post_id = \"1185njd\"\n",
    "scraped_utc = int(time.time())\n",
    "post = reddit.submission(post_id)\n",
    "\n",
    "print(reddit.read_only)\n",
    "print(len(post.comments))"
   ]
  },
  {
   "cell_type": "code",
   "execution_count": 9,
   "metadata": {},
   "outputs": [
    {
     "data": {
      "text/plain": [
       "[]"
      ]
     },
     "execution_count": 9,
     "metadata": {},
     "output_type": "execute_result"
    }
   ],
   "source": [
    "post.comments.replace_more(limit=None)"
   ]
  },
  {
   "cell_type": "code",
   "execution_count": 20,
   "metadata": {},
   "outputs": [
    {
     "name": "stdout",
     "output_type": "stream",
     "text": [
      "bethany_katherine\n",
      "MamaMidgePidge\n",
      "AdministrativeSky236\n",
      "Boomboooom\n",
      "BurnerJerkzog\n",
      "TheRealTofuey\n",
      "None\n"
     ]
    },
    {
     "ename": "AttributeError",
     "evalue": "'NoneType' object has no attribute 'id'",
     "output_type": "error",
     "traceback": [
      "\u001b[0;31m---------------------------------------------------------------------------\u001b[0m",
      "\u001b[0;31mAttributeError\u001b[0m                            Traceback (most recent call last)",
      "Cell \u001b[0;32mIn[20], line 21\u001b[0m\n\u001b[1;32m      3\u001b[0m     \u001b[38;5;28;01mreturn\u001b[39;00m {\n\u001b[1;32m      4\u001b[0m         \u001b[38;5;124m\"\u001b[39m\u001b[38;5;124mid\u001b[39m\u001b[38;5;124m\"\u001b[39m: comment\u001b[38;5;241m.\u001b[39mid,\n\u001b[1;32m      5\u001b[0m         \u001b[38;5;124m\"\u001b[39m\u001b[38;5;124mbody\u001b[39m\u001b[38;5;124m\"\u001b[39m: comment\u001b[38;5;241m.\u001b[39mbody,\n\u001b[0;32m   (...)\u001b[0m\n\u001b[1;32m     17\u001b[0m         \u001b[38;5;124m\"\u001b[39m\u001b[38;5;124mreply_ids\u001b[39m\u001b[38;5;124m\"\u001b[39m: [reply\u001b[38;5;241m.\u001b[39mid \u001b[38;5;28;01mfor\u001b[39;00m reply \u001b[38;5;129;01min\u001b[39;00m comment\u001b[38;5;241m.\u001b[39mreplies],\n\u001b[1;32m     18\u001b[0m     }\n\u001b[1;32m     20\u001b[0m \u001b[38;5;66;03m# run the function on the post\u001b[39;00m\n\u001b[0;32m---> 21\u001b[0m comments \u001b[38;5;241m=\u001b[39m [comments_to_json(comment) \u001b[38;5;28;01mfor\u001b[39;00m comment \u001b[38;5;129;01min\u001b[39;00m post\u001b[38;5;241m.\u001b[39mcomments\u001b[38;5;241m.\u001b[39mlist()]\n\u001b[1;32m     22\u001b[0m \u001b[38;5;28mprint\u001b[39m(\u001b[38;5;28mlen\u001b[39m(comments))\n\u001b[1;32m     23\u001b[0m \u001b[38;5;66;03m# print(comments)\u001b[39;00m\n",
      "Cell \u001b[0;32mIn[20], line 21\u001b[0m, in \u001b[0;36m<listcomp>\u001b[0;34m(.0)\u001b[0m\n\u001b[1;32m      3\u001b[0m     \u001b[38;5;28;01mreturn\u001b[39;00m {\n\u001b[1;32m      4\u001b[0m         \u001b[38;5;124m\"\u001b[39m\u001b[38;5;124mid\u001b[39m\u001b[38;5;124m\"\u001b[39m: comment\u001b[38;5;241m.\u001b[39mid,\n\u001b[1;32m      5\u001b[0m         \u001b[38;5;124m\"\u001b[39m\u001b[38;5;124mbody\u001b[39m\u001b[38;5;124m\"\u001b[39m: comment\u001b[38;5;241m.\u001b[39mbody,\n\u001b[0;32m   (...)\u001b[0m\n\u001b[1;32m     17\u001b[0m         \u001b[38;5;124m\"\u001b[39m\u001b[38;5;124mreply_ids\u001b[39m\u001b[38;5;124m\"\u001b[39m: [reply\u001b[38;5;241m.\u001b[39mid \u001b[38;5;28;01mfor\u001b[39;00m reply \u001b[38;5;129;01min\u001b[39;00m comment\u001b[38;5;241m.\u001b[39mreplies],\n\u001b[1;32m     18\u001b[0m     }\n\u001b[1;32m     20\u001b[0m \u001b[38;5;66;03m# run the function on the post\u001b[39;00m\n\u001b[0;32m---> 21\u001b[0m comments \u001b[38;5;241m=\u001b[39m [\u001b[43mcomments_to_json\u001b[49m\u001b[43m(\u001b[49m\u001b[43mcomment\u001b[49m\u001b[43m)\u001b[49m \u001b[38;5;28;01mfor\u001b[39;00m comment \u001b[38;5;129;01min\u001b[39;00m post\u001b[38;5;241m.\u001b[39mcomments\u001b[38;5;241m.\u001b[39mlist()]\n\u001b[1;32m     22\u001b[0m \u001b[38;5;28mprint\u001b[39m(\u001b[38;5;28mlen\u001b[39m(comments))\n\u001b[1;32m     23\u001b[0m \u001b[38;5;66;03m# print(comments)\u001b[39;00m\n",
      "Cell \u001b[0;32mIn[20], line 6\u001b[0m, in \u001b[0;36mcomments_to_json\u001b[0;34m(comment)\u001b[0m\n\u001b[1;32m      1\u001b[0m \u001b[38;5;28;01mdef\u001b[39;00m \u001b[38;5;21mcomments_to_json\u001b[39m(comment):\n\u001b[1;32m      2\u001b[0m     \u001b[38;5;28mprint\u001b[39m(comment\u001b[38;5;241m.\u001b[39mauthor)\n\u001b[1;32m      3\u001b[0m     \u001b[38;5;28;01mreturn\u001b[39;00m {\n\u001b[1;32m      4\u001b[0m         \u001b[38;5;124m\"\u001b[39m\u001b[38;5;124mid\u001b[39m\u001b[38;5;124m\"\u001b[39m: comment\u001b[38;5;241m.\u001b[39mid,\n\u001b[1;32m      5\u001b[0m         \u001b[38;5;124m\"\u001b[39m\u001b[38;5;124mbody\u001b[39m\u001b[38;5;124m\"\u001b[39m: comment\u001b[38;5;241m.\u001b[39mbody,\n\u001b[0;32m----> 6\u001b[0m         \u001b[38;5;124m\"\u001b[39m\u001b[38;5;124mauthor\u001b[39m\u001b[38;5;124m\"\u001b[39m: \u001b[43mcomment\u001b[49m\u001b[38;5;241;43m.\u001b[39;49m\u001b[43mauthor\u001b[49m\u001b[38;5;241;43m.\u001b[39;49m\u001b[43mid\u001b[49m,\n\u001b[1;32m      7\u001b[0m         \u001b[38;5;124m\"\u001b[39m\u001b[38;5;124mcreated_utc\u001b[39m\u001b[38;5;124m\"\u001b[39m: \u001b[38;5;28mint\u001b[39m(comment\u001b[38;5;241m.\u001b[39mcreated_utc),\n\u001b[1;32m      8\u001b[0m         \u001b[38;5;66;03m# \"distinguished\": comment.distinguished,\u001b[39;00m\n\u001b[1;32m      9\u001b[0m         \u001b[38;5;124m\"\u001b[39m\u001b[38;5;124medited\u001b[39m\u001b[38;5;124m\"\u001b[39m: comment\u001b[38;5;241m.\u001b[39medited,\n\u001b[1;32m     10\u001b[0m         \u001b[38;5;124m\"\u001b[39m\u001b[38;5;124mis_submitter\u001b[39m\u001b[38;5;124m\"\u001b[39m: comment\u001b[38;5;241m.\u001b[39mis_submitter,\n\u001b[1;32m     11\u001b[0m         \u001b[38;5;66;03m# \"permalink\": comment.permalink,\u001b[39;00m\n\u001b[1;32m     12\u001b[0m         \u001b[38;5;124m\"\u001b[39m\u001b[38;5;124mscore\u001b[39m\u001b[38;5;124m\"\u001b[39m: comment\u001b[38;5;241m.\u001b[39mscore,\n\u001b[1;32m     13\u001b[0m         \u001b[38;5;124m\"\u001b[39m\u001b[38;5;124mstickied\u001b[39m\u001b[38;5;124m\"\u001b[39m: comment\u001b[38;5;241m.\u001b[39mstickied,\n\u001b[1;32m     14\u001b[0m         \u001b[38;5;124m\"\u001b[39m\u001b[38;5;124msubreddit_id\u001b[39m\u001b[38;5;124m\"\u001b[39m: comment\u001b[38;5;241m.\u001b[39msubreddit_id\u001b[38;5;241m.\u001b[39msplit(\u001b[38;5;124m\"\u001b[39m\u001b[38;5;124m_\u001b[39m\u001b[38;5;124m\"\u001b[39m)[\u001b[38;5;241m1\u001b[39m],\n\u001b[1;32m     15\u001b[0m         \u001b[38;5;124m\"\u001b[39m\u001b[38;5;124mlink_id\u001b[39m\u001b[38;5;124m\"\u001b[39m: comment\u001b[38;5;241m.\u001b[39mlink_id\u001b[38;5;241m.\u001b[39msplit(\u001b[38;5;124m\"\u001b[39m\u001b[38;5;124m_\u001b[39m\u001b[38;5;124m\"\u001b[39m)[\u001b[38;5;241m1\u001b[39m],\n\u001b[1;32m     16\u001b[0m         \u001b[38;5;124m\"\u001b[39m\u001b[38;5;124mparent_id\u001b[39m\u001b[38;5;124m\"\u001b[39m: comment\u001b[38;5;241m.\u001b[39mparent_id\u001b[38;5;241m.\u001b[39msplit(\u001b[38;5;124m\"\u001b[39m\u001b[38;5;124m_\u001b[39m\u001b[38;5;124m\"\u001b[39m)[\u001b[38;5;241m1\u001b[39m],\n\u001b[1;32m     17\u001b[0m         \u001b[38;5;124m\"\u001b[39m\u001b[38;5;124mreply_ids\u001b[39m\u001b[38;5;124m\"\u001b[39m: [reply\u001b[38;5;241m.\u001b[39mid \u001b[38;5;28;01mfor\u001b[39;00m reply \u001b[38;5;129;01min\u001b[39;00m comment\u001b[38;5;241m.\u001b[39mreplies],\n\u001b[1;32m     18\u001b[0m     }\n",
      "\u001b[0;31mAttributeError\u001b[0m: 'NoneType' object has no attribute 'id'"
     ]
    }
   ],
   "source": [
    "\n",
    "def comments_to_json(comment):\n",
    "    \n",
    "    return {\n",
    "        \"id\": comment.id,\n",
    "        \"body\": comment.body,\n",
    "        \"author\": str(comment.author),\n",
    "        \"created_utc\": int(comment.created_utc),\n",
    "        # \"distinguished\": comment.distinguished,\n",
    "        \"edited\": comment.edited,\n",
    "        \"is_submitter\": comment.is_submitter,\n",
    "        # \"permalink\": comment.permalink,\n",
    "        \"score\": comment.score,\n",
    "        \"stickied\": comment.stickied,\n",
    "        \"subreddit_id\": comment.subreddit_id.split(\"_\")[1],\n",
    "        \"link_id\": comment.link_id.split(\"_\")[1],\n",
    "        \"parent_id\": comment.parent_id.split(\"_\")[1],\n",
    "        \"reply_ids\": [reply.id for reply in comment.replies],\n",
    "    }\n",
    "\n",
    "# run the function on the post\n",
    "comments = [comments_to_json(comment) for comment in post.comments.list()]\n",
    "print(len(comments))\n",
    "# print(comments)\n"
   ]
  },
  {
   "cell_type": "code",
   "execution_count": 11,
   "metadata": {},
   "outputs": [],
   "source": [
    "# save the comments to a json file\n",
    "comments_scrape = {\n",
    "    \"post_id\": post_id,\n",
    "    \"scraped_utc\": scraped_utc,\n",
    "    \"comments\": comments\n",
    "}\n",
    "\n",
    "with open(f'data/comments/comments_{post_id}_{scraped_utc}.json', 'w') as f:\n",
    "    json.dump(comments_scrape, f)"
   ]
  },
  {
   "cell_type": "code",
   "execution_count": 13,
   "metadata": {},
   "outputs": [],
   "source": [
    "redditor = reddit.redditor(\"spez\")"
   ]
  },
  {
   "cell_type": "code",
   "execution_count": 16,
   "metadata": {},
   "outputs": [],
   "source": [
    "def redditor_to_object(redditor):\n",
    "    return {\n",
    "        \"id\": redditor.id,\n",
    "        \"name\": redditor.name,\n",
    "        \"comment_karma\": redditor.comment_karma,\n",
    "        \"created_utc\": redditor.created_utc,\n",
    "        \"has_verified_email\": redditor.has_verified_email,\n",
    "        \"icon_img\": redditor.icon_img,\n",
    "        \"is_employee\": redditor.is_employee,\n",
    "        \"is_mod\": redditor.is_mod,\n",
    "        # \"is_suspended\": redditor.is_suspended,\n",
    "        \"is_gold\": redditor.is_gold,\n",
    "        \"link_karma\": redditor.link_karma,\n",
    "        \"subreddit\": str(redditor.subreddit).lower(),\n",
    "        \"verified\": redditor.verified,\n",
    "    }"
   ]
  },
  {
   "cell_type": "code",
   "execution_count": 17,
   "metadata": {},
   "outputs": [
    {
     "data": {
      "text/plain": [
       "{'id': '1w72',\n",
       " 'name': 'spez',\n",
       " 'comment_karma': 751294,\n",
       " 'created_utc': 1118030400.0,\n",
       " 'has_verified_email': True,\n",
       " 'icon_img': 'https://styles.redditmedia.com/t5_3k30p/styles/profileIcon_snoo-nftv2_bmZ0X2VpcDE1NToxMzdfNDY2YTMzMDg4N2JkZjYyZDUzZjk2OGVhODI0NzkzMTUwZjA3NzYyZV8zNTIy_rare_4a74ad4e-f76b-458c-86ce-ed9202163a57-headshot.png?width=256&height=256&crop=256:256,smart&s=fb07ab998bb955877134c19f3c766d71ba7b880e',\n",
       " 'is_employee': True,\n",
       " 'is_mod': True,\n",
       " 'is_gold': True,\n",
       " 'link_karma': 176236,\n",
       " 'subreddit': 'u_spez',\n",
       " 'verified': True}"
      ]
     },
     "execution_count": 17,
     "metadata": {},
     "output_type": "execute_result"
    }
   ],
   "source": [
    "redditor_to_object(redditor)"
   ]
  }
 ],
 "metadata": {
  "kernelspec": {
   "display_name": "reddit",
   "language": "python",
   "name": "python3"
  },
  "language_info": {
   "codemirror_mode": {
    "name": "ipython",
    "version": 3
   },
   "file_extension": ".py",
   "mimetype": "text/x-python",
   "name": "python",
   "nbconvert_exporter": "python",
   "pygments_lexer": "ipython3",
   "version": "3.10.15"
  }
 },
 "nbformat": 4,
 "nbformat_minor": 2
}
