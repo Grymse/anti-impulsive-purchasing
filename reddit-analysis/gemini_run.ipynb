{
 "cells": [
  {
   "cell_type": "code",
   "execution_count": 26,
   "metadata": {},
   "outputs": [],
   "source": [
    "from GeminiAIService import GeminiAIService"
   ]
  },
  {
   "cell_type": "code",
   "execution_count": 27,
   "metadata": {},
   "outputs": [],
   "source": [
    "service = GeminiAIService()\n"
   ]
  },
  {
   "cell_type": "code",
   "execution_count": 31,
   "metadata": {},
   "outputs": [
    {
     "name": "stdout",
     "output_type": "stream",
     "text": [
      "False\n",
      "True\n"
     ]
    }
   ],
   "source": [
    "#False\n",
    "print(service.is_submission_advice_seeking(\"I think you guys should really consider Norway as a potential market for your product. They have a lot of potential customers there.\"))\n",
    "\n",
    "#True\n",
    "print(service.is_submission_advice_seeking(\"I think you guys should really consider Norway as a potential market for your product. They have a lot of potential customers there. Should I do it though?\"))"
   ]
  }
 ],
 "metadata": {
  "kernelspec": {
   "display_name": "reddit",
   "language": "python",
   "name": "python3"
  },
  "language_info": {
   "codemirror_mode": {
    "name": "ipython",
    "version": 3
   },
   "file_extension": ".py",
   "mimetype": "text/x-python",
   "name": "python",
   "nbconvert_exporter": "python",
   "pygments_lexer": "ipython3",
   "version": "3.10.15"
  }
 },
 "nbformat": 4,
 "nbformat_minor": 2
}
