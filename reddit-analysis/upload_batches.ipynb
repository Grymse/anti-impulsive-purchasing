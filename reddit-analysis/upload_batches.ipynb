{
 "cells": [
  {
   "cell_type": "code",
   "execution_count": 1,
   "metadata": {},
   "outputs": [],
   "source": [
    "# upload batch files to openai\n",
    "import os\n",
    "from OpenAIService import OpenAIService\n",
    "openai_service = OpenAIService()"
   ]
  },
  {
   "cell_type": "code",
   "execution_count": 2,
   "metadata": {},
   "outputs": [],
   "source": [
    "LOCATION_PROCESSED = 'data_processed'\n",
    "LOCATION_BATCHES = f\"{LOCATION_PROCESSED}/batches\""
   ]
  },
  {
   "cell_type": "code",
   "execution_count": 3,
   "metadata": {},
   "outputs": [
    {
     "name": "stdout",
     "output_type": "stream",
     "text": [
      "Files to upload:\n",
      "db6ffccf_0_to_50000.jsonl\n",
      "db6ffccf_100000_to_130268.jsonl\n",
      "db6ffccf_50000_to_100000.jsonl\n"
     ]
    }
   ],
   "source": [
    "BATCHING_FOLDER_NAME = \"db6ffccf\"\n",
    "\n",
    "# get all files in the folder\n",
    "files = os.listdir(f\"{LOCATION_BATCHES}/{BATCHING_FOLDER_NAME}\")\n",
    "\n",
    "# list filenames\n",
    "print(\"Files to upload:\")\n",
    "for file in files:\n",
    "    print(file)"
   ]
  },
  {
   "cell_type": "code",
   "execution_count": 4,
   "metadata": {},
   "outputs": [],
   "source": [
    "# upload files\n",
    "for file in files:\n",
    "    openai_service.upload_file(f\"{LOCATION_BATCHES}/{BATCHING_FOLDER_NAME}/{file}\")"
   ]
  }
 ],
 "metadata": {
  "kernelspec": {
   "display_name": "reddit",
   "language": "python",
   "name": "python3"
  },
  "language_info": {
   "codemirror_mode": {
    "name": "ipython",
    "version": 3
   },
   "file_extension": ".py",
   "mimetype": "text/x-python",
   "name": "python",
   "nbconvert_exporter": "python",
   "pygments_lexer": "ipython3",
   "version": "3.10.15"
  }
 },
 "nbformat": 4,
 "nbformat_minor": 2
}
