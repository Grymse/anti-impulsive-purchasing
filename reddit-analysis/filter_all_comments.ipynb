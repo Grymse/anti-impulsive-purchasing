{
 "cells": [
  {
   "cell_type": "code",
   "execution_count": 4,
   "metadata": {},
   "outputs": [],
   "source": [
    "import pandas as pd\n",
    "import os\n",
    "import numpy as np\n",
    "import matplotlib.pyplot as plt\n",
    "from tqdm import tqdm\n",
    "import json"
   ]
  },
  {
   "cell_type": "code",
   "execution_count": 5,
   "metadata": {},
   "outputs": [],
   "source": [
    "LOCATION = \"data\"\n",
    "LOCATION_PROCESSED = 'data_processed'\n",
    "SUBREDDITS = ['frugal', \"anticonsumption\", \"BuyItForLife\"]\n",
    "ADVICE_SEEKING_SUBMISSIONS = f\"{LOCATION_PROCESSED}/all_submissions_filtered_and_labelled_shopaholic.jsonl\"\n",
    "MIN_NUMBER_OF_WORDS = 5\n",
    "# ADVICE_SEEKING_SUBMISSIONS = f\"{LOCATION_PROCESSED}/r_frugal_posts.jsonl\""
   ]
  },
  {
   "cell_type": "code",
   "execution_count": 6,
   "metadata": {},
   "outputs": [
    {
     "name": "stdout",
     "output_type": "stream",
     "text": [
      "Number of advice seeking submissions: 130268\n",
      "Number of advice seeking shopaholic submissions: 4997\n",
      "Number of unique advice seeking submissions: 4997\n",
      "example submission ids:\n",
      "['xz6wqz', 'ul0rr0', '1q1ii0', '1sqxt1', '26nibl']\n"
     ]
    }
   ],
   "source": [
    "# load advice seeking submissions\n",
    "df_advice_seeking_subs = pd.read_json(ADVICE_SEEKING_SUBMISSIONS, lines=True)\n",
    "\n",
    "# filter out submissions that are not advice seeking\n",
    "df_advice_seeking_subs = df_advice_seeking_subs[df_advice_seeking_subs['is_advice_seeking'] == True]\n",
    "print(f\"Number of advice seeking submissions: {len(df_advice_seeking_subs)}\")\n",
    "\n",
    "df_advice_seeking_shopaholic_subs = df_advice_seeking_subs[df_advice_seeking_subs['is_shopaholic'] == True]\n",
    "print(f\"Number of advice seeking shopaholic submissions: {len(df_advice_seeking_shopaholic_subs)}\")\n",
    "\n",
    "# create a set of unique submission ids\n",
    "submission_ids = set(df_advice_seeking_shopaholic_subs['id'])\n",
    "print(f\"Number of unique submissions: {len(submission_ids)}\")\n",
    "print(\"example submission ids:\")\n",
    "print(list(submission_ids)[:5])"
   ]
  },
  {
   "cell_type": "code",
   "execution_count": 7,
   "metadata": {},
   "outputs": [
    {
     "name": "stdout",
     "output_type": "stream",
     "text": [
      "Counting number of lines in frugal\n",
      "Number of lines in frugal: 6344410\n",
      "Reading 6344410 lines from frugal\n"
     ]
    },
    {
     "name": "stderr",
     "output_type": "stream",
     "text": [
      "100%|██████████| 6344410/6344410 [00:48<00:00, 131916.54it/s]\n"
     ]
    },
    {
     "name": "stdout",
     "output_type": "stream",
     "text": [
      "Counting number of lines in anticonsumption\n",
      "Number of lines in anticonsumption: 1421585\n",
      "Reading 1421585 lines from anticonsumption\n"
     ]
    },
    {
     "name": "stderr",
     "output_type": "stream",
     "text": [
      "100%|██████████| 1421585/1421585 [00:14<00:00, 98039.85it/s]\n"
     ]
    },
    {
     "name": "stdout",
     "output_type": "stream",
     "text": [
      "Counting number of lines in BuyItForLife\n",
      "Number of lines in BuyItForLife: 2243333\n",
      "Reading 2243333 lines from BuyItForLife\n"
     ]
    },
    {
     "name": "stderr",
     "output_type": "stream",
     "text": [
      "100%|██████████| 2243333/2243333 [00:19<00:00, 116882.44it/s]\n"
     ]
    }
   ],
   "source": [
    "all_lines = []\n",
    "# load jsonl data one line at a time\n",
    "for subreddit in SUBREDDITS:\n",
    "    subreddit_filename = f\"{LOCATION}/r_{subreddit}_comments.jsonl\"\n",
    "    # count number of lines in file readlines\n",
    "    print(f\"Counting number of lines in {subreddit}\")\n",
    "    with open(subreddit_filename, 'r') as lines:\n",
    "        n = len(lines.readlines())\n",
    "    print(f\"Number of lines in {subreddit}: {n}\")\n",
    "\n",
    "    print(f\"Reading {n} lines from {subreddit}\")\n",
    "    with open(subreddit_filename, 'r') as f:\n",
    "        for line in tqdm(f, total=n):\n",
    "            data = json.loads(line)\n",
    "\n",
    "            # keep only comments with score > 0\n",
    "            score = data['score']\n",
    "            if score < 0:\n",
    "                continue\n",
    "\n",
    "            link_id = data['link_id']\n",
    "            parent_id = data['parent_id']\n",
    "\n",
    "            # keep top level comments\n",
    "            if parent_id != link_id:\n",
    "                continue\n",
    "            \n",
    "            submission_id = link_id.split('_')[1]\n",
    "\n",
    "            if(not submission_id in submission_ids):\n",
    "                continue\n",
    "            \n",
    "            body = data['body']\n",
    "            # number of words in comment\n",
    "            num_words = len(body.split())\n",
    "            if num_words < MIN_NUMBER_OF_WORDS:\n",
    "                continue\n",
    "            \n",
    "            # if data['body'] == '[deleted]':\n",
    "            #     continue\n",
    "\n",
    "            # if data['body'] == '[removed]':\n",
    "            #     continue\n",
    "\n",
    "            all_lines.append(data)"
   ]
  },
  {
   "cell_type": "code",
   "execution_count": 8,
   "metadata": {},
   "outputs": [
    {
     "name": "stdout",
     "output_type": "stream",
     "text": [
      "Number of comments: 86804\n",
      "Average score: 8.455820008294548\n",
      "Variance score: 3341.582456680934\n",
      "Standard deviation score: 57.8064222788518\n",
      "Number of scores equal to 0: 1928\n",
      "Median score: 2\n",
      "Number of comments with a median score or higher: 50203\n"
     ]
    }
   ],
   "source": [
    "scores = [x['score'] for x in all_lines]\n",
    "print(f\"Number of comments: {len(all_lines)}\")\n",
    "average_score = np.mean(scores)\n",
    "print(f\"Average score: {average_score}\")\n",
    "\n",
    "variance_score = np.var(scores)\n",
    "print(f\"Variance score: {variance_score}\")\n",
    "\n",
    "std_score = np.std(scores)\n",
    "print(f\"Standard deviation score: {std_score}\")\n",
    "\n",
    "# scores equal to 0\n",
    "zero_scores = len([x for x in scores if x == 0])\n",
    "print(f\"Number of scores equal to 0: {zero_scores}\")\n",
    "\n",
    "# median score\n",
    "median_score = int(np.median(scores))\n",
    "print(f\"Median score: {median_score}\")\n",
    "\n",
    "lines_above_median = [x for x in all_lines if x['score'] >= median_score]\n",
    "print(f\"Number of comments with a median score or higher: {len(lines_above_median)}\")"
   ]
  },
  {
   "cell_type": "code",
   "execution_count": 9,
   "metadata": {},
   "outputs": [
    {
     "data": {
      "image/png": "[encoded data removed]",
      "text/plain": [
       "<Figure size 640x480 with 1 Axes>"
      ]
     },
     "metadata": {},
     "output_type": "display_data"
    }
   ],
   "source": [
    "# plot histogram of scores\n",
    "plt.hist(scores, bins=8000)\n",
    "# make y axis logarithmic\n",
    "plt.yscale('log')\n",
    "\n",
    "# zoom in on x axis\n",
    "plt.xlim(0, 10)\n",
    "plt.title('Histogram of scores')\n",
    "plt.xlabel('Score')\n",
    "plt.ylabel('Frequency')\n",
    "plt.show()"
   ]
  },
  {
   "cell_type": "code",
   "execution_count": 10,
   "metadata": {},
   "outputs": [],
   "source": [
    "# save the comments to a jsonl file\n",
    "with open(f\"{LOCATION_PROCESSED}/all_comments_used.jsonl\", 'w') as f:\n",
    "    for line in lines_above_median:\n",
    "        f.write(json.dumps(line) + '\\n')"
   ]
  },
  {
   "cell_type": "code",
   "execution_count": null,
   "metadata": {},
   "outputs": [],
   "source": []
  }
 ],
 "metadata": {
  "kernelspec": {
   "display_name": "reddit",
   "language": "python",
   "name": "python3"
  },
  "language_info": {
   "codemirror_mode": {
    "name": "ipython",
    "version": 3
   },
   "file_extension": ".py",
   "mimetype": "text/x-python",
   "name": "python",
   "nbconvert_exporter": "python",
   "pygments_lexer": "ipython3",
   "version": "3.10.15"
  }
 },
 "nbformat": 4,
 "nbformat_minor": 2
}
