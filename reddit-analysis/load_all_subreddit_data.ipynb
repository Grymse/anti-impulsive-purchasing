{
 "cells": [
  {
   "cell_type": "code",
   "execution_count": 1,
   "metadata": {},
   "outputs": [],
   "source": [
    "import pandas as pd\n",
    "import os\n",
    "import numpy as np\n",
    "import matplotlib.pyplot as plt"
   ]
  },
  {
   "cell_type": "code",
   "execution_count": 12,
   "metadata": {},
   "outputs": [],
   "source": [
    "LOCATION_PROCESSED = 'data_processed'\n",
    "LOCATION = 'data'\n",
    "SUBREDDIT_NAMES = [\"frugal\", \"anticonsumption\", \"BuyItForLife\"]"
   ]
  },
  {
   "cell_type": "code",
   "execution_count": 13,
   "metadata": {},
   "outputs": [],
   "source": [
    "submission_dfs = {}\n",
    "for subreddit_name in SUBREDDIT_NAMES:\n",
    "    submission_dfs[subreddit_name] = pd.read_json(f\"{LOCATION}/r_{subreddit_name}_posts.jsonl\", lines=True)"
   ]
  },
  {
   "cell_type": "code",
   "execution_count": 14,
   "metadata": {},
   "outputs": [
    {
     "name": "stdout",
     "output_type": "stream",
     "text": [
      "Subreddit: frugal\n",
      "Number of submissions: 202008\n",
      "Number of comments: 5926082\n",
      "Subreddit: anticonsumption\n",
      "Number of submissions: 48523\n",
      "Number of comments: 1179312\n",
      "Subreddit: BuyItForLife\n",
      "Number of submissions: 102816\n",
      "Number of comments: 2004738\n"
     ]
    }
   ],
   "source": [
    "# describe the data\n",
    "for subreddit_name, df in submission_dfs.items():\n",
    "    print(f\"Subreddit: {subreddit_name}\")\n",
    "    \n",
    "    # number of submissions\n",
    "    print(f\"Number of submissions: {len(df)}\")\n",
    "\n",
    "    # number of comments\n",
    "    print(f\"Number of comments: {df['num_comments'].sum()}\")"
   ]
  },
  {
   "cell_type": "code",
   "execution_count": 15,
   "metadata": {},
   "outputs": [
    {
     "name": "stdout",
     "output_type": "stream",
     "text": [
      "Total number of posts: 353347\n",
      "Total number of comments: 9110132\n"
     ]
    }
   ],
   "source": [
    "# total number of posts and comments\n",
    "total_posts = sum([len(df) for df in submission_dfs.values()])\n",
    "print(f\"Total number of posts: {total_posts}\")\n",
    "total_comments = sum([df['num_comments'].sum() for df in submission_dfs.values()])\n",
    "print(f\"Total number of comments: {total_comments}\")\n"
   ]
  }
 ],
 "metadata": {
  "kernelspec": {
   "display_name": "reddit",
   "language": "python",
   "name": "python3"
  },
  "language_info": {
   "codemirror_mode": {
    "name": "ipython",
    "version": 3
   },
   "file_extension": ".py",
   "mimetype": "text/x-python",
   "name": "python",
   "nbconvert_exporter": "python",
   "pygments_lexer": "ipython3",
   "version": "3.10.15"
  }
 },
 "nbformat": 4,
 "nbformat_minor": 2
}
