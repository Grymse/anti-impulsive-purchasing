{
 "cells": [
  {
   "cell_type": "code",
   "execution_count": 25,
   "id": "303f8b65",
   "metadata": {},
   "outputs": [],
   "source": [
    "# Enhanced Comparison Analysis - Checkout Visits, Pop-up Modal, and Purchase Events\n",
    "import pandas as pd\n",
    "import numpy as np\n",
    "import matplotlib.pyplot as plt\n",
    "import json\n",
    "import seaborn as sns\n",
    "\n",
    "# Load the CSV file\n",
    "colors = ['salmon', '#F899F3', '#73FABD', '#6ED1F8','#E0F26D',  '#106ED3', '#6ED1F8']\n",
    "\n",
    "df = pd.read_csv('analytics.csv')"
   ]
  },
  {
   "cell_type": "markdown",
   "id": "9acc30b8",
   "metadata": {},
   "source": [
    "## Session Distribution Analysis\n",
    "\n",
    "Let's analyze how sessions are distributed among users to identify if certain users contribute disproportionately to the overall session count."
   ]
  },
  {
   "cell_type": "code",
   "execution_count": 26,
   "id": "59a5a339",
   "metadata": {},
   "outputs": [
    {
     "name": "stdout",
     "output_type": "stream",
     "text": [
      "Total entries in original dataset: 13883\n",
      "Entries with valid user_ids: 13436\n",
      "Percentage of data retained: 96.78%\n"
     ]
    }
   ],
   "source": [
    "# Clean the data and filter relevant entries\n",
    "# Remove entries without user_id or with placeholder user_ids\n",
    "df_filtered = df[(df['user_id'] != 'none') & (df['user_id'] != 'less-website')].copy()\n",
    "\n",
    "# Check the shape of filtered data\n",
    "print(f\"Total entries in original dataset: {df.shape[0]}\")\n",
    "print(f\"Entries with valid user_ids: {df_filtered.shape[0]}\")\n",
    "print(f\"Percentage of data retained: {df_filtered.shape[0]/df.shape[0]*100:.2f}%\")"
   ]
  },
  {
   "cell_type": "code",
   "execution_count": 27,
   "id": "4b0e7f20",
   "metadata": {},
   "outputs": [
    {
     "name": "stdout",
     "output_type": "stream",
     "text": [
      "Total number of unique users: 60\n",
      "Total number of sessions: 228\n",
      "\n",
      "Session distribution statistics:\n",
      "Mean sessions per user: 3.80\n",
      "Median sessions per user: 1.00\n",
      "Min sessions per user: 1\n",
      "Max sessions per user: 27\n",
      "\n",
      "Top 10 users by session count:\n"
     ]
    },
    {
     "data": {
      "text/plain": [
       "user_id\n",
       "390c0190-33a3-4029-ae09-687bff0b77d6    27\n",
       "42a0286f-f933-490a-89aa-0c0037dae11e    25\n",
       "ddb693bf-df31-4881-a0de-5cca527b0504    19\n",
       "73af51b2-2044-40d1-997f-4872caf25fed    17\n",
       "05d00887-5f39-4c88-8457-3da20a77b761    15\n",
       "a584c10c-d236-408a-b544-50b6219dee39    14\n",
       "c840702c-e454-47b5-8ef5-60ef2a7df99e    11\n",
       "e2eb1291-5fec-45e6-bded-3018f0d67d66    10\n",
       "0923b647-997c-466d-b7ce-3ae6246ce5d7     6\n",
       "0b7cd927-52ef-434b-8b2e-9c63281c6327     6\n",
       "Name: session_id, dtype: int64"
      ]
     },
     "metadata": {},
     "output_type": "display_data"
    }
   ],
   "source": [
    "# Count the number of unique sessions per user\n",
    "user_session_counts = df_filtered.groupby('user_id')['session_id'].nunique().sort_values(ascending=False)\n",
    "\n",
    "# Basic statistics about sessions per user\n",
    "print(f\"Total number of unique users: {len(user_session_counts)}\")\n",
    "print(f\"Total number of sessions: {user_session_counts.sum()}\")\n",
    "print(f\"\\nSession distribution statistics:\")\n",
    "print(f\"Mean sessions per user: {user_session_counts.mean():.2f}\")\n",
    "print(f\"Median sessions per user: {user_session_counts.median():.2f}\")\n",
    "print(f\"Min sessions per user: {user_session_counts.min()}\")\n",
    "print(f\"Max sessions per user: {user_session_counts.max()}\")\n",
    "\n",
    "# Display top 10 users by session count\n",
    "print(\"\\nTop 10 users by session count:\")\n",
    "display(user_session_counts.head(10))"
   ]
  },
  {
   "cell_type": "code",
   "execution_count": 28,
   "id": "07afb6c3",
   "metadata": {},
   "outputs": [
    {
     "data": {
      "image/png": "[encoded data removed]",
      "text/plain": [
       "<Figure size 700x200 with 1 Axes>"
      ]
     },
     "metadata": {},
     "output_type": "display_data"
    },
    {
     "data": {
      "image/png": "[encoded data removed]",
      "text/plain": [
       "<Figure size 700x200 with 1 Axes>"
      ]
     },
     "metadata": {},
     "output_type": "display_data"
    }
   ],
   "source": [
    "\n",
    "# Create a boxplot to highlight outliers\n",
    "plt.figure(figsize=(7, 2))\n",
    "sns.boxplot(x=user_session_counts, color=colors[3])\n",
    "plt.title('Sessions per user', fontweight='bold')\n",
    "plt.xlabel('Number of Sessions', fontsize=12)\n",
    "plt.grid(True, alpha=0.3)\n",
    "\n",
    "ax = plt.gca()\n",
    "ax.grid(color='white', linewidth=1, axis='y', alpha=1, zorder=1)\n",
    "ax.grid(color='white', linewidth=1, axis='x', alpha=1, zorder=1)\n",
    "ax.set_facecolor('#F5F5F5')\n",
    "ax.spines['top'].set_visible(False)\n",
    "ax.spines['right'].set_visible(False)\n",
    "ax.spines['left'].set_visible(False)\n",
    "ax.spines['bottom'].set_visible(False)\n",
    "\n",
    "# Add annotations for min, median, and max values\n",
    "min_val = user_session_counts.min()\n",
    "median_val = user_session_counts.median()\n",
    "max_val = user_session_counts.max()\n",
    "\n",
    "\n",
    "plt.tight_layout()\n",
    "plt.savefig('plots/boxplot_sessions_per_user.png', dpi=300, bbox_inches='tight')\n",
    "plt.show()\n",
    "\n",
    "# Filter user_session_counts to include only users with more than 1 session\n",
    "user_session_counts_above_1 = user_session_counts[user_session_counts > 1]\n",
    "\n",
    "# Create a boxplot to highlight outliers\n",
    "plt.figure(figsize=(7, 2))\n",
    "sns.boxplot(x=user_session_counts_above_1, color=colors[3])\n",
    "plt.title('Sessions per user (<1 sessions)', fontweight='bold')\n",
    "plt.xlabel('Number of Sessions', fontsize=12)\n",
    "plt.grid(True, alpha=0.3)\n",
    "\n",
    "ax = plt.gca()\n",
    "ax.grid(color='white', linewidth=1, axis='y', alpha=1, zorder=1)\n",
    "ax.grid(color='white', linewidth=1, axis='x', alpha=1, zorder=1)\n",
    "ax.set_facecolor('#F5F5F5')\n",
    "ax.spines['top'].set_visible(False)\n",
    "ax.spines['right'].set_visible(False)\n",
    "ax.spines['left'].set_visible(False)\n",
    "ax.spines['bottom'].set_visible(False)\n",
    "\n",
    "# Add annotations for min, median, and max values\n",
    "min_val = user_session_counts_above_1.min()\n",
    "median_val = user_session_counts_above_1.median()\n",
    "max_val = user_session_counts_above_1.max()\n",
    "\n",
    "\n",
    "plt.tight_layout()\n",
    "plt.savefig('plots/boxplot_sessions_per_user1+.png', dpi=300, bbox_inches='tight')\n",
    "plt.show()"
   ]
  },
  {
   "cell_type": "code",
   "execution_count": 29,
   "id": "a8669bee",
   "metadata": {},
   "outputs": [
    {
     "name": "stdout",
     "output_type": "stream",
     "text": [
      "Top 5 users (8.33% of users) account for 50% of all sessions\n",
      "Top 19 users (31.67% of users) account for 80% of all sessions\n"
     ]
    }
   ],
   "source": [
    "# Calculate the cumulative contribution to total sessions\n",
    "total_sessions = user_session_counts.sum()\n",
    "user_contribution = user_session_counts.copy()\n",
    "user_contribution_percent = (user_contribution / total_sessions * 100).sort_values(ascending=False)\n",
    "user_contribution_cumsum = user_contribution_percent.cumsum()\n",
    "\n",
    "# Find what percentage of users account for 50% and 80% of all sessions\n",
    "users_for_50_percent = len(user_contribution_cumsum[user_contribution_cumsum <= 50])\n",
    "users_for_80_percent = len(user_contribution_cumsum[user_contribution_cumsum <= 80])\n",
    "\n",
    "print(f\"Top {users_for_50_percent} users ({users_for_50_percent/len(user_contribution_cumsum)*100:.2f}% of users) account for 50% of all sessions\")\n",
    "print(f\"Top {users_for_80_percent} users ({users_for_80_percent/len(user_contribution_cumsum)*100:.2f}% of users) account for 80% of all sessions\")"
   ]
  },
  {
   "cell_type": "code",
   "execution_count": 30,
   "id": "52074189",
   "metadata": {},
   "outputs": [
    {
     "data": {
      "image/png": "[encoded data removed]",
      "text/plain": [
       "<Figure size 1200x600 with 3 Axes>"
      ]
     },
     "metadata": {},
     "output_type": "display_data"
    }
   ],
   "source": [
    "# Visualize the cumulative contribution of users to total sessions\n",
    "fig, ax = plt.subplots(figsize=(12, 6))\n",
    "\n",
    "# Plot the cumulative percentage of sessions vs percentage of users\n",
    "total_users = len(user_contribution_cumsum)\n",
    "percent_users = np.arange(1, total_users + 1) / total_users * 100\n",
    "\n",
    "# Lorenz curve\n",
    "ax.plot(percent_users, user_contribution_cumsum.values, 'b-', linewidth=2, label='Actual distribution')\n",
    "\n",
    "# Perfect equality line (if all users had equal sessions)\n",
    "ax.plot([0, 100], [0, 100], 'r--', linewidth=2, label='Perfect equality')\n",
    "\n",
    "# Add markers at 50% and 80% of sessions\n",
    "fifty_percent_users = percent_users[users_for_50_percent-1] if users_for_50_percent > 0 else 0\n",
    "eighty_percent_users = percent_users[users_for_80_percent-1] if users_for_80_percent > 0 else 0\n",
    "\n",
    "ax.scatter([fifty_percent_users], [50], color='green', s=100, zorder=5, label='50% of sessions')\n",
    "ax.scatter([eighty_percent_users], [80], color='purple', s=100, zorder=5, label='80% of sessions')\n",
    "\n",
    "# Add horizontal and vertical lines\n",
    "ax.axhline(y=50, color='green', linestyle=':', alpha=0.7)\n",
    "ax.axhline(y=80, color='purple', linestyle=':', alpha=0.7)\n",
    "ax.axvline(x=fifty_percent_users, color='green', linestyle=':', alpha=0.7)\n",
    "ax.axvline(x=eighty_percent_users, color='purple', linestyle=':', alpha=0.7)\n",
    "\n",
    "# Add annotations\n",
    "ax.annotate(f'{fifty_percent_users:.1f}% of users',\n",
    "           (fifty_percent_users, 50),\n",
    "           xytext=(fifty_percent_users-20, 40),\n",
    "           arrowprops=dict(arrowstyle='->', color='green'))\n",
    "\n",
    "ax.annotate(f'{eighty_percent_users:.1f}% of users',\n",
    "           (eighty_percent_users, 80),\n",
    "           xytext=(eighty_percent_users-20, 70),\n",
    "           arrowprops=dict(arrowstyle='->', color='purple'))\n",
    "\n",
    "# Add grid, labels, and title\n",
    "ax.grid(True, alpha=0.3)\n",
    "ax.set_title('Cumulative Distribution of Sessions (Lorenz Curve)', fontsize=15)\n",
    "ax.set_xlabel('Percentage of Users', fontsize=12)\n",
    "ax.set_ylabel('Cumulative Percentage of Sessions', fontsize=12)\n",
    "ax.legend(loc='best')\n",
    "# Calculate the absolute number of sessions and users for better interpretation\n",
    "total_sessions_count = user_contribution.sum()\n",
    "cumulative_sessions = (user_contribution.sort_values(ascending=False).cumsum())\n",
    "\n",
    "# Create a second x-axis for absolute user count\n",
    "ax2 = ax.twiny()\n",
    "ax2.set_xlim(ax.get_xlim())\n",
    "ax2.set_xticks([0, 25, 50, 75, 100])\n",
    "ax2.set_xticklabels([0, int(total_users*0.25), int(total_users*0.5), int(total_users*0.75), total_users])\n",
    "ax2.set_xlabel('Number of Users', fontsize=12)\n",
    "\n",
    "# Create a second y-axis for absolute session count\n",
    "ax3 = ax.twinx()\n",
    "ax3.set_ylim(ax.get_ylim())\n",
    "ax3.set_yticks([0, 25, 50, 75, 100])\n",
    "ax3.set_yticklabels([0, int(total_sessions_count*0.25), int(total_sessions_count*0.5), \n",
    "                     int(total_sessions_count*0.75), int(total_sessions_count)])\n",
    "ax3.set_ylabel('Number of Sessions', fontsize=12)\n",
    "plt.tight_layout()\n",
    "plt.show()"
   ]
  },
  {
   "cell_type": "code",
   "execution_count": 31,
   "id": "8dfc0c7e",
   "metadata": {},
   "outputs": [
    {
     "name": "stdout",
     "output_type": "stream",
     "text": [
      "Gini coefficient for session distribution: 0.5836\n",
      "Interpretation:\n",
      "- 0 would mean perfect equality (all users have the same number of sessions)\n",
      "- 1 would mean perfect inequality (one user has all sessions)\n",
      "- This indicates a moderate inequality in session distribution\n"
     ]
    }
   ],
   "source": [
    "# Calculate the Gini coefficient to measure inequality in session distribution\n",
    "def gini_coefficient(x):\n",
    "    # Based on the Lorenz curve and area calculation\n",
    "    x = np.sort(x)\n",
    "    n = len(x)\n",
    "    cum_values = np.cumsum(x)\n",
    "    # Formula: G = 1 - (2/n) * sum_{i=1}^{n} [(n+1-i)/n * x_i / sum(x)]\n",
    "    indices = np.arange(1, n+1)\n",
    "    return 1 - 2 * np.sum((n + 1 - indices) * x) / (n * np.sum(x))\n",
    "\n",
    "# Calculate Gini coefficient for our session distribution\n",
    "gini_value = gini_coefficient(user_session_counts.values)\n",
    "\n",
    "print(f\"Gini coefficient for session distribution: {gini_value:.4f}\")\n",
    "print(\"Interpretation:\")\n",
    "print(\"- 0 would mean perfect equality (all users have the same number of sessions)\")\n",
    "print(\"- 1 would mean perfect inequality (one user has all sessions)\")\n",
    "if gini_value < 0.2:\n",
    "    print(\"- This indicates a very equal distribution of sessions among users\")\n",
    "elif gini_value < 0.4:\n",
    "    print(\"- This indicates a relatively equal distribution of sessions among users\")\n",
    "elif gini_value < 0.6:\n",
    "    print(\"- This indicates a moderate inequality in session distribution\")\n",
    "elif gini_value < 0.8:\n",
    "    print(\"- This indicates significant inequality in session distribution\")\n",
    "else:\n",
    "    print(\"- This indicates extreme inequality in session distribution\")"
   ]
  },
  {
   "cell_type": "markdown",
   "id": "609cb981",
   "metadata": {},
   "source": [
    "## Summary of Session Distribution Analysis\n",
    "\n",
    "Based on the analysis above, we can draw the following conclusions:\n",
    "\n",
    "1. **User Contribution Distribution**: The analysis reveals whether we have a balanced user base or if a small number of \"power users\" are responsible for the majority of sessions.\n",
    "\n",
    "2. **Gini Coefficient**: This metric helps quantify the inequality in session distribution. A higher Gini coefficient suggests that a small number of users contribute disproportionately to the total sessions.\n",
    "\n",
    "3. **Implications for Analysis**: If we have high session inequality, we should be cautious when drawing conclusions about \"average user behavior\" as the data might be skewed by a few highly active users.\n",
    "\n",
    "4. **Next Steps**: Consider analyzing the behavior patterns of the most active users separately from occasional users to see if there are significant differences in how they interact with the extension."
   ]
  },
  {
   "cell_type": "markdown",
   "id": "11f13924",
   "metadata": {},
   "source": [
    "## Session Categorization Analysis\n",
    "\n",
    "Let's categorize shopping sessions into three distinct types based on user behavior:\n",
    "\n",
    "1. **Just Looking** - Sessions without any purchase events\n",
    "2. **Looking Then Purchasing** - Sessions where the user browsed for at least 20 minutes before making a purchase\n",
    "3. **Quick Purchase** - Sessions where the user made a purchase within 20 minutes of session start"
   ]
  },
  {
   "cell_type": "code",
   "execution_count": 32,
   "id": "003ed584",
   "metadata": {},
   "outputs": [
    {
     "name": "stdout",
     "output_type": "stream",
     "text": [
      "Event types in the dataset:\n",
      "type\n",
      "time-spent                            11941\n",
      "page-view                              1199\n",
      "from-directs                            220\n",
      "on-onboarding                           182\n",
      "checkout                                 59\n",
      "add-to-cart                              54\n",
      "from-directs-cta                         44\n",
      "uninstall                                33\n",
      "open-popup                               31\n",
      "enforce_wait_modal_shown                 27\n",
      "active                                   19\n",
      "welcome-modal-seen                       18\n",
      "questionary-popup                        15\n",
      "enforce_wait_canceled                    12\n",
      "enforce_wait_info_expanded               10\n",
      "questionary-closed                        7\n",
      "open-options                              4\n",
      "enforce_wait_permit_valid_on_click        4\n",
      "place-order                               2\n",
      "questionary-finished                      2\n",
      "Name: count, dtype: int64\n",
      "\n",
      "Potential purchase-related event types:\n",
      "- checkout\n",
      "- place-order\n",
      "\n",
      "Examining payload fields for purchase indicators...\n",
      "Event type: checkout\n",
      "Raw payload: nan\n",
      "------------------\n",
      "Event type: checkout\n",
      "Raw payload: nan\n",
      "------------------\n",
      "Event type: checkout\n",
      "Raw payload: nan\n",
      "------------------\n"
     ]
    }
   ],
   "source": [
    "# First, let's identify purchase events in our dataset\n",
    "# Common patterns for purchase events might include checkout completions, order confirmations, etc.\n",
    "\n",
    "# Let's look at the different types of events in our dataset\n",
    "print(\"Event types in the dataset:\")\n",
    "print(df['type'].value_counts().head(20))\n",
    "\n",
    "# Check if there are specific purchase-related event types\n",
    "purchase_related_types = df['type'][df['type'].str.contains('purchase|checkout|order|transaction|payment|buy', case=False, na=False)].unique()\n",
    "print(\"\\nPotential purchase-related event types:\")\n",
    "for event_type in purchase_related_types:\n",
    "    print(f\"- {event_type}\")\n",
    "\n",
    "# Let's also check the payload content for purchase indicators if it contains JSON data\n",
    "print(\"\\nExamining payload fields for purchase indicators...\")\n",
    "# Sample a few rows with potential purchase events to examine their payload structure\n",
    "potential_purchase_events = df[df['type'].str.contains('purchase|checkout|order|transaction|payment|buy', case=False, na=False)].head(3)\n",
    "\n",
    "try:\n",
    "    for _, row in potential_purchase_events.iterrows():\n",
    "        try:\n",
    "            # Try to parse the payload as JSON\n",
    "            payload = json.loads(row['payload'])\n",
    "            print(f\"Event type: {row['type']}\")\n",
    "            print(f\"Payload structure: {payload.keys()}\")\n",
    "            print(\"------------------\")\n",
    "        except:\n",
    "            # If it's not valid JSON, just look at the raw value\n",
    "            print(f\"Event type: {row['type']}\")\n",
    "            print(f\"Raw payload: {row['payload']}\")\n",
    "            print(\"------------------\")\n",
    "except Exception as e:\n",
    "    print(f\"Error examining payloads: {e}\")"
   ]
  },
  {
   "cell_type": "code",
   "execution_count": 33,
   "id": "985ff08a",
   "metadata": {},
   "outputs": [
    {
     "name": "stdout",
     "output_type": "stream",
     "text": [
      "Total purchase events detected: 27\n",
      "\n",
      "Sample of identified purchase events:\n"
     ]
    },
    {
     "data": {
      "text/html": [
       "<div>\n",
       "<style scoped>\n",
       "    .dataframe tbody tr th:only-of-type {\n",
       "        vertical-align: middle;\n",
       "    }\n",
       "\n",
       "    .dataframe tbody tr th {\n",
       "        vertical-align: top;\n",
       "    }\n",
       "\n",
       "    .dataframe thead th {\n",
       "        text-align: right;\n",
       "    }\n",
       "</style>\n",
       "<table border=\"1\" class=\"dataframe\">\n",
       "  <thead>\n",
       "    <tr style=\"text-align: right;\">\n",
       "      <th></th>\n",
       "      <th>id</th>\n",
       "      <th>type</th>\n",
       "      <th>url</th>\n",
       "      <th>payload</th>\n",
       "      <th>user_id</th>\n",
       "      <th>session_id</th>\n",
       "      <th>received_at</th>\n",
       "      <th>created_at</th>\n",
       "      <th>domain</th>\n",
       "      <th>is_purchase</th>\n",
       "    </tr>\n",
       "  </thead>\n",
       "  <tbody>\n",
       "    <tr>\n",
       "      <th>1649</th>\n",
       "      <td>21162</td>\n",
       "      <td>enforce_wait_modal_shown</td>\n",
       "      <td>secure6.store.apple.com/shop/checkout</td>\n",
       "      <td>{\"permitExists\":true,\"permitIsValid\":false,\"ti...</td>\n",
       "      <td>7e54f2ee-060a-467e-b319-9e99d8e58e27</td>\n",
       "      <td>34447114-fe42-4bee-97fd-02b62030e495</td>\n",
       "      <td>2025-04-04T02:32:09.560047+00:00</td>\n",
       "      <td>2025-04-04T02:32:09.560047+00:00</td>\n",
       "      <td>apple.com</td>\n",
       "      <td>True</td>\n",
       "    </tr>\n",
       "    <tr>\n",
       "      <th>1731</th>\n",
       "      <td>21243</td>\n",
       "      <td>enforce_wait_modal_shown</td>\n",
       "      <td>shop.app/checkout/14159740/cn/Z2NwLXVzLWVhc3Qx...</td>\n",
       "      <td>{\"permitExists\":true,\"permitIsValid\":false,\"ti...</td>\n",
       "      <td>a8813899-eb7b-49f9-9e97-7f91f995e944</td>\n",
       "      <td>c2988ad4-016e-454c-bc36-81a53427e790</td>\n",
       "      <td>2025-04-04T14:36:21.698326+00:00</td>\n",
       "      <td>2025-04-04T14:36:21.698326+00:00</td>\n",
       "      <td>shop.app</td>\n",
       "      <td>True</td>\n",
       "    </tr>\n",
       "    <tr>\n",
       "      <th>1734</th>\n",
       "      <td>21246</td>\n",
       "      <td>enforce_wait_modal_shown</td>\n",
       "      <td>shop.app/checkout/14159740/cn/Z2NwLXVzLWVhc3Qx...</td>\n",
       "      <td>{\"permitExists\":true,\"permitIsValid\":false,\"ti...</td>\n",
       "      <td>a8813899-eb7b-49f9-9e97-7f91f995e944</td>\n",
       "      <td>c2988ad4-016e-454c-bc36-81a53427e790</td>\n",
       "      <td>2025-04-04T14:36:26.454749+00:00</td>\n",
       "      <td>2025-04-04T14:36:26.454749+00:00</td>\n",
       "      <td>shop.app</td>\n",
       "      <td>True</td>\n",
       "    </tr>\n",
       "    <tr>\n",
       "      <th>1743</th>\n",
       "      <td>21255</td>\n",
       "      <td>enforce_wait_modal_shown</td>\n",
       "      <td>shop.app/checkout/14159740/cn/Z2NwLXVzLWVhc3Qx...</td>\n",
       "      <td>{\"permitExists\":true,\"permitIsValid\":false,\"ti...</td>\n",
       "      <td>a8813899-eb7b-49f9-9e97-7f91f995e944</td>\n",
       "      <td>c2988ad4-016e-454c-bc36-81a53427e790</td>\n",
       "      <td>2025-04-04T14:36:57.122815+00:00</td>\n",
       "      <td>2025-04-04T14:36:57.122815+00:00</td>\n",
       "      <td>shop.app</td>\n",
       "      <td>True</td>\n",
       "    </tr>\n",
       "    <tr>\n",
       "      <th>1754</th>\n",
       "      <td>21265</td>\n",
       "      <td>enforce_wait_modal_shown</td>\n",
       "      <td>shop.app/checkout/23611473966/do/39b6b970ad799...</td>\n",
       "      <td>{\"permitExists\":true,\"permitIsValid\":false,\"ti...</td>\n",
       "      <td>a8813899-eb7b-49f9-9e97-7f91f995e944</td>\n",
       "      <td>0aff5ca5-8d1c-42da-9585-ad0b3ea57829</td>\n",
       "      <td>2025-04-04T15:46:56.548309+00:00</td>\n",
       "      <td>2025-04-04T15:46:56.548309+00:00</td>\n",
       "      <td>shop.app</td>\n",
       "      <td>True</td>\n",
       "    </tr>\n",
       "  </tbody>\n",
       "</table>\n",
       "</div>"
      ],
      "text/plain": [
       "         id                      type  \\\n",
       "1649  21162  enforce_wait_modal_shown   \n",
       "1731  21243  enforce_wait_modal_shown   \n",
       "1734  21246  enforce_wait_modal_shown   \n",
       "1743  21255  enforce_wait_modal_shown   \n",
       "1754  21265  enforce_wait_modal_shown   \n",
       "\n",
       "                                                    url  \\\n",
       "1649              secure6.store.apple.com/shop/checkout   \n",
       "1731  shop.app/checkout/14159740/cn/Z2NwLXVzLWVhc3Qx...   \n",
       "1734  shop.app/checkout/14159740/cn/Z2NwLXVzLWVhc3Qx...   \n",
       "1743  shop.app/checkout/14159740/cn/Z2NwLXVzLWVhc3Qx...   \n",
       "1754  shop.app/checkout/23611473966/do/39b6b970ad799...   \n",
       "\n",
       "                                                payload  \\\n",
       "1649  {\"permitExists\":true,\"permitIsValid\":false,\"ti...   \n",
       "1731  {\"permitExists\":true,\"permitIsValid\":false,\"ti...   \n",
       "1734  {\"permitExists\":true,\"permitIsValid\":false,\"ti...   \n",
       "1743  {\"permitExists\":true,\"permitIsValid\":false,\"ti...   \n",
       "1754  {\"permitExists\":true,\"permitIsValid\":false,\"ti...   \n",
       "\n",
       "                                   user_id  \\\n",
       "1649  7e54f2ee-060a-467e-b319-9e99d8e58e27   \n",
       "1731  a8813899-eb7b-49f9-9e97-7f91f995e944   \n",
       "1734  a8813899-eb7b-49f9-9e97-7f91f995e944   \n",
       "1743  a8813899-eb7b-49f9-9e97-7f91f995e944   \n",
       "1754  a8813899-eb7b-49f9-9e97-7f91f995e944   \n",
       "\n",
       "                                session_id                       received_at  \\\n",
       "1649  34447114-fe42-4bee-97fd-02b62030e495  2025-04-04T02:32:09.560047+00:00   \n",
       "1731  c2988ad4-016e-454c-bc36-81a53427e790  2025-04-04T14:36:21.698326+00:00   \n",
       "1734  c2988ad4-016e-454c-bc36-81a53427e790  2025-04-04T14:36:26.454749+00:00   \n",
       "1743  c2988ad4-016e-454c-bc36-81a53427e790  2025-04-04T14:36:57.122815+00:00   \n",
       "1754  0aff5ca5-8d1c-42da-9585-ad0b3ea57829  2025-04-04T15:46:56.548309+00:00   \n",
       "\n",
       "                            created_at     domain  is_purchase  \n",
       "1649  2025-04-04T02:32:09.560047+00:00  apple.com         True  \n",
       "1731  2025-04-04T14:36:21.698326+00:00   shop.app         True  \n",
       "1734  2025-04-04T14:36:26.454749+00:00   shop.app         True  \n",
       "1743  2025-04-04T14:36:57.122815+00:00   shop.app         True  \n",
       "1754  2025-04-04T15:46:56.548309+00:00   shop.app         True  "
      ]
     },
     "metadata": {},
     "output_type": "display_data"
    }
   ],
   "source": [
    "# Based on the examination above, we'll define purchase events\n",
    "# For this example, let's assume that the following event types indicate purchases:\n",
    "# (You may need to adjust this based on the actual data patterns)\n",
    "\n",
    "# Define purchase event indicators (adjust based on your findings from the previous cell)\n",
    "purchase_event_types = [\n",
    "    'enforce_wait_modal_shown'     # Successful payment\n",
    "]\n",
    "\n",
    "# Function to check if an event type indicates a purchase\n",
    "def is_purchase_event(event_type):\n",
    "    # Check for exact matches\n",
    "    if event_type in purchase_event_types:\n",
    "        return True\n",
    "    \n",
    "    # Check for partial matches in case the naming convention varies\n",
    "    for purchase_type in purchase_event_types:\n",
    "        if purchase_type.lower() in event_type.lower():\n",
    "            return True\n",
    "    \n",
    "    return False\n",
    "\n",
    "# Add a column to identify purchase events\n",
    "df['is_purchase'] = df['type'].apply(is_purchase_event)\n",
    "\n",
    "# Verify our purchase event detection\n",
    "print(f\"Total purchase events detected: {df['is_purchase'].sum()}\")\n",
    "print(\"\\nSample of identified purchase events:\")\n",
    "display(df[df['is_purchase'] == True].head())"
   ]
  },
  {
   "cell_type": "code",
   "execution_count": 34,
   "id": "b5a0105c",
   "metadata": {},
   "outputs": [
    {
     "name": "stdout",
     "output_type": "stream",
     "text": [
      "Total valid sessions: 229\n",
      "Sessions with unique purchase events: 14 (6.11%)\n",
      "Total unique purchase events: 14\n",
      "Average session duration: 8.88 minutes\n",
      "Average events per session: 58.68\n"
     ]
    },
    {
     "data": {
      "text/html": [
       "<div>\n",
       "<style scoped>\n",
       "    .dataframe tbody tr th:only-of-type {\n",
       "        vertical-align: middle;\n",
       "    }\n",
       "\n",
       "    .dataframe tbody tr th {\n",
       "        vertical-align: top;\n",
       "    }\n",
       "\n",
       "    .dataframe thead th {\n",
       "        text-align: right;\n",
       "    }\n",
       "</style>\n",
       "<table border=\"1\" class=\"dataframe\">\n",
       "  <thead>\n",
       "    <tr style=\"text-align: right;\">\n",
       "      <th></th>\n",
       "      <th>session_id</th>\n",
       "      <th>user_id</th>\n",
       "      <th>start_time</th>\n",
       "      <th>end_time</th>\n",
       "      <th>duration_minutes</th>\n",
       "      <th>has_purchase</th>\n",
       "      <th>unique_purchase_count</th>\n",
       "      <th>time_to_purchase</th>\n",
       "      <th>event_count</th>\n",
       "    </tr>\n",
       "  </thead>\n",
       "  <tbody>\n",
       "    <tr>\n",
       "      <th>0</th>\n",
       "      <td>0109904a-058e-44e9-9387-c1d376e50ced</td>\n",
       "      <td>e2eb1291-5fec-45e6-bded-3018f0d67d66</td>\n",
       "      <td>2025-05-18 11:36:19.766502+00:00</td>\n",
       "      <td>2025-05-18 12:02:29.585711+00:00</td>\n",
       "      <td>26.163653</td>\n",
       "      <td>False</td>\n",
       "      <td>0</td>\n",
       "      <td>NaN</td>\n",
       "      <td>122</td>\n",
       "    </tr>\n",
       "    <tr>\n",
       "      <th>1</th>\n",
       "      <td>0146aa56-f294-471d-acb8-c14ab3629790</td>\n",
       "      <td>05d00887-5f39-4c88-8457-3da20a77b761</td>\n",
       "      <td>2025-05-12 20:23:48.839116+00:00</td>\n",
       "      <td>2025-05-12 20:25:23.096196+00:00</td>\n",
       "      <td>1.570951</td>\n",
       "      <td>False</td>\n",
       "      <td>0</td>\n",
       "      <td>NaN</td>\n",
       "      <td>20</td>\n",
       "    </tr>\n",
       "    <tr>\n",
       "      <th>2</th>\n",
       "      <td>02619ed8-9940-4dab-b89c-e640fb520831</td>\n",
       "      <td>17f7e888-e9b9-4965-b73a-ff8cf428b773</td>\n",
       "      <td>2025-05-20 16:03:13.329846+00:00</td>\n",
       "      <td>2025-05-20 16:03:13.329846+00:00</td>\n",
       "      <td>0.000000</td>\n",
       "      <td>False</td>\n",
       "      <td>0</td>\n",
       "      <td>NaN</td>\n",
       "      <td>1</td>\n",
       "    </tr>\n",
       "    <tr>\n",
       "      <th>3</th>\n",
       "      <td>02f61a55-1947-406b-b1d2-41241d881982</td>\n",
       "      <td>f89fe9b7-dc7c-4b9b-83b1-f0a58f1302e5</td>\n",
       "      <td>2025-05-12 15:21:28.861825+00:00</td>\n",
       "      <td>2025-05-12 15:21:28.861825+00:00</td>\n",
       "      <td>0.000000</td>\n",
       "      <td>False</td>\n",
       "      <td>0</td>\n",
       "      <td>NaN</td>\n",
       "      <td>1</td>\n",
       "    </tr>\n",
       "    <tr>\n",
       "      <th>4</th>\n",
       "      <td>03c82eb7-42db-4f72-96f9-a726b42a4a15</td>\n",
       "      <td>05d00887-5f39-4c88-8457-3da20a77b761</td>\n",
       "      <td>2025-05-09 19:48:09.053748+00:00</td>\n",
       "      <td>2025-05-09 20:11:40.844917+00:00</td>\n",
       "      <td>23.529853</td>\n",
       "      <td>False</td>\n",
       "      <td>0</td>\n",
       "      <td>NaN</td>\n",
       "      <td>36</td>\n",
       "    </tr>\n",
       "  </tbody>\n",
       "</table>\n",
       "</div>"
      ],
      "text/plain": [
       "                             session_id                               user_id  \\\n",
       "0  0109904a-058e-44e9-9387-c1d376e50ced  e2eb1291-5fec-45e6-bded-3018f0d67d66   \n",
       "1  0146aa56-f294-471d-acb8-c14ab3629790  05d00887-5f39-4c88-8457-3da20a77b761   \n",
       "2  02619ed8-9940-4dab-b89c-e640fb520831  17f7e888-e9b9-4965-b73a-ff8cf428b773   \n",
       "3  02f61a55-1947-406b-b1d2-41241d881982  f89fe9b7-dc7c-4b9b-83b1-f0a58f1302e5   \n",
       "4  03c82eb7-42db-4f72-96f9-a726b42a4a15  05d00887-5f39-4c88-8457-3da20a77b761   \n",
       "\n",
       "                        start_time                         end_time  \\\n",
       "0 2025-05-18 11:36:19.766502+00:00 2025-05-18 12:02:29.585711+00:00   \n",
       "1 2025-05-12 20:23:48.839116+00:00 2025-05-12 20:25:23.096196+00:00   \n",
       "2 2025-05-20 16:03:13.329846+00:00 2025-05-20 16:03:13.329846+00:00   \n",
       "3 2025-05-12 15:21:28.861825+00:00 2025-05-12 15:21:28.861825+00:00   \n",
       "4 2025-05-09 19:48:09.053748+00:00 2025-05-09 20:11:40.844917+00:00   \n",
       "\n",
       "   duration_minutes  has_purchase  unique_purchase_count  time_to_purchase  \\\n",
       "0         26.163653         False                      0               NaN   \n",
       "1          1.570951         False                      0               NaN   \n",
       "2          0.000000         False                      0               NaN   \n",
       "3          0.000000         False                      0               NaN   \n",
       "4         23.529853         False                      0               NaN   \n",
       "\n",
       "   event_count  \n",
       "0          122  \n",
       "1           20  \n",
       "2            1  \n",
       "3            1  \n",
       "4           36  "
      ]
     },
     "metadata": {},
     "output_type": "display_data"
    }
   ],
   "source": [
    "# Now let's prepare the session data with proper timestamps\n",
    "# Convert timestamp strings to datetime objects\n",
    "# Use format='ISO8601' to handle different ISO formats including those with and without milliseconds\n",
    "df['timestamp'] = pd.to_datetime(df['created_at'], format='ISO8601')\n",
    "\n",
    "# Group data by session_id\n",
    "session_groups = df.groupby('session_id')\n",
    "\n",
    "# Extract session start times, end times, duration, and whether each session contains a purchase\n",
    "session_data = []\n",
    "for session_id, session_df in session_groups:\n",
    "    # Skip sessions with invalid or placeholder IDs\n",
    "    if session_id == 'none' or pd.isna(session_id):\n",
    "        continue\n",
    "        \n",
    "    # Sort session events by timestamp\n",
    "    session_df = session_df.sort_values('timestamp')\n",
    "    \n",
    "    # Get user_id (assuming it's consistent within a session)\n",
    "    user_id = session_df['user_id'].iloc[0] if not session_df.empty else None\n",
    "    \n",
    "    # Get session start and end times\n",
    "    start_time = session_df['timestamp'].min()\n",
    "    end_time = session_df['timestamp'].max()\n",
    "    \n",
    "    # Calculate session duration in minutes\n",
    "    duration_minutes = (end_time - start_time).total_seconds() / 60\n",
    "    \n",
    "    # Check if session contains a purchase event - count as unique per session\n",
    "    # If a session has multiple purchase events, we only count it once\n",
    "    has_purchase = session_df['is_purchase'].any()\n",
    "    \n",
    "    # Count unique purchase events in this session\n",
    "    unique_purchase_count = 1 if has_purchase else 0\n",
    "    \n",
    "    # If there's a purchase, find time to first purchase from session start\n",
    "    time_to_purchase = None\n",
    "    if has_purchase:\n",
    "        first_purchase_time = session_df[session_df['is_purchase']]['timestamp'].min()\n",
    "        time_to_purchase = (first_purchase_time - start_time).total_seconds() / 60\n",
    "    \n",
    "    # Collect relevant session details\n",
    "    session_data.append({\n",
    "        'session_id': session_id,\n",
    "        'user_id': user_id,\n",
    "        'start_time': start_time,\n",
    "        'end_time': end_time,\n",
    "        'duration_minutes': duration_minutes,\n",
    "        'has_purchase': has_purchase,\n",
    "        'unique_purchase_count': unique_purchase_count,\n",
    "        'time_to_purchase': time_to_purchase,\n",
    "        'event_count': len(session_df)\n",
    "    })\n",
    "\n",
    "# Create DataFrame from collected session data\n",
    "sessions_df = pd.DataFrame(session_data)\n",
    "\n",
    "# Show some basic statistics about the session data\n",
    "print(f\"Total valid sessions: {len(sessions_df)}\")\n",
    "print(f\"Sessions with unique purchase events: {sessions_df['has_purchase'].sum()} ({sessions_df['has_purchase'].mean()*100:.2f}%)\")\n",
    "print(f\"Total unique purchase events: {sessions_df['unique_purchase_count'].sum()}\")\n",
    "print(f\"Average session duration: {sessions_df['duration_minutes'].mean():.2f} minutes\")\n",
    "print(f\"Average events per session: {sessions_df['event_count'].mean():.2f}\")\n",
    "\n",
    "# Display sample of the sessions dataframe\n",
    "display(sessions_df.head())"
   ]
  },
  {
   "cell_type": "code",
   "execution_count": 35,
   "id": "9caa0fb6",
   "metadata": {},
   "outputs": [
    {
     "name": "stdout",
     "output_type": "stream",
     "text": [
      "Session Categories:\n"
     ]
    },
    {
     "data": {
      "text/html": [
       "<div>\n",
       "<style scoped>\n",
       "    .dataframe tbody tr th:only-of-type {\n",
       "        vertical-align: middle;\n",
       "    }\n",
       "\n",
       "    .dataframe tbody tr th {\n",
       "        vertical-align: top;\n",
       "    }\n",
       "\n",
       "    .dataframe thead th {\n",
       "        text-align: right;\n",
       "    }\n",
       "</style>\n",
       "<table border=\"1\" class=\"dataframe\">\n",
       "  <thead>\n",
       "    <tr style=\"text-align: right;\">\n",
       "      <th></th>\n",
       "      <th>Count</th>\n",
       "      <th>Percentage</th>\n",
       "    </tr>\n",
       "    <tr>\n",
       "      <th>category</th>\n",
       "      <th></th>\n",
       "      <th></th>\n",
       "    </tr>\n",
       "  </thead>\n",
       "  <tbody>\n",
       "    <tr>\n",
       "      <th>Just Looking</th>\n",
       "      <td>215</td>\n",
       "      <td>93.886463</td>\n",
       "    </tr>\n",
       "    <tr>\n",
       "      <th>Quick Purchase</th>\n",
       "      <td>10</td>\n",
       "      <td>4.366812</td>\n",
       "    </tr>\n",
       "    <tr>\n",
       "      <th>Looking Then Purchasing</th>\n",
       "      <td>4</td>\n",
       "      <td>1.746725</td>\n",
       "    </tr>\n",
       "  </tbody>\n",
       "</table>\n",
       "</div>"
      ],
      "text/plain": [
       "                         Count  Percentage\n",
       "category                                  \n",
       "Just Looking               215   93.886463\n",
       "Quick Purchase              10    4.366812\n",
       "Looking Then Purchasing      4    1.746725"
      ]
     },
     "metadata": {},
     "output_type": "display_data"
    },
    {
     "name": "stdout",
     "output_type": "stream",
     "text": [
      "\n",
      "Total unique purchase events across all sessions: 14\n",
      "Total sessions with purchases: 14\n",
      "Percentage of sessions with purchases: 6.11%\n"
     ]
    },
    {
     "ename": "NameError",
     "evalue": "name 'facecolor' is not defined",
     "output_type": "error",
     "traceback": [
      "\u001b[0;31m---------------------------------------------------------------------------\u001b[0m",
      "\u001b[0;31mNameError\u001b[0m                                 Traceback (most recent call last)",
      "Cell \u001b[0;32mIn[35], line 37\u001b[0m\n\u001b[1;32m     34\u001b[0m \u001b[38;5;28mprint\u001b[39m(\u001b[38;5;124mf\u001b[39m\u001b[38;5;124m\"\u001b[39m\u001b[38;5;124mPercentage of sessions with purchases: \u001b[39m\u001b[38;5;132;01m{\u001b[39;00msessions_df[\u001b[38;5;124m'\u001b[39m\u001b[38;5;124mhas_purchase\u001b[39m\u001b[38;5;124m'\u001b[39m]\u001b[38;5;241m.\u001b[39mmean()\u001b[38;5;241m*\u001b[39m\u001b[38;5;241m100\u001b[39m\u001b[38;5;132;01m:\u001b[39;00m\u001b[38;5;124m.2f\u001b[39m\u001b[38;5;132;01m}\u001b[39;00m\u001b[38;5;124m%\u001b[39m\u001b[38;5;124m\"\u001b[39m)\n\u001b[1;32m     36\u001b[0m \u001b[38;5;66;03m# Visualize the distribution of session categories\u001b[39;00m\n\u001b[0;32m---> 37\u001b[0m plt\u001b[38;5;241m.\u001b[39mfigure(figsize\u001b[38;5;241m=\u001b[39m(\u001b[38;5;241m10\u001b[39m, \u001b[38;5;241m6\u001b[39m), facecolor\u001b[38;5;241m=\u001b[39m\u001b[43mfacecolor\u001b[49m)\n\u001b[1;32m     38\u001b[0m sns\u001b[38;5;241m.\u001b[39mcountplot(x\u001b[38;5;241m=\u001b[39m\u001b[38;5;124m'\u001b[39m\u001b[38;5;124mcategory\u001b[39m\u001b[38;5;124m'\u001b[39m, data\u001b[38;5;241m=\u001b[39msessions_df, order\u001b[38;5;241m=\u001b[39m[\u001b[38;5;124m'\u001b[39m\u001b[38;5;124mJust Looking\u001b[39m\u001b[38;5;124m'\u001b[39m, \u001b[38;5;124m'\u001b[39m\u001b[38;5;124mLooking Then Purchasing\u001b[39m\u001b[38;5;124m'\u001b[39m, \u001b[38;5;124m'\u001b[39m\u001b[38;5;124mQuick Purchase\u001b[39m\u001b[38;5;124m'\u001b[39m], palette\u001b[38;5;241m=\u001b[39mcolors[:\u001b[38;5;241m3\u001b[39m])\n\u001b[1;32m     39\u001b[0m plt\u001b[38;5;241m.\u001b[39mtitle(\u001b[38;5;124m'\u001b[39m\u001b[38;5;124mDistribution of Session Categories\u001b[39m\u001b[38;5;124m'\u001b[39m, fontsize\u001b[38;5;241m=\u001b[39m\u001b[38;5;241m15\u001b[39m)\n",
      "\u001b[0;31mNameError\u001b[0m: name 'facecolor' is not defined"
     ]
    }
   ],
   "source": [
    "# Now let's categorize sessions based on the specified criteria\n",
    "\n",
    "# Define the categorization function\n",
    "def categorize_session(row):\n",
    "    if not row['has_purchase']:\n",
    "        return 'Just Looking'\n",
    "    elif row['time_to_purchase'] >= 20:\n",
    "        return 'Looking Then Purchasing'\n",
    "    else:\n",
    "        return 'Quick Purchase'\n",
    "\n",
    "# Apply the categorization\n",
    "sessions_df['category'] = sessions_df.apply(categorize_session, axis=1)\n",
    "\n",
    "# Count sessions by category\n",
    "category_counts = sessions_df['category'].value_counts()\n",
    "\n",
    "# Calculate percentages\n",
    "category_percentages = sessions_df['category'].value_counts(normalize=True) * 100\n",
    "\n",
    "# Create a DataFrame for easy viewing\n",
    "session_categories = pd.DataFrame({\n",
    "    'Count': category_counts,\n",
    "    'Percentage': category_percentages\n",
    "})\n",
    "\n",
    "print(\"Session Categories:\")\n",
    "display(session_categories)\n",
    "\n",
    "# Show total unique purchase events across all sessions\n",
    "total_unique_purchases = sessions_df['unique_purchase_count'].sum()\n",
    "print(f\"\\nTotal unique purchase events across all sessions: {total_unique_purchases}\")\n",
    "print(f\"Total sessions with purchases: {sessions_df['has_purchase'].sum()}\")\n",
    "print(f\"Percentage of sessions with purchases: {sessions_df['has_purchase'].mean()*100:.2f}%\")\n",
    "\n",
    "# Visualize the distribution of session categories\n",
    "plt.figure(figsize=(10, 6), facecolor=facecolor)\n",
    "sns.countplot(x='category', data=sessions_df, order=['Just Looking', 'Looking Then Purchasing', 'Quick Purchase'], palette=colors[:3])\n",
    "plt.title('Distribution of Session Categories', fontsize=15)\n",
    "plt.xlabel('Session Category', fontsize=12)\n",
    "plt.ylabel('Count', fontsize=12)\n",
    "plt.grid(True, alpha=0.3, axis='y')\n",
    "plt.tight_layout()\n",
    "plt.show()\n",
    "\n",
    "# Create a pie chart to visualize the proportion of each category\n",
    "plt.figure(figsize=(10, 7), facecolor=facecolor)\n",
    "plt.pie(\n",
    "    category_counts,\n",
    "    labels=category_counts.index,\n",
    "    autopct='%1.1f%%',\n",
    "    startangle=90,\n",
    "    colors=colors[:3],\n",
    "    wedgeprops={'edgecolor': 'white', 'linewidth': 1}\n",
    ")\n",
    "plt.axis('equal')  # Equal aspect ratio ensures the pie chart is circular\n",
    "plt.title('Proportion of Session Categories', fontsize=15)\n",
    "plt.tight_layout()\n",
    "plt.show()"
   ]
  },
  {
   "cell_type": "code",
   "execution_count": null,
   "id": "355ec2f6",
   "metadata": {},
   "outputs": [
    {
     "data": {
      "image/png": "[encoded data removed]",
      "text/plain": [
       "<Figure size 1200x600 with 1 Axes>"
      ]
     },
     "metadata": {},
     "output_type": "display_data"
    },
    {
     "name": "stdout",
     "output_type": "stream",
     "text": [
      "Session Duration Statistics by Category:\n"
     ]
    },
    {
     "data": {
      "text/html": [
       "<div>\n",
       "<style scoped>\n",
       "    .dataframe tbody tr th:only-of-type {\n",
       "        vertical-align: middle;\n",
       "    }\n",
       "\n",
       "    .dataframe tbody tr th {\n",
       "        vertical-align: top;\n",
       "    }\n",
       "\n",
       "    .dataframe thead th {\n",
       "        text-align: right;\n",
       "    }\n",
       "</style>\n",
       "<table border=\"1\" class=\"dataframe\">\n",
       "  <thead>\n",
       "    <tr style=\"text-align: right;\">\n",
       "      <th></th>\n",
       "      <th>Count</th>\n",
       "      <th>Average Duration (min)</th>\n",
       "      <th>Median Duration (min)</th>\n",
       "      <th>Min Duration (min)</th>\n",
       "      <th>Max Duration (min)</th>\n",
       "    </tr>\n",
       "    <tr>\n",
       "      <th>category</th>\n",
       "      <th></th>\n",
       "      <th></th>\n",
       "      <th></th>\n",
       "      <th></th>\n",
       "      <th></th>\n",
       "    </tr>\n",
       "  </thead>\n",
       "  <tbody>\n",
       "    <tr>\n",
       "      <th>Just Looking</th>\n",
       "      <td>204</td>\n",
       "      <td>8.197012</td>\n",
       "      <td>0.964258</td>\n",
       "      <td>0.000000</td>\n",
       "      <td>375.404583</td>\n",
       "    </tr>\n",
       "    <tr>\n",
       "      <th>Looking Then Purchasing</th>\n",
       "      <td>4</td>\n",
       "      <td>39.707721</td>\n",
       "      <td>35.969067</td>\n",
       "      <td>27.120783</td>\n",
       "      <td>59.771967</td>\n",
       "    </tr>\n",
       "    <tr>\n",
       "      <th>Quick Purchase</th>\n",
       "      <td>10</td>\n",
       "      <td>15.172842</td>\n",
       "      <td>14.391867</td>\n",
       "      <td>1.207300</td>\n",
       "      <td>34.043683</td>\n",
       "    </tr>\n",
       "  </tbody>\n",
       "</table>\n",
       "</div>"
      ],
      "text/plain": [
       "                         Count  Average Duration (min)  Median Duration (min)  \\\n",
       "category                                                                        \n",
       "Just Looking               204                8.197012               0.964258   \n",
       "Looking Then Purchasing      4               39.707721              35.969067   \n",
       "Quick Purchase              10               15.172842              14.391867   \n",
       "\n",
       "                         Min Duration (min)  Max Duration (min)  \n",
       "category                                                         \n",
       "Just Looking                       0.000000          375.404583  \n",
       "Looking Then Purchasing           27.120783           59.771967  \n",
       "Quick Purchase                     1.207300           34.043683  "
      ]
     },
     "metadata": {},
     "output_type": "display_data"
    },
    {
     "data": {
      "image/png": "[encoded data removed]",
      "text/plain": [
       "<Figure size 1200x600 with 1 Axes>"
      ]
     },
     "metadata": {},
     "output_type": "display_data"
    }
   ],
   "source": [
    "# Let's analyze the duration distribution for each session category\n",
    "plt.figure(figsize=(12, 6))\n",
    "sns.boxplot(x='category', y='duration_minutes', data=sessions_df, order=['Just Looking', 'Looking Then Purchasing', 'Quick Purchase'])\n",
    "plt.title('Session Duration by Category', fontsize=15)\n",
    "plt.xlabel('Session Category', fontsize=12)\n",
    "plt.ylabel('Duration (Minutes)', fontsize=12)\n",
    "plt.grid(True, alpha=0.3, axis='y')\n",
    "plt.tight_layout()\n",
    "plt.show()\n",
    "\n",
    "# Calculate and display statistics about session duration by category\n",
    "duration_stats = sessions_df.groupby('category')['duration_minutes'].agg(['count', 'mean', 'median', 'min', 'max'])\n",
    "duration_stats = duration_stats.rename(columns={\n",
    "    'count': 'Count',\n",
    "    'mean': 'Average Duration (min)',\n",
    "    'median': 'Median Duration (min)',\n",
    "    'min': 'Min Duration (min)',\n",
    "    'max': 'Max Duration (min)'\n",
    "})\n",
    "\n",
    "print(\"Session Duration Statistics by Category:\")\n",
    "display(duration_stats)\n",
    "\n",
    "# For purchasing sessions, analyze the distribution of time to purchase\n",
    "if len(sessions_df[sessions_df['has_purchase']]) > 0:\n",
    "    plt.figure(figsize=(12, 6))\n",
    "    \n",
    "    # Create a histogram of time to purchase\n",
    "    purchase_sessions = sessions_df[sessions_df['has_purchase']].copy()\n",
    "    sns.histplot(data=purchase_sessions, x='time_to_purchase', bins=20, kde=True)\n",
    "    \n",
    "    # Add a vertical line at 20 minutes to show our categorization threshold\n",
    "    plt.axvline(x=20, color='red', linestyle='--', label='20-minute threshold')\n",
    "    \n",
    "    plt.title('Distribution of Time to Purchase', fontsize=15)\n",
    "    plt.xlabel('Time to Purchase (Minutes)', fontsize=12)\n",
    "    plt.ylabel('Count', fontsize=12)\n",
    "    plt.grid(True, alpha=0.3)\n",
    "    plt.legend()\n",
    "    plt.tight_layout()\n",
    "    plt.show()"
   ]
  },
  {
   "cell_type": "code",
   "execution_count": null,
   "id": "2f15c2da",
   "metadata": {},
   "outputs": [
    {
     "name": "stdout",
     "output_type": "stream",
     "text": [
      "Top 10 Users by Session Count and Their Category Distribution:\n"
     ]
    },
    {
     "data": {
      "text/html": [
       "<div>\n",
       "<style scoped>\n",
       "    .dataframe tbody tr th:only-of-type {\n",
       "        vertical-align: middle;\n",
       "    }\n",
       "\n",
       "    .dataframe tbody tr th {\n",
       "        vertical-align: top;\n",
       "    }\n",
       "\n",
       "    .dataframe thead th {\n",
       "        text-align: right;\n",
       "    }\n",
       "</style>\n",
       "<table border=\"1\" class=\"dataframe\">\n",
       "  <thead>\n",
       "    <tr style=\"text-align: right;\">\n",
       "      <th>category</th>\n",
       "      <th>Just Looking</th>\n",
       "      <th>Looking Then Purchasing</th>\n",
       "      <th>Quick Purchase</th>\n",
       "      <th>Total Sessions</th>\n",
       "    </tr>\n",
       "    <tr>\n",
       "      <th>user_id</th>\n",
       "      <th></th>\n",
       "      <th></th>\n",
       "      <th></th>\n",
       "      <th></th>\n",
       "    </tr>\n",
       "  </thead>\n",
       "  <tbody>\n",
       "    <tr>\n",
       "      <th>390c0190-33a3-4029-ae09-687bff0b77d6</th>\n",
       "      <td>24</td>\n",
       "      <td>1</td>\n",
       "      <td>2</td>\n",
       "      <td>27</td>\n",
       "    </tr>\n",
       "    <tr>\n",
       "      <th>42a0286f-f933-490a-89aa-0c0037dae11e</th>\n",
       "      <td>24</td>\n",
       "      <td>0</td>\n",
       "      <td>1</td>\n",
       "      <td>25</td>\n",
       "    </tr>\n",
       "    <tr>\n",
       "      <th>ddb693bf-df31-4881-a0de-5cca527b0504</th>\n",
       "      <td>18</td>\n",
       "      <td>0</td>\n",
       "      <td>0</td>\n",
       "      <td>18</td>\n",
       "    </tr>\n",
       "    <tr>\n",
       "      <th>73af51b2-2044-40d1-997f-4872caf25fed</th>\n",
       "      <td>15</td>\n",
       "      <td>0</td>\n",
       "      <td>0</td>\n",
       "      <td>15</td>\n",
       "    </tr>\n",
       "    <tr>\n",
       "      <th>05d00887-5f39-4c88-8457-3da20a77b761</th>\n",
       "      <td>14</td>\n",
       "      <td>0</td>\n",
       "      <td>0</td>\n",
       "      <td>14</td>\n",
       "    </tr>\n",
       "    <tr>\n",
       "      <th>a584c10c-d236-408a-b544-50b6219dee39</th>\n",
       "      <td>14</td>\n",
       "      <td>0</td>\n",
       "      <td>0</td>\n",
       "      <td>14</td>\n",
       "    </tr>\n",
       "    <tr>\n",
       "      <th>c840702c-e454-47b5-8ef5-60ef2a7df99e</th>\n",
       "      <td>11</td>\n",
       "      <td>0</td>\n",
       "      <td>0</td>\n",
       "      <td>11</td>\n",
       "    </tr>\n",
       "    <tr>\n",
       "      <th>e2eb1291-5fec-45e6-bded-3018f0d67d66</th>\n",
       "      <td>5</td>\n",
       "      <td>0</td>\n",
       "      <td>3</td>\n",
       "      <td>8</td>\n",
       "    </tr>\n",
       "    <tr>\n",
       "      <th>0923b647-997c-466d-b7ce-3ae6246ce5d7</th>\n",
       "      <td>6</td>\n",
       "      <td>0</td>\n",
       "      <td>0</td>\n",
       "      <td>6</td>\n",
       "    </tr>\n",
       "    <tr>\n",
       "      <th>a8813899-eb7b-49f9-9e97-7f91f995e944</th>\n",
       "      <td>3</td>\n",
       "      <td>0</td>\n",
       "      <td>2</td>\n",
       "      <td>5</td>\n",
       "    </tr>\n",
       "  </tbody>\n",
       "</table>\n",
       "</div>"
      ],
      "text/plain": [
       "category                              Just Looking  Looking Then Purchasing  \\\n",
       "user_id                                                                       \n",
       "390c0190-33a3-4029-ae09-687bff0b77d6            24                        1   \n",
       "42a0286f-f933-490a-89aa-0c0037dae11e            24                        0   \n",
       "ddb693bf-df31-4881-a0de-5cca527b0504            18                        0   \n",
       "73af51b2-2044-40d1-997f-4872caf25fed            15                        0   \n",
       "05d00887-5f39-4c88-8457-3da20a77b761            14                        0   \n",
       "a584c10c-d236-408a-b544-50b6219dee39            14                        0   \n",
       "c840702c-e454-47b5-8ef5-60ef2a7df99e            11                        0   \n",
       "e2eb1291-5fec-45e6-bded-3018f0d67d66             5                        0   \n",
       "0923b647-997c-466d-b7ce-3ae6246ce5d7             6                        0   \n",
       "a8813899-eb7b-49f9-9e97-7f91f995e944             3                        0   \n",
       "\n",
       "category                              Quick Purchase  Total Sessions  \n",
       "user_id                                                               \n",
       "390c0190-33a3-4029-ae09-687bff0b77d6               2              27  \n",
       "42a0286f-f933-490a-89aa-0c0037dae11e               1              25  \n",
       "ddb693bf-df31-4881-a0de-5cca527b0504               0              18  \n",
       "73af51b2-2044-40d1-997f-4872caf25fed               0              15  \n",
       "05d00887-5f39-4c88-8457-3da20a77b761               0              14  \n",
       "a584c10c-d236-408a-b544-50b6219dee39               0              14  \n",
       "c840702c-e454-47b5-8ef5-60ef2a7df99e               0              11  \n",
       "e2eb1291-5fec-45e6-bded-3018f0d67d66               3               8  \n",
       "0923b647-997c-466d-b7ce-3ae6246ce5d7               0               6  \n",
       "a8813899-eb7b-49f9-9e97-7f91f995e944               2               5  "
      ]
     },
     "metadata": {},
     "output_type": "display_data"
    },
    {
     "name": "stdout",
     "output_type": "stream",
     "text": [
      "\n",
      "Users with strong category preferences (>75% of sessions):\n",
      "Primarily 'Just Looking': 54 users\n",
      "Primarily 'Looking Then Purchasing': 2 users\n",
      "Primarily 'Quick Purchase': 1 users\n"
     ]
    }
   ],
   "source": [
    "# Let's explore if specific users tend to follow particular browsing patterns\n",
    "\n",
    "# Count the number of sessions in each category per user\n",
    "user_category_counts = sessions_df.groupby(['user_id', 'category']).size().unstack(fill_value=0)\n",
    "\n",
    "# If some categories are missing, add them with zeros\n",
    "for category in ['Just Looking', 'Looking Then Purchasing', 'Quick Purchase']:\n",
    "    if category not in user_category_counts.columns:\n",
    "        user_category_counts[category] = 0\n",
    "\n",
    "# Calculate the total number of sessions per user\n",
    "user_category_counts['Total Sessions'] = user_category_counts.sum(axis=1)\n",
    "\n",
    "# Calculate the percentage of each category per user\n",
    "user_category_percentages = user_category_counts.copy()\n",
    "for category in ['Just Looking', 'Looking Then Purchasing', 'Quick Purchase']:\n",
    "    user_category_percentages[f'{category} %'] = user_category_counts[category] / user_category_counts['Total Sessions'] * 100\n",
    "\n",
    "# Sort by total sessions in descending order\n",
    "user_category_counts = user_category_counts.sort_values('Total Sessions', ascending=False)\n",
    "\n",
    "# Display the top 10 users by session count and their category distribution\n",
    "print(\"Top 10 Users by Session Count and Their Category Distribution:\")\n",
    "display(user_category_counts.head(10))\n",
    "\n",
    "# Identify users who primarily use one category (>75% of their sessions)\n",
    "primarily_just_looking = user_category_percentages[user_category_percentages['Just Looking %'] > 75]\n",
    "primarily_looking_then_purchasing = user_category_percentages[user_category_percentages['Looking Then Purchasing %'] > 75]\n",
    "primarily_quick_purchase = user_category_percentages[user_category_percentages['Quick Purchase %'] > 75]\n",
    "\n",
    "# Display counts of users with strong category preferences\n",
    "print(f\"\\nUsers with strong category preferences (>75% of sessions):\")\n",
    "print(f\"Primarily 'Just Looking': {len(primarily_just_looking)} users\")\n",
    "print(f\"Primarily 'Looking Then Purchasing': {len(primarily_looking_then_purchasing)} users\")\n",
    "print(f\"Primarily 'Quick Purchase': {len(primarily_quick_purchase)} users\")"
   ]
  },
  {
   "cell_type": "markdown",
   "id": "a9cddb35",
   "metadata": {},
   "source": [
    "## Session Categorization Summary\n",
    "\n",
    "This analysis has allowed us to categorize shopping sessions into three distinct types based on user behavior:\n",
    "\n",
    "1. **Just Looking** - Sessions without any purchase events. These represent users who are browsing, researching, or comparing products but not making a purchase during that session.\n",
    "\n",
    "2. **Looking Then Purchasing** - Sessions where users spent at least 20 minutes browsing before making a purchase. This suggests a more deliberate decision-making process, where users are carefully considering options before committing to a purchase.\n",
    "\n",
    "3. **Quick Purchase** - Sessions where users made a purchase within 20 minutes of starting their session. This may indicate impulse purchases, returning customers who already know what they want, or users with a clear purchase intention from the start.\n",
    "\n",
    "The distribution and characteristics of these categories provide valuable insights into user shopping behavior patterns and can help inform strategies for improving user experience and conversion optimization."
   ]
  },
  {
   "cell_type": "markdown",
   "id": "2ecf7627",
   "metadata": {},
   "source": [
    "## Extended Session Flow Categorization\n",
    "\n",
    "Let's categorize sessions based on more detailed user flows:\n",
    "\n",
    "1. **Just Looking** - Sessions without add-to-cart, checkout, or purchase events\n",
    "2. **Add-to-Cart** - Sessions with add-to-cart but no checkout or purchase events\n",
    "3. **Checkout** - Sessions with checkout events but no add-to-cart or purchase events\n",
    "4. **Add-to-Cart then Checkout** - Sessions with both add-to-cart and checkout events, but no purchase\n",
    "5. **Checkout then Purchase** - Sessions with checkout and purchase events, but no add-to-cart\n",
    "6. **Complete Flow** - Sessions with add-to-cart, checkout, and purchase events\n",
    "\n",
    "This will help us visualize the different user journey patterns."
   ]
  },
  {
   "cell_type": "code",
   "execution_count": null,
   "id": "3695f4ce",
   "metadata": {},
   "outputs": [
    {
     "name": "stdout",
     "output_type": "stream",
     "text": [
      "Total add_to_cart events detected in raw data: 54\n",
      "\n",
      "Sample of add_to_cart events:\n"
     ]
    },
    {
     "data": {
      "text/html": [
       "<div>\n",
       "<style scoped>\n",
       "    .dataframe tbody tr th:only-of-type {\n",
       "        vertical-align: middle;\n",
       "    }\n",
       "\n",
       "    .dataframe tbody tr th {\n",
       "        vertical-align: top;\n",
       "    }\n",
       "\n",
       "    .dataframe thead th {\n",
       "        text-align: right;\n",
       "    }\n",
       "</style>\n",
       "<table border=\"1\" class=\"dataframe\">\n",
       "  <thead>\n",
       "    <tr style=\"text-align: right;\">\n",
       "      <th></th>\n",
       "      <th>id</th>\n",
       "      <th>type</th>\n",
       "      <th>url</th>\n",
       "      <th>payload</th>\n",
       "      <th>user_id</th>\n",
       "      <th>session_id</th>\n",
       "      <th>received_at</th>\n",
       "      <th>created_at</th>\n",
       "      <th>domain</th>\n",
       "      <th>is_purchase</th>\n",
       "      <th>timestamp</th>\n",
       "      <th>is_add_to_cart</th>\n",
       "      <th>is_checkout</th>\n",
       "    </tr>\n",
       "  </thead>\n",
       "  <tbody>\n",
       "    <tr>\n",
       "      <th>459</th>\n",
       "      <td>19971</td>\n",
       "      <td>add-to-cart</td>\n",
       "      <td>www.amazon.com/gp/product/1108724264/ref=as_li_tl</td>\n",
       "      <td>NaN</td>\n",
       "      <td>a584c10c-d236-408a-b544-50b6219dee39</td>\n",
       "      <td>079d185e-50e7-46fc-9eef-7bbf97741197</td>\n",
       "      <td>2025-04-02T12:11:11.798597+00:00</td>\n",
       "      <td>2025-04-02T12:11:11.089+00:00</td>\n",
       "      <td>amazon.com</td>\n",
       "      <td>False</td>\n",
       "      <td>2025-04-02 12:11:11.089000+00:00</td>\n",
       "      <td>True</td>\n",
       "      <td>False</td>\n",
       "    </tr>\n",
       "    <tr>\n",
       "      <th>1027</th>\n",
       "      <td>20551</td>\n",
       "      <td>add-to-cart</td>\n",
       "      <td>www.bestbuy.com/site/apple-macbook-pro-14-inch...</td>\n",
       "      <td>NaN</td>\n",
       "      <td>053a8283-15f4-40be-af99-6ee270de0459</td>\n",
       "      <td>efd04950-71ea-4d15-a7a9-3052fc3519a1</td>\n",
       "      <td>2025-04-02T21:39:37.558524+00:00</td>\n",
       "      <td>2025-04-02T21:39:10.646+00:00</td>\n",
       "      <td>bestbuy.com</td>\n",
       "      <td>False</td>\n",
       "      <td>2025-04-02 21:39:10.646000+00:00</td>\n",
       "      <td>True</td>\n",
       "      <td>False</td>\n",
       "    </tr>\n",
       "  </tbody>\n",
       "</table>\n",
       "</div>"
      ],
      "text/plain": [
       "         id         type                                                url  \\\n",
       "459   19971  add-to-cart  www.amazon.com/gp/product/1108724264/ref=as_li_tl   \n",
       "1027  20551  add-to-cart  www.bestbuy.com/site/apple-macbook-pro-14-inch...   \n",
       "\n",
       "     payload                               user_id  \\\n",
       "459      NaN  a584c10c-d236-408a-b544-50b6219dee39   \n",
       "1027     NaN  053a8283-15f4-40be-af99-6ee270de0459   \n",
       "\n",
       "                                session_id                       received_at  \\\n",
       "459   079d185e-50e7-46fc-9eef-7bbf97741197  2025-04-02T12:11:11.798597+00:00   \n",
       "1027  efd04950-71ea-4d15-a7a9-3052fc3519a1  2025-04-02T21:39:37.558524+00:00   \n",
       "\n",
       "                         created_at       domain  is_purchase  \\\n",
       "459   2025-04-02T12:11:11.089+00:00   amazon.com        False   \n",
       "1027  2025-04-02T21:39:10.646+00:00  bestbuy.com        False   \n",
       "\n",
       "                            timestamp  is_add_to_cart  is_checkout  \n",
       "459  2025-04-02 12:11:11.089000+00:00            True        False  \n",
       "1027 2025-04-02 21:39:10.646000+00:00            True        False  "
      ]
     },
     "metadata": {},
     "output_type": "display_data"
    },
    {
     "name": "stdout",
     "output_type": "stream",
     "text": [
      "\n",
      "--------------------------------------------------\n",
      "\n",
      "Total checkout events detected in raw data: 54\n",
      "\n",
      "Sample of checkout events:\n"
     ]
    },
    {
     "data": {
      "text/html": [
       "<div>\n",
       "<style scoped>\n",
       "    .dataframe tbody tr th:only-of-type {\n",
       "        vertical-align: middle;\n",
       "    }\n",
       "\n",
       "    .dataframe tbody tr th {\n",
       "        vertical-align: top;\n",
       "    }\n",
       "\n",
       "    .dataframe thead th {\n",
       "        text-align: right;\n",
       "    }\n",
       "</style>\n",
       "<table border=\"1\" class=\"dataframe\">\n",
       "  <thead>\n",
       "    <tr style=\"text-align: right;\">\n",
       "      <th></th>\n",
       "      <th>id</th>\n",
       "      <th>type</th>\n",
       "      <th>url</th>\n",
       "      <th>payload</th>\n",
       "      <th>user_id</th>\n",
       "      <th>session_id</th>\n",
       "      <th>received_at</th>\n",
       "      <th>created_at</th>\n",
       "      <th>domain</th>\n",
       "      <th>is_purchase</th>\n",
       "      <th>timestamp</th>\n",
       "      <th>is_add_to_cart</th>\n",
       "      <th>is_checkout</th>\n",
       "    </tr>\n",
       "  </thead>\n",
       "  <tbody>\n",
       "    <tr>\n",
       "      <th>47</th>\n",
       "      <td>19547</td>\n",
       "      <td>checkout</td>\n",
       "      <td>foto.foetex.dk/checkout.html</td>\n",
       "      <td>NaN</td>\n",
       "      <td>390c0190-33a3-4029-ae09-687bff0b77d6</td>\n",
       "      <td>476b369f-eb28-4511-9e3c-595867fda6c6</td>\n",
       "      <td>2025-03-27T07:48:53.399341+00:00</td>\n",
       "      <td>2025-03-27T07:48:52.814+00:00</td>\n",
       "      <td>foetex.dk</td>\n",
       "      <td>False</td>\n",
       "      <td>2025-03-27 07:48:52.814000+00:00</td>\n",
       "      <td>False</td>\n",
       "      <td>True</td>\n",
       "    </tr>\n",
       "    <tr>\n",
       "      <th>148</th>\n",
       "      <td>19647</td>\n",
       "      <td>checkout</td>\n",
       "      <td>www.ticketmaster.dk/checkout/Z698xZC4Z1744-y/5...</td>\n",
       "      <td>NaN</td>\n",
       "      <td>0b7cd927-52ef-434b-8b2e-9c63281c6327</td>\n",
       "      <td>d80be840-c787-4f26-a287-19be28478014</td>\n",
       "      <td>2025-03-27T15:27:56.313968+00:00</td>\n",
       "      <td>2025-03-27T15:27:55.78+00:00</td>\n",
       "      <td>ticketmaster.dk</td>\n",
       "      <td>False</td>\n",
       "      <td>2025-03-27 15:27:55.780000+00:00</td>\n",
       "      <td>False</td>\n",
       "      <td>True</td>\n",
       "    </tr>\n",
       "  </tbody>\n",
       "</table>\n",
       "</div>"
      ],
      "text/plain": [
       "        id      type                                                url  \\\n",
       "47   19547  checkout                       foto.foetex.dk/checkout.html   \n",
       "148  19647  checkout  www.ticketmaster.dk/checkout/Z698xZC4Z1744-y/5...   \n",
       "\n",
       "    payload                               user_id  \\\n",
       "47      NaN  390c0190-33a3-4029-ae09-687bff0b77d6   \n",
       "148     NaN  0b7cd927-52ef-434b-8b2e-9c63281c6327   \n",
       "\n",
       "                               session_id                       received_at  \\\n",
       "47   476b369f-eb28-4511-9e3c-595867fda6c6  2025-03-27T07:48:53.399341+00:00   \n",
       "148  d80be840-c787-4f26-a287-19be28478014  2025-03-27T15:27:56.313968+00:00   \n",
       "\n",
       "                        created_at           domain  is_purchase  \\\n",
       "47   2025-03-27T07:48:52.814+00:00        foetex.dk        False   \n",
       "148   2025-03-27T15:27:55.78+00:00  ticketmaster.dk        False   \n",
       "\n",
       "                           timestamp  is_add_to_cart  is_checkout  \n",
       "47  2025-03-27 07:48:52.814000+00:00           False         True  \n",
       "148 2025-03-27 15:27:55.780000+00:00           False         True  "
      ]
     },
     "metadata": {},
     "output_type": "display_data"
    },
    {
     "name": "stdout",
     "output_type": "stream",
     "text": [
      "\n",
      "--------------------------------------------------\n",
      "\n",
      "Total purchase events detected in raw data: 27\n",
      "\n",
      "Sample of purchase events:\n"
     ]
    },
    {
     "data": {
      "text/html": [
       "<div>\n",
       "<style scoped>\n",
       "    .dataframe tbody tr th:only-of-type {\n",
       "        vertical-align: middle;\n",
       "    }\n",
       "\n",
       "    .dataframe tbody tr th {\n",
       "        vertical-align: top;\n",
       "    }\n",
       "\n",
       "    .dataframe thead th {\n",
       "        text-align: right;\n",
       "    }\n",
       "</style>\n",
       "<table border=\"1\" class=\"dataframe\">\n",
       "  <thead>\n",
       "    <tr style=\"text-align: right;\">\n",
       "      <th></th>\n",
       "      <th>id</th>\n",
       "      <th>type</th>\n",
       "      <th>url</th>\n",
       "      <th>payload</th>\n",
       "      <th>user_id</th>\n",
       "      <th>session_id</th>\n",
       "      <th>received_at</th>\n",
       "      <th>created_at</th>\n",
       "      <th>domain</th>\n",
       "      <th>is_purchase</th>\n",
       "      <th>timestamp</th>\n",
       "      <th>is_add_to_cart</th>\n",
       "      <th>is_checkout</th>\n",
       "    </tr>\n",
       "  </thead>\n",
       "  <tbody>\n",
       "    <tr>\n",
       "      <th>1649</th>\n",
       "      <td>21162</td>\n",
       "      <td>enforce_wait_modal_shown</td>\n",
       "      <td>secure6.store.apple.com/shop/checkout</td>\n",
       "      <td>{\"permitExists\":true,\"permitIsValid\":false,\"ti...</td>\n",
       "      <td>7e54f2ee-060a-467e-b319-9e99d8e58e27</td>\n",
       "      <td>66d24c9c-88d2-426b-b292-e44ca07eaf14</td>\n",
       "      <td>2025-04-04T02:32:09.560047+00:00</td>\n",
       "      <td>2025-04-04T02:32:08.936+00:00</td>\n",
       "      <td>apple.com</td>\n",
       "      <td>True</td>\n",
       "      <td>2025-04-04 02:32:08.936000+00:00</td>\n",
       "      <td>False</td>\n",
       "      <td>False</td>\n",
       "    </tr>\n",
       "    <tr>\n",
       "      <th>1731</th>\n",
       "      <td>21243</td>\n",
       "      <td>enforce_wait_modal_shown</td>\n",
       "      <td>shop.app/checkout/14159740/cn/Z2NwLXVzLWVhc3Qx...</td>\n",
       "      <td>{\"permitExists\":true,\"permitIsValid\":false,\"ti...</td>\n",
       "      <td>a8813899-eb7b-49f9-9e97-7f91f995e944</td>\n",
       "      <td>1eb181c8-adb1-432c-98bb-a30fed16f808</td>\n",
       "      <td>2025-04-04T14:36:21.698326+00:00</td>\n",
       "      <td>2025-04-04T14:36:21.283+00:00</td>\n",
       "      <td>shop.app</td>\n",
       "      <td>True</td>\n",
       "      <td>2025-04-04 14:36:21.283000+00:00</td>\n",
       "      <td>False</td>\n",
       "      <td>False</td>\n",
       "    </tr>\n",
       "  </tbody>\n",
       "</table>\n",
       "</div>"
      ],
      "text/plain": [
       "         id                      type  \\\n",
       "1649  21162  enforce_wait_modal_shown   \n",
       "1731  21243  enforce_wait_modal_shown   \n",
       "\n",
       "                                                    url  \\\n",
       "1649              secure6.store.apple.com/shop/checkout   \n",
       "1731  shop.app/checkout/14159740/cn/Z2NwLXVzLWVhc3Qx...   \n",
       "\n",
       "                                                payload  \\\n",
       "1649  {\"permitExists\":true,\"permitIsValid\":false,\"ti...   \n",
       "1731  {\"permitExists\":true,\"permitIsValid\":false,\"ti...   \n",
       "\n",
       "                                   user_id  \\\n",
       "1649  7e54f2ee-060a-467e-b319-9e99d8e58e27   \n",
       "1731  a8813899-eb7b-49f9-9e97-7f91f995e944   \n",
       "\n",
       "                                session_id                       received_at  \\\n",
       "1649  66d24c9c-88d2-426b-b292-e44ca07eaf14  2025-04-04T02:32:09.560047+00:00   \n",
       "1731  1eb181c8-adb1-432c-98bb-a30fed16f808  2025-04-04T14:36:21.698326+00:00   \n",
       "\n",
       "                         created_at     domain  is_purchase  \\\n",
       "1649  2025-04-04T02:32:08.936+00:00  apple.com         True   \n",
       "1731  2025-04-04T14:36:21.283+00:00   shop.app         True   \n",
       "\n",
       "                            timestamp  is_add_to_cart  is_checkout  \n",
       "1649 2025-04-04 02:32:08.936000+00:00           False        False  \n",
       "1731 2025-04-04 14:36:21.283000+00:00           False        False  "
      ]
     },
     "metadata": {},
     "output_type": "display_data"
    },
    {
     "name": "stdout",
     "output_type": "stream",
     "text": [
      "\n",
      "--------------------------------------------------\n",
      "\n",
      "Events counted uniquely per session:\n",
      "Sessions with at least one add_to_cart event: 22\n",
      "Sessions with at least one checkout event: 39\n",
      "Sessions with at least one purchase event: 14\n",
      "\n",
      "Difference between raw counts and unique per session counts:\n",
      "add_to_cart: 32 duplicate events removed when counting uniquely per session\n",
      "checkout: 15 duplicate events removed when counting uniquely per session\n",
      "purchase: 13 duplicate events removed when counting uniquely per session\n"
     ]
    }
   ],
   "source": [
    "# Define the different event types we're interested in\n",
    "event_types = {\n",
    "    'add_to_cart': 'add-to-cart',\n",
    "    'checkout': 'checkout',\n",
    "    'purchase': 'enforce_wait_modal_shown'\n",
    "}\n",
    "\n",
    "# Create flags for each event type in the main dataframe\n",
    "for event_key, event_value in event_types.items():\n",
    "    df[f'is_{event_key}'] = df['type'] == event_value\n",
    "\n",
    "# Verify our event detection in the raw dataframe\n",
    "for event_key, event_value in event_types.items():\n",
    "    count = df[f'is_{event_key}'].sum()\n",
    "    print(f\"Total {event_key} events detected in raw data: {count}\")\n",
    "    # Show a sample of each event type if available\n",
    "    if count > 0:\n",
    "        print(f\"\\nSample of {event_key} events:\")\n",
    "        display(df[df[f'is_{event_key}'] == True].head(2))\n",
    "    print(\"\\n\" + \"-\"*50 + \"\\n\")\n",
    "\n",
    "# Now let's verify that we're counting each event type at most once per session\n",
    "unique_session_events = {}\n",
    "for event_key in event_types.keys():\n",
    "    # Count sessions with at least one occurrence of this event type\n",
    "    sessions_with_event = df.groupby('session_id')[f'is_{event_key}'].any().sum()\n",
    "    unique_session_events[event_key] = sessions_with_event\n",
    "\n",
    "print(\"Events counted uniquely per session:\")\n",
    "for event_key, count in unique_session_events.items():\n",
    "    print(f\"Sessions with at least one {event_key} event: {count}\")\n",
    "    \n",
    "# Calculate and print the difference between raw counts and unique-per-session counts\n",
    "print(\"\\nDifference between raw counts and unique per session counts:\")\n",
    "for event_key in event_types.keys():\n",
    "    raw_count = df[f'is_{event_key}'].sum()\n",
    "    unique_count = unique_session_events[event_key]\n",
    "    diff = raw_count - unique_count\n",
    "    if diff > 0:\n",
    "        print(f\"{event_key}: {diff} duplicate events removed when counting uniquely per session\")\n",
    "    else:\n",
    "        print(f\"{event_key}: No duplicate events found across sessions\")"
   ]
  },
  {
   "cell_type": "code",
   "execution_count": null,
   "id": "185b3ee0",
   "metadata": {},
   "outputs": [
    {
     "name": "stdout",
     "output_type": "stream",
     "text": [
      "Sessions with multiple occurrences of the same event type:\n",
      "Add-to-cart: 11 sessions\n",
      "Checkout: 12 sessions\n",
      "Purchase: 8 sessions\n",
      "\n",
      "Session counts by event sequence:\n"
     ]
    },
    {
     "data": {
      "text/plain": [
       "event_sequence\n",
       "no_events                            173\n",
       "checkout                              19\n",
       "add_to_cart → checkout → purchase      7\n",
       "add_to_cart → checkout                 5\n",
       "add_to_cart                            5\n",
       "checkout → purchase                    4\n",
       "checkout → add_to_cart → purchase      2\n",
       "checkout → add_to_cart                 2\n",
       "add_to_cart → purchase                 1\n",
       "Name: count, dtype: int64"
      ]
     },
     "metadata": {},
     "output_type": "display_data"
    },
    {
     "name": "stdout",
     "output_type": "stream",
     "text": [
      "\n",
      "Sample of flow sessions data:\n"
     ]
    },
    {
     "data": {
      "text/html": [
       "<div>\n",
       "<style scoped>\n",
       "    .dataframe tbody tr th:only-of-type {\n",
       "        vertical-align: middle;\n",
       "    }\n",
       "\n",
       "    .dataframe tbody tr th {\n",
       "        vertical-align: top;\n",
       "    }\n",
       "\n",
       "    .dataframe thead th {\n",
       "        text-align: right;\n",
       "    }\n",
       "</style>\n",
       "<table border=\"1\" class=\"dataframe\">\n",
       "  <thead>\n",
       "    <tr style=\"text-align: right;\">\n",
       "      <th></th>\n",
       "      <th>session_id</th>\n",
       "      <th>user_id</th>\n",
       "      <th>start_time</th>\n",
       "      <th>end_time</th>\n",
       "      <th>duration_minutes</th>\n",
       "      <th>has_add_to_cart</th>\n",
       "      <th>has_checkout</th>\n",
       "      <th>has_purchase</th>\n",
       "      <th>add_to_cart_count</th>\n",
       "      <th>checkout_count</th>\n",
       "      <th>purchase_count</th>\n",
       "      <th>event_sequence</th>\n",
       "      <th>event_count</th>\n",
       "    </tr>\n",
       "  </thead>\n",
       "  <tbody>\n",
       "    <tr>\n",
       "      <th>0</th>\n",
       "      <td>018aa09c-8d23-4a7e-a75c-21844cfb7559</td>\n",
       "      <td>42a0286f-f933-490a-89aa-0c0037dae11e</td>\n",
       "      <td>2025-05-18 19:36:40.342000+00:00</td>\n",
       "      <td>2025-05-18 19:38:11.505000+00:00</td>\n",
       "      <td>1.519383</td>\n",
       "      <td>False</td>\n",
       "      <td>False</td>\n",
       "      <td>False</td>\n",
       "      <td>0</td>\n",
       "      <td>0</td>\n",
       "      <td>0</td>\n",
       "      <td>no_events</td>\n",
       "      <td>33</td>\n",
       "    </tr>\n",
       "    <tr>\n",
       "      <th>1</th>\n",
       "      <td>02f2c3fb-9467-4cfc-bbc3-8c40806c3f53</td>\n",
       "      <td>94707ac7-38e2-455b-82cd-c301e7da7eed</td>\n",
       "      <td>2025-05-20 02:59:26.509000+00:00</td>\n",
       "      <td>2025-05-20 02:59:27.494000+00:00</td>\n",
       "      <td>0.016417</td>\n",
       "      <td>False</td>\n",
       "      <td>False</td>\n",
       "      <td>False</td>\n",
       "      <td>0</td>\n",
       "      <td>0</td>\n",
       "      <td>0</td>\n",
       "      <td>no_events</td>\n",
       "      <td>2</td>\n",
       "    </tr>\n",
       "    <tr>\n",
       "      <th>2</th>\n",
       "      <td>05cf0dea-a517-47de-a840-83ee16313b56</td>\n",
       "      <td>130929be-2d14-41af-ad9f-9006a20f83e7</td>\n",
       "      <td>2025-04-06 14:01:11.051000+00:00</td>\n",
       "      <td>2025-04-06 14:01:20.951000+00:00</td>\n",
       "      <td>0.165000</td>\n",
       "      <td>False</td>\n",
       "      <td>False</td>\n",
       "      <td>False</td>\n",
       "      <td>0</td>\n",
       "      <td>0</td>\n",
       "      <td>0</td>\n",
       "      <td>no_events</td>\n",
       "      <td>3</td>\n",
       "    </tr>\n",
       "    <tr>\n",
       "      <th>3</th>\n",
       "      <td>063adb2f-601f-49c8-a7fe-3ff60a07df05</td>\n",
       "      <td>1790dc76-e30c-4520-b12a-dbf62998c65c</td>\n",
       "      <td>2025-03-27 12:10:35.809000+00:00</td>\n",
       "      <td>2025-03-27 12:10:42.863000+00:00</td>\n",
       "      <td>0.117567</td>\n",
       "      <td>False</td>\n",
       "      <td>False</td>\n",
       "      <td>False</td>\n",
       "      <td>0</td>\n",
       "      <td>0</td>\n",
       "      <td>0</td>\n",
       "      <td>no_events</td>\n",
       "      <td>10</td>\n",
       "    </tr>\n",
       "    <tr>\n",
       "      <th>4</th>\n",
       "      <td>079d185e-50e7-46fc-9eef-7bbf97741197</td>\n",
       "      <td>a584c10c-d236-408a-b544-50b6219dee39</td>\n",
       "      <td>2025-04-02 12:10:38.313000+00:00</td>\n",
       "      <td>2025-04-02 12:11:37.877000+00:00</td>\n",
       "      <td>0.992733</td>\n",
       "      <td>True</td>\n",
       "      <td>True</td>\n",
       "      <td>False</td>\n",
       "      <td>1</td>\n",
       "      <td>1</td>\n",
       "      <td>0</td>\n",
       "      <td>add_to_cart → checkout</td>\n",
       "      <td>37</td>\n",
       "    </tr>\n",
       "  </tbody>\n",
       "</table>\n",
       "</div>"
      ],
      "text/plain": [
       "                             session_id                               user_id  \\\n",
       "0  018aa09c-8d23-4a7e-a75c-21844cfb7559  42a0286f-f933-490a-89aa-0c0037dae11e   \n",
       "1  02f2c3fb-9467-4cfc-bbc3-8c40806c3f53  94707ac7-38e2-455b-82cd-c301e7da7eed   \n",
       "2  05cf0dea-a517-47de-a840-83ee16313b56  130929be-2d14-41af-ad9f-9006a20f83e7   \n",
       "3  063adb2f-601f-49c8-a7fe-3ff60a07df05  1790dc76-e30c-4520-b12a-dbf62998c65c   \n",
       "4  079d185e-50e7-46fc-9eef-7bbf97741197  a584c10c-d236-408a-b544-50b6219dee39   \n",
       "\n",
       "                        start_time                         end_time  \\\n",
       "0 2025-05-18 19:36:40.342000+00:00 2025-05-18 19:38:11.505000+00:00   \n",
       "1 2025-05-20 02:59:26.509000+00:00 2025-05-20 02:59:27.494000+00:00   \n",
       "2 2025-04-06 14:01:11.051000+00:00 2025-04-06 14:01:20.951000+00:00   \n",
       "3 2025-03-27 12:10:35.809000+00:00 2025-03-27 12:10:42.863000+00:00   \n",
       "4 2025-04-02 12:10:38.313000+00:00 2025-04-02 12:11:37.877000+00:00   \n",
       "\n",
       "   duration_minutes  has_add_to_cart  has_checkout  has_purchase  \\\n",
       "0          1.519383            False         False         False   \n",
       "1          0.016417            False         False         False   \n",
       "2          0.165000            False         False         False   \n",
       "3          0.117567            False         False         False   \n",
       "4          0.992733             True          True         False   \n",
       "\n",
       "   add_to_cart_count  checkout_count  purchase_count          event_sequence  \\\n",
       "0                  0               0               0               no_events   \n",
       "1                  0               0               0               no_events   \n",
       "2                  0               0               0               no_events   \n",
       "3                  0               0               0               no_events   \n",
       "4                  1               1               0  add_to_cart → checkout   \n",
       "\n",
       "   event_count  \n",
       "0           33  \n",
       "1            2  \n",
       "2            3  \n",
       "3           10  \n",
       "4           37  "
      ]
     },
     "metadata": {},
     "output_type": "display_data"
    }
   ],
   "source": [
    "# Extract session data with flow information\n",
    "flow_session_data = []\n",
    "for session_id, session_df in session_groups:\n",
    "    # Skip sessions with invalid or placeholder IDs\n",
    "    if session_id == 'none' or pd.isna(session_id):\n",
    "        continue\n",
    "        \n",
    "    # Sort session events by timestamp\n",
    "    session_df = session_df.sort_values('timestamp')\n",
    "    \n",
    "    # Get user_id (assuming it's consistent within a session)\n",
    "    user_id = session_df['user_id'].iloc[0] if not session_df.empty else None\n",
    "    \n",
    "    # Get session start and end times\n",
    "    start_time = session_df['timestamp'].min()\n",
    "    end_time = session_df['timestamp'].max()\n",
    "    \n",
    "    # Calculate session duration in minutes\n",
    "    duration_minutes = (end_time - start_time).total_seconds() / 60\n",
    "    \n",
    "    # Check for each event type - ensuring uniqueness per session by using .any()\n",
    "    # This guarantees that even if a user triggers the same event multiple times in a session,\n",
    "    # we only count it once for categorization purposes\n",
    "    has_add_to_cart = session_df['is_add_to_cart'].any()\n",
    "    has_checkout = session_df['is_checkout'].any()\n",
    "    has_purchase = session_df['is_purchase'].any()\n",
    "    \n",
    "    # Find timestamps for FIRST occurrence of each event type\n",
    "    add_to_cart_time = session_df[session_df['is_add_to_cart']]['timestamp'].min() if has_add_to_cart else None\n",
    "    checkout_time = session_df[session_df['is_checkout']]['timestamp'].min() if has_checkout else None\n",
    "    purchase_time = session_df[session_df['is_purchase']]['timestamp'].min() if has_purchase else None\n",
    "    \n",
    "    # Determine event sequence order based on first occurrences\n",
    "    event_order = []\n",
    "    if has_add_to_cart:\n",
    "        event_order.append(('add_to_cart', add_to_cart_time))\n",
    "    if has_checkout:\n",
    "        event_order.append(('checkout', checkout_time))\n",
    "    if has_purchase:\n",
    "        event_order.append(('purchase', purchase_time))\n",
    "    \n",
    "    # Sort events by timestamp\n",
    "    event_order.sort(key=lambda x: x[1])\n",
    "    \n",
    "    # Extract the ordered sequence of event types\n",
    "    event_sequence = [event[0] for event in event_order]\n",
    "    event_sequence_str = ' → '.join(event_sequence) if event_sequence else 'no_events'\n",
    "    \n",
    "    # Count the occurrences of each event type in this session (for validation)\n",
    "    add_to_cart_count = session_df['is_add_to_cart'].sum()\n",
    "    checkout_count = session_df['is_checkout'].sum()\n",
    "    purchase_count = session_df['is_purchase'].sum()\n",
    "    \n",
    "    # Collect relevant session details\n",
    "    flow_session_data.append({\n",
    "        'session_id': session_id,\n",
    "        'user_id': user_id,\n",
    "        'start_time': start_time,\n",
    "        'end_time': end_time,\n",
    "        'duration_minutes': duration_minutes,\n",
    "        'has_add_to_cart': has_add_to_cart,\n",
    "        'has_checkout': has_checkout,\n",
    "        'has_purchase': has_purchase,\n",
    "        'add_to_cart_count': add_to_cart_count,  # Raw count for validation\n",
    "        'checkout_count': checkout_count,         # Raw count for validation\n",
    "        'purchase_count': purchase_count,         # Raw count for validation\n",
    "        'event_sequence': event_sequence_str,\n",
    "        'event_count': len(session_df)\n",
    "    })\n",
    "\n",
    "# Create DataFrame from collected session data\n",
    "flow_sessions_df = pd.DataFrame(flow_session_data)\n",
    "\n",
    "# Check if we have any sessions with multiple occurrences of the same event type\n",
    "print(\"Sessions with multiple occurrences of the same event type:\")\n",
    "print(f\"Add-to-cart: {(flow_sessions_df['add_to_cart_count'] > 1).sum()} sessions\")\n",
    "print(f\"Checkout: {(flow_sessions_df['checkout_count'] > 1).sum()} sessions\")\n",
    "print(f\"Purchase: {(flow_sessions_df['purchase_count'] > 1).sum()} sessions\")\n",
    "\n",
    "# Display session counts by event sequence\n",
    "print(\"\\nSession counts by event sequence:\")\n",
    "display(flow_sessions_df['event_sequence'].value_counts())\n",
    "\n",
    "# Display sample of the flow sessions dataframe\n",
    "print(\"\\nSample of flow sessions data:\")\n",
    "display(flow_sessions_df.head())"
   ]
  },
  {
   "cell_type": "code",
   "execution_count": null,
   "id": "fad38459",
   "metadata": {},
   "outputs": [
    {
     "name": "stdout",
     "output_type": "stream",
     "text": [
      "Session Flow Categories (each session is counted exactly once):\n"
     ]
    },
    {
     "data": {
      "text/html": [
       "<div>\n",
       "<style scoped>\n",
       "    .dataframe tbody tr th:only-of-type {\n",
       "        vertical-align: middle;\n",
       "    }\n",
       "\n",
       "    .dataframe tbody tr th {\n",
       "        vertical-align: top;\n",
       "    }\n",
       "\n",
       "    .dataframe thead th {\n",
       "        text-align: right;\n",
       "    }\n",
       "</style>\n",
       "<table border=\"1\" class=\"dataframe\">\n",
       "  <thead>\n",
       "    <tr style=\"text-align: right;\">\n",
       "      <th></th>\n",
       "      <th>Count</th>\n",
       "      <th>Percentage</th>\n",
       "    </tr>\n",
       "    <tr>\n",
       "      <th>flow_category</th>\n",
       "      <th></th>\n",
       "      <th></th>\n",
       "    </tr>\n",
       "  </thead>\n",
       "  <tbody>\n",
       "    <tr>\n",
       "      <th>Just Looking</th>\n",
       "      <td>174</td>\n",
       "      <td>79.816514</td>\n",
       "    </tr>\n",
       "    <tr>\n",
       "      <th>Checkout</th>\n",
       "      <td>19</td>\n",
       "      <td>8.715596</td>\n",
       "    </tr>\n",
       "    <tr>\n",
       "      <th>Complete Flow</th>\n",
       "      <td>9</td>\n",
       "      <td>4.128440</td>\n",
       "    </tr>\n",
       "    <tr>\n",
       "      <th>Add-to-Cart then Checkout</th>\n",
       "      <td>7</td>\n",
       "      <td>3.211009</td>\n",
       "    </tr>\n",
       "    <tr>\n",
       "      <th>Add-to-Cart</th>\n",
       "      <td>5</td>\n",
       "      <td>2.293578</td>\n",
       "    </tr>\n",
       "    <tr>\n",
       "      <th>Checkout then Purchase</th>\n",
       "      <td>4</td>\n",
       "      <td>1.834862</td>\n",
       "    </tr>\n",
       "  </tbody>\n",
       "</table>\n",
       "</div>"
      ],
      "text/plain": [
       "                           Count  Percentage\n",
       "flow_category                               \n",
       "Just Looking                 174   79.816514\n",
       "Checkout                      19    8.715596\n",
       "Complete Flow                  9    4.128440\n",
       "Add-to-Cart then Checkout      7    3.211009\n",
       "Add-to-Cart                    5    2.293578\n",
       "Checkout then Purchase         4    1.834862"
      ]
     },
     "metadata": {},
     "output_type": "display_data"
    }
   ],
   "source": [
    "# Define the flow categorization function\n",
    "def categorize_flow(row):\n",
    "    # Note: has_add_to_cart, has_checkout, and has_purchase are boolean flags\n",
    "    # that indicate whether a session contains at least one occurrence of each event type.\n",
    "    # They already handle uniqueness per session because they're created using .any()\n",
    "    \n",
    "    # Complete flow\n",
    "    if row['has_add_to_cart'] and row['has_checkout'] and row['has_purchase']:\n",
    "        return 'Complete Flow'\n",
    "    \n",
    "    # Add to cart then checkout\n",
    "    elif row['has_add_to_cart'] and row['has_checkout'] and not row['has_purchase']:\n",
    "        return 'Add-to-Cart then Checkout'\n",
    "    \n",
    "    # Checkout then purchase\n",
    "    elif not row['has_add_to_cart'] and row['has_checkout'] and row['has_purchase']:\n",
    "        return 'Checkout then Purchase'\n",
    "    \n",
    "    # Just add to cart\n",
    "    elif row['has_add_to_cart'] and not row['has_checkout'] and not row['has_purchase']:\n",
    "        return 'Add-to-Cart'\n",
    "    \n",
    "    # Just checkout\n",
    "    elif not row['has_add_to_cart'] and row['has_checkout'] and not row['has_purchase']:\n",
    "        return 'Checkout'\n",
    "    \n",
    "    # Just purchase (unusual but possible)\n",
    "    elif not row['has_add_to_cart'] and not row['has_checkout'] and row['has_purchase']:\n",
    "        return 'Direct Purchase'\n",
    "    \n",
    "    # Just looking\n",
    "    else:\n",
    "        return 'Just Looking'\n",
    "\n",
    "# Apply the flow categorization\n",
    "flow_sessions_df['flow_category'] = flow_sessions_df.apply(categorize_flow, axis=1)\n",
    "\n",
    "# Count sessions by flow category\n",
    "flow_category_counts = flow_sessions_df['flow_category'].value_counts()\n",
    "\n",
    "# Calculate percentages\n",
    "flow_category_percentages = flow_sessions_df['flow_category'].value_counts(normalize=True) * 100\n",
    "\n",
    "# Create a DataFrame for easy viewing\n",
    "flow_categories_df = pd.DataFrame({\n",
    "    'Count': flow_category_counts,\n",
    "    'Percentage': flow_category_percentages\n",
    "})\n",
    "\n",
    "print(\"Session Flow Categories (each session is counted exactly once):\")\n",
    "display(flow_categories_df)"
   ]
  },
  {
   "cell_type": "code",
   "execution_count": null,
   "id": "1994bc90",
   "metadata": {},
   "outputs": [
    {
     "name": "stderr",
     "output_type": "stream",
     "text": [
      "/var/folders/yv/xt28csc14lq6qntd89nbqmfm0000gn/T/ipykernel_44484/3106819084.py:17: FutureWarning:\n",
      "\n",
      "\n",
      "\n",
      "Passing `palette` without assigning `hue` is deprecated and will be removed in v0.14.0. Assign the `y` variable to `hue` and set `legend=False` for the same effect.\n",
      "\n",
      "\n"
     ]
    },
    {
     "data": {
      "image/png": "[encoded data removed]",
      "text/plain": [
       "<Figure size 1200x600 with 1 Axes>"
      ]
     },
     "metadata": {},
     "output_type": "display_data"
    },
    {
     "data": {
      "image/png": "[encoded data removed]",
      "text/plain": [
       "<Figure size 1000x700 with 1 Axes>"
      ]
     },
     "metadata": {},
     "output_type": "display_data"
    }
   ],
   "source": [
    "# Define order of categories for consistent visualization\n",
    "flow_order = [\n",
    "    'Just Looking', \n",
    "    'Add-to-Cart', \n",
    "    'Checkout', \n",
    "    'Add-to-Cart then Checkout', \n",
    "    'Direct Purchase',\n",
    "    'Checkout then Purchase', \n",
    "    'Complete Flow'\n",
    "]\n",
    "\n",
    "# Filter to only include categories that exist in our data\n",
    "flow_order = [cat for cat in flow_order if cat in flow_category_counts.index]\n",
    "\n",
    "# Visualize the distribution of flow categories\n",
    "plt.figure(figsize=(12, 6), facecolor=facecolor)\n",
    "sns.barplot(\n",
    "    x=flow_category_counts.loc[flow_order].values, \n",
    "    y=flow_order, \n",
    "    palette=colors[:len(flow_order)],\n",
    "    orient='h'\n",
    ")\n",
    "plt.title('Distribution of Session Flow Categories', fontsize=15)\n",
    "plt.xlabel('Count of Sessions', fontsize=12)\n",
    "plt.ylabel('Flow Category', fontsize=12)\n",
    "plt.grid(True, alpha=0.3, axis='x')\n",
    "\n",
    "# Add count and percentage annotations to each bar\n",
    "for i, (count, percent) in enumerate(zip(flow_category_counts.loc[flow_order], flow_category_percentages.loc[flow_order])):\n",
    "    plt.text(count + 0.5, i, f\"{count} ({percent:.1f}%)\", va='center')\n",
    "\n",
    "plt.tight_layout()\n",
    "plt.show()\n",
    "\n",
    "# Create a pie chart to visualize the proportion of each flow category\n",
    "plt.figure(figsize=(10, 7), facecolor=facecolor)\n",
    "plt.pie(\n",
    "    flow_category_counts,\n",
    "    labels=[f\"{idx} ({val:.1f}%)\" for idx, val in zip(flow_category_counts.index, flow_category_percentages)],\n",
    "    autopct='',\n",
    "    startangle=90,\n",
    "    colors=colors[:len(flow_category_counts)],\n",
    "    wedgeprops={'edgecolor': 'white', 'linewidth': 1}\n",
    ")\n",
    "plt.axis('equal')  # Equal aspect ratio ensures the pie chart is circular\n",
    "plt.title('Proportion of Session Flow Categories', fontsize=15)\n",
    "plt.tight_layout()\n",
    "plt.legend(flow_category_counts.index, title=\"Flow Categories\", loc=\"center left\", bbox_to_anchor=(1, 0, 0.5, 1))\n",
    "plt.show()"
   ]
  },
  {
   "cell_type": "code",
   "execution_count": null,
   "id": "534feb14",
   "metadata": {},
   "outputs": [
    {
     "data": {
      "application/vnd.plotly.v1+json": {
       "config": {
        "plotlyServerURL": "https://plot.ly"
       },
       "data": [
        {
         "arrangement": "snap",
         "link": {
          "color": "rgba(100,100,100,0.2)",
          "hovertemplate": "<b>%{value} sessions</b><br>%{source.label} → %{target.label}",
          "label": [
           "18 sessions",
           "27 sessions",
           "173 sessions",
           "12 sessions",
           "7 sessions",
           "3 sessions",
           "24 sessions",
           "11 sessions",
           "4 sessions",
           "14 sessions"
          ],
          "line": {
           "width": 0.5
          },
          "source": [
           0,
           0,
           0,
           1,
           1,
           1,
           2,
           2,
           2,
           4
          ],
          "target": [
           1,
           2,
           3,
           2,
           3,
           4,
           3,
           4,
           1,
           3
          ],
          "value": [
           18,
           27,
           173,
           12,
           7,
           3,
           24,
           11,
           4,
           14
          ]
         },
         "node": {
          "color": [
           "salmon",
           "#73FABD",
           "#6ED1F8",
           "#F899F3",
           "#E0F26D"
          ],
          "label": [
           "Session Start",
           "Add to Cart",
           "Checkout",
           "Session End",
           "Purchase"
          ],
          "line": {
           "color": "black",
           "width": 1
          },
          "pad": 25,
          "thickness": 30
         },
         "type": "sankey"
        }
       ],
       "layout": {
        "font": {
         "size": 14
        },
        "height": 600,
        "margin": {
         "b": 25,
         "l": 25,
         "r": 25,
         "t": 50
        },
        "paper_bgcolor": "#F5F5F5",
        "plot_bgcolor": "#F5F5F5",
        "template": {
         "data": {
          "bar": [
           {
            "error_x": {
             "color": "#2a3f5f"
            },
            "error_y": {
             "color": "#2a3f5f"
            },
            "marker": {
             "line": {
              "color": "#E5ECF6",
              "width": 0.5
             },
             "pattern": {
              "fillmode": "overlay",
              "size": 10,
              "solidity": 0.2
             }
            },
            "type": "bar"
           }
          ],
          "barpolar": [
           {
            "marker": {
             "line": {
              "color": "#E5ECF6",
              "width": 0.5
             },
             "pattern": {
              "fillmode": "overlay",
              "size": 10,
              "solidity": 0.2
             }
            },
            "type": "barpolar"
           }
          ],
          "carpet": [
           {
            "aaxis": {
             "endlinecolor": "#2a3f5f",
             "gridcolor": "white",
             "linecolor": "white",
             "minorgridcolor": "white",
             "startlinecolor": "#2a3f5f"
            },
            "baxis": {
             "endlinecolor": "#2a3f5f",
             "gridcolor": "white",
             "linecolor": "white",
             "minorgridcolor": "white",
             "startlinecolor": "#2a3f5f"
            },
            "type": "carpet"
           }
          ],
          "choropleth": [
           {
            "colorbar": {
             "outlinewidth": 0,
             "ticks": ""
            },
            "type": "choropleth"
           }
          ],
          "contour": [
           {
            "colorbar": {
             "outlinewidth": 0,
             "ticks": ""
            },
            "colorscale": [
             [
              0,
              "#0d0887"
             ],
             [
              0.1111111111111111,
              "#46039f"
             ],
             [
              0.2222222222222222,
              "#7201a8"
             ],
             [
              0.3333333333333333,
              "#9c179e"
             ],
             [
              0.4444444444444444,
              "#bd3786"
             ],
             [
              0.5555555555555556,
              "#d8576b"
             ],
             [
              0.6666666666666666,
              "#ed7953"
             ],
             [
              0.7777777777777778,
              "#fb9f3a"
             ],
             [
              0.8888888888888888,
              "#fdca26"
             ],
             [
              1,
              "#f0f921"
             ]
            ],
            "type": "contour"
           }
          ],
          "contourcarpet": [
           {
            "colorbar": {
             "outlinewidth": 0,
             "ticks": ""
            },
            "type": "contourcarpet"
           }
          ],
          "heatmap": [
           {
            "colorbar": {
             "outlinewidth": 0,
             "ticks": ""
            },
            "colorscale": [
             [
              0,
              "#0d0887"
             ],
             [
              0.1111111111111111,
              "#46039f"
             ],
             [
              0.2222222222222222,
              "#7201a8"
             ],
             [
              0.3333333333333333,
              "#9c179e"
             ],
             [
              0.4444444444444444,
              "#bd3786"
             ],
             [
              0.5555555555555556,
              "#d8576b"
             ],
             [
              0.6666666666666666,
              "#ed7953"
             ],
             [
              0.7777777777777778,
              "#fb9f3a"
             ],
             [
              0.8888888888888888,
              "#fdca26"
             ],
             [
              1,
              "#f0f921"
             ]
            ],
            "type": "heatmap"
           }
          ],
          "histogram": [
           {
            "marker": {
             "pattern": {
              "fillmode": "overlay",
              "size": 10,
              "solidity": 0.2
             }
            },
            "type": "histogram"
           }
          ],
          "histogram2d": [
           {
            "colorbar": {
             "outlinewidth": 0,
             "ticks": ""
            },
            "colorscale": [
             [
              0,
              "#0d0887"
             ],
             [
              0.1111111111111111,
              "#46039f"
             ],
             [
              0.2222222222222222,
              "#7201a8"
             ],
             [
              0.3333333333333333,
              "#9c179e"
             ],
             [
              0.4444444444444444,
              "#bd3786"
             ],
             [
              0.5555555555555556,
              "#d8576b"
             ],
             [
              0.6666666666666666,
              "#ed7953"
             ],
             [
              0.7777777777777778,
              "#fb9f3a"
             ],
             [
              0.8888888888888888,
              "#fdca26"
             ],
             [
              1,
              "#f0f921"
             ]
            ],
            "type": "histogram2d"
           }
          ],
          "histogram2dcontour": [
           {
            "colorbar": {
             "outlinewidth": 0,
             "ticks": ""
            },
            "colorscale": [
             [
              0,
              "#0d0887"
             ],
             [
              0.1111111111111111,
              "#46039f"
             ],
             [
              0.2222222222222222,
              "#7201a8"
             ],
             [
              0.3333333333333333,
              "#9c179e"
             ],
             [
              0.4444444444444444,
              "#bd3786"
             ],
             [
              0.5555555555555556,
              "#d8576b"
             ],
             [
              0.6666666666666666,
              "#ed7953"
             ],
             [
              0.7777777777777778,
              "#fb9f3a"
             ],
             [
              0.8888888888888888,
              "#fdca26"
             ],
             [
              1,
              "#f0f921"
             ]
            ],
            "type": "histogram2dcontour"
           }
          ],
          "mesh3d": [
           {
            "colorbar": {
             "outlinewidth": 0,
             "ticks": ""
            },
            "type": "mesh3d"
           }
          ],
          "parcoords": [
           {
            "line": {
             "colorbar": {
              "outlinewidth": 0,
              "ticks": ""
             }
            },
            "type": "parcoords"
           }
          ],
          "pie": [
           {
            "automargin": true,
            "type": "pie"
           }
          ],
          "scatter": [
           {
            "fillpattern": {
             "fillmode": "overlay",
             "size": 10,
             "solidity": 0.2
            },
            "type": "scatter"
           }
          ],
          "scatter3d": [
           {
            "line": {
             "colorbar": {
              "outlinewidth": 0,
              "ticks": ""
             }
            },
            "marker": {
             "colorbar": {
              "outlinewidth": 0,
              "ticks": ""
             }
            },
            "type": "scatter3d"
           }
          ],
          "scattercarpet": [
           {
            "marker": {
             "colorbar": {
              "outlinewidth": 0,
              "ticks": ""
             }
            },
            "type": "scattercarpet"
           }
          ],
          "scattergeo": [
           {
            "marker": {
             "colorbar": {
              "outlinewidth": 0,
              "ticks": ""
             }
            },
            "type": "scattergeo"
           }
          ],
          "scattergl": [
           {
            "marker": {
             "colorbar": {
              "outlinewidth": 0,
              "ticks": ""
             }
            },
            "type": "scattergl"
           }
          ],
          "scattermap": [
           {
            "marker": {
             "colorbar": {
              "outlinewidth": 0,
              "ticks": ""
             }
            },
            "type": "scattermap"
           }
          ],
          "scattermapbox": [
           {
            "marker": {
             "colorbar": {
              "outlinewidth": 0,
              "ticks": ""
             }
            },
            "type": "scattermapbox"
           }
          ],
          "scatterpolar": [
           {
            "marker": {
             "colorbar": {
              "outlinewidth": 0,
              "ticks": ""
             }
            },
            "type": "scatterpolar"
           }
          ],
          "scatterpolargl": [
           {
            "marker": {
             "colorbar": {
              "outlinewidth": 0,
              "ticks": ""
             }
            },
            "type": "scatterpolargl"
           }
          ],
          "scatterternary": [
           {
            "marker": {
             "colorbar": {
              "outlinewidth": 0,
              "ticks": ""
             }
            },
            "type": "scatterternary"
           }
          ],
          "surface": [
           {
            "colorbar": {
             "outlinewidth": 0,
             "ticks": ""
            },
            "colorscale": [
             [
              0,
              "#0d0887"
             ],
             [
              0.1111111111111111,
              "#46039f"
             ],
             [
              0.2222222222222222,
              "#7201a8"
             ],
             [
              0.3333333333333333,
              "#9c179e"
             ],
             [
              0.4444444444444444,
              "#bd3786"
             ],
             [
              0.5555555555555556,
              "#d8576b"
             ],
             [
              0.6666666666666666,
              "#ed7953"
             ],
             [
              0.7777777777777778,
              "#fb9f3a"
             ],
             [
              0.8888888888888888,
              "#fdca26"
             ],
             [
              1,
              "#f0f921"
             ]
            ],
            "type": "surface"
           }
          ],
          "table": [
           {
            "cells": {
             "fill": {
              "color": "#EBF0F8"
             },
             "line": {
              "color": "white"
             }
            },
            "header": {
             "fill": {
              "color": "#C8D4E3"
             },
             "line": {
              "color": "white"
             }
            },
            "type": "table"
           }
          ]
         },
         "layout": {
          "annotationdefaults": {
           "arrowcolor": "#2a3f5f",
           "arrowhead": 0,
           "arrowwidth": 1
          },
          "autotypenumbers": "strict",
          "coloraxis": {
           "colorbar": {
            "outlinewidth": 0,
            "ticks": ""
           }
          },
          "colorscale": {
           "diverging": [
            [
             0,
             "#8e0152"
            ],
            [
             0.1,
             "#c51b7d"
            ],
            [
             0.2,
             "#de77ae"
            ],
            [
             0.3,
             "#f1b6da"
            ],
            [
             0.4,
             "#fde0ef"
            ],
            [
             0.5,
             "#f7f7f7"
            ],
            [
             0.6,
             "#e6f5d0"
            ],
            [
             0.7,
             "#b8e186"
            ],
            [
             0.8,
             "#7fbc41"
            ],
            [
             0.9,
             "#4d9221"
            ],
            [
             1,
             "#276419"
            ]
           ],
           "sequential": [
            [
             0,
             "#0d0887"
            ],
            [
             0.1111111111111111,
             "#46039f"
            ],
            [
             0.2222222222222222,
             "#7201a8"
            ],
            [
             0.3333333333333333,
             "#9c179e"
            ],
            [
             0.4444444444444444,
             "#bd3786"
            ],
            [
             0.5555555555555556,
             "#d8576b"
            ],
            [
             0.6666666666666666,
             "#ed7953"
            ],
            [
             0.7777777777777778,
             "#fb9f3a"
            ],
            [
             0.8888888888888888,
             "#fdca26"
            ],
            [
             1,
             "#f0f921"
            ]
           ],
           "sequentialminus": [
            [
             0,
             "#0d0887"
            ],
            [
             0.1111111111111111,
             "#46039f"
            ],
            [
             0.2222222222222222,
             "#7201a8"
            ],
            [
             0.3333333333333333,
             "#9c179e"
            ],
            [
             0.4444444444444444,
             "#bd3786"
            ],
            [
             0.5555555555555556,
             "#d8576b"
            ],
            [
             0.6666666666666666,
             "#ed7953"
            ],
            [
             0.7777777777777778,
             "#fb9f3a"
            ],
            [
             0.8888888888888888,
             "#fdca26"
            ],
            [
             1,
             "#f0f921"
            ]
           ]
          },
          "colorway": [
           "#636efa",
           "#EF553B",
           "#00cc96",
           "#ab63fa",
           "#FFA15A",
           "#19d3f3",
           "#FF6692",
           "#B6E880",
           "#FF97FF",
           "#FECB52"
          ],
          "font": {
           "color": "#2a3f5f"
          },
          "geo": {
           "bgcolor": "white",
           "lakecolor": "white",
           "landcolor": "#E5ECF6",
           "showlakes": true,
           "showland": true,
           "subunitcolor": "white"
          },
          "hoverlabel": {
           "align": "left"
          },
          "hovermode": "closest",
          "mapbox": {
           "style": "light"
          },
          "paper_bgcolor": "white",
          "plot_bgcolor": "#E5ECF6",
          "polar": {
           "angularaxis": {
            "gridcolor": "white",
            "linecolor": "white",
            "ticks": ""
           },
           "bgcolor": "#E5ECF6",
           "radialaxis": {
            "gridcolor": "white",
            "linecolor": "white",
            "ticks": ""
           }
          },
          "scene": {
           "xaxis": {
            "backgroundcolor": "#E5ECF6",
            "gridcolor": "white",
            "gridwidth": 2,
            "linecolor": "white",
            "showbackground": true,
            "ticks": "",
            "zerolinecolor": "white"
           },
           "yaxis": {
            "backgroundcolor": "#E5ECF6",
            "gridcolor": "white",
            "gridwidth": 2,
            "linecolor": "white",
            "showbackground": true,
            "ticks": "",
            "zerolinecolor": "white"
           },
           "zaxis": {
            "backgroundcolor": "#E5ECF6",
            "gridcolor": "white",
            "gridwidth": 2,
            "linecolor": "white",
            "showbackground": true,
            "ticks": "",
            "zerolinecolor": "white"
           }
          },
          "shapedefaults": {
           "line": {
            "color": "#2a3f5f"
           }
          },
          "ternary": {
           "aaxis": {
            "gridcolor": "white",
            "linecolor": "white",
            "ticks": ""
           },
           "baxis": {
            "gridcolor": "white",
            "linecolor": "white",
            "ticks": ""
           },
           "bgcolor": "#E5ECF6",
           "caxis": {
            "gridcolor": "white",
            "linecolor": "white",
            "ticks": ""
           }
          },
          "title": {
           "x": 0.05
          },
          "xaxis": {
           "automargin": true,
           "gridcolor": "white",
           "linecolor": "white",
           "ticks": "",
           "title": {
            "standoff": 15
           },
           "zerolinecolor": "white",
           "zerolinewidth": 2
          },
          "yaxis": {
           "automargin": true,
           "gridcolor": "white",
           "linecolor": "white",
           "ticks": "",
           "title": {
            "standoff": 15
           },
           "zerolinecolor": "white",
           "zerolinewidth": 2
          }
         }
        },
        "title": {
         "font": {
          "size": 18
         },
         "text": "User Flow Sankey Diagram (Total: 218 sessions)"
        },
        "width": 1000
       }
      }
     },
     "metadata": {},
     "output_type": "display_data"
    }
   ],
   "source": [
    "# Create a Sankey diagram to visualize flow sequences\n",
    "try:\n",
    "    import plotly.graph_objects as go\n",
    "    import networkx as nx\n",
    "    \n",
    "    # Create a directed graph of event sequences\n",
    "    G = nx.DiGraph()\n",
    "    \n",
    "    # Add the entry point\n",
    "    G.add_node('Session Start')\n",
    "    \n",
    "    # Count transitions between events for sessions with events\n",
    "    transitions = {}\n",
    "    total_sessions = len(flow_sessions_df)\n",
    "    \n",
    "    # Get unique event sequences\n",
    "    sequences = flow_sessions_df[flow_sessions_df['event_sequence'] != 'no_events']['event_sequence'].unique()\n",
    "    \n",
    "    for seq in sequences:\n",
    "        events = seq.split(' → ')\n",
    "        count = len(flow_sessions_df[flow_sessions_df['event_sequence'] == seq])\n",
    "        \n",
    "        # Add entry point transition\n",
    "        source = 'Session Start'\n",
    "        target = events[0]\n",
    "        key = (source, target)\n",
    "        transitions[key] = transitions.get(key, 0) + count\n",
    "        \n",
    "        # Add transitions between events\n",
    "        for i in range(len(events) - 1):\n",
    "            source = events[i]\n",
    "            target = events[i + 1]\n",
    "            key = (source, target)\n",
    "            transitions[key] = transitions.get(key, 0) + count\n",
    "        \n",
    "        # Add exit transition\n",
    "        source = events[-1]\n",
    "        target = 'Session End'\n",
    "        key = (source, target)\n",
    "        transitions[key] = transitions.get(key, 0) + count\n",
    "    \n",
    "    # Handle sessions with no events\n",
    "    no_events_count = len(flow_sessions_df[flow_sessions_df['event_sequence'] == 'no_events'])\n",
    "    if no_events_count > 0:\n",
    "        transitions[('Session Start', 'Session End')] = no_events_count\n",
    "    \n",
    "    # Add nodes and edges to the graph\n",
    "    for (source, target), weight in transitions.items():\n",
    "        if source not in G:\n",
    "            G.add_node(source)\n",
    "        if target not in G:\n",
    "            G.add_node(target)\n",
    "        G.add_edge(source, target, weight=weight)\n",
    "    \n",
    "    # Get unique nodes for Sankey diagram\n",
    "    nodes = list(G.nodes())\n",
    "    node_indices = {node: i for i, node in enumerate(nodes)}\n",
    "    \n",
    "    # Create the Sankey diagram data\n",
    "    links = [\n",
    "        dict(\n",
    "            source=node_indices[source],\n",
    "            target=node_indices[target],\n",
    "            value=G[source][target]['weight'],\n",
    "            label=f\"{G[source][target]['weight']} sessions\"\n",
    "        )\n",
    "        for source, target in G.edges()\n",
    "    ]\n",
    "    \n",
    "    # Define nice labels and colors\n",
    "    label_map = {\n",
    "        'add_to_cart': 'Add to Cart',\n",
    "        'checkout': 'Checkout',\n",
    "        'purchase': 'Purchase',\n",
    "        'Session Start': 'Session Start',\n",
    "        'Session End': 'Session End'\n",
    "    }\n",
    "    \n",
    "    node_labels = [label_map.get(node, node) for node in nodes]\n",
    "    \n",
    "    # Define colors\n",
    "    node_colors = {}\n",
    "    node_colors['Session Start'] = colors[0]\n",
    "    node_colors['Session End'] = colors[1]\n",
    "    node_colors['add_to_cart'] = colors[2]\n",
    "    node_colors['checkout'] = colors[3]\n",
    "    node_colors['purchase'] = colors[4]\n",
    "    \n",
    "    # Create the Sankey diagram with improved spacing and clarity\n",
    "    fig = go.Figure(data=[\n",
    "        go.Sankey(\n",
    "            node=dict(\n",
    "                # Increase padding between nodes for better separation\n",
    "                pad=25,\n",
    "                # Increase thickness of nodes for better visibility\n",
    "                thickness=30,\n",
    "                # Add border to nodes for better definition\n",
    "                line=dict(color='black', width=1.0),\n",
    "                label=node_labels,\n",
    "                color=[node_colors.get(node, colors[5]) for node in nodes]\n",
    "            ),\n",
    "            link=dict(\n",
    "                source=[link['source'] for link in links],\n",
    "                target=[link['target'] for link in links],\n",
    "                value=[link['value'] for link in links],\n",
    "                label=[link['label'] for link in links],\n",
    "                # Customize link appearance\n",
    "                color='rgba(100,100,100,0.2)',  # Slight gray tint for links\n",
    "                hovertemplate='<b>%{value} sessions</b><br>%{source.label} → %{target.label}',\n",
    "                # Increase link line width minimums for better visibility\n",
    "                line=dict(width=0.5)\n",
    "            ),\n",
    "            # Arrange nodes in specific positions\n",
    "            arrangement='snap'\n",
    "        )\n",
    "    ])\n",
    "    \n",
    "    fig.update_layout(\n",
    "        title_text=f\"User Flow Sankey Diagram (Total: {total_sessions} sessions)\",\n",
    "        title_font=dict(size=18),\n",
    "        font=dict(size=14),\n",
    "        paper_bgcolor=facecolor,\n",
    "        plot_bgcolor=facecolor,\n",
    "        # Increase height for better spacing\n",
    "        height=600,\n",
    "        # Increase width for better readability\n",
    "        width=1000,\n",
    "        margin=dict(l=25, r=25, t=50, b=25)\n",
    "    )\n",
    "    \n",
    "    fig.show()\n",
    "    \n",
    "except ImportError as e:\n",
    "    print(f\"Could not create Sankey diagram: {e}\")\n",
    "    print(\"To create a Sankey diagram, install plotly and networkx:\")\n",
    "    print(\"pip install plotly networkx\")"
   ]
  },
  {
   "cell_type": "code",
   "execution_count": null,
   "id": "f69aea04",
   "metadata": {},
   "outputs": [
    {
     "name": "stderr",
     "output_type": "stream",
     "text": [
      "/var/folders/yv/xt28csc14lq6qntd89nbqmfm0000gn/T/ipykernel_44484/3718921765.py:3: FutureWarning:\n",
      "\n",
      "\n",
      "\n",
      "Passing `palette` without assigning `hue` is deprecated and will be removed in v0.14.0. Assign the `x` variable to `hue` and set `legend=False` for the same effect.\n",
      "\n",
      "\n"
     ]
    },
    {
     "data": {
      "image/png": "[encoded data removed]",
      "text/plain": [
       "<Figure size 1200x600 with 1 Axes>"
      ]
     },
     "metadata": {},
     "output_type": "display_data"
    },
    {
     "name": "stdout",
     "output_type": "stream",
     "text": [
      "Session Duration Statistics by Flow Category:\n"
     ]
    },
    {
     "data": {
      "text/html": [
       "<div>\n",
       "<style scoped>\n",
       "    .dataframe tbody tr th:only-of-type {\n",
       "        vertical-align: middle;\n",
       "    }\n",
       "\n",
       "    .dataframe tbody tr th {\n",
       "        vertical-align: top;\n",
       "    }\n",
       "\n",
       "    .dataframe thead th {\n",
       "        text-align: right;\n",
       "    }\n",
       "</style>\n",
       "<table border=\"1\" class=\"dataframe\">\n",
       "  <thead>\n",
       "    <tr style=\"text-align: right;\">\n",
       "      <th></th>\n",
       "      <th>Count</th>\n",
       "      <th>Average Duration (min)</th>\n",
       "      <th>Median Duration (min)</th>\n",
       "      <th>Min Duration (min)</th>\n",
       "      <th>Max Duration (min)</th>\n",
       "    </tr>\n",
       "    <tr>\n",
       "      <th>flow_category</th>\n",
       "      <th></th>\n",
       "      <th></th>\n",
       "      <th></th>\n",
       "      <th></th>\n",
       "      <th></th>\n",
       "    </tr>\n",
       "  </thead>\n",
       "  <tbody>\n",
       "    <tr>\n",
       "      <th>Just Looking</th>\n",
       "      <td>174</td>\n",
       "      <td>5.703835</td>\n",
       "      <td>0.504733</td>\n",
       "      <td>0.000000</td>\n",
       "      <td>185.059683</td>\n",
       "    </tr>\n",
       "    <tr>\n",
       "      <th>Add-to-Cart</th>\n",
       "      <td>5</td>\n",
       "      <td>4.335033</td>\n",
       "      <td>2.650967</td>\n",
       "      <td>0.255867</td>\n",
       "      <td>9.167567</td>\n",
       "    </tr>\n",
       "    <tr>\n",
       "      <th>Checkout</th>\n",
       "      <td>19</td>\n",
       "      <td>29.444055</td>\n",
       "      <td>4.788217</td>\n",
       "      <td>0.079983</td>\n",
       "      <td>375.404583</td>\n",
       "    </tr>\n",
       "    <tr>\n",
       "      <th>Add-to-Cart then Checkout</th>\n",
       "      <td>7</td>\n",
       "      <td>14.541214</td>\n",
       "      <td>5.846433</td>\n",
       "      <td>0.992733</td>\n",
       "      <td>54.997483</td>\n",
       "    </tr>\n",
       "    <tr>\n",
       "      <th>Checkout then Purchase</th>\n",
       "      <td>4</td>\n",
       "      <td>4.404408</td>\n",
       "      <td>2.834300</td>\n",
       "      <td>1.207300</td>\n",
       "      <td>10.741733</td>\n",
       "    </tr>\n",
       "    <tr>\n",
       "      <th>Complete Flow</th>\n",
       "      <td>9</td>\n",
       "      <td>32.196006</td>\n",
       "      <td>29.254617</td>\n",
       "      <td>18.042000</td>\n",
       "      <td>59.771967</td>\n",
       "    </tr>\n",
       "  </tbody>\n",
       "</table>\n",
       "</div>"
      ],
      "text/plain": [
       "                           Count  Average Duration (min)  \\\n",
       "flow_category                                              \n",
       "Just Looking                 174                5.703835   \n",
       "Add-to-Cart                    5                4.335033   \n",
       "Checkout                      19               29.444055   \n",
       "Add-to-Cart then Checkout      7               14.541214   \n",
       "Checkout then Purchase         4                4.404408   \n",
       "Complete Flow                  9               32.196006   \n",
       "\n",
       "                           Median Duration (min)  Min Duration (min)  \\\n",
       "flow_category                                                          \n",
       "Just Looking                            0.504733            0.000000   \n",
       "Add-to-Cart                             2.650967            0.255867   \n",
       "Checkout                                4.788217            0.079983   \n",
       "Add-to-Cart then Checkout               5.846433            0.992733   \n",
       "Checkout then Purchase                  2.834300            1.207300   \n",
       "Complete Flow                          29.254617           18.042000   \n",
       "\n",
       "                           Max Duration (min)  \n",
       "flow_category                                  \n",
       "Just Looking                       185.059683  \n",
       "Add-to-Cart                          9.167567  \n",
       "Checkout                           375.404583  \n",
       "Add-to-Cart then Checkout           54.997483  \n",
       "Checkout then Purchase              10.741733  \n",
       "Complete Flow                       59.771967  "
      ]
     },
     "metadata": {},
     "output_type": "display_data"
    },
    {
     "name": "stdout",
     "output_type": "stream",
     "text": [
      "\n",
      "Analyzing time between events in the user journey...\n",
      "Statistics for time between events (minutes):\n"
     ]
    },
    {
     "data": {
      "text/html": [
       "<div>\n",
       "<style scoped>\n",
       "    .dataframe tbody tr th:only-of-type {\n",
       "        vertical-align: middle;\n",
       "    }\n",
       "\n",
       "    .dataframe tbody tr th {\n",
       "        vertical-align: top;\n",
       "    }\n",
       "\n",
       "    .dataframe thead th {\n",
       "        text-align: right;\n",
       "    }\n",
       "</style>\n",
       "<table border=\"1\" class=\"dataframe\">\n",
       "  <thead>\n",
       "    <tr style=\"text-align: right;\">\n",
       "      <th></th>\n",
       "      <th>add_to_cart_to_checkout</th>\n",
       "      <th>checkout_to_purchase</th>\n",
       "      <th>add_to_cart_to_purchase</th>\n",
       "    </tr>\n",
       "  </thead>\n",
       "  <tbody>\n",
       "    <tr>\n",
       "      <th>count</th>\n",
       "      <td>16.000000</td>\n",
       "      <td>13.000000</td>\n",
       "      <td>10.000000</td>\n",
       "    </tr>\n",
       "    <tr>\n",
       "      <th>mean</th>\n",
       "      <td>0.937134</td>\n",
       "      <td>6.711473</td>\n",
       "      <td>11.969453</td>\n",
       "    </tr>\n",
       "    <tr>\n",
       "      <th>50%</th>\n",
       "      <td>0.028917</td>\n",
       "      <td>3.328767</td>\n",
       "      <td>10.957817</td>\n",
       "    </tr>\n",
       "    <tr>\n",
       "      <th>min</th>\n",
       "      <td>-21.240683</td>\n",
       "      <td>0.117283</td>\n",
       "      <td>0.267900</td>\n",
       "    </tr>\n",
       "    <tr>\n",
       "      <th>max</th>\n",
       "      <td>22.318867</td>\n",
       "      <td>25.723917</td>\n",
       "      <td>27.851717</td>\n",
       "    </tr>\n",
       "  </tbody>\n",
       "</table>\n",
       "</div>"
      ],
      "text/plain": [
       "       add_to_cart_to_checkout  checkout_to_purchase  add_to_cart_to_purchase\n",
       "count                16.000000             13.000000                10.000000\n",
       "mean                  0.937134              6.711473                11.969453\n",
       "50%                   0.028917              3.328767                10.957817\n",
       "min                 -21.240683              0.117283                 0.267900\n",
       "max                  22.318867             25.723917                27.851717"
      ]
     },
     "metadata": {},
     "output_type": "display_data"
    },
    {
     "data": {
      "image/png": "[encoded data removed]",
      "text/plain": [
       "<Figure size 1200x600 with 1 Axes>"
      ]
     },
     "metadata": {},
     "output_type": "display_data"
    }
   ],
   "source": [
    "# Analyze the relationship between flow category and session duration\n",
    "plt.figure(figsize=(12, 6), facecolor=facecolor)\n",
    "sns.boxplot(\n",
    "    x='flow_category', \n",
    "    y='duration_minutes', \n",
    "    data=flow_sessions_df,\n",
    "    order=flow_order,\n",
    "    palette=colors[:len(flow_order)]\n",
    ")\n",
    "plt.title('Session Duration by Flow Category', fontsize=15)\n",
    "plt.xlabel('Flow Category', fontsize=12)\n",
    "plt.ylabel('Duration (Minutes)', fontsize=12)\n",
    "plt.xticks(rotation=45)\n",
    "plt.grid(True, alpha=0.3, axis='y')\n",
    "plt.tight_layout()\n",
    "plt.show()\n",
    "\n",
    "# Calculate and display statistics about session duration by flow category\n",
    "flow_duration_stats = flow_sessions_df.groupby('flow_category')['duration_minutes'].agg(['count', 'mean', 'median', 'min', 'max'])\n",
    "flow_duration_stats = flow_duration_stats.rename(columns={\n",
    "    'count': 'Count',\n",
    "    'mean': 'Average Duration (min)',\n",
    "    'median': 'Median Duration (min)',\n",
    "    'min': 'Min Duration (min)',\n",
    "    'max': 'Max Duration (min)'\n",
    "})\n",
    "\n",
    "# Reorder to match our visualization order\n",
    "flow_duration_stats = flow_duration_stats.reindex(flow_order)\n",
    "\n",
    "print(\"Session Duration Statistics by Flow Category:\")\n",
    "display(flow_duration_stats)\n",
    "\n",
    "# Create a heatmap of median times between events for sessions with multiple events\n",
    "print(\"\\nAnalyzing time between events in the user journey...\")\n",
    "\n",
    "# Extract sessions with at least 2 events\n",
    "multi_event_sessions = flow_sessions_df[flow_sessions_df['event_sequence'].str.contains('→')]\n",
    "\n",
    "if len(multi_event_sessions) > 0:\n",
    "    # Function to calculate time differences between events\n",
    "    def calc_event_times(session_id):\n",
    "        session_events = df[df['session_id'] == session_id].sort_values('timestamp')\n",
    "        \n",
    "        # Get timestamps for each event type\n",
    "        add_to_cart_time = session_events[session_events['is_add_to_cart']]['timestamp'].min() if session_events['is_add_to_cart'].any() else None\n",
    "        checkout_time = session_events[session_events['is_checkout']]['timestamp'].min() if session_events['is_checkout'].any() else None\n",
    "        purchase_time = session_events[session_events['is_purchase']]['timestamp'].min() if session_events['is_purchase'].any() else None\n",
    "        \n",
    "        # Calculate time differences in minutes\n",
    "        times = {}\n",
    "        if add_to_cart_time is not None and checkout_time is not None:\n",
    "            times['add_to_cart_to_checkout'] = (checkout_time - add_to_cart_time).total_seconds() / 60\n",
    "        if checkout_time is not None and purchase_time is not None:\n",
    "            times['checkout_to_purchase'] = (purchase_time - checkout_time).total_seconds() / 60\n",
    "        if add_to_cart_time is not None and purchase_time is not None:\n",
    "            times['add_to_cart_to_purchase'] = (purchase_time - add_to_cart_time).total_seconds() / 60\n",
    "        \n",
    "        return times\n",
    "    \n",
    "    # Calculate time differences for all multi-event sessions\n",
    "    time_diffs = []\n",
    "    for session_id in multi_event_sessions['session_id']:\n",
    "        times = calc_event_times(session_id)\n",
    "        if times:\n",
    "            times['session_id'] = session_id\n",
    "            time_diffs.append(times)\n",
    "    \n",
    "    # Create DataFrame of time differences\n",
    "    if time_diffs:\n",
    "        time_diffs_df = pd.DataFrame(time_diffs)\n",
    "        \n",
    "        # Display statistics about time between events\n",
    "        time_cols = [col for col in time_diffs_df.columns if col != 'session_id']\n",
    "        if time_cols:\n",
    "            time_stats = time_diffs_df[time_cols].describe()\n",
    "            print(\"Statistics for time between events (minutes):\")\n",
    "            display(time_stats.loc[['count', 'mean', '50%', 'min', 'max']])\n",
    "            \n",
    "            # Create a combined visualization of time between events\n",
    "            plt.figure(figsize=(12, 6), facecolor=facecolor)\n",
    "            pos = range(len(time_cols))\n",
    "            \n",
    "            # Plot violin plots\n",
    "            parts = plt.violinplot(\n",
    "                [time_diffs_df[col].dropna() for col in time_cols],\n",
    "                positions=pos,\n",
    "                showmeans=False,\n",
    "                showmedians=True\n",
    "            )\n",
    "            \n",
    "            # Customize violin plot colors\n",
    "            for i, pc in enumerate(parts['bodies']):\n",
    "                pc.set_facecolor(colors[i])\n",
    "                pc.set_alpha(0.7)\n",
    "            \n",
    "            # Add boxplot inside violins\n",
    "            plt.boxplot(\n",
    "                [time_diffs_df[col].dropna() for col in time_cols],\n",
    "                positions=pos,\n",
    "                widths=0.3,\n",
    "                patch_artist=True,\n",
    "                boxprops=dict(facecolor='white', alpha=0.7),\n",
    "                medianprops=dict(color='black'),\n",
    "                showfliers=False\n",
    "            )\n",
    "            \n",
    "            # Add jittered points for better visualization\n",
    "            for i, col in enumerate(time_cols):\n",
    "                if len(time_diffs_df[col].dropna()) > 0:\n",
    "                    # Add jitter to x-position\n",
    "                    jitter = np.random.normal(0, 0.05, size=len(time_diffs_df[col].dropna()))\n",
    "                    plt.scatter(i + jitter, time_diffs_df[col].dropna(), \n",
    "                                alpha=0.4, s=20, color=colors[i], zorder=3)\n",
    "            \n",
    "            # Customize the plot\n",
    "            plt.xticks(pos, [col.replace('_', ' to ').title() for col in time_cols])\n",
    "            plt.ylabel('Time (Minutes)', fontsize=12)\n",
    "            plt.title('Time Between Events in User Journey', fontsize=15)\n",
    "            plt.grid(True, alpha=0.3, axis='y')\n",
    "            plt.tight_layout()\n",
    "            plt.show()\n",
    "else:\n",
    "    print(\"No sessions with multiple events found.\")"
   ]
  },
  {
   "cell_type": "markdown",
   "id": "a5090c3f",
   "metadata": {},
   "source": [
    "## Extended Flow Analysis Summary\n",
    "\n",
    "This extended analysis of user flows provides deeper insights into customer behavior patterns:\n",
    "\n",
    "1. **Conversion Funnel Visualization**: The Sankey diagram illustrates how users progress through the shopping journey, showing where users drop off and which paths are most common.\n",
    "\n",
    "2. **Flow Categories**: By categorizing sessions into distinct flow patterns (Just Looking, Add-to-Cart, Checkout, etc.), we can understand the prevalence of different shopping behaviors.\n",
    "\n",
    "3. **Duration Analysis**: The relationship between flow category and session duration reveals how time spent correlates with different user journeys.\n",
    "\n",
    "4. **Time Between Events**: For sessions with multiple events, we've analyzed how much time typically passes between key actions like adding to cart and proceeding to checkout.\n",
    "\n",
    "These insights can inform optimization strategies:\n",
    "\n",
    "- For users who add items to cart but don't checkout, consider cart abandonment strategies\n",
    "- For long durations between checkout and purchase, evaluate if the wait timer is causing friction\n",
    "- For sessions with direct purchase events, understand if these are impulse purchases\n",
    "\n",
    "Further analysis could explore how these flow patterns differ across different user segments or product categories."
   ]
  }
 ],
 "metadata": {
  "kernelspec": {
   "display_name": "reddit",
   "language": "python",
   "name": "python3"
  },
  "language_info": {
   "codemirror_mode": {
    "name": "ipython",
    "version": 3
   },
   "file_extension": ".py",
   "mimetype": "text/x-python",
   "name": "python",
   "nbconvert_exporter": "python",
   "pygments_lexer": "ipython3",
   "version": "3.10.15"
  }
 },
 "nbformat": 4,
 "nbformat_minor": 5
}
