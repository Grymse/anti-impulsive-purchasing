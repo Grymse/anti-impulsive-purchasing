{
 "cells": [
  {
   "cell_type": "code",
   "execution_count": 2,
   "metadata": {},
   "outputs": [],
   "source": [
    "from statsmodels.stats.power import TTestIndPower"
   ]
  },
  {
   "cell_type": "code",
   "execution_count": 3,
   "metadata": {},
   "outputs": [
    {
     "data": {
      "text/plain": [
       "252.12750515434067"
      ]
     },
     "execution_count": 3,
     "metadata": {},
     "output_type": "execute_result"
    }
   ],
   "source": [
    "powertest = TTestIndPower()\n",
    "\n",
    "percentage_effect = -0.2\n",
    "mean_before = 5\n",
    "mean_after = mean_before * (1 + percentage_effect)\n",
    "std = 4\n",
    "\n",
    "effect_size = (mean_after - mean_before) / std\n",
    "\n",
    "powertest.solve_power(effect_size=effect_size, power=0.8, nobs1=None, ratio=1, alpha=0.05)"
   ]
  },
  {
   "cell_type": "code",
   "execution_count": null,
   "metadata": {},
   "outputs": [
    {
     "name": "stdout",
     "output_type": "stream",
     "text": [
      "questionary:\n",
      "interview:\n"
     ]
    },
    {
     "data": {
      "text/plain": [
       "' for diff in mean_difference:\\n    # Create a t-test power analysis for each interview mean difference\\n    effect_size = diff+interview_mean / interview_std\\n    size = powertest.solve_power(effect_size=effect_size, power=0.8, nobs1=None, ratio=1, alpha=0.05)\\n    print(f\"Mean difference: {diff}, Power: {size}\") '"
      ]
     },
     "execution_count": 7,
     "metadata": {},
     "output_type": "execute_result"
    }
   ],
   "source": [
    "import pandas as pd\n",
    "\n",
    "interview_mean = 2.0125\n",
    "interview_std = 2.9811\n",
    "\n",
    "questionary_mean = 2.7285\n",
    "questionary_std = 6.9595\n",
    "\n",
    "mean_difference = [-1.5, -1, -.5, 0, .5, 1, 1.5]\n",
    "percentage_effect = [-0.1, -0.2, -0.3, -0.4, -0.5]\n",
    "\n",
    "# Create a DataFrame to store the results\n",
    "results = pd.DataFrame(index=mean_difference, columns=percentage_effect)\n",
    "\n",
    "for diff in mean_difference:\n",
    "    for perc in percentage_effect:\n",
    "        std = interview_std\n",
    "        mean_before = interview_mean + diff\n",
    "        mean_after = mean_before * (1 + perc)\n",
    "        effect_size = (mean_after - mean_before) / std\n",
    "        size = powertest.solve_power(effect_size=effect_size, power=0.8, nobs1=None, ratio=1, alpha=0.05)\n",
    "        results.at[diff, perc] = size\n",
    "\n",
    "results.to_csv('interview_results.csv')\n",
    "\n",
    "\n",
    "print(\"interview:\")\n",
    "\"\"\" for diff in mean_difference:\n",
    "    # Create a t-test power analysis for each interview mean difference\n",
    "    effect_size = diff+interview_mean / interview_std\n",
    "    size = powertest.solve_power(effect_size=effect_size, power=0.8, nobs1=None, ratio=1, alpha=0.05)\n",
    "    print(f\"Mean difference: {diff}, Power: {size}\") \"\"\""
   ]
  },
  {
   "cell_type": "code",
   "execution_count": 10,
   "metadata": {},
   "outputs": [
    {
     "name": "stdout",
     "output_type": "stream",
     "text": [
      "3.4920646741128416 0.0007177971616590411\n",
      "[ 8.52810469  5.80031442  6.95747597  9.4817864   8.73511598  3.04544424\n",
      "  6.90017684  4.69728558  4.7935623   5.821197    5.28808714  7.90854701\n",
      "  6.52207545  5.24335003  5.88772647  5.66734865  7.98815815  4.58968347\n",
      "  5.6261354   3.29180852 -0.10597963  6.30723719  6.7288724   3.51566996\n",
      "  9.53950925  2.09126865  5.09151703  4.6256323   8.06555843  7.93871754\n",
      "  5.30989485  5.75632504  3.2244285   1.03840706  4.3041757   5.31269794\n",
      "  7.46058136  7.4047597   4.22534637  4.3953945   2.90289407  2.15996413\n",
      "  1.58745962  8.90155079  3.98069564  4.1238514   2.49440928  6.55498071\n",
      "  1.7722043   4.57451944  3.20906688  5.773805    3.97838972  2.63873563\n",
      "  4.94363554  5.85666374  5.13303444  5.6049438   3.73135581  4.27451767\n",
      "  3.6550791   4.28089368  3.37370744  1.5474348   5.35485228  4.19643813\n",
      "  1.73960331  5.92556451  3.18540327  5.10389079  6.45818112  5.25796582\n",
      "  7.27880137  2.53034836  5.80468328  3.63037982  3.2584057   3.84230067\n",
      "  4.37689494  5.11233068  2.66970032  6.80165297  5.93132488  1.92751263\n",
      "  7.97650439  8.79177835  7.35755914  4.64015033  2.85849476  7.10890345\n",
      "  4.19364611  7.44489014  5.41654996  6.95327807  5.71273279  6.41314634\n",
      "  5.02100004  8.57174099  5.25382419  5.80397873]\n"
     ]
    }
   ],
   "source": [
    "# Try generating a dataset with the calculated sample size\n",
    "import numpy as np\n",
    "import scipy.stats as stats\n",
    "\n",
    "np.random.seed(0)\n",
    "n = 100\n",
    "before = np.random.normal(loc=mean_before, scale=std, size=n)\n",
    "after = np.random.normal(loc=mean_after, scale=std, size=n)\n",
    "\n",
    "t, p = stats.ttest_rel(before, after)\n",
    "print(t, p)\n",
    "\n",
    "# Print out before\n",
    "print(before)"
   ]
  },
  {
   "cell_type": "code",
   "execution_count": null,
   "metadata": {},
   "outputs": [],
   "source": []
  }
 ],
 "metadata": {
  "kernelspec": {
   "display_name": "reddit",
   "language": "python",
   "name": "python3"
  },
  "language_info": {
   "codemirror_mode": {
    "name": "ipython",
    "version": 3
   },
   "file_extension": ".py",
   "mimetype": "text/x-python",
   "name": "python",
   "nbconvert_exporter": "python",
   "pygments_lexer": "ipython3",
   "version": "3.10.15"
  }
 },
 "nbformat": 4,
 "nbformat_minor": 2
}
