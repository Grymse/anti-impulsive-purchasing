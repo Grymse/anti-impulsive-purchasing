{
 "cells": [
  {
   "cell_type": "code",
   "execution_count": 155,
   "id": "7393e7f1",
   "metadata": {},
   "outputs": [],
   "source": [
    "# Enhanced Comparison Analysis - Checkout Visits, Pop-up Modal, and Purchase Events\n",
    "import pandas as pd\n",
    "import numpy as np\n",
    "import matplotlib.pyplot as plt\n",
    "import seaborn as sns\n",
    "\n",
    "# Load the CSV file\n",
    "df = pd.read_csv('analytics.csv')"
   ]
  },
  {
   "cell_type": "code",
   "execution_count": 156,
   "id": "547d13ce",
   "metadata": {},
   "outputs": [
    {
     "name": "stdout",
     "output_type": "stream",
     "text": [
      "Dataset shape: (11647, 9)\n",
      "\n",
      "Column names:\n",
      "['id', 'type', 'url', 'payload', 'user_id', 'session_id', 'received_at', 'created_at', 'domain']\n",
      "\n",
      "Event types:\n",
      "type\n",
      "time-spent                            9986\n",
      "page-view                             1007\n",
      "from-directs                           213\n",
      "on-onboarding                          174\n",
      "add-to-cart                             48\n",
      "from-directs-cta                        42\n",
      "checkout                                37\n",
      "uninstall                               30\n",
      "open-popup                              27\n",
      "enforce_wait_modal_shown                20\n",
      "welcome-modal-seen                      17\n",
      "active                                  15\n",
      "enforce_wait_info_expanded               8\n",
      "enforce_wait_canceled                    6\n",
      "questionary-popup                        6\n",
      "open-options                             4\n",
      "enforce_wait_permit_valid_on_click       2\n",
      "questionary-closed                       2\n",
      "place-order                              1\n",
      "questionary-finished                     1\n",
      "delete-data                              1\n",
      "Name: count, dtype: int64\n",
      "\n",
      "First few rows:\n"
     ]
    },
    {
     "data": {
      "text/html": [
       "<div>\n",
       "<style scoped>\n",
       "    .dataframe tbody tr th:only-of-type {\n",
       "        vertical-align: middle;\n",
       "    }\n",
       "\n",
       "    .dataframe tbody tr th {\n",
       "        vertical-align: top;\n",
       "    }\n",
       "\n",
       "    .dataframe thead th {\n",
       "        text-align: right;\n",
       "    }\n",
       "</style>\n",
       "<table border=\"1\" class=\"dataframe\">\n",
       "  <thead>\n",
       "    <tr style=\"text-align: right;\">\n",
       "      <th></th>\n",
       "      <th>id</th>\n",
       "      <th>type</th>\n",
       "      <th>url</th>\n",
       "      <th>payload</th>\n",
       "      <th>user_id</th>\n",
       "      <th>session_id</th>\n",
       "      <th>received_at</th>\n",
       "      <th>created_at</th>\n",
       "      <th>domain</th>\n",
       "    </tr>\n",
       "  </thead>\n",
       "  <tbody>\n",
       "    <tr>\n",
       "      <th>0</th>\n",
       "      <td>19500</td>\n",
       "      <td>from-directs</td>\n",
       "      <td>www.lessextension.com/</td>\n",
       "      <td>\"anticonsumption\"</td>\n",
       "      <td>less-website</td>\n",
       "      <td>8e61d9f0-59c5-4b75-82db-b60f708abb7a</td>\n",
       "      <td>2025-03-27T01:06:50.771229+00:00</td>\n",
       "      <td>2025-03-27T01:06:50.072+00:00</td>\n",
       "      <td>lessextension.com</td>\n",
       "    </tr>\n",
       "    <tr>\n",
       "      <th>1</th>\n",
       "      <td>19501</td>\n",
       "      <td>from-directs</td>\n",
       "      <td>www.lessextension.com/</td>\n",
       "      <td>\"chrome_extensions\"</td>\n",
       "      <td>less-website</td>\n",
       "      <td>5c3f1c7c-297e-4165-8c63-ba273c0203a4</td>\n",
       "      <td>2025-03-27T04:40:08.182539+00:00</td>\n",
       "      <td>2025-03-27T04:40:08.386+00:00</td>\n",
       "      <td>lessextension.com</td>\n",
       "    </tr>\n",
       "    <tr>\n",
       "      <th>2</th>\n",
       "      <td>19502</td>\n",
       "      <td>from-directs</td>\n",
       "      <td>www.lessextension.com/</td>\n",
       "      <td>\"chrome_extensions\"</td>\n",
       "      <td>less-website</td>\n",
       "      <td>5c3f1c7c-297e-4165-8c63-ba273c0203a4</td>\n",
       "      <td>2025-03-27T04:40:12.087957+00:00</td>\n",
       "      <td>2025-03-27T04:40:11.03+00:00</td>\n",
       "      <td>lessextension.com</td>\n",
       "    </tr>\n",
       "    <tr>\n",
       "      <th>3</th>\n",
       "      <td>19503</td>\n",
       "      <td>from-directs</td>\n",
       "      <td>www.lessextension.com/</td>\n",
       "      <td>\"shoppingaddiction\"</td>\n",
       "      <td>less-website</td>\n",
       "      <td>6c88998d-b218-408b-aea2-2970f2908a30</td>\n",
       "      <td>2025-03-27T06:05:28.66007+00:00</td>\n",
       "      <td>2025-03-27T06:05:28.463+00:00</td>\n",
       "      <td>lessextension.com</td>\n",
       "    </tr>\n",
       "    <tr>\n",
       "      <th>4</th>\n",
       "      <td>19504</td>\n",
       "      <td>from-directs</td>\n",
       "      <td>www.lessextension.com/</td>\n",
       "      <td>\"kua\"</td>\n",
       "      <td>less-website</td>\n",
       "      <td>7881a97a-2a44-4df1-9a90-294bd109a894</td>\n",
       "      <td>2025-03-27T07:16:26.763114+00:00</td>\n",
       "      <td>2025-03-27T07:16:25.837+00:00</td>\n",
       "      <td>lessextension.com</td>\n",
       "    </tr>\n",
       "  </tbody>\n",
       "</table>\n",
       "</div>"
      ],
      "text/plain": [
       "      id          type                     url              payload  \\\n",
       "0  19500  from-directs  www.lessextension.com/    \"anticonsumption\"   \n",
       "1  19501  from-directs  www.lessextension.com/  \"chrome_extensions\"   \n",
       "2  19502  from-directs  www.lessextension.com/  \"chrome_extensions\"   \n",
       "3  19503  from-directs  www.lessextension.com/  \"shoppingaddiction\"   \n",
       "4  19504  from-directs  www.lessextension.com/                \"kua\"   \n",
       "\n",
       "        user_id                            session_id  \\\n",
       "0  less-website  8e61d9f0-59c5-4b75-82db-b60f708abb7a   \n",
       "1  less-website  5c3f1c7c-297e-4165-8c63-ba273c0203a4   \n",
       "2  less-website  5c3f1c7c-297e-4165-8c63-ba273c0203a4   \n",
       "3  less-website  6c88998d-b218-408b-aea2-2970f2908a30   \n",
       "4  less-website  7881a97a-2a44-4df1-9a90-294bd109a894   \n",
       "\n",
       "                        received_at                     created_at  \\\n",
       "0  2025-03-27T01:06:50.771229+00:00  2025-03-27T01:06:50.072+00:00   \n",
       "1  2025-03-27T04:40:08.182539+00:00  2025-03-27T04:40:08.386+00:00   \n",
       "2  2025-03-27T04:40:12.087957+00:00   2025-03-27T04:40:11.03+00:00   \n",
       "3   2025-03-27T06:05:28.66007+00:00  2025-03-27T06:05:28.463+00:00   \n",
       "4  2025-03-27T07:16:26.763114+00:00  2025-03-27T07:16:25.837+00:00   \n",
       "\n",
       "              domain  \n",
       "0  lessextension.com  \n",
       "1  lessextension.com  \n",
       "2  lessextension.com  \n",
       "3  lessextension.com  \n",
       "4  lessextension.com  "
      ]
     },
     "execution_count": 156,
     "metadata": {},
     "output_type": "execute_result"
    }
   ],
   "source": [
    "# Examine the structure of the data\n",
    "print(f\"Dataset shape: {df.shape}\")\n",
    "print(\"\\nColumn names:\")\n",
    "print(df.columns.tolist())\n",
    "print(\"\\nEvent types:\")\n",
    "print(df['type'].value_counts())\n",
    "print(\"\\nFirst few rows:\")\n",
    "df.head()"
   ]
  },
  {
   "cell_type": "markdown",
   "id": "f4257c30",
   "metadata": {},
   "source": [
    "# Shopping Session Analysis\n",
    "\n",
    "We'll analyze user behavior after adding items to cart. The possible paths are:\n",
    "\n",
    "1. Add to cart → Never proceed to checkout\n",
    "2. Add to cart → Checkout → Don't place order\n",
    "3. Add to cart → Checkout → See enforce_wait_modal → Wait 3 hours → Place order\n",
    "4. Add to cart → Checkout → See enforce_wait_modal → Disable extension → Place order\n",
    "\n",
    "We'll define a unique shopping session by each combination of `user_id` and `domain`."
   ]
  },
  {
   "cell_type": "code",
   "execution_count": 157,
   "id": "8240d979",
   "metadata": {},
   "outputs": [
    {
     "name": "stdout",
     "output_type": "stream",
     "text": [
      "Total unique shopping sessions: 146\n",
      "Sessions with at least one add-to-cart event: 14\n"
     ]
    }
   ],
   "source": [
    "# Define shopping sessions by user_id and domain\n",
    "\n",
    "# Create a unique session ID by combining user_id and domain\n",
    "df['session_id'] = df['user_id'] + '_' + df['domain']\n",
    "\n",
    "# Count unique sessions\n",
    "unique_sessions = df['session_id'].nunique()\n",
    "print(f\"Total unique shopping sessions: {unique_sessions}\")\n",
    "\n",
    "# Extract sessions that have at least one add-to-cart event\n",
    "cart_sessions = df[df['type'] == 'add-to-cart']['session_id'].unique()\n",
    "print(f\"Sessions with at least one add-to-cart event: {len(cart_sessions)}\")"
   ]
  },
  {
   "cell_type": "code",
   "execution_count": 168,
   "id": "1ed3862c",
   "metadata": {},
   "outputs": [
    {
     "name": "stdout",
     "output_type": "stream",
     "text": [
      "Successful blockings:\n",
      "{'amazon.de', '390c0190-33a3-4029-ae09-687bff0b77d6'}\n",
      "{'zalando.dk', '390c0190-33a3-4029-ae09-687bff0b77d6'}\n",
      "{'42a0286f-f933-490a-89aa-0c0037dae11e', 'proshop.dk'}\n",
      "{'amazon.com', 'e2eb1291-5fec-45e6-bded-3018f0d67d66'}\n",
      "{'e2eb1291-5fec-45e6-bded-3018f0d67d66', 'etsy.com'}\n",
      "add: 1 sessions\n",
      "checkout: 12 sessions\n",
      "checkout_modal: 1 sessions\n",
      "checkout_modal_purchase: 0 sessions\n",
      "checkout_modal_uninstall: 0 sessions\n",
      "checkout_modal_disable: 2 sessions\n",
      "add_checkout: 5 sessions\n",
      "add_checkout_modal: 3 sessions\n",
      "add_checkout_modal_uninstall: 3 sessions\n",
      "add_checkout_modal_purchase: 1 sessions\n",
      "add_checkout_modal_disable: 1 sessions\n"
     ]
    }
   ],
   "source": [
    "# Function to determine the path for each session\n",
    "def analyze_session_paths(df):\n",
    "    # Initialize dictionaries to store session paths and counts\n",
    "    session_paths = {}\n",
    "    path_counts = {\n",
    "        'add': 0,\n",
    "        'add_modal': 0,\n",
    "        'checkout': 0,\n",
    "        'checkout_modal': 0,\n",
    "        'checkout_modal_purchase': 0,\n",
    "        'checkout_modal_uninstall': 0,\n",
    "        'checkout_modal_disable': 0,\n",
    "        'add_checkout': 0,\n",
    "        'add_checkout_modal': 0,\n",
    "        'add_checkout_modal_uninstall': 0,\n",
    "        'add_checkout_modal_purchase': 0,\n",
    "        'add_checkout_modal_disable': 0,\n",
    "    }\n",
    "    \n",
    "    # Get all unique session IDs\n",
    "    # Distinguish sessions by unique user_id and domain\n",
    "    sessions = df[['user_id', 'domain']].drop_duplicates().apply(lambda row: f\"{row['user_id']}_{row['domain']}\", axis=1).values\n",
    "\n",
    "    successful_blockings = []\n",
    "    \n",
    "    for session in sessions:\n",
    "        # Filter data for this session\n",
    "        user_id, domain = session.split('_', 1)\n",
    "        session_data = df[(df['user_id'] == user_id) & (df['domain'] == domain)].sort_values('received_at')\n",
    "        \n",
    "        # Check for add-to-cart event\n",
    "        has_add_to_cart = 'add-to-cart' in session_data['type'].values\n",
    "\n",
    "        # Check for various events\n",
    "        has_checkout = 'checkout' in session_data['type'].values\n",
    "        has_modal = 'enforce_wait_modal_shown' in session_data['type'].values\n",
    "        has_purchase = 'place-order' in session_data['type'].values\n",
    "\n",
    "        deactivated = False\n",
    "        uninstall = False\n",
    "        \n",
    "        # Check for extension deactivation after modal\n",
    "        if has_modal:\n",
    "            modal_time = session_data[session_data['type'] == 'enforce_wait_modal_shown']['created_at'].iloc[0]\n",
    "            # Look for 'active' events where active=false after modal time\n",
    "            deactivated = len(df[\n",
    "                (df['user_id'] == user_id) & \n",
    "                (df['type'] == 'active') & \n",
    "                (df['created_at'] > modal_time) &\n",
    "                (pd.to_datetime(df['created_at'], format=\"mixed\") <= (pd.to_datetime(modal_time, format=\"mixed\") + pd.Timedelta(minutes=10)))\n",
    "            ]) > 0\n",
    "\n",
    "            # Only consider uninstall events within 10 minutes after modal shown\n",
    "            uninstall = len(df[\n",
    "                (df['user_id'] == user_id) & \n",
    "                (df['type'] == 'uninstall') & \n",
    "                (df['created_at'] > modal_time)\n",
    "                & (pd.to_datetime(df['created_at'], format=\"mixed\") <= (pd.to_datetime(modal_time, format=\"mixed\") + pd.Timedelta(minutes=50)))\n",
    "            ]) > 0\n",
    "\n",
    "            if has_modal and not uninstall and not deactivated:\n",
    "                successful_blockings.append({user_id, session_data.iloc[0]['domain']})\n",
    "\n",
    "        str_to_add = []\n",
    "\n",
    "        if has_add_to_cart:\n",
    "            str_to_add.append(\"add\")\n",
    "        \n",
    "        if has_checkout:\n",
    "            str_to_add.append(\"checkout\")\n",
    "\n",
    "        if has_modal:\n",
    "            str_to_add.append(\"modal\")\n",
    "\n",
    "        if has_purchase:\n",
    "            str_to_add.append(\"purchase\")\n",
    "\n",
    "        if deactivated:\n",
    "            str_to_add.append(\"disable\")\n",
    "\n",
    "        if uninstall:\n",
    "            str_to_add.append(\"uninstall\")\n",
    "\n",
    "        if len(str_to_add) == 0:\n",
    "            continue\n",
    "\n",
    "        path = \"_\".join(str_to_add)\n",
    "        \n",
    "        # Store path for this session\n",
    "        session_paths[session] = path\n",
    "        path_counts[path] += 1\n",
    "\n",
    "    return session_paths, path_counts, successful_blockings\n",
    "\n",
    "# Analyze session paths\n",
    "session_paths, path_counts, successful_blockings = analyze_session_paths(df)\n",
    "\n",
    "# change key of add_modal to add_checkout_modal\n",
    "path_counts['add_checkout_modal'] += path_counts.pop('add_modal')\n",
    "\n",
    "print(\"Successful blockings:\")\n",
    "for blocking in successful_blockings:\n",
    "    print(blocking)\n",
    "\n",
    "# Display results\n",
    "for path, count in path_counts.items():\n",
    "    print(f\"{path}: {count} sessions\")\n"
   ]
  },
  {
   "cell_type": "code",
   "execution_count": 169,
   "id": "a2116078",
   "metadata": {},
   "outputs": [],
   "source": [
    "# print event id = 21170 and the prior 100 events\n",
    "event_id = 21170\n",
    "# print event id = 21170 and the prior 100 events"
   ]
  },
  {
   "cell_type": "code",
   "execution_count": 170,
   "id": "5dfdfe5c",
   "metadata": {},
   "outputs": [
    {
     "data": {
      "image/png": "[encoded data removed]",
      "text/plain": [
       "<Figure size 1000x600 with 1 Axes>"
      ]
     },
     "metadata": {},
     "output_type": "display_data"
    }
   ],
   "source": [
    "\n",
    "import matplotlib.pyplot as plt\n",
    "\n",
    "# Prepare data for plotting\n",
    "labels = list(path_counts.keys())\n",
    "values = list(path_counts.values())\n",
    "\n",
    "plt.figure(figsize=(10, 6))\n",
    "bars = plt.bar(labels, values, color='skyblue')\n",
    "\n",
    "# Add value labels on top of bars\n",
    "for bar, value in zip(bars, values):\n",
    "    plt.text(bar.get_x() + bar.get_width() / 2, bar.get_height(), str(value),\n",
    "                ha='center', va='bottom', fontsize=10)\n",
    "\n",
    "plt.title('Distribution of Session Paths')\n",
    "plt.xlabel('Session Path')\n",
    "plt.ylabel('Number of Sessions')\n",
    "plt.xticks(rotation=30, ha='right')\n",
    "plt.tight_layout()\n",
    "plt.show()\n"
   ]
  },
  {
   "cell_type": "code",
   "execution_count": 171,
   "id": "11d54951",
   "metadata": {},
   "outputs": [
    {
     "ename": "KeyError",
     "evalue": "'add'",
     "output_type": "error",
     "traceback": [
      "\u001b[0;31m---------------------------------------------------------------------------\u001b[0m",
      "\u001b[0;31mKeyError\u001b[0m                                  Traceback (most recent call last)",
      "Cell \u001b[0;32mIn[171], line 21\u001b[0m\n\u001b[1;32m     11\u001b[0m \u001b[38;5;66;03m# Format labels for better readability\u001b[39;00m\n\u001b[1;32m     12\u001b[0m path_labels \u001b[38;5;241m=\u001b[39m {\n\u001b[1;32m     13\u001b[0m     \u001b[38;5;124m'\u001b[39m\u001b[38;5;124madd_to_cart_only\u001b[39m\u001b[38;5;124m'\u001b[39m: \u001b[38;5;124m'\u001b[39m\u001b[38;5;124mAdd to Cart Only\u001b[39m\u001b[38;5;124m'\u001b[39m,\n\u001b[1;32m     14\u001b[0m     \u001b[38;5;124m'\u001b[39m\u001b[38;5;124mcart_to_checkout_only\u001b[39m\u001b[38;5;124m'\u001b[39m: \u001b[38;5;124m'\u001b[39m\u001b[38;5;124mCart → Checkout (No Purchase)\u001b[39m\u001b[38;5;124m'\u001b[39m,\n\u001b[0;32m   (...)\u001b[0m\n\u001b[1;32m     18\u001b[0m     \u001b[38;5;124m'\u001b[39m\u001b[38;5;124mother\u001b[39m\u001b[38;5;124m'\u001b[39m: \u001b[38;5;124m'\u001b[39m\u001b[38;5;124mOther Paths\u001b[39m\u001b[38;5;124m'\u001b[39m\n\u001b[1;32m     19\u001b[0m }\n\u001b[0;32m---> 21\u001b[0m readable_paths \u001b[38;5;241m=\u001b[39m [path_labels[path] \u001b[38;5;28;01mfor\u001b[39;00m path \u001b[38;5;129;01min\u001b[39;00m paths]\n\u001b[1;32m     23\u001b[0m \u001b[38;5;66;03m# Create the bar plot\u001b[39;00m\n\u001b[1;32m     24\u001b[0m bar_plot \u001b[38;5;241m=\u001b[39m sns\u001b[38;5;241m.\u001b[39mbarplot(x\u001b[38;5;241m=\u001b[39mreadable_paths, y\u001b[38;5;241m=\u001b[39mpercentages, palette\u001b[38;5;241m=\u001b[39m\u001b[38;5;124m'\u001b[39m\u001b[38;5;124mviridis\u001b[39m\u001b[38;5;124m'\u001b[39m)\n",
      "Cell \u001b[0;32mIn[171], line 21\u001b[0m, in \u001b[0;36m<listcomp>\u001b[0;34m(.0)\u001b[0m\n\u001b[1;32m     11\u001b[0m \u001b[38;5;66;03m# Format labels for better readability\u001b[39;00m\n\u001b[1;32m     12\u001b[0m path_labels \u001b[38;5;241m=\u001b[39m {\n\u001b[1;32m     13\u001b[0m     \u001b[38;5;124m'\u001b[39m\u001b[38;5;124madd_to_cart_only\u001b[39m\u001b[38;5;124m'\u001b[39m: \u001b[38;5;124m'\u001b[39m\u001b[38;5;124mAdd to Cart Only\u001b[39m\u001b[38;5;124m'\u001b[39m,\n\u001b[1;32m     14\u001b[0m     \u001b[38;5;124m'\u001b[39m\u001b[38;5;124mcart_to_checkout_only\u001b[39m\u001b[38;5;124m'\u001b[39m: \u001b[38;5;124m'\u001b[39m\u001b[38;5;124mCart → Checkout (No Purchase)\u001b[39m\u001b[38;5;124m'\u001b[39m,\n\u001b[0;32m   (...)\u001b[0m\n\u001b[1;32m     18\u001b[0m     \u001b[38;5;124m'\u001b[39m\u001b[38;5;124mother\u001b[39m\u001b[38;5;124m'\u001b[39m: \u001b[38;5;124m'\u001b[39m\u001b[38;5;124mOther Paths\u001b[39m\u001b[38;5;124m'\u001b[39m\n\u001b[1;32m     19\u001b[0m }\n\u001b[0;32m---> 21\u001b[0m readable_paths \u001b[38;5;241m=\u001b[39m [\u001b[43mpath_labels\u001b[49m\u001b[43m[\u001b[49m\u001b[43mpath\u001b[49m\u001b[43m]\u001b[49m \u001b[38;5;28;01mfor\u001b[39;00m path \u001b[38;5;129;01min\u001b[39;00m paths]\n\u001b[1;32m     23\u001b[0m \u001b[38;5;66;03m# Create the bar plot\u001b[39;00m\n\u001b[1;32m     24\u001b[0m bar_plot \u001b[38;5;241m=\u001b[39m sns\u001b[38;5;241m.\u001b[39mbarplot(x\u001b[38;5;241m=\u001b[39mreadable_paths, y\u001b[38;5;241m=\u001b[39mpercentages, palette\u001b[38;5;241m=\u001b[39m\u001b[38;5;124m'\u001b[39m\u001b[38;5;124mviridis\u001b[39m\u001b[38;5;124m'\u001b[39m)\n",
      "\u001b[0;31mKeyError\u001b[0m: 'add'"
     ]
    },
    {
     "data": {
      "text/plain": [
       "<Figure size 1200x600 with 0 Axes>"
      ]
     },
     "metadata": {},
     "output_type": "display_data"
    }
   ],
   "source": [
    "# Visualize the distribution of paths\n",
    "plt.figure(figsize=(12, 6))\n",
    "sns.set_style('whitegrid')\n",
    "\n",
    "# Prepare data for plotting\n",
    "paths = list(path_counts.keys())\n",
    "counts = list(path_counts.values())\n",
    "total = sum(counts)\n",
    "percentages = [count/total*100 for count in counts]\n",
    "\n",
    "# Format labels for better readability\n",
    "path_labels = {\n",
    "    'add_to_cart_only': 'Add to Cart Only',\n",
    "    'cart_to_checkout_only': 'Cart → Checkout (No Purchase)',\n",
    "    'cart_to_checkout_to_purchase_no_modal': 'Cart → Checkout → Purchase',\n",
    "    'cart_to_modal_to_wait_to_purchase': 'Cart → Modal → Wait → Purchase',\n",
    "    'cart_to_modal_to_disable_to_purchase': 'Cart → Modal → Disable → Purchase',\n",
    "    'other': 'Other Paths'\n",
    "}\n",
    "\n",
    "readable_paths = [path_labels[path] for path in paths]\n",
    "\n",
    "# Create the bar plot\n",
    "bar_plot = sns.barplot(x=readable_paths, y=percentages, palette='viridis')\n",
    "\n",
    "# Add percentage labels to the bars\n",
    "for i, p in enumerate(bar_plot.patches):\n",
    "    bar_plot.annotate(f\"{percentages[i]:.1f}%\\n({counts[i]})\", \n",
    "                     (p.get_x() + p.get_width()/2., p.get_height()),\n",
    "                     ha='center', va='bottom')\n",
    "\n",
    "# Customize plot\n",
    "plt.title('Distribution of Shopping Cart Paths', fontsize=15)\n",
    "plt.xlabel('Path Type', fontsize=12)\n",
    "plt.ylabel('Percentage of Sessions', fontsize=12)\n",
    "plt.xticks(rotation=45, ha='right')\n",
    "plt.tight_layout()\n",
    "\n",
    "plt.show()"
   ]
  },
  {
   "cell_type": "code",
   "execution_count": 172,
   "id": "6b27f03b",
   "metadata": {},
   "outputs": [
    {
     "data": {
      "image/png": "[encoded data removed]",
      "text/plain": [
       "<Figure size 700x600 with 1 Axes>"
      ]
     },
     "metadata": {},
     "output_type": "display_data"
    }
   ],
   "source": [
    "import networkx as nx\n",
    "import matplotlib.pyplot as plt\n",
    "import numpy as np\n",
    "\n",
    "# Create a directed graph\n",
    "G = nx.DiGraph()\n",
    "\n",
    "# Define the possible states (nodes)\n",
    "states = ['add', 'checkout', 'modal', 'purchase', 'disable', 'uninstall']\n",
    "for state in states:\n",
    "    G.add_node(state)\n",
    "\n",
    "# Add edges based on the path counts\n",
    "for path, count in path_counts.items():\n",
    "    if count > 0:  # Only consider paths that have occurred\n",
    "        steps = path.split('_')\n",
    "        for i in range(len(steps)-1):\n",
    "            # Add edge from current step to next step\n",
    "            if G.has_edge(steps[i], steps[i+1]):\n",
    "                # Increment weight if edge exists\n",
    "                G[steps[i]][steps[i+1]]['weight'] += count\n",
    "            else:\n",
    "                # Create new edge with weight\n",
    "                G.add_edge(steps[i], steps[i+1], weight=count)\n",
    "\n",
    "# Calculate node sizes based on total frequency\n",
    "node_counts = {node: 0 for node in states}\n",
    "for path, count in path_counts.items():\n",
    "    steps = path.split('_')\n",
    "    for step in steps:\n",
    "        if step in node_counts:\n",
    "            node_counts[step] += count\n",
    "\n",
    "colors = ['salmon', '#F899F3', '#73FABD', '#6ED1F8','#E0F26D', '#106ED3']\n",
    "\n",
    "# Create a clean, minimal figure with white background\n",
    "plt.figure(figsize=(7, 6), facecolor='white')\n",
    "\n",
    "# Define a nice pastel color palette\n",
    "pastel_colors = {\n",
    "    'add': '#106ED3',      # Light periwinkle\n",
    "    'checkout': '#6ED1F8',  # Light peach\n",
    "    'modal': '#73FABD',    # Light lime\n",
    "    'purchase': '#E0F26D',  # Light mint\n",
    "    'disable': '#F899F3',   # Light salmon\n",
    "    'uninstall': 'salmon'  # Light coral\n",
    "}\n",
    "\n",
    "# Define edge color (soft gray)\n",
    "edge_color = '#555'\n",
    "\n",
    "# Define node positions in a clear horizontal flow layout\n",
    "positions = {\n",
    "    'add': (0, 0),\n",
    "    'checkout': (2, 0),\n",
    "    'modal': (4, 0),\n",
    "    'purchase': (6, 2),\n",
    "    'disable': (6, 0),\n",
    "    'uninstall': (6, -2),\n",
    "}\n",
    "\n",
    "# Normalize edge widths for better visualization\n",
    "max_edge_weight = max([G[u][v]['weight'] for u, v in G.edges()])\n",
    "edge_widths = [1.5 + (G[u][v]['weight'] / max_edge_weight) * 4 for u, v in G.edges()]\n",
    "\n",
    "# Normalize node sizes\n",
    "max_node_count = max(node_counts.values())\n",
    "node_sizes = {node: 800 + (count / max_node_count) * 1200 for node, count in node_counts.items()}\n",
    "\n",
    "# Draw nodes with custom colors and sizes\n",
    "for node in G.nodes():\n",
    "    nx.draw_networkx_nodes(\n",
    "        G, positions, \n",
    "        nodelist=[node],\n",
    "        node_size=node_sizes[node],\n",
    "        node_color=pastel_colors[node],\n",
    "        edgecolors='#888888',\n",
    "        linewidths=1,\n",
    "        alpha=0.9\n",
    "    )\n",
    "\n",
    "# Draw edges with slight curve, tapered edges would be ideal but requires more complex code\n",
    "for u, v, data in G.edges(data=True):\n",
    "    weight = data['weight']\n",
    "    normalized_weight = 1.5 + (weight / max_edge_weight) * 4\n",
    "    \n",
    "    # Calculate edge opacity based on weight\n",
    "    alpha = 0.1 + (weight / max_edge_weight) * 0.6\n",
    "    \n",
    "    # Draw curved arrows\n",
    "    plt.arrow(\n",
    "        positions[u][0] + .35, positions[u][1],           # start\n",
    "        positions[v][0] - positions[u][0] - .7,          # dx\n",
    "        positions[v][1] - positions[u][1],          # dy\n",
    "        head_width=0.3,\n",
    "        head_length=0.3,\n",
    "        fc=edge_color,\n",
    "        ec=edge_color,\n",
    "        alpha=alpha,\n",
    "        length_includes_head=True,\n",
    "        width=2/40,                 # width of arrow body\n",
    "    )\n",
    "\n",
    "# Add elegant, clean labels to nodes\n",
    "for node, (x, y) in positions.items():\n",
    "    plt.text(\n",
    "        x, y-0.5,\n",
    "        f\"{node.capitalize()}\\n({node_counts[node]})\",\n",
    "        fontsize=11,\n",
    "        ha='center',\n",
    "        va='center',\n",
    "        fontfamily='sans-serif',\n",
    "        fontweight='medium',\n",
    "        bbox=dict(\n",
    "            boxstyle=\"round,pad=0.3\",\n",
    "            fc=\"white\",\n",
    "            ec=\"none\",\n",
    "            alpha=0.7\n",
    "        )\n",
    "    )\n",
    "\n",
    "# Add edge labels using a cleaner approach\n",
    "for u, v, data in G.edges(data=True):\n",
    "    x1, y1 = positions[u]\n",
    "    x2, y2 = positions[v]\n",
    "    # Position labels slightly off the direct line\n",
    "    label_pos_x = (x1 + x2) / 2\n",
    "    label_pos_y = (y1 + y2) / 2 -.2\n",
    "    \n",
    "    # Add a small offset based on the positions\n",
    "    if y1 == y2:  # horizontal edge\n",
    "        offset = 0.15\n",
    "    else:  # diagonal edge\n",
    "        offset = 0.2\n",
    "        \n",
    "    if y2 > y1:  # going up\n",
    "        label_pos_y += offset\n",
    "    else:  # going down or flat\n",
    "        label_pos_y -= offset\n",
    "\n",
    "    plt.text(\n",
    "        label_pos_x, label_pos_y,\n",
    "        str(data['weight']),\n",
    "        fontsize=12,\n",
    "        ha='center',\n",
    "        va='center',\n",
    "        fontfamily='sans-serif',\n",
    "        color='#555555',\n",
    "        bbox=dict(\n",
    "            boxstyle=\"round,pad=0.1\",\n",
    "            fc=\"white\",\n",
    "            ec=\"none\",\n",
    "            alpha=0.7\n",
    "        )\n",
    "    )\n",
    "\n",
    "# Add a clean, minimal title\n",
    "plt.text(\n",
    "    3, 2,\n",
    "    'User Journey Flow',\n",
    "    fontsize=16,\n",
    "    ha='center',\n",
    "    fontfamily='sans-serif',\n",
    "    fontweight='bold',\n",
    "    color='#333333'\n",
    ")\n",
    "\n",
    "# Remove axes completely\n",
    "plt.axis('off')\n",
    "plt.tight_layout()\n",
    "\n",
    "# Set equal aspect ratio to make the graph more balanced\n",
    "plt.gca().set_aspect('equal', adjustable='datalim')\n",
    "\n",
    "plt.show()"
   ]
  },
  {
   "cell_type": "code",
   "execution_count": 173,
   "id": "681facbc",
   "metadata": {},
   "outputs": [
    {
     "data": {
      "application/vnd.plotly.v1+json": {
       "config": {
        "plotlyServerURL": "https://plot.ly"
       },
       "data": [
        {
         "link": {
          "source": [
           1,
           1,
           0,
           5,
           5,
           1,
           5,
           1,
           0,
           5,
           1,
           0,
           5,
           1,
           0
          ],
          "target": [
           0,
           0,
           3,
           1,
           1,
           0,
           1,
           0,
           2,
           1,
           0,
           4,
           1,
           0,
           3
          ],
          "value": [
           1,
           2,
           2,
           5,
           3,
           3,
           3,
           3,
           3,
           1,
           1,
           1,
           1,
           1,
           1
          ]
         },
         "node": {
          "color": [
           "rgba(31, 119, 180, 0.8)",
           "rgba(255, 127, 14, 0.8)",
           "rgba(44, 160, 44, 0.8)",
           "rgba(214, 39, 40, 0.8)",
           "rgba(148, 103, 189, 0.8)",
           "rgba(140, 86, 75, 0.8)"
          ],
          "label": [
           "Modal",
           "Checkout",
           "Uninstall",
           "Disable",
           "Purchase",
           "Add"
          ],
          "line": {
           "color": "black",
           "width": 0.5
          },
          "pad": 15,
          "thickness": 20
         },
         "type": "sankey"
        }
       ],
       "layout": {
        "font": {
         "size": 12
        },
        "height": 600,
        "template": {
         "data": {
          "bar": [
           {
            "error_x": {
             "color": "#2a3f5f"
            },
            "error_y": {
             "color": "#2a3f5f"
            },
            "marker": {
             "line": {
              "color": "#E5ECF6",
              "width": 0.5
             },
             "pattern": {
              "fillmode": "overlay",
              "size": 10,
              "solidity": 0.2
             }
            },
            "type": "bar"
           }
          ],
          "barpolar": [
           {
            "marker": {
             "line": {
              "color": "#E5ECF6",
              "width": 0.5
             },
             "pattern": {
              "fillmode": "overlay",
              "size": 10,
              "solidity": 0.2
             }
            },
            "type": "barpolar"
           }
          ],
          "carpet": [
           {
            "aaxis": {
             "endlinecolor": "#2a3f5f",
             "gridcolor": "white",
             "linecolor": "white",
             "minorgridcolor": "white",
             "startlinecolor": "#2a3f5f"
            },
            "baxis": {
             "endlinecolor": "#2a3f5f",
             "gridcolor": "white",
             "linecolor": "white",
             "minorgridcolor": "white",
             "startlinecolor": "#2a3f5f"
            },
            "type": "carpet"
           }
          ],
          "choropleth": [
           {
            "colorbar": {
             "outlinewidth": 0,
             "ticks": ""
            },
            "type": "choropleth"
           }
          ],
          "contour": [
           {
            "colorbar": {
             "outlinewidth": 0,
             "ticks": ""
            },
            "colorscale": [
             [
              0,
              "#0d0887"
             ],
             [
              0.1111111111111111,
              "#46039f"
             ],
             [
              0.2222222222222222,
              "#7201a8"
             ],
             [
              0.3333333333333333,
              "#9c179e"
             ],
             [
              0.4444444444444444,
              "#bd3786"
             ],
             [
              0.5555555555555556,
              "#d8576b"
             ],
             [
              0.6666666666666666,
              "#ed7953"
             ],
             [
              0.7777777777777778,
              "#fb9f3a"
             ],
             [
              0.8888888888888888,
              "#fdca26"
             ],
             [
              1,
              "#f0f921"
             ]
            ],
            "type": "contour"
           }
          ],
          "contourcarpet": [
           {
            "colorbar": {
             "outlinewidth": 0,
             "ticks": ""
            },
            "type": "contourcarpet"
           }
          ],
          "heatmap": [
           {
            "colorbar": {
             "outlinewidth": 0,
             "ticks": ""
            },
            "colorscale": [
             [
              0,
              "#0d0887"
             ],
             [
              0.1111111111111111,
              "#46039f"
             ],
             [
              0.2222222222222222,
              "#7201a8"
             ],
             [
              0.3333333333333333,
              "#9c179e"
             ],
             [
              0.4444444444444444,
              "#bd3786"
             ],
             [
              0.5555555555555556,
              "#d8576b"
             ],
             [
              0.6666666666666666,
              "#ed7953"
             ],
             [
              0.7777777777777778,
              "#fb9f3a"
             ],
             [
              0.8888888888888888,
              "#fdca26"
             ],
             [
              1,
              "#f0f921"
             ]
            ],
            "type": "heatmap"
           }
          ],
          "histogram": [
           {
            "marker": {
             "pattern": {
              "fillmode": "overlay",
              "size": 10,
              "solidity": 0.2
             }
            },
            "type": "histogram"
           }
          ],
          "histogram2d": [
           {
            "colorbar": {
             "outlinewidth": 0,
             "ticks": ""
            },
            "colorscale": [
             [
              0,
              "#0d0887"
             ],
             [
              0.1111111111111111,
              "#46039f"
             ],
             [
              0.2222222222222222,
              "#7201a8"
             ],
             [
              0.3333333333333333,
              "#9c179e"
             ],
             [
              0.4444444444444444,
              "#bd3786"
             ],
             [
              0.5555555555555556,
              "#d8576b"
             ],
             [
              0.6666666666666666,
              "#ed7953"
             ],
             [
              0.7777777777777778,
              "#fb9f3a"
             ],
             [
              0.8888888888888888,
              "#fdca26"
             ],
             [
              1,
              "#f0f921"
             ]
            ],
            "type": "histogram2d"
           }
          ],
          "histogram2dcontour": [
           {
            "colorbar": {
             "outlinewidth": 0,
             "ticks": ""
            },
            "colorscale": [
             [
              0,
              "#0d0887"
             ],
             [
              0.1111111111111111,
              "#46039f"
             ],
             [
              0.2222222222222222,
              "#7201a8"
             ],
             [
              0.3333333333333333,
              "#9c179e"
             ],
             [
              0.4444444444444444,
              "#bd3786"
             ],
             [
              0.5555555555555556,
              "#d8576b"
             ],
             [
              0.6666666666666666,
              "#ed7953"
             ],
             [
              0.7777777777777778,
              "#fb9f3a"
             ],
             [
              0.8888888888888888,
              "#fdca26"
             ],
             [
              1,
              "#f0f921"
             ]
            ],
            "type": "histogram2dcontour"
           }
          ],
          "mesh3d": [
           {
            "colorbar": {
             "outlinewidth": 0,
             "ticks": ""
            },
            "type": "mesh3d"
           }
          ],
          "parcoords": [
           {
            "line": {
             "colorbar": {
              "outlinewidth": 0,
              "ticks": ""
             }
            },
            "type": "parcoords"
           }
          ],
          "pie": [
           {
            "automargin": true,
            "type": "pie"
           }
          ],
          "scatter": [
           {
            "fillpattern": {
             "fillmode": "overlay",
             "size": 10,
             "solidity": 0.2
            },
            "type": "scatter"
           }
          ],
          "scatter3d": [
           {
            "line": {
             "colorbar": {
              "outlinewidth": 0,
              "ticks": ""
             }
            },
            "marker": {
             "colorbar": {
              "outlinewidth": 0,
              "ticks": ""
             }
            },
            "type": "scatter3d"
           }
          ],
          "scattercarpet": [
           {
            "marker": {
             "colorbar": {
              "outlinewidth": 0,
              "ticks": ""
             }
            },
            "type": "scattercarpet"
           }
          ],
          "scattergeo": [
           {
            "marker": {
             "colorbar": {
              "outlinewidth": 0,
              "ticks": ""
             }
            },
            "type": "scattergeo"
           }
          ],
          "scattergl": [
           {
            "marker": {
             "colorbar": {
              "outlinewidth": 0,
              "ticks": ""
             }
            },
            "type": "scattergl"
           }
          ],
          "scattermap": [
           {
            "marker": {
             "colorbar": {
              "outlinewidth": 0,
              "ticks": ""
             }
            },
            "type": "scattermap"
           }
          ],
          "scattermapbox": [
           {
            "marker": {
             "colorbar": {
              "outlinewidth": 0,
              "ticks": ""
             }
            },
            "type": "scattermapbox"
           }
          ],
          "scatterpolar": [
           {
            "marker": {
             "colorbar": {
              "outlinewidth": 0,
              "ticks": ""
             }
            },
            "type": "scatterpolar"
           }
          ],
          "scatterpolargl": [
           {
            "marker": {
             "colorbar": {
              "outlinewidth": 0,
              "ticks": ""
             }
            },
            "type": "scatterpolargl"
           }
          ],
          "scatterternary": [
           {
            "marker": {
             "colorbar": {
              "outlinewidth": 0,
              "ticks": ""
             }
            },
            "type": "scatterternary"
           }
          ],
          "surface": [
           {
            "colorbar": {
             "outlinewidth": 0,
             "ticks": ""
            },
            "colorscale": [
             [
              0,
              "#0d0887"
             ],
             [
              0.1111111111111111,
              "#46039f"
             ],
             [
              0.2222222222222222,
              "#7201a8"
             ],
             [
              0.3333333333333333,
              "#9c179e"
             ],
             [
              0.4444444444444444,
              "#bd3786"
             ],
             [
              0.5555555555555556,
              "#d8576b"
             ],
             [
              0.6666666666666666,
              "#ed7953"
             ],
             [
              0.7777777777777778,
              "#fb9f3a"
             ],
             [
              0.8888888888888888,
              "#fdca26"
             ],
             [
              1,
              "#f0f921"
             ]
            ],
            "type": "surface"
           }
          ],
          "table": [
           {
            "cells": {
             "fill": {
              "color": "#EBF0F8"
             },
             "line": {
              "color": "white"
             }
            },
            "header": {
             "fill": {
              "color": "#C8D4E3"
             },
             "line": {
              "color": "white"
             }
            },
            "type": "table"
           }
          ]
         },
         "layout": {
          "annotationdefaults": {
           "arrowcolor": "#2a3f5f",
           "arrowhead": 0,
           "arrowwidth": 1
          },
          "autotypenumbers": "strict",
          "coloraxis": {
           "colorbar": {
            "outlinewidth": 0,
            "ticks": ""
           }
          },
          "colorscale": {
           "diverging": [
            [
             0,
             "#8e0152"
            ],
            [
             0.1,
             "#c51b7d"
            ],
            [
             0.2,
             "#de77ae"
            ],
            [
             0.3,
             "#f1b6da"
            ],
            [
             0.4,
             "#fde0ef"
            ],
            [
             0.5,
             "#f7f7f7"
            ],
            [
             0.6,
             "#e6f5d0"
            ],
            [
             0.7,
             "#b8e186"
            ],
            [
             0.8,
             "#7fbc41"
            ],
            [
             0.9,
             "#4d9221"
            ],
            [
             1,
             "#276419"
            ]
           ],
           "sequential": [
            [
             0,
             "#0d0887"
            ],
            [
             0.1111111111111111,
             "#46039f"
            ],
            [
             0.2222222222222222,
             "#7201a8"
            ],
            [
             0.3333333333333333,
             "#9c179e"
            ],
            [
             0.4444444444444444,
             "#bd3786"
            ],
            [
             0.5555555555555556,
             "#d8576b"
            ],
            [
             0.6666666666666666,
             "#ed7953"
            ],
            [
             0.7777777777777778,
             "#fb9f3a"
            ],
            [
             0.8888888888888888,
             "#fdca26"
            ],
            [
             1,
             "#f0f921"
            ]
           ],
           "sequentialminus": [
            [
             0,
             "#0d0887"
            ],
            [
             0.1111111111111111,
             "#46039f"
            ],
            [
             0.2222222222222222,
             "#7201a8"
            ],
            [
             0.3333333333333333,
             "#9c179e"
            ],
            [
             0.4444444444444444,
             "#bd3786"
            ],
            [
             0.5555555555555556,
             "#d8576b"
            ],
            [
             0.6666666666666666,
             "#ed7953"
            ],
            [
             0.7777777777777778,
             "#fb9f3a"
            ],
            [
             0.8888888888888888,
             "#fdca26"
            ],
            [
             1,
             "#f0f921"
            ]
           ]
          },
          "colorway": [
           "#636efa",
           "#EF553B",
           "#00cc96",
           "#ab63fa",
           "#FFA15A",
           "#19d3f3",
           "#FF6692",
           "#B6E880",
           "#FF97FF",
           "#FECB52"
          ],
          "font": {
           "color": "#2a3f5f"
          },
          "geo": {
           "bgcolor": "white",
           "lakecolor": "white",
           "landcolor": "#E5ECF6",
           "showlakes": true,
           "showland": true,
           "subunitcolor": "white"
          },
          "hoverlabel": {
           "align": "left"
          },
          "hovermode": "closest",
          "mapbox": {
           "style": "light"
          },
          "paper_bgcolor": "white",
          "plot_bgcolor": "#E5ECF6",
          "polar": {
           "angularaxis": {
            "gridcolor": "white",
            "linecolor": "white",
            "ticks": ""
           },
           "bgcolor": "#E5ECF6",
           "radialaxis": {
            "gridcolor": "white",
            "linecolor": "white",
            "ticks": ""
           }
          },
          "scene": {
           "xaxis": {
            "backgroundcolor": "#E5ECF6",
            "gridcolor": "white",
            "gridwidth": 2,
            "linecolor": "white",
            "showbackground": true,
            "ticks": "",
            "zerolinecolor": "white"
           },
           "yaxis": {
            "backgroundcolor": "#E5ECF6",
            "gridcolor": "white",
            "gridwidth": 2,
            "linecolor": "white",
            "showbackground": true,
            "ticks": "",
            "zerolinecolor": "white"
           },
           "zaxis": {
            "backgroundcolor": "#E5ECF6",
            "gridcolor": "white",
            "gridwidth": 2,
            "linecolor": "white",
            "showbackground": true,
            "ticks": "",
            "zerolinecolor": "white"
           }
          },
          "shapedefaults": {
           "line": {
            "color": "#2a3f5f"
           }
          },
          "ternary": {
           "aaxis": {
            "gridcolor": "white",
            "linecolor": "white",
            "ticks": ""
           },
           "baxis": {
            "gridcolor": "white",
            "linecolor": "white",
            "ticks": ""
           },
           "bgcolor": "#E5ECF6",
           "caxis": {
            "gridcolor": "white",
            "linecolor": "white",
            "ticks": ""
           }
          },
          "title": {
           "x": 0.05
          },
          "xaxis": {
           "automargin": true,
           "gridcolor": "white",
           "linecolor": "white",
           "ticks": "",
           "title": {
            "standoff": 15
           },
           "zerolinecolor": "white",
           "zerolinewidth": 2
          },
          "yaxis": {
           "automargin": true,
           "gridcolor": "white",
           "linecolor": "white",
           "ticks": "",
           "title": {
            "standoff": 15
           },
           "zerolinecolor": "white",
           "zerolinewidth": 2
          }
         }
        },
        "title": {
         "text": "User Journey Flow"
        }
       }
      }
     },
     "metadata": {},
     "output_type": "display_data"
    }
   ],
   "source": [
    "# Create a more detailed Sankey diagram based on actual paths\n",
    "try:\n",
    "    import plotly.graph_objects as go\n",
    "    \n",
    "    # Get all steps that have occurred in our paths\n",
    "    all_steps = set()\n",
    "    for path in path_counts.keys():\n",
    "        if path_counts[path] > 0:\n",
    "            steps = path.split('_')\n",
    "            all_steps.update(steps)\n",
    "    \n",
    "    # Create a mapping from step names to indices for the Sankey diagram\n",
    "    step_indices = {step: i for i, step in enumerate(all_steps)}\n",
    "    \n",
    "    # Prepare sources, targets and values for Sankey diagram\n",
    "    sources = []\n",
    "    targets = []\n",
    "    values = []\n",
    "    \n",
    "    # Process each path to create the flow links\n",
    "    for path, count in path_counts.items():\n",
    "        if count > 0:  # Only consider paths that have occurred\n",
    "            steps = path.split('_')\n",
    "            for i in range(len(steps)-1):\n",
    "                # Add link from current step to next step\n",
    "                sources.append(step_indices[steps[i]])\n",
    "                targets.append(step_indices[steps[i+1]])\n",
    "                values.append(count)\n",
    "    \n",
    "    # Prettier node labels with capitalization\n",
    "    node_labels = [step.capitalize() for step in all_steps]\n",
    "    \n",
    "    # Define node colors\n",
    "    node_colors = [\n",
    "        'rgba(31, 119, 180, 0.8)',   # Blue\n",
    "        'rgba(255, 127, 14, 0.8)',    # Orange\n",
    "        'rgba(44, 160, 44, 0.8)',     # Green\n",
    "        'rgba(214, 39, 40, 0.8)',     # Red\n",
    "        'rgba(148, 103, 189, 0.8)',   # Purple\n",
    "        'rgba(140, 86, 75, 0.8)',     # Brown\n",
    "        'rgba(227, 119, 194, 0.8)',   # Pink\n",
    "        'rgba(188, 189, 34, 0.8)'     # Olive\n",
    "    ]\n",
    "    \n",
    "    # Create the Sankey diagram\n",
    "    fig = go.Figure(data=[go.Sankey(\n",
    "        node=dict(\n",
    "            pad=15,\n",
    "            thickness=20,\n",
    "            line=dict(color='black', width=0.5),\n",
    "            label=node_labels,\n",
    "            color=node_colors[:len(node_labels)]\n",
    "        ),\n",
    "        link=dict(\n",
    "            source=sources,\n",
    "            target=targets,\n",
    "            value=values\n",
    "        ))\n",
    "    ])\n",
    "    \n",
    "    # Update layout\n",
    "    fig.update_layout(\n",
    "        title_text='User Journey Flow',\n",
    "        font_size=12,\n",
    "        height=600\n",
    "    )\n",
    "    \n",
    "    fig.show()\n",
    "except ImportError:\n",
    "    print(\"Plotly is required for Sankey diagram. Install with: !pip install plotly\")\n"
   ]
  },
  {
   "cell_type": "code",
   "execution_count": 174,
   "id": "403d9bdd",
   "metadata": {},
   "outputs": [
    {
     "data": {
      "text/html": [
       "<script type=\"esms-options\">{\"shimMode\": true}</script><style>*[data-root-id],\n",
       "*[data-root-id] > * {\n",
       "  box-sizing: border-box;\n",
       "  font-family: var(--jp-ui-font-family);\n",
       "  font-size: var(--jp-ui-font-size1);\n",
       "  color: var(--vscode-editor-foreground, var(--jp-ui-font-color1));\n",
       "}\n",
       "\n",
       "/* Override VSCode background color */\n",
       ".cell-output-ipywidget-background:has(\n",
       "    > .cell-output-ipywidget-background > .lm-Widget > *[data-root-id]\n",
       "  ),\n",
       ".cell-output-ipywidget-background:has(> .lm-Widget > *[data-root-id]) {\n",
       "  background-color: transparent !important;\n",
       "}\n",
       "</style>"
      ]
     },
     "metadata": {},
     "output_type": "display_data"
    },
    {
     "data": {
      "application/javascript": "(function(root) {\n  function now() {\n    return new Date();\n  }\n\n  const force = true;\n  const py_version = '3.7.3'.replace('rc', '-rc.').replace('.dev', '-dev.');\n  const reloading = false;\n  const Bokeh = root.Bokeh;\n\n  // Set a timeout for this load but only if we are not already initializing\n  if (typeof (root._bokeh_timeout) === \"undefined\" || (force || !root._bokeh_is_initializing)) {\n    root._bokeh_timeout = Date.now() + 5000;\n    root._bokeh_failed_load = false;\n  }\n\n  function run_callbacks() {\n    try {\n      root._bokeh_onload_callbacks.forEach(function(callback) {\n        if (callback != null)\n          callback();\n      });\n    } finally {\n      delete root._bokeh_onload_callbacks;\n    }\n    console.debug(\"Bokeh: all callbacks have finished\");\n  }\n\n  function load_libs(css_urls, js_urls, js_modules, js_exports, callback) {\n    if (css_urls == null) css_urls = [];\n    if (js_urls == null) js_urls = [];\n    if (js_modules == null) js_modules = [];\n    if (js_exports == null) js_exports = {};\n\n    root._bokeh_onload_callbacks.push(callback);\n\n    if (root._bokeh_is_loading > 0) {\n      // Don't load bokeh if it is still initializing\n      console.debug(\"Bokeh: BokehJS is being loaded, scheduling callback at\", now());\n      return null;\n    } else if (js_urls.length === 0 && js_modules.length === 0 && Object.keys(js_exports).length === 0) {\n      // There is nothing to load\n      run_callbacks();\n      return null;\n    }\n\n    function on_load() {\n      root._bokeh_is_loading--;\n      if (root._bokeh_is_loading === 0) {\n        console.debug(\"Bokeh: all BokehJS libraries/stylesheets loaded\");\n        run_callbacks()\n      }\n    }\n    window._bokeh_on_load = on_load\n\n    function on_error(e) {\n      const src_el = e.srcElement\n      console.error(\"failed to load \" + (src_el.href || src_el.src));\n    }\n\n    const skip = [];\n    if (window.requirejs) {\n      window.requirejs.config({'packages': {}, 'paths': {}, 'shim': {}});\n      root._bokeh_is_loading = css_urls.length + 0;\n    } else {\n      root._bokeh_is_loading = css_urls.length + js_urls.length + js_modules.length + Object.keys(js_exports).length;\n    }\n\n    const existing_stylesheets = []\n    const links = document.getElementsByTagName('link')\n    for (let i = 0; i < links.length; i++) {\n      const link = links[i]\n      if (link.href != null) {\n        existing_stylesheets.push(link.href)\n      }\n    }\n    for (let i = 0; i < css_urls.length; i++) {\n      const url = css_urls[i];\n      const escaped = encodeURI(url)\n      if (existing_stylesheets.indexOf(escaped) !== -1) {\n        on_load()\n        continue;\n      }\n      const element = document.createElement(\"link\");\n      element.onload = on_load;\n      element.onerror = on_error;\n      element.rel = \"stylesheet\";\n      element.type = \"text/css\";\n      element.href = url;\n      console.debug(\"Bokeh: injecting link tag for BokehJS stylesheet: \", url);\n      document.body.appendChild(element);\n    }    var existing_scripts = []\n    const scripts = document.getElementsByTagName('script')\n    for (let i = 0; i < scripts.length; i++) {\n      var script = scripts[i]\n      if (script.src != null) {\n        existing_scripts.push(script.src)\n      }\n    }\n    for (let i = 0; i < js_urls.length; i++) {\n      const url = js_urls[i];\n      const escaped = encodeURI(url)\n      if (skip.indexOf(escaped) !== -1 || existing_scripts.indexOf(escaped) !== -1) {\n        if (!window.requirejs) {\n          on_load();\n        }\n        continue;\n      }\n      const element = document.createElement('script');\n      element.onload = on_load;\n      element.onerror = on_error;\n      element.async = false;\n      element.src = url;\n      console.debug(\"Bokeh: injecting script tag for BokehJS library: \", url);\n      document.head.appendChild(element);\n    }\n    for (let i = 0; i < js_modules.length; i++) {\n      const url = js_modules[i];\n      const escaped = encodeURI(url)\n      if (skip.indexOf(escaped) !== -1 || existing_scripts.indexOf(escaped) !== -1) {\n        if (!window.requirejs) {\n          on_load();\n        }\n        continue;\n      }\n      var element = document.createElement('script');\n      element.onload = on_load;\n      element.onerror = on_error;\n      element.async = false;\n      element.src = url;\n      element.type = \"module\";\n      console.debug(\"Bokeh: injecting script tag for BokehJS library: \", url);\n      document.head.appendChild(element);\n    }\n    for (const name in js_exports) {\n      const url = js_exports[name];\n      const escaped = encodeURI(url)\n      if (skip.indexOf(escaped) >= 0 || root[name] != null) {\n        if (!window.requirejs) {\n          on_load();\n        }\n        continue;\n      }\n      var element = document.createElement('script');\n      element.onerror = on_error;\n      element.async = false;\n      element.type = \"module\";\n      console.debug(\"Bokeh: injecting script tag for BokehJS library: \", url);\n      element.textContent = `\n      import ${name} from \"${url}\"\n      window.${name} = ${name}\n      window._bokeh_on_load()\n      `\n      document.head.appendChild(element);\n    }\n    if (!js_urls.length && !js_modules.length) {\n      on_load()\n    }\n  };\n\n  function inject_raw_css(css) {\n    const element = document.createElement(\"style\");\n    element.appendChild(document.createTextNode(css));\n    document.body.appendChild(element);\n  }\n\n  const js_urls = [\"https://cdn.holoviz.org/panel/1.6.3/dist/bundled/reactiveesm/es-module-shims@^1.10.0/dist/es-module-shims.min.js\", \"https://cdn.bokeh.org/bokeh/release/bokeh-3.7.3.min.js\", \"https://cdn.bokeh.org/bokeh/release/bokeh-gl-3.7.3.min.js\", \"https://cdn.bokeh.org/bokeh/release/bokeh-widgets-3.7.3.min.js\", \"https://cdn.bokeh.org/bokeh/release/bokeh-tables-3.7.3.min.js\", \"https://cdn.holoviz.org/panel/1.6.3/dist/panel.min.js\"];\n  const js_modules = [];\n  const js_exports = {};\n  const css_urls = [];\n  const inline_js = [    function(Bokeh) {\n      Bokeh.set_log_level(\"info\");\n    },\nfunction(Bokeh) {} // ensure no trailing comma for IE\n  ];\n\n  function run_inline_js() {\n    if ((root.Bokeh !== undefined) || (force === true)) {\n      for (let i = 0; i < inline_js.length; i++) {\n        try {\n          inline_js[i].call(root, root.Bokeh);\n        } catch(e) {\n          if (!reloading) {\n            throw e;\n          }\n        }\n      }\n      // Cache old bokeh versions\n      if (Bokeh != undefined && !reloading) {\n        var NewBokeh = root.Bokeh;\n        if (Bokeh.versions === undefined) {\n          Bokeh.versions = new Map();\n        }\n        if (NewBokeh.version !== Bokeh.version) {\n          Bokeh.versions.set(NewBokeh.version, NewBokeh)\n        }\n        root.Bokeh = Bokeh;\n      }\n    } else if (Date.now() < root._bokeh_timeout) {\n      setTimeout(run_inline_js, 100);\n    } else if (!root._bokeh_failed_load) {\n      console.log(\"Bokeh: BokehJS failed to load within specified timeout.\");\n      root._bokeh_failed_load = true;\n    }\n    root._bokeh_is_initializing = false\n  }\n\n  function load_or_wait() {\n    // Implement a backoff loop that tries to ensure we do not load multiple\n    // versions of Bokeh and its dependencies at the same time.\n    // In recent versions we use the root._bokeh_is_initializing flag\n    // to determine whether there is an ongoing attempt to initialize\n    // bokeh, however for backward compatibility we also try to ensure\n    // that we do not start loading a newer (Panel>=1.0 and Bokeh>3) version\n    // before older versions are fully initialized.\n    if (root._bokeh_is_initializing && Date.now() > root._bokeh_timeout) {\n      // If the timeout and bokeh was not successfully loaded we reset\n      // everything and try loading again\n      root._bokeh_timeout = Date.now() + 5000;\n      root._bokeh_is_initializing = false;\n      root._bokeh_onload_callbacks = undefined;\n      root._bokeh_is_loading = 0\n      console.log(\"Bokeh: BokehJS was loaded multiple times but one version failed to initialize.\");\n      load_or_wait();\n    } else if (root._bokeh_is_initializing || (typeof root._bokeh_is_initializing === \"undefined\" && root._bokeh_onload_callbacks !== undefined)) {\n      setTimeout(load_or_wait, 100);\n    } else {\n      root._bokeh_is_initializing = true\n      root._bokeh_onload_callbacks = []\n      const bokeh_loaded = root.Bokeh != null && (root.Bokeh.version === py_version || (root.Bokeh.versions !== undefined && root.Bokeh.versions.has(py_version)));\n      if (!reloading && !bokeh_loaded) {\n        if (root.Bokeh) {\n          root.Bokeh = undefined;\n        }\n        console.debug(\"Bokeh: BokehJS not loaded, scheduling load and callback at\", now());\n      }\n      load_libs(css_urls, js_urls, js_modules, js_exports, function() {\n        console.debug(\"Bokeh: BokehJS plotting callback run at\", now());\n        run_inline_js();\n      });\n    }\n  }\n  // Give older versions of the autoload script a head-start to ensure\n  // they initialize before we start loading newer version.\n  setTimeout(load_or_wait, 100)\n}(window));",
      "application/vnd.holoviews_load.v0+json": ""
     },
     "metadata": {},
     "output_type": "display_data"
    },
    {
     "data": {
      "application/javascript": "\nif ((window.PyViz === undefined) || (window.PyViz instanceof HTMLElement)) {\n  window.PyViz = {comms: {}, comm_status:{}, kernels:{}, receivers: {}, plot_index: []}\n}\n\n\n    function JupyterCommManager() {\n    }\n\n    JupyterCommManager.prototype.register_target = function(plot_id, comm_id, msg_handler) {\n      if (window.comm_manager || ((window.Jupyter !== undefined) && (Jupyter.notebook.kernel != null))) {\n        var comm_manager = window.comm_manager || Jupyter.notebook.kernel.comm_manager;\n        comm_manager.register_target(comm_id, function(comm) {\n          comm.on_msg(msg_handler);\n        });\n      } else if ((plot_id in window.PyViz.kernels) && (window.PyViz.kernels[plot_id])) {\n        window.PyViz.kernels[plot_id].registerCommTarget(comm_id, function(comm) {\n          comm.onMsg = msg_handler;\n        });\n      } else if (typeof google != 'undefined' && google.colab.kernel != null) {\n        google.colab.kernel.comms.registerTarget(comm_id, (comm) => {\n          var messages = comm.messages[Symbol.asyncIterator]();\n          function processIteratorResult(result) {\n            var message = result.value;\n            console.log(message)\n            var content = {data: message.data, comm_id};\n            var buffers = []\n            for (var buffer of message.buffers || []) {\n              buffers.push(new DataView(buffer))\n            }\n            var metadata = message.metadata || {};\n            var msg = {content, buffers, metadata}\n            msg_handler(msg);\n            return messages.next().then(processIteratorResult);\n          }\n          return messages.next().then(processIteratorResult);\n        })\n      }\n    }\n\n    JupyterCommManager.prototype.get_client_comm = function(plot_id, comm_id, msg_handler) {\n      if (comm_id in window.PyViz.comms) {\n        return window.PyViz.comms[comm_id];\n      } else if (window.comm_manager || ((window.Jupyter !== undefined) && (Jupyter.notebook.kernel != null))) {\n        var comm_manager = window.comm_manager || Jupyter.notebook.kernel.comm_manager;\n        var comm = comm_manager.new_comm(comm_id, {}, {}, {}, comm_id);\n        if (msg_handler) {\n          comm.on_msg(msg_handler);\n        }\n      } else if ((plot_id in window.PyViz.kernels) && (window.PyViz.kernels[plot_id])) {\n        var comm = window.PyViz.kernels[plot_id].connectToComm(comm_id);\n        comm.open();\n        if (msg_handler) {\n          comm.onMsg = msg_handler;\n        }\n      } else if (typeof google != 'undefined' && google.colab.kernel != null) {\n        var comm_promise = google.colab.kernel.comms.open(comm_id)\n        comm_promise.then((comm) => {\n          window.PyViz.comms[comm_id] = comm;\n          if (msg_handler) {\n            var messages = comm.messages[Symbol.asyncIterator]();\n            function processIteratorResult(result) {\n              var message = result.value;\n              var content = {data: message.data};\n              var metadata = message.metadata || {comm_id};\n              var msg = {content, metadata}\n              msg_handler(msg);\n              return messages.next().then(processIteratorResult);\n            }\n            return messages.next().then(processIteratorResult);\n          }\n        })\n        var sendClosure = (data, metadata, buffers, disposeOnDone) => {\n          return comm_promise.then((comm) => {\n            comm.send(data, metadata, buffers, disposeOnDone);\n          });\n        };\n        var comm = {\n          send: sendClosure\n        };\n      }\n      window.PyViz.comms[comm_id] = comm;\n      return comm;\n    }\n    window.PyViz.comm_manager = new JupyterCommManager();\n    \n\n\nvar JS_MIME_TYPE = 'application/javascript';\nvar HTML_MIME_TYPE = 'text/html';\nvar EXEC_MIME_TYPE = 'application/vnd.holoviews_exec.v0+json';\nvar CLASS_NAME = 'output';\n\n/**\n * Render data to the DOM node\n */\nfunction render(props, node) {\n  var div = document.createElement(\"div\");\n  var script = document.createElement(\"script\");\n  node.appendChild(div);\n  node.appendChild(script);\n}\n\n/**\n * Handle when a new output is added\n */\nfunction handle_add_output(event, handle) {\n  var output_area = handle.output_area;\n  var output = handle.output;\n  if ((output.data == undefined) || (!output.data.hasOwnProperty(EXEC_MIME_TYPE))) {\n    return\n  }\n  var id = output.metadata[EXEC_MIME_TYPE][\"id\"];\n  var toinsert = output_area.element.find(\".\" + CLASS_NAME.split(' ')[0]);\n  if (id !== undefined) {\n    var nchildren = toinsert.length;\n    var html_node = toinsert[nchildren-1].children[0];\n    html_node.innerHTML = output.data[HTML_MIME_TYPE];\n    var scripts = [];\n    var nodelist = html_node.querySelectorAll(\"script\");\n    for (var i in nodelist) {\n      if (nodelist.hasOwnProperty(i)) {\n        scripts.push(nodelist[i])\n      }\n    }\n\n    scripts.forEach( function (oldScript) {\n      var newScript = document.createElement(\"script\");\n      var attrs = [];\n      var nodemap = oldScript.attributes;\n      for (var j in nodemap) {\n        if (nodemap.hasOwnProperty(j)) {\n          attrs.push(nodemap[j])\n        }\n      }\n      attrs.forEach(function(attr) { newScript.setAttribute(attr.name, attr.value) });\n      newScript.appendChild(document.createTextNode(oldScript.innerHTML));\n      oldScript.parentNode.replaceChild(newScript, oldScript);\n    });\n    if (JS_MIME_TYPE in output.data) {\n      toinsert[nchildren-1].children[1].textContent = output.data[JS_MIME_TYPE];\n    }\n    output_area._hv_plot_id = id;\n    if ((window.Bokeh !== undefined) && (id in Bokeh.index)) {\n      window.PyViz.plot_index[id] = Bokeh.index[id];\n    } else {\n      window.PyViz.plot_index[id] = null;\n    }\n  } else if (output.metadata[EXEC_MIME_TYPE][\"server_id\"] !== undefined) {\n    var bk_div = document.createElement(\"div\");\n    bk_div.innerHTML = output.data[HTML_MIME_TYPE];\n    var script_attrs = bk_div.children[0].attributes;\n    for (var i = 0; i < script_attrs.length; i++) {\n      toinsert[toinsert.length - 1].childNodes[1].setAttribute(script_attrs[i].name, script_attrs[i].value);\n    }\n    // store reference to server id on output_area\n    output_area._bokeh_server_id = output.metadata[EXEC_MIME_TYPE][\"server_id\"];\n  }\n}\n\n/**\n * Handle when an output is cleared or removed\n */\nfunction handle_clear_output(event, handle) {\n  var id = handle.cell.output_area._hv_plot_id;\n  var server_id = handle.cell.output_area._bokeh_server_id;\n  if (((id === undefined) || !(id in PyViz.plot_index)) && (server_id !== undefined)) { return; }\n  var comm = window.PyViz.comm_manager.get_client_comm(\"hv-extension-comm\", \"hv-extension-comm\", function () {});\n  if (server_id !== null) {\n    comm.send({event_type: 'server_delete', 'id': server_id});\n    return;\n  } else if (comm !== null) {\n    comm.send({event_type: 'delete', 'id': id});\n  }\n  delete PyViz.plot_index[id];\n  if ((window.Bokeh !== undefined) & (id in window.Bokeh.index)) {\n    var doc = window.Bokeh.index[id].model.document\n    doc.clear();\n    const i = window.Bokeh.documents.indexOf(doc);\n    if (i > -1) {\n      window.Bokeh.documents.splice(i, 1);\n    }\n  }\n}\n\n/**\n * Handle kernel restart event\n */\nfunction handle_kernel_cleanup(event, handle) {\n  delete PyViz.comms[\"hv-extension-comm\"];\n  window.PyViz.plot_index = {}\n}\n\n/**\n * Handle update_display_data messages\n */\nfunction handle_update_output(event, handle) {\n  handle_clear_output(event, {cell: {output_area: handle.output_area}})\n  handle_add_output(event, handle)\n}\n\nfunction register_renderer(events, OutputArea) {\n  function append_mime(data, metadata, element) {\n    // create a DOM node to render to\n    var toinsert = this.create_output_subarea(\n    metadata,\n    CLASS_NAME,\n    EXEC_MIME_TYPE\n    );\n    this.keyboard_manager.register_events(toinsert);\n    // Render to node\n    var props = {data: data, metadata: metadata[EXEC_MIME_TYPE]};\n    render(props, toinsert[0]);\n    element.append(toinsert);\n    return toinsert\n  }\n\n  events.on('output_added.OutputArea', handle_add_output);\n  events.on('output_updated.OutputArea', handle_update_output);\n  events.on('clear_output.CodeCell', handle_clear_output);\n  events.on('delete.Cell', handle_clear_output);\n  events.on('kernel_ready.Kernel', handle_kernel_cleanup);\n\n  OutputArea.prototype.register_mime_type(EXEC_MIME_TYPE, append_mime, {\n    safe: true,\n    index: 0\n  });\n}\n\nif (window.Jupyter !== undefined) {\n  try {\n    var events = require('base/js/events');\n    var OutputArea = require('notebook/js/outputarea').OutputArea;\n    if (OutputArea.prototype.mime_types().indexOf(EXEC_MIME_TYPE) == -1) {\n      register_renderer(events, OutputArea);\n    }\n  } catch(err) {\n  }\n}\n",
      "application/vnd.holoviews_load.v0+json": ""
     },
     "metadata": {},
     "output_type": "display_data"
    },
    {
     "data": {
      "application/vnd.holoviews_exec.v0+json": "",
      "text/html": [
       "<div id='0b22d6b6-3f57-4a39-8ba6-5cdfa8db694d'>\n",
       "  <div id=\"ba124ed5-7a17-46d5-adac-2ea548603efb\" data-root-id=\"0b22d6b6-3f57-4a39-8ba6-5cdfa8db694d\" style=\"display: contents;\"></div>\n",
       "</div>\n",
       "<script type=\"application/javascript\">(function(root) {\n",
       "  var docs_json = {\"ff84c7bc-189d-4933-b2a0-bfd2bdf4a40e\":{\"version\":\"3.7.3\",\"title\":\"Bokeh Application\",\"roots\":[{\"type\":\"object\",\"name\":\"panel.models.browser.BrowserInfo\",\"id\":\"0b22d6b6-3f57-4a39-8ba6-5cdfa8db694d\"},{\"type\":\"object\",\"name\":\"panel.models.comm_manager.CommManager\",\"id\":\"2b98f289-0f12-4799-84ce-a632752d34a6\",\"attributes\":{\"plot_id\":\"0b22d6b6-3f57-4a39-8ba6-5cdfa8db694d\",\"comm_id\":\"3012fe1006fd4a8a8c77086ea8fbc5e8\",\"client_comm_id\":\"dd6c2d8634cc48c493975dcafaa96490\"}}],\"defs\":[{\"type\":\"model\",\"name\":\"ReactiveHTML1\"},{\"type\":\"model\",\"name\":\"FlexBox1\",\"properties\":[{\"name\":\"align_content\",\"kind\":\"Any\",\"default\":\"flex-start\"},{\"name\":\"align_items\",\"kind\":\"Any\",\"default\":\"flex-start\"},{\"name\":\"flex_direction\",\"kind\":\"Any\",\"default\":\"row\"},{\"name\":\"flex_wrap\",\"kind\":\"Any\",\"default\":\"wrap\"},{\"name\":\"gap\",\"kind\":\"Any\",\"default\":\"\"},{\"name\":\"justify_content\",\"kind\":\"Any\",\"default\":\"flex-start\"}]},{\"type\":\"model\",\"name\":\"FloatPanel1\",\"properties\":[{\"name\":\"config\",\"kind\":\"Any\",\"default\":{\"type\":\"map\"}},{\"name\":\"contained\",\"kind\":\"Any\",\"default\":true},{\"name\":\"position\",\"kind\":\"Any\",\"default\":\"right-top\"},{\"name\":\"offsetx\",\"kind\":\"Any\",\"default\":null},{\"name\":\"offsety\",\"kind\":\"Any\",\"default\":null},{\"name\":\"theme\",\"kind\":\"Any\",\"default\":\"primary\"},{\"name\":\"status\",\"kind\":\"Any\",\"default\":\"normalized\"}]},{\"type\":\"model\",\"name\":\"GridStack1\",\"properties\":[{\"name\":\"ncols\",\"kind\":\"Any\",\"default\":null},{\"name\":\"nrows\",\"kind\":\"Any\",\"default\":null},{\"name\":\"allow_resize\",\"kind\":\"Any\",\"default\":true},{\"name\":\"allow_drag\",\"kind\":\"Any\",\"default\":true},{\"name\":\"state\",\"kind\":\"Any\",\"default\":[]}]},{\"type\":\"model\",\"name\":\"drag1\",\"properties\":[{\"name\":\"slider_width\",\"kind\":\"Any\",\"default\":5},{\"name\":\"slider_color\",\"kind\":\"Any\",\"default\":\"black\"},{\"name\":\"value\",\"kind\":\"Any\",\"default\":50}]},{\"type\":\"model\",\"name\":\"click1\",\"properties\":[{\"name\":\"terminal_output\",\"kind\":\"Any\",\"default\":\"\"},{\"name\":\"debug_name\",\"kind\":\"Any\",\"default\":\"\"},{\"name\":\"clears\",\"kind\":\"Any\",\"default\":0}]},{\"type\":\"model\",\"name\":\"FastWrapper1\",\"properties\":[{\"name\":\"object\",\"kind\":\"Any\",\"default\":null},{\"name\":\"style\",\"kind\":\"Any\",\"default\":null}]},{\"type\":\"model\",\"name\":\"NotificationArea1\",\"properties\":[{\"name\":\"js_events\",\"kind\":\"Any\",\"default\":{\"type\":\"map\"}},{\"name\":\"max_notifications\",\"kind\":\"Any\",\"default\":5},{\"name\":\"notifications\",\"kind\":\"Any\",\"default\":[]},{\"name\":\"position\",\"kind\":\"Any\",\"default\":\"bottom-right\"},{\"name\":\"_clear\",\"kind\":\"Any\",\"default\":0},{\"name\":\"types\",\"kind\":\"Any\",\"default\":[{\"type\":\"map\",\"entries\":[[\"type\",\"warning\"],[\"background\",\"#ffc107\"],[\"icon\",{\"type\":\"map\",\"entries\":[[\"className\",\"fas fa-exclamation-triangle\"],[\"tagName\",\"i\"],[\"color\",\"white\"]]}]]},{\"type\":\"map\",\"entries\":[[\"type\",\"info\"],[\"background\",\"#007bff\"],[\"icon\",{\"type\":\"map\",\"entries\":[[\"className\",\"fas fa-info-circle\"],[\"tagName\",\"i\"],[\"color\",\"white\"]]}]]}]}]},{\"type\":\"model\",\"name\":\"Notification\",\"properties\":[{\"name\":\"background\",\"kind\":\"Any\",\"default\":null},{\"name\":\"duration\",\"kind\":\"Any\",\"default\":3000},{\"name\":\"icon\",\"kind\":\"Any\",\"default\":null},{\"name\":\"message\",\"kind\":\"Any\",\"default\":\"\"},{\"name\":\"notification_type\",\"kind\":\"Any\",\"default\":null},{\"name\":\"_rendered\",\"kind\":\"Any\",\"default\":false},{\"name\":\"_destroyed\",\"kind\":\"Any\",\"default\":false}]},{\"type\":\"model\",\"name\":\"TemplateActions1\",\"properties\":[{\"name\":\"open_modal\",\"kind\":\"Any\",\"default\":0},{\"name\":\"close_modal\",\"kind\":\"Any\",\"default\":0}]},{\"type\":\"model\",\"name\":\"BootstrapTemplateActions1\",\"properties\":[{\"name\":\"open_modal\",\"kind\":\"Any\",\"default\":0},{\"name\":\"close_modal\",\"kind\":\"Any\",\"default\":0}]},{\"type\":\"model\",\"name\":\"TemplateEditor1\",\"properties\":[{\"name\":\"layout\",\"kind\":\"Any\",\"default\":[]}]},{\"type\":\"model\",\"name\":\"MaterialTemplateActions1\",\"properties\":[{\"name\":\"open_modal\",\"kind\":\"Any\",\"default\":0},{\"name\":\"close_modal\",\"kind\":\"Any\",\"default\":0}]},{\"type\":\"model\",\"name\":\"ReactiveESM1\",\"properties\":[{\"name\":\"esm_constants\",\"kind\":\"Any\",\"default\":{\"type\":\"map\"}}]},{\"type\":\"model\",\"name\":\"JSComponent1\",\"properties\":[{\"name\":\"esm_constants\",\"kind\":\"Any\",\"default\":{\"type\":\"map\"}}]},{\"type\":\"model\",\"name\":\"ReactComponent1\",\"properties\":[{\"name\":\"esm_constants\",\"kind\":\"Any\",\"default\":{\"type\":\"map\"}}]},{\"type\":\"model\",\"name\":\"AnyWidgetComponent1\",\"properties\":[{\"name\":\"esm_constants\",\"kind\":\"Any\",\"default\":{\"type\":\"map\"}}]},{\"type\":\"model\",\"name\":\"request_value1\",\"properties\":[{\"name\":\"fill\",\"kind\":\"Any\",\"default\":\"none\"},{\"name\":\"_synced\",\"kind\":\"Any\",\"default\":null},{\"name\":\"_request_sync\",\"kind\":\"Any\",\"default\":0}]}]}};\n",
       "  var render_items = [{\"docid\":\"ff84c7bc-189d-4933-b2a0-bfd2bdf4a40e\",\"roots\":{\"0b22d6b6-3f57-4a39-8ba6-5cdfa8db694d\":\"ba124ed5-7a17-46d5-adac-2ea548603efb\"},\"root_ids\":[\"0b22d6b6-3f57-4a39-8ba6-5cdfa8db694d\"]}];\n",
       "  var docs = Object.values(docs_json)\n",
       "  if (!docs) {\n",
       "    return\n",
       "  }\n",
       "  const py_version = docs[0].version.replace('rc', '-rc.').replace('.dev', '-dev.')\n",
       "  async function embed_document(root) {\n",
       "    var Bokeh = get_bokeh(root)\n",
       "    await Bokeh.embed.embed_items_notebook(docs_json, render_items);\n",
       "    for (const render_item of render_items) {\n",
       "      for (const root_id of render_item.root_ids) {\n",
       "\tconst id_el = document.getElementById(root_id)\n",
       "\tif (id_el.children.length && id_el.children[0].hasAttribute('data-root-id')) {\n",
       "\t  const root_el = id_el.children[0]\n",
       "\t  root_el.id = root_el.id + '-rendered'\n",
       "\t  for (const child of root_el.children) {\n",
       "            // Ensure JupyterLab does not capture keyboard shortcuts\n",
       "            // see: https://jupyterlab.readthedocs.io/en/4.1.x/extension/notebook.html#keyboard-interaction-model\n",
       "\t    child.setAttribute('data-lm-suppress-shortcuts', 'true')\n",
       "\t  }\n",
       "\t}\n",
       "      }\n",
       "    }\n",
       "  }\n",
       "  function get_bokeh(root) {\n",
       "    if (root.Bokeh === undefined) {\n",
       "      return null\n",
       "    } else if (root.Bokeh.version !== py_version) {\n",
       "      if (root.Bokeh.versions === undefined || !root.Bokeh.versions.has(py_version)) {\n",
       "\treturn null\n",
       "      }\n",
       "      return root.Bokeh.versions.get(py_version);\n",
       "    } else if (root.Bokeh.version === py_version) {\n",
       "      return root.Bokeh\n",
       "    }\n",
       "    return null\n",
       "  }\n",
       "  function is_loaded(root) {\n",
       "    var Bokeh = get_bokeh(root)\n",
       "    return (Bokeh != null && Bokeh.Panel !== undefined)\n",
       "  }\n",
       "  if (is_loaded(root)) {\n",
       "    embed_document(root);\n",
       "  } else {\n",
       "    var attempts = 0;\n",
       "    var timer = setInterval(function(root) {\n",
       "      if (is_loaded(root)) {\n",
       "        clearInterval(timer);\n",
       "        embed_document(root);\n",
       "      } else if (document.readyState == \"complete\") {\n",
       "        attempts++;\n",
       "        if (attempts > 200) {\n",
       "          clearInterval(timer);\n",
       "\t  var Bokeh = get_bokeh(root)\n",
       "\t  if (Bokeh == null || Bokeh.Panel == null) {\n",
       "            console.warn(\"Panel: ERROR: Unable to run Panel code because Bokeh or Panel library is missing\");\n",
       "\t  } else {\n",
       "\t    console.warn(\"Panel: WARNING: Attempting to render but not all required libraries could be resolved.\")\n",
       "\t    embed_document(root)\n",
       "\t  }\n",
       "        }\n",
       "      }\n",
       "    }, 25, root)\n",
       "  }\n",
       "})(window);</script>"
      ]
     },
     "metadata": {
      "application/vnd.holoviews_exec.v0+json": {
       "id": "0b22d6b6-3f57-4a39-8ba6-5cdfa8db694d"
      }
     },
     "output_type": "display_data"
    },
    {
     "data": {
      "text/html": [
       "\n",
       "<div class=\"logo-block\">\n",
       "<img src='data:image/png;base64,iVBORw0KGgoAAAANSUhEUgAAAEAAAABACAYAAACqaXHeAAAABHNCSVQICAgIfAhkiAAAAAlwSFlz\n",
       "AAAB+wAAAfsBxc2miwAAABl0RVh0U29mdHdhcmUAd3d3Lmlua3NjYXBlLm9yZ5vuPBoAAA6zSURB\n",
       "VHic7ZtpeFRVmsf/5966taWqUlUJ2UioBBJiIBAwCZtog9IOgjqACsogKtqirT2ttt069nQ/zDzt\n",
       "tI4+CrJIREFaFgWhBXpUNhHZQoKBkIUASchWla1S+3ar7r1nPkDaCAnZKoQP/D7mnPOe9/xy76n3\n",
       "nFSAW9ziFoPFNED2LLK5wcyBDObkb8ZkxuaoSYlI6ZcOKq1eWFdedqNzGHQBk9RMEwFAASkk0Xw3\n",
       "ETacDNi2vtvc7L0ROdw0AjoSotQVkKSvHQz/wRO1lScGModBFbDMaNRN1A4tUBCS3lk7BWhQkgpD\n",
       "lG4852/+7DWr1R3uHAZVQDsbh6ZPN7CyxUrCzJMRouusj0ipRwD2uKm0Zn5d2dFwzX1TCGhnmdGo\n",
       "G62Nna+isiUqhkzuKrkQaJlPEv5mFl2fvGg2t/VnzkEV8F5ioioOEWkLG86fvbpthynjdhXYZziQ\n",
       "x1hC9J2NFyi8vCTt91Fh04KGip0AaG9zuCk2wQCVyoNU3Hjezee9bq92duzzTmxsRJoy+jEZZZYo\n",
       "GTKJ6SJngdJqAfRzpze0+jHreUtPc7gpBLQnIYK6BYp/uGhw9YK688eu7v95ysgshcg9qSLMo3JC\n",
       "4jqLKQFBgdKDPoQ+Pltb8dUyQLpeDjeVgI6EgLIQFT5tEl3rn2losHVsexbZ3EyT9wE1uGdkIPcy\n",
       "BGxn8QUq1QrA5nqW5i2tLqvrrM9NK6AdkVIvL9E9bZL/oyfMVd/jqvc8LylzRBKDJSzIExwhQzuL\n",
       "QYGQj4rHfFTc8mUdu3E7yoLtbTe9gI4EqVgVkug2i5+uXGo919ixbRog+3fTbQ8qJe4ZOYNfMoTI\n",
       "OoshUNosgO60AisX15aeI2PSIp5KiFLI9ubb1vV3Qb2ltwLakUCDAkWX7/nHKRmmGIl9VgYsUhJm\n",
       "2NXjKYADtM1ygne9QQDIXlk49FBstMKx66D1v4+XuQr7vqTe0VcBHQlRWiOCbmmSYe2SqtL6q5rJ\n",
       "zsTb7lKx3FKOYC4DoqyS/B5bvLPxvD9Qtf6saxYLQGJErmDOdOMr/zo96km1nElr8bmPOBwI9COv\n",
       "HnFPRIwmkSOv9kcAS4heRsidOkpeWBgZM+UBrTFAXNYL5Vf2ii9c1trNzpYdaoVil3WIc+wdk+gQ\n",
       "noie3ecCcxt9ITcLAPWt/laGEO/9U6PmzZkenTtsSMQ8uYywJVW+grCstAvCIaAdArAsIWkRDDs/\n",
       "KzLm2YcjY1Lv0UdW73HabE9n6V66cxSzfEmuJssTpKGVp+0vHq73FwL46eOjpMpbRAnNmJFrGJNu\n",
       "Ukf9Yrz+3rghiumCKNXXWPhLYcjxGsIpoCMsIRoFITkW8AuyM8jC1+/QLx4bozCEJIq38+1rtpR6\n",
       "V/yzb8eBlRb3fo5l783N0CWolAzJHaVNzkrTzlEp2bQ2q3TC5gn6wpnoQAmwSiGh2GitnTmVMc5O\n",
       "UyfKWUKCIsU7+fZDKwqdT6DDpvkzAX4/+AMFjk0tDp5GRXLpQ2MUmhgDp5gxQT8+Y7hyPsMi8uxF\n",
       "71H0oebujHALECjFKaW9Lm68n18wXp2kVzIcABytD5iXFzg+WVXkegpAsOOYziqo0OkK76GyquC3\n",
       "ltZAzMhhqlSNmmWTE5T6e3IN05ITFLM4GdN0vtZ3ob8Jh1NAKXFbm5PtLU/eqTSlGjkNAJjdgn/N\n",
       "aedXa0tdi7+t9G0FIF49rtMSEgAs1kDLkTPO7ebm4IUWeyh1bKomXqlgMG6kJmHcSM0clYLJ8XtR\n",
       "1GTnbV3F6I5wCGikAb402npp1h1s7LQUZZSMIfALFOuL3UUrfnS8+rez7v9qcold5tilgHbO1fjK\n",
       "9ubb17u9oshxzMiUBKXWqJNxd+fqb0tLVs4lILFnK71H0Ind7uiPgACVcFJlrb0tV6DzxqqTIhUM\n",
       "CwDf1/rrVhTa33/3pGPxJYdQ2l2cbgVcQSosdx8uqnDtbGjh9SlDVSMNWhlnilfqZk42Th2ZpLpf\n",
       "xrHec5e815zrr0dfBZSwzkZfqsv+1FS1KUknUwPARVvItfKUY+cn57yP7qv07UE3p8B2uhUwLk09\n",
       "e0SCOrK+hbdYHYLjRIl71wWzv9jpEoeOHhGRrJAzyEyNiJuUqX0g2sBN5kGK6y2Blp5M3lsB9Qh4\n",
       "y2Ja6x6+i0ucmKgwMATwhSjdUu49tKrQ/pvN5d53ml2CGwCmJipmKjgmyuaXzNeL2a0AkQ01Th5j\n",
       "2DktO3Jyk8f9vcOBQHV94OK+fPumJmvQHxJoWkaKWq9Vs+yUsbq0zGT1I4RgeH2b5wef7+c7bl8F\n",
       "eKgoHVVZa8ZPEORzR6sT1BzDUAD/d9F78e2Tzv99v8D+fLVTqAKAsbGamKey1Mt9Ann4eH3gTXTz\n",
       "idWtAJ8PQWOk7NzSeQn/OTHDuEikVF1R4z8BQCy+6D1aWRfY0tTGG2OM8rRoPaeIj5ZHzJxszElN\n",
       "VM8K8JS5WOfv8mzRnQAKoEhmt8gyPM4lU9SmBK1MCQBnW4KONT86v1hZ1PbwSXPw4JWussVjtH9Y\n",
       "NCoiL9UoH/6PSu8jFrfY2t36erQHXLIEakMi1SydmzB31h3GGXFDFNPaK8Rme9B79Ixrd0WN+1ij\n",
       "NRQ/doRmuFLBkHSTOm5GruG+pFjFdAmorG4IXH1Qua6ASniclfFtDYt+oUjKipPrCQB7QBQ2lrgP\n",
       "fFzm+9XWUtcqJ3/5vDLDpJ79XHZk3u8nGZ42qlj1+ydtbxysCezrydp6ugmipNJ7WBPB5tydY0jP\n",
       "HaVNzs3QzeE4ZpTbI+ZbnSFPbVOw9vsfnVvqWnirPyCNGD08IlqtYkh2hjZ5dErEQzoNm+6ykyOt\n",
       "Lt5/PQEuSRRKo22VkydK+vvS1XEKlhCJAnsqvcVvH7f/ZU2R67eXbMEGAMiIV5oWZWiWvz5Fv2xG\n",
       "sjqNJQRvn3Rs2lji/lNP19VjAQDgD7FHhujZB9OGqYxRkZxixgRDVlqS6uEOFaJUVu0rPFzctrnF\n",
       "JqijImVp8dEKVWyUXDk92zAuMZ6bFwpBU1HrOw6AdhQgUooChb0+ItMbWJitSo5Ws3IAOGEOtL53\n",
       "0vHZih9sC4vtofZ7Qu6523V/fmGcds1TY3V36pUsBwAbSlxnVh2xLfAD/IAIMDf7XYIkNmXfpp2l\n",
       "18rkAJAy9HKFaIr/qULkeQQKy9zf1JgDB2uaeFNGijo5QsUyacNUUTOnGO42xSnv4oOwpDi1zYkc\n",
       "efUc3I5Gk6PhyTuVKaOGyLUAYPGIoY9Pu/atL/L92+4q9wbflRJ2Trpm/jPjdBtfnqB/dIThcl8A\n",
       "KG7hbRuKnb8qsQsVvVlTrwQAQMUlf3kwJI24Z4JhPMtcfng5GcH49GsrxJpGvvHIaeem2ma+KSjQ\n",
       "lIwUdYyCY8j4dE1KzijNnIP2llF2wcXNnsoapw9XxsgYAl6k+KzUXbi2yP3KR2ecf6z3BFsBICdW\n",
       "nvnIaG3eHybqX7vbpEqUMT+9OL4Qpe8VON7dXuFd39v19FoAABRVePbGGuXTszO0P7tu6lghUonE\n",
       "llRdrhArLvmKdh9u29jcFiRRkfLUxBiFNiqSU9icoZQHo5mYBI1MBgBH6wMNb+U7Pnw337H4gi1Y\n",
       "ciWs+uks3Z9fztUvfzxTm9Ne8XXkvQLHNytOOZeiD4e0PgkAIAYCYknKUNUDSXEKzdWNpnil7r4p\n",
       "xqkjTarZMtk/K8TQ6Qve78qqvXurGwIJqcOUKfUWHsm8KGvxSP68YudXq4pcj39X49uOK2X142O0\n",
       "Tz5/u/7TVybqH0rSya6ZBwD21/gubbrgWdDgEOx9WUhfBaC2ibcEBYm7a7x+ukrBMNcEZggyR0TE\n",
       "T8zUPjikQ4VosQZbTpS4vqizBKvqmvjsqnpfzaZyx9JPiz1/bfGKdgD45XB1zoIMzYbfTdS/NClB\n",
       "Gct0USiY3YL/g0LHy/uq/Ef6uo5+n0R/vyhp17Klpge763f8rMu6YU/zrn2nml+2WtH+Z+5IAAFc\n",
       "2bUTdTDOSNa9+cQY7YLsOIXhevEkCvzph7a8laecz/Un/z4/Ae04XeL3UQb57IwU9ZDr9UuKVajv\n",
       "nxp1+1UVIo/LjztZkKH59fO3G/JemqCfmaCRqbqbd90ZZ8FfjtkfAyD0J/9+C2h1hDwsSxvGjNDc\n",
       "b4zk5NfrSwiQblLHzZhg+Jf4aPlUwpDqkQqa9nimbt1/TDH8OitGMaQnj+RJS6B1fbF7SY1TqO5v\n",
       "/v0WAADl1f7zokgS7s7VT2DZ7pegUjBM7mjtiDZbcN4j0YrHH0rXpCtY0qPX0cVL0rv5jv/ZXend\n",
       "0u/EESYBAFBU4T4Qa5TflZOhTe7pmKpaP8kCVUVw1+yhXfJWvn1P3hnXi33JsTN6PnP3hHZ8Z3/h\n",
       "aLHzmkNPuPj7Bc/F/Q38CwjTpSwQXgE4Vmwry9tpfq/ZFgqFMy4AVDtCvi8rvMvOmv0N4YwbVgEA\n",
       "sPM72/KVnzfspmH7HQGCRLG2yL1+z8XwvPcdCbsAANh+xPzstgMtxeGKt+6MK3/tacfvwhWvIwMi\n",
       "oKEBtm0H7W+UVfkc/Y1V0BhoPlDr/w1w/eu1vjIgAgDg22OtX6/eYfnEz/focrZTHAFR+PSs56/7\n",
       "q32nwpjazxgwAQCwcU/T62t3WL7r6/jVRa6/byp1rei+Z98ZUAEAhEPHPc8fKnTU9nbgtnOe8h0l\n",
       "9hcGIqmODLQAHCy2Xti6v/XNRivf43f4fFvIteu854+VHnR7q9tfBlwAAGz+pnndB9vM26UebAe8\n",
       "SLHujPOTPVW+rwY+sxskAAC2HrA8t2Vvc7ffP1r9o+vwR2dcr92InIAbKKC1FZ5tB1tf+/G8p8sv\n",
       "N/9Q5zd/XR34LYCwV5JdccMEAMDBk45DH243r/X4xGvqxFa/GNpS7n6rwOwNWwHVE26oAADYurf1\n",
       "zx/utOzt+DMKYM0p17YtZZ5VNzqfsB2HewG1WXE8PoZ7gOclbTIvynZf9JV+fqZtfgs/8F/Nu5rB\n",
       "EIBmJ+8QRMmpU7EzGRsf2FzuePqYRbzh/zE26EwdrT10f6r6o8HOYzCJB9Dpff8tbnGLG8L/A/WE\n",
       "roTBs2RqAAAAAElFTkSuQmCC'\n",
       "     style='height:25px; border-radius:12px; display: inline-block; float: left; vertical-align: middle'></img>\n",
       "\n",
       "\n",
       "  <img src='data:image/png;base64,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'\n",
       "       style='height:15px; border-radius:12px; display: inline-block; float: left'></img>\n",
       "  \n",
       "\n",
       "\n",
       "\n",
       "\n",
       "</div>\n"
      ]
     },
     "metadata": {},
     "output_type": "display_data"
    },
    {
     "data": {},
     "metadata": {},
     "output_type": "display_data"
    },
    {
     "data": {
      "application/vnd.holoviews_exec.v0+json": "",
      "text/html": [
       "<div id='c0bd086c-91ab-4d9e-925b-2af8d592c75f'>\n",
       "  <div id=\"d3f6e981-f8fe-4ee2-b95a-9700ff548fcb\" data-root-id=\"c0bd086c-91ab-4d9e-925b-2af8d592c75f\" style=\"display: contents;\"></div>\n",
       "</div>\n",
       "<script type=\"application/javascript\">(function(root) {\n",
       "  var docs_json = {\"3ccf47b3-1ddd-4514-9e46-72edb588bcd4\":{\"version\":\"3.7.3\",\"title\":\"Bokeh Application\",\"roots\":[{\"type\":\"object\",\"name\":\"Row\",\"id\":\"c0bd086c-91ab-4d9e-925b-2af8d592c75f\",\"attributes\":{\"name\":\"Row00728\",\"tags\":[\"embedded\"],\"stylesheets\":[\"\\n:host(.pn-loading):before, .pn-loading:before {\\n  background-color: #c3c3c3;\\n  mask-size: auto calc(min(50%, 400px));\\n  -webkit-mask-size: auto calc(min(50%, 400px));\\n}\",{\"type\":\"object\",\"name\":\"ImportedStyleSheet\",\"id\":\"9dcdda10-d265-4ef8-a0da-d706360b978f\",\"attributes\":{\"url\":\"https://cdn.holoviz.org/panel/1.6.3/dist/css/loading.css\"}},{\"type\":\"object\",\"name\":\"ImportedStyleSheet\",\"id\":\"abc8c5d2-1bea-4403-9298-6370d3eb59b3\",\"attributes\":{\"url\":\"https://cdn.holoviz.org/panel/1.6.3/dist/css/listpanel.css\"}},{\"type\":\"object\",\"name\":\"ImportedStyleSheet\",\"id\":\"e8271039-e371-48cf-8e47-e10dac6cda9f\",\"attributes\":{\"url\":\"https://cdn.holoviz.org/panel/1.6.3/dist/bundled/theme/default.css\"}},{\"type\":\"object\",\"name\":\"ImportedStyleSheet\",\"id\":\"b2b36175-5c89-4233-bafd-767ad3a90f39\",\"attributes\":{\"url\":\"https://cdn.holoviz.org/panel/1.6.3/dist/bundled/theme/native.css\"}}],\"min_width\":300,\"margin\":0,\"sizing_mode\":\"stretch_width\",\"align\":\"start\",\"children\":[{\"type\":\"object\",\"name\":\"Spacer\",\"id\":\"ad406989-9783-482b-bf3a-ce2e8c257e7d\",\"attributes\":{\"name\":\"HSpacer00732\",\"stylesheets\":[\"\\n:host(.pn-loading):before, .pn-loading:before {\\n  background-color: #c3c3c3;\\n  mask-size: auto calc(min(50%, 400px));\\n  -webkit-mask-size: auto calc(min(50%, 400px));\\n}\",{\"id\":\"9dcdda10-d265-4ef8-a0da-d706360b978f\"},{\"id\":\"e8271039-e371-48cf-8e47-e10dac6cda9f\"},{\"id\":\"b2b36175-5c89-4233-bafd-767ad3a90f39\"}],\"margin\":0,\"sizing_mode\":\"stretch_width\",\"align\":\"start\"}},{\"type\":\"object\",\"name\":\"Figure\",\"id\":\"1a8c4696-5f61-4fc5-a1bf-9e37d780d78e\",\"attributes\":{\"width\":300,\"height\":300,\"margin\":[5,10],\"sizing_mode\":\"fixed\",\"align\":\"start\",\"x_range\":{\"type\":\"object\",\"name\":\"Range1d\",\"id\":\"484d9015-ccf4-4038-b5b1-db89281768fe\",\"attributes\":{\"name\":\"x\",\"tags\":[[[\"x\",null]],[]],\"start\":-1.4,\"end\":1.4,\"reset_start\":-1.4,\"reset_end\":1.4}},\"y_range\":{\"type\":\"object\",\"name\":\"Range1d\",\"id\":\"6b64e0b6-56f5-45a0-8a61-1402490ad749\",\"attributes\":{\"name\":\"y\",\"tags\":[[[\"y\",null]],{\"type\":\"map\",\"entries\":[[\"invert_yaxis\",false],[\"autorange\",false]]}],\"start\":-1.4,\"end\":1.4,\"reset_start\":-1.4,\"reset_end\":1.4}},\"x_scale\":{\"type\":\"object\",\"name\":\"LinearScale\",\"id\":\"0d420ab1-81b3-4a3d-9c09-eeaca227c6ca\"},\"y_scale\":{\"type\":\"object\",\"name\":\"LinearScale\",\"id\":\"00337672-e174-4cf1-85bd-95013f5e16d9\"},\"title\":{\"type\":\"object\",\"name\":\"Title\",\"id\":\"1b5e282c-cf8a-4d9b-ada3-fc4db41a427e\",\"attributes\":{\"text\":\"User Flow as Chord Diagram\",\"text_color\":\"black\",\"text_font_size\":\"12pt\"}},\"outline_line_alpha\":0,\"renderers\":[{\"type\":\"object\",\"name\":\"GlyphRenderer\",\"id\":\"59a93bc2-46bf-401c-b7f1-315189fce328\",\"attributes\":{\"data_source\":{\"type\":\"object\",\"name\":\"ColumnDataSource\",\"id\":\"9be9ed56-cb07-486d-8bce-412d32b6c10b\",\"attributes\":{\"selected\":{\"type\":\"object\",\"name\":\"Selection\",\"id\":\"4a78d3b6-7302-4b16-850f-862a8a93e871\",\"attributes\":{\"indices\":[],\"line_indices\":[]}},\"selection_policy\":{\"type\":\"object\",\"name\":\"UnionRenderers\",\"id\":\"95188671-dcff-4f75-8d64-e202fddd35f7\"},\"data\":{\"type\":\"map\",\"entries\":[[\"index\",{\"type\":\"ndarray\",\"array\":{\"type\":\"bytes\",\"data\":\"AAAAAAEAAAACAAAAAwAAAAQAAAAFAAAA\"},\"shape\":[6],\"dtype\":\"int32\",\"order\":\"little\"}],[\"index_hover\",[\"add\",\"checkout\",\"disable\",\"modal\",\"purchase\",\"uninstall\"]],[\"arc_xs\",[{\"type\":\"ndarray\",\"array\":{\"type\":\"bytes\",\"data\":\"AAAAAAAA8D//h+SQUOzvP7WSvXtase8/LDZBS2ZP7z+eDnCD7MbuPw8VTw2VGO4/xNZRaDZF7T+COHOi1E3sP9p1QRigM+s/XwJn/vP36T8jBH22VJzoP2X5NPFtIuc/NG8loBCM5T+mL8G5MNvjPyeyONLiEeI/v5o6jFky4D+i6HLJxX3cP+ShFLrKc9g/LcayDbpL1D+UfS3rsArQPw==\"},\"shape\":[20],\"dtype\":\"float64\",\"order\":\"little\"},{\"type\":\"ndarray\",\"array\":{\"type\":\"bytes\",\"data\":\"lH0t67AK0D9f5YvngwDAP1zFtUDc2GW/h+uIsdytwL9+VfQqO1/QvxxZCMnxIti/wxELIYuB37/IjLrcEy7jv4q+fIMIS+a/+O342pgK6b/SIMB3QWHrv8XWUWg2Re2/lXOQP4yu7r8rbDFCWZfvv9HlKyzO+++/Gc1fJkba779UfJmpTTPvv9wyGDKgCe6/AqU4zRxi7L8AmzexsUPqvw==\"},\"shape\":[20],\"dtype\":\"float64\",\"order\":\"little\"},{\"type\":\"ndarray\",\"array\":{\"type\":\"bytes\",\"data\":\"AJs3sbFD6r9fAmf+8/fpv4NFaI2Cqum/peyycWJb6b/67fjamArpv2mnzxQruOi/bwRXhh5k6L+31d6xeA7ov65gijQ/t+e/zSzyxXde578TFcQ3KATnv6+jYXVWqOa/jL58gwhL5r/zqrJ/ROzlvzVvJaAQjOW/upgTM3Mq5b+wbW6ecsfkv+aQbl8VY+S/IR8nCmL9478STRdJX5bjvw==\"},\"shape\":[20],\"dtype\":\"float64\",\"order\":\"little\"},{\"type\":\"ndarray\",\"array\":{\"type\":\"bytes\",\"data\":\"Ek0XSV+W47/coQnRShLhv9T2iIDry9y/Q3LkUFsv1789nCpPIFzRv2CzyTrtv8a/0/UghOsjtb+pG4hm4E6LP1IfdyqX77s//gIn3rkZyj8cs2S+Dv/SP4W3IRR2xNg/RmhaaHdP3j9w8atygMnhP4VdVZxUQeQ/Txtya2aJ5j8kBH22VJzoP07HT587deo/0N7hGsAP7D/6AGo2GmjtPw==\"},\"shape\":[20],\"dtype\":\"float64\",\"order\":\"little\"},{\"type\":\"ndarray\",\"array\":{\"type\":\"bytes\",\"data\":\"+gBqNhpo7T+IOhnwOXntP/M5LLYiiu0/w0McadSa7T97S8npTqvtP54tehmSu+0/9Ojc2Z3L7T8b1wYNctvtP0jkdJUO6+0/S8YLVnP67T/bMhgyoAnuPw8VTw2VGO4/JsLNy1En7j+CLRpS1jXuP+EbI4UiRO4/2FVASjZS7j982TKHEWDuP2MLJSK0be4/wOaqAR577j/NLMIMT4juPw==\"},\"shape\":[20],\"dtype\":\"float64\",\"order\":\"little\"},{\"type\":\"ndarray\",\"array\":{\"type\":\"bytes\",\"data\":\"zSzCDE+I7j+Vc5A/jK7uP/OR+p3G0u4/ahIcyPv07j8n/vZ/KRXvP1N8malNM+8/LjZBS2ZP7z94fXyNcWnvPyUzSbttge8/LGwxQlmX7z+t0mWyMqvvP6XB1b74vO8/pRlFParM7z8ZzV8mRtrvP9Iiy5XL5e8/ua00yjnv7z+z+F4lkPbvP9HlKyzO++8/MsCkhvP+7z8AAAAAAADwPw==\"},\"shape\":[20],\"dtype\":\"float64\",\"order\":\"little\"}]],[\"arc_ys\",[{\"type\":\"ndarray\",\"array\":{\"type\":\"bytes\",\"data\":\"AAAAAAAAAADrgWpfkLyxP3cC5yynscE/Px6gMUFvyj9pA0KgKobRP+2S8i8lv9U/Tw7QUV7d2T/ondj6xNvdP6V1cqO32uA/OK8jQtCy4j897OeD53PkPwAgBOHUG+Y/Hbhlx46o5z8e5lYcLRjpP/44BpXraOo/C63+4iuZ6z/6jeOxd6fsPyAH/XOCku0/IsFe+ypZ7j/6KLHdfPruPw==\"},\"shape\":[20],\"dtype\":\"float64\",\"order\":\"little\"},{\"type\":\"ndarray\",\"array\":{\"type\":\"bytes\",\"data\":\"+iix3Xz67j/HKBdXu7/vP2XFz4r4/+8/5QByWye67z/NEpxEbO/uPz4kqZEYo+0/PK7Ed5za6z8plpRNcJ3pP5hE6z/19OY/Ej2bBk7s4z+p0Qg+MJDgP00O0FFe3dk/LwVncgEu0j9LyoZd92TEP3qdrizvYaA/pmTtUVCKuL+cmLL0ZG/Mv0wFkTJBEda/uxxYqF2O3b8UcqJH1Efivw==\"},\"shape\":[20],\"dtype\":\"float64\",\"order\":\"little\"},{\"type\":\"ndarray\",\"array\":{\"type\":\"bytes\",\"data\":\"FHKiR9RH4r84ryNC0LLiv/2tsXuSHOO/ZgK1BRSF478QPZsGTuzjv5TbSbo5UuS/fdCPctC25L/Bm5WXCxrlvwbsS6jke+W/zMHYOlXc5b8CDQP9Vjvmv0i+nLTjmOa/l0TrP/X05r/ScA6WhU/nvxy4ZceOqOe/uc7z/QoA6L+LlMB99FXovyJNOaVFqui/xByP7fj86L9SxBPrCE7pvw==\"},\"shape\":[20],\"dtype\":\"float64\",\"order\":\"little\"},{\"type\":\"ndarray\",\"array\":{\"type\":\"bytes\",\"data\":\"UsQT6whO6b83pgLd4RDrv1zwSmHpk+y//5jz5o7T7b9c+1G+4Mzuv7ScIgqTfe+/qkKlKQXk779BFfiORf/vvyyHpfgTz++/fRQmCeJT77/bm/A60o7uv6MUkTO1ge2/MpEUfAUv7L87yeGo4Znqv3/qxf4Exui/g3GNpr635r887OeD53Pkv3S9i8fW/+G/W18Zr6rC3r8OqSxXID3Zvw==\"},\"shape\":[20],\"dtype\":\"float64\",\"order\":\"little\"},{\"type\":\"ndarray\",\"array\":{\"type\":\"bytes\",\"data\":\"DqksVyA92b9694R5uuzYvzKHYyMmnNi/2JsE62NL2L8xBfpmdPrXv1wGKi5Yqde/uzzO1w9Y17+dhXL7mwbXv/fj8zD9tNa/LGV/EDRj1r9TBZEyQRHWv+6S8i8lv9W/C5K6oeBs1b/aHkshdBrVv67PUEjgx9S/cZbBsCV11L/Podv0RCLUv0k9JK8+z9O/WLFmehN807/HIrPxwyjTvw==\"},\"shape\":[20],\"dtype\":\"float64\",\"order\":\"little\"},{\"type\":\"ndarray\",\"array\":{\"type\":\"bytes\",\"data\":\"xyKz8cMo078xBWdyAS7SvzUSn+YNMtG//q0B0vk00L/xeT2Wq23Ov6mYsvRkb8y/JB6gMUFvyr9QhYneYW3Iv1QZBaroaca/QMqGXfdkxL80Pinbr17Cv6JFdRs0V8C/4qtPVkydvL/AZO1RUIq4vyXNp4a4dbS/tHNgbMlfsL81+/Iij5Gov0ydrizvYaC/vgaEo3hikL/90XXm7CzHPA==\"},\"shape\":[20],\"dtype\":\"float64\",\"order\":\"little\"}]],[\"node_color\",[\"add\",\"checkout\",\"disable\",\"modal\",\"purchase\",\"uninstall\"]]]}}},\"view\":{\"type\":\"object\",\"name\":\"CDSView\",\"id\":\"16c32c78-2215-4d31-bd19-f8e586588983\",\"attributes\":{\"filter\":{\"type\":\"object\",\"name\":\"AllIndices\",\"id\":\"3c29d843-c6be-49d0-a84e-a7bc27f90d43\"}}},\"glyph\":{\"type\":\"object\",\"name\":\"MultiLine\",\"id\":\"9a01b575-049d-4558-80cd-1976dd4e6be8\",\"attributes\":{\"xs\":{\"type\":\"field\",\"field\":\"arc_xs\"},\"ys\":{\"type\":\"field\",\"field\":\"arc_ys\"},\"line_color\":{\"type\":\"field\",\"field\":\"node_color\",\"transform\":{\"type\":\"object\",\"name\":\"CategoricalColorMapper\",\"id\":\"80056325-ca94-42b6-83cd-b586219e952c\",\"attributes\":{\"palette\":[\"#1f77b4\",\"#ff7f0e\",\"#2ca02c\",\"#d62728\",\"#9467bd\",\"#8c564b\"],\"factors\":[\"add\",\"checkout\",\"disable\",\"modal\",\"purchase\",\"uninstall\"]}}},\"line_width\":{\"type\":\"value\",\"value\":10}}},\"selection_glyph\":{\"type\":\"object\",\"name\":\"MultiLine\",\"id\":\"b62f56fc-48ff-42ba-a39d-50c18e04469c\",\"attributes\":{\"xs\":{\"type\":\"field\",\"field\":\"arc_xs\"},\"ys\":{\"type\":\"field\",\"field\":\"arc_ys\"},\"line_color\":{\"type\":\"field\",\"field\":\"node_color\",\"transform\":{\"id\":\"80056325-ca94-42b6-83cd-b586219e952c\"}},\"line_width\":{\"type\":\"value\",\"value\":10}}},\"nonselection_glyph\":{\"type\":\"object\",\"name\":\"MultiLine\",\"id\":\"7d2fab86-1907-476f-b2ad-9807ed72dc05\",\"attributes\":{\"xs\":{\"type\":\"field\",\"field\":\"arc_xs\"},\"ys\":{\"type\":\"field\",\"field\":\"arc_ys\"},\"line_color\":{\"type\":\"field\",\"field\":\"node_color\",\"transform\":{\"id\":\"80056325-ca94-42b6-83cd-b586219e952c\"}},\"line_alpha\":{\"type\":\"value\",\"value\":0.2},\"line_width\":{\"type\":\"value\",\"value\":10}}},\"hover_glyph\":{\"type\":\"object\",\"name\":\"MultiLine\",\"id\":\"2bd3e288-924d-4922-9d27-9c8cbf6a1b82\",\"attributes\":{\"xs\":{\"type\":\"field\",\"field\":\"arc_xs\"},\"ys\":{\"type\":\"field\",\"field\":\"arc_ys\"},\"line_color\":{\"type\":\"value\",\"value\":\"limegreen\"},\"line_width\":{\"type\":\"value\",\"value\":10}}},\"muted_glyph\":{\"type\":\"object\",\"name\":\"MultiLine\",\"id\":\"805ad26e-1a43-4918-8314-82191910ea5c\",\"attributes\":{\"xs\":{\"type\":\"field\",\"field\":\"arc_xs\"},\"ys\":{\"type\":\"field\",\"field\":\"arc_ys\"},\"line_color\":{\"type\":\"field\",\"field\":\"node_color\",\"transform\":{\"id\":\"80056325-ca94-42b6-83cd-b586219e952c\"}},\"line_alpha\":{\"type\":\"value\",\"value\":0.2},\"line_width\":{\"type\":\"value\",\"value\":10}}}}},{\"type\":\"object\",\"name\":\"GraphRenderer\",\"id\":\"0c913f3b-4cc5-4061-94f2-fa8c019c8a6f\",\"attributes\":{\"layout_provider\":{\"type\":\"object\",\"name\":\"StaticLayoutProvider\",\"id\":\"908854d8-145e-4551-b36e-ca8666646a88\",\"attributes\":{\"graph_layout\":{\"type\":\"map\",\"entries\":[[0,[0.7907757369376985,0.6121059825476628]],[1,[-0.8207634412072763,0.5712682150947923]],[2,[-0.72479278722912,-0.6889669190756865]],[3,[0.250652532258721,-0.9680771188662042]],[4,[0.9377521321470803,-0.34730525284482067]],[5,[0.9884683243281115,-0.15142777750457623]]]}}},\"node_renderer\":{\"type\":\"object\",\"name\":\"GlyphRenderer\",\"id\":\"62b14a0e-8488-4f90-b41e-4f5538a0ecdb\",\"attributes\":{\"data_source\":{\"id\":\"9be9ed56-cb07-486d-8bce-412d32b6c10b\"},\"view\":{\"id\":\"16c32c78-2215-4d31-bd19-f8e586588983\"},\"glyph\":{\"type\":\"object\",\"name\":\"Scatter\",\"id\":\"6aed7feb-f066-46e6-afd5-15547df9ce0a\",\"attributes\":{\"size\":{\"type\":\"value\",\"value\":15},\"fill_color\":{\"type\":\"field\",\"field\":\"node_color\",\"transform\":{\"id\":\"80056325-ca94-42b6-83cd-b586219e952c\"}},\"hatch_color\":{\"type\":\"field\",\"field\":\"node_color\",\"transform\":{\"id\":\"80056325-ca94-42b6-83cd-b586219e952c\"}}}},\"selection_glyph\":{\"type\":\"object\",\"name\":\"Scatter\",\"id\":\"359397f1-076d-4eda-89ef-4f500a2dc093\",\"attributes\":{\"size\":{\"type\":\"value\",\"value\":15},\"fill_color\":{\"type\":\"field\",\"field\":\"node_color\",\"transform\":{\"id\":\"80056325-ca94-42b6-83cd-b586219e952c\"}},\"hatch_color\":{\"type\":\"field\",\"field\":\"node_color\",\"transform\":{\"id\":\"80056325-ca94-42b6-83cd-b586219e952c\"}}}},\"nonselection_glyph\":{\"type\":\"object\",\"name\":\"Scatter\",\"id\":\"089d2b5b-7191-4d8a-8188-456c408b4bfb\",\"attributes\":{\"size\":{\"type\":\"value\",\"value\":15},\"line_alpha\":{\"type\":\"value\",\"value\":0.2},\"fill_color\":{\"type\":\"field\",\"field\":\"node_color\",\"transform\":{\"id\":\"80056325-ca94-42b6-83cd-b586219e952c\"}},\"fill_alpha\":{\"type\":\"value\",\"value\":0.2},\"hatch_color\":{\"type\":\"field\",\"field\":\"node_color\",\"transform\":{\"id\":\"80056325-ca94-42b6-83cd-b586219e952c\"}},\"hatch_alpha\":{\"type\":\"value\",\"value\":0.2}}},\"hover_glyph\":{\"type\":\"object\",\"name\":\"Scatter\",\"id\":\"314d45ca-426f-4104-beaa-0d94dfaa296c\",\"attributes\":{\"size\":{\"type\":\"value\",\"value\":15},\"fill_color\":{\"type\":\"value\",\"value\":\"limegreen\"},\"hatch_color\":{\"type\":\"field\",\"field\":\"node_color\",\"transform\":{\"id\":\"80056325-ca94-42b6-83cd-b586219e952c\"}}}},\"muted_glyph\":{\"type\":\"object\",\"name\":\"Scatter\",\"id\":\"828dda42-19dc-4bb2-8829-4415add4b22c\",\"attributes\":{\"size\":{\"type\":\"value\",\"value\":15},\"line_alpha\":{\"type\":\"value\",\"value\":0.2},\"fill_color\":{\"type\":\"field\",\"field\":\"node_color\",\"transform\":{\"id\":\"80056325-ca94-42b6-83cd-b586219e952c\"}},\"fill_alpha\":{\"type\":\"value\",\"value\":0.2},\"hatch_color\":{\"type\":\"field\",\"field\":\"node_color\",\"transform\":{\"id\":\"80056325-ca94-42b6-83cd-b586219e952c\"}},\"hatch_alpha\":{\"type\":\"value\",\"value\":0.2}}}}},\"edge_renderer\":{\"type\":\"object\",\"name\":\"GlyphRenderer\",\"id\":\"14427a6e-6e93-4811-94b2-f2a9dd9992ae\",\"attributes\":{\"data_source\":{\"type\":\"object\",\"name\":\"ColumnDataSource\",\"id\":\"22566f87-1a5f-4e09-aba4-f0183551e265\",\"attributes\":{\"selected\":{\"type\":\"object\",\"name\":\"Selection\",\"id\":\"219f94be-4abd-45bc-a12d-b21667fcfe5c\",\"attributes\":{\"indices\":[],\"line_indices\":[]}},\"selection_policy\":{\"type\":\"object\",\"name\":\"UnionRenderers\",\"id\":\"7fa13e39-2981-4d09-be72-3650952ef818\"},\"data\":{\"type\":\"map\",\"entries\":[[\"start\",{\"type\":\"ndarray\",\"array\":{\"type\":\"bytes\",\"data\":\"AQAAAAEAAAADAAAAAAAAAAAAAAABAAAAAAAAAAEAAAADAAAAAAAAAAEAAAADAAAAAAAAAAEAAAADAAAA\"},\"shape\":[15],\"dtype\":\"int32\",\"order\":\"little\"}],[\"end\",{\"type\":\"ndarray\",\"array\":{\"type\":\"bytes\",\"data\":\"AwAAAAMAAAACAAAAAQAAAAEAAAADAAAAAQAAAAMAAAAFAAAAAQAAAAMAAAAEAAAAAQAAAAMAAAACAAAA\"},\"shape\":[15],\"dtype\":\"int32\",\"order\":\"little\"}],[\"xs\",[{\"type\":\"ndarray\",\"array\":{\"type\":\"bytes\",\"data\":\"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\"},\"shape\":[560],\"dtype\":\"float64\",\"order\":\"little\"},{\"type\":\"ndarray\",\"array\":{\"type\":\"bytes\",\"data\":\"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\"},\"shape\":[356],\"dtype\":\"float64\",\"order\":\"little\"},{\"type\":\"ndarray\",\"array\":{\"type\":\"bytes\",\"data\":\"\"},\"shape\":[0],\"dtype\":\"float64\",\"order\":\"little\"},{\"type\":\"ndarray\",\"array\":{\"type\":\"bytes\",\"data\":\"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\"},\"shape\":[305],\"dtype\":\"float64\",\"order\":\"little\"},{\"type\":\"ndarray\",\"array\":{\"type\":\"bytes\",\"data\":\"\"},\"shape\":[0],\"dtype\":\"float64\",\"order\":\"little\"},{\"type\":\"ndarray\",\"array\":{\"type\":\"bytes\",\"data\":\"\"},\"shape\":[0],\"dtype\":\"float64\",\"order\":\"little\"},{\"type\":\"ndarray\",\"array\":{\"type\":\"bytes\",\"data\":\"\"},\"shape\":[0],\"dtype\":\"float64\",\"order\":\"little\"},{\"type\":\"ndarray\",\"array\":{\"type\":\"bytes\",\"data\":\"\"},\"shape\":[0],\"dtype\":\"float64\",\"order\":\"little\"},{\"type\":\"ndarray\",\"array\":{\"type\":\"bytes\",\"data\":\"\"},\"shape\":[0],\"dtype\":\"float64\",\"order\":\"little\"},{\"type\":\"ndarray\",\"array\":{\"type\":\"bytes\",\"data\":\"\"},\"shape\":[0],\"dtype\":\"float64\",\"order\":\"little\"},{\"type\":\"ndarray\",\"array\":{\"type\":\"bytes\",\"data\":\"\"},\"shape\":[0],\"dtype\":\"float64\",\"order\":\"little\"},{\"type\":\"ndarray\",\"array\":{\"type\":\"bytes\",\"data\":\"\"},\"shape\":[0],\"dtype\":\"float64\",\"order\":\"little\"},{\"type\":\"ndarray\",\"array\":{\"type\":\"bytes\",\"data\":\"\"},\"shape\":[0],\"dtype\":\"float64\",\"order\":\"little\"},{\"type\":\"ndarray\",\"array\":{\"type\":\"bytes\",\"data\":\"\"},\"shape\":[0],\"dtype\":\"float64\",\"order\":\"little\"},{\"type\":\"ndarray\",\"array\":{\"type\":\"bytes\",\"data\":\"\"},\"shape\":[0],\"dtype\":\"float64\",\"order\":\"little\"}]],[\"ys\",[{\"type\":\"ndarray\",\"array\":{\"type\":\"bytes\",\"data\":\"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\"},\"shape\":[560],\"dtype\":\"float64\",\"order\":\"little\"},{\"type\":\"ndarray\",\"array\":{\"type\":\"bytes\",\"data\":\"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\"},\"shape\":[356],\"dtype\":\"float64\",\"order\":\"little\"},{\"type\":\"ndarray\",\"array\":{\"type\":\"bytes\",\"data\":\"\"},\"shape\":[0],\"dtype\":\"float64\",\"order\":\"little\"},{\"type\":\"ndarray\",\"array\":{\"type\":\"bytes\",\"data\":\"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\"},\"shape\":[305],\"dtype\":\"float64\",\"order\":\"little\"},{\"type\":\"ndarray\",\"array\":{\"type\":\"bytes\",\"data\":\"\"},\"shape\":[0],\"dtype\":\"float64\",\"order\":\"little\"},{\"type\":\"ndarray\",\"array\":{\"type\":\"bytes\",\"data\":\"\"},\"shape\":[0],\"dtype\":\"float64\",\"order\":\"little\"},{\"type\":\"ndarray\",\"array\":{\"type\":\"bytes\",\"data\":\"\"},\"shape\":[0],\"dtype\":\"float64\",\"order\":\"little\"},{\"type\":\"ndarray\",\"array\":{\"type\":\"bytes\",\"data\":\"\"},\"shape\":[0],\"dtype\":\"float64\",\"order\":\"little\"},{\"type\":\"ndarray\",\"array\":{\"type\":\"bytes\",\"data\":\"\"},\"shape\":[0],\"dtype\":\"float64\",\"order\":\"little\"},{\"type\":\"ndarray\",\"array\":{\"type\":\"bytes\",\"data\":\"\"},\"shape\":[0],\"dtype\":\"float64\",\"order\":\"little\"},{\"type\":\"ndarray\",\"array\":{\"type\":\"bytes\",\"data\":\"\"},\"shape\":[0],\"dtype\":\"float64\",\"order\":\"little\"},{\"type\":\"ndarray\",\"array\":{\"type\":\"bytes\",\"data\":\"\"},\"shape\":[0],\"dtype\":\"float64\",\"order\":\"little\"},{\"type\":\"ndarray\",\"array\":{\"type\":\"bytes\",\"data\":\"\"},\"shape\":[0],\"dtype\":\"float64\",\"order\":\"little\"},{\"type\":\"ndarray\",\"array\":{\"type\":\"bytes\",\"data\":\"\"},\"shape\":[0],\"dtype\":\"float64\",\"order\":\"little\"},{\"type\":\"ndarray\",\"array\":{\"type\":\"bytes\",\"data\":\"\"},\"shape\":[0],\"dtype\":\"float64\",\"order\":\"little\"}]],[\"edge_color\",{\"type\":\"ndarray\",\"array\":[\"checkout\",\"checkout\",\"modal\",\"add\",\"add\",\"checkout\",\"add\",\"checkout\",\"modal\",\"add\",\"checkout\",\"modal\",\"add\",\"checkout\",\"modal\"],\"shape\":[15],\"dtype\":\"object\",\"order\":\"little\"}]]}}},\"view\":{\"type\":\"object\",\"name\":\"CDSView\",\"id\":\"0a7e16bc-eefb-41f3-a90e-6acb9f97a97a\",\"attributes\":{\"filter\":{\"type\":\"object\",\"name\":\"AllIndices\",\"id\":\"7eea2303-8ba3-4abd-bfb4-b49bf56d30c6\"}}},\"glyph\":{\"type\":\"object\",\"name\":\"MultiLine\",\"id\":\"1d1e9e4d-b68e-4825-a54c-523bd91dfd90\",\"attributes\":{\"xs\":{\"type\":\"field\",\"field\":\"xs\"},\"ys\":{\"type\":\"field\",\"field\":\"ys\"},\"line_color\":{\"type\":\"field\",\"field\":\"edge_color\",\"transform\":{\"type\":\"object\",\"name\":\"CategoricalColorMapper\",\"id\":\"34fff916-5077-46fb-9bc6-b4d0e2e73d0f\",\"attributes\":{\"palette\":[\"#1f77b4\",\"#ff7f0e\",\"#2ca02c\",\"#d62728\",\"#9467bd\",\"#8c564b\"],\"factors\":[\"add\",\"checkout\",\"disable\",\"modal\",\"purchase\",\"uninstall\"]}}},\"line_width\":{\"type\":\"value\",\"value\":0.5}}},\"selection_glyph\":{\"type\":\"object\",\"name\":\"MultiLine\",\"id\":\"51be63b1-8462-478c-a320-4b3ada9482cd\",\"attributes\":{\"xs\":{\"type\":\"field\",\"field\":\"xs\"},\"ys\":{\"type\":\"field\",\"field\":\"ys\"},\"line_color\":{\"type\":\"field\",\"field\":\"edge_color\",\"transform\":{\"id\":\"34fff916-5077-46fb-9bc6-b4d0e2e73d0f\"}},\"line_width\":{\"type\":\"value\",\"value\":0.5}}},\"nonselection_glyph\":{\"type\":\"object\",\"name\":\"MultiLine\",\"id\":\"30ecd7dc-c07f-408b-aebf-ac18728eff0e\",\"attributes\":{\"xs\":{\"type\":\"field\",\"field\":\"xs\"},\"ys\":{\"type\":\"field\",\"field\":\"ys\"},\"line_color\":{\"type\":\"field\",\"field\":\"edge_color\",\"transform\":{\"id\":\"34fff916-5077-46fb-9bc6-b4d0e2e73d0f\"}},\"line_alpha\":{\"type\":\"value\",\"value\":0.1},\"line_width\":{\"type\":\"value\",\"value\":0.5}}},\"hover_glyph\":{\"type\":\"object\",\"name\":\"MultiLine\",\"id\":\"02e2f3c2-4929-4936-a11a-3dd2a7ad64ae\",\"attributes\":{\"xs\":{\"type\":\"field\",\"field\":\"xs\"},\"ys\":{\"type\":\"field\",\"field\":\"ys\"},\"line_color\":{\"type\":\"value\",\"value\":\"limegreen\"},\"line_width\":{\"type\":\"value\",\"value\":0.5}}},\"muted_glyph\":{\"type\":\"object\",\"name\":\"MultiLine\",\"id\":\"24c15fd6-7153-4668-9d4e-809e377ae527\",\"attributes\":{\"xs\":{\"type\":\"field\",\"field\":\"xs\"},\"ys\":{\"type\":\"field\",\"field\":\"ys\"},\"line_color\":{\"type\":\"field\",\"field\":\"edge_color\",\"transform\":{\"id\":\"34fff916-5077-46fb-9bc6-b4d0e2e73d0f\"}},\"line_alpha\":{\"type\":\"value\",\"value\":0.2},\"line_width\":{\"type\":\"value\",\"value\":0.5}}}}},\"selection_policy\":{\"type\":\"object\",\"name\":\"NodesAndLinkedEdges\",\"id\":\"bd5c8a9e-f53e-46c3-bebe-898d190bf043\"},\"inspection_policy\":{\"type\":\"object\",\"name\":\"NodesAndLinkedEdges\",\"id\":\"0d534bae-3141-4be9-ab99-e159f623a570\"}}}],\"toolbar\":{\"type\":\"object\",\"name\":\"Toolbar\",\"id\":\"5366c41c-76ea-4098-906b-cd9a39565f33\",\"attributes\":{\"tools\":[{\"type\":\"object\",\"name\":\"WheelZoomTool\",\"id\":\"e7601946-6a11-4488-a786-d467b27acbdd\",\"attributes\":{\"tags\":[\"hv_created\"],\"renderers\":\"auto\",\"zoom_together\":\"none\"}},{\"type\":\"object\",\"name\":\"HoverTool\",\"id\":\"f75e7745-f6ce-4c3a-8bae-dd555523cf4a\",\"attributes\":{\"tags\":[\"hv_created\"],\"renderers\":[{\"id\":\"59a93bc2-46bf-401c-b7f1-315189fce328\"},{\"id\":\"0c913f3b-4cc5-4061-94f2-fa8c019c8a6f\"}],\"tooltips\":[[\"index\",\"@{index_hover}\"]]}},{\"type\":\"object\",\"name\":\"SaveTool\",\"id\":\"0a219a7f-c831-440d-8a38-688dc68bb267\"},{\"type\":\"object\",\"name\":\"PanTool\",\"id\":\"1ec9ed03-280d-4874-b4f0-9afcbac59832\"},{\"type\":\"object\",\"name\":\"BoxZoomTool\",\"id\":\"abd124f7-33b9-4691-9171-d5d6aedc7d33\",\"attributes\":{\"dimensions\":\"both\",\"overlay\":{\"type\":\"object\",\"name\":\"BoxAnnotation\",\"id\":\"f04034bd-fb7b-4fb9-99d4-14a56513480e\",\"attributes\":{\"syncable\":false,\"line_color\":\"black\",\"line_alpha\":1.0,\"line_width\":2,\"line_dash\":[4,4],\"fill_color\":\"lightgrey\",\"fill_alpha\":0.5,\"level\":\"overlay\",\"visible\":false,\"left\":{\"type\":\"number\",\"value\":\"nan\"},\"right\":{\"type\":\"number\",\"value\":\"nan\"},\"top\":{\"type\":\"number\",\"value\":\"nan\"},\"bottom\":{\"type\":\"number\",\"value\":\"nan\"},\"left_units\":\"canvas\",\"right_units\":\"canvas\",\"top_units\":\"canvas\",\"bottom_units\":\"canvas\",\"handles\":{\"type\":\"object\",\"name\":\"BoxInteractionHandles\",\"id\":\"e878b2b4-4b94-49d1-b3d0-596f3ce2baf8\",\"attributes\":{\"all\":{\"type\":\"object\",\"name\":\"AreaVisuals\",\"id\":\"54ab6acd-c3e7-4c6f-bdd9-d721b2fdbcbd\",\"attributes\":{\"fill_color\":\"white\",\"hover_fill_color\":\"lightgray\"}}}}}}}},{\"type\":\"object\",\"name\":\"ResetTool\",\"id\":\"5e6356e4-8839-40c6-8359-c7384476ee01\"},{\"type\":\"object\",\"name\":\"TapTool\",\"id\":\"efca2300-b0b1-46ce-bd97-82f7104499a4\",\"attributes\":{\"renderers\":\"auto\"}}],\"active_drag\":{\"id\":\"1ec9ed03-280d-4874-b4f0-9afcbac59832\"},\"active_scroll\":{\"id\":\"e7601946-6a11-4488-a786-d467b27acbdd\"}}},\"left\":[{\"type\":\"object\",\"name\":\"LinearAxis\",\"id\":\"7c218350-4e61-488c-9d63-2429d59d7b9d\",\"attributes\":{\"visible\":false,\"ticker\":{\"type\":\"object\",\"name\":\"BasicTicker\",\"id\":\"a681595c-09d8-4a6d-af3e-b16ddae747d6\",\"attributes\":{\"mantissas\":[1,2,5]}},\"formatter\":{\"type\":\"object\",\"name\":\"BasicTickFormatter\",\"id\":\"60ed993f-b000-4da0-a7dd-77e0bbe4e224\"},\"axis_label\":\"y\",\"major_label_policy\":{\"type\":\"object\",\"name\":\"AllLabels\",\"id\":\"bbe55dd3-6e0d-49fa-ab54-d682e8bb5fc2\"}}}],\"below\":[{\"type\":\"object\",\"name\":\"LinearAxis\",\"id\":\"9c3043b9-4cf8-4f75-9993-6376d6028579\",\"attributes\":{\"visible\":false,\"ticker\":{\"type\":\"object\",\"name\":\"BasicTicker\",\"id\":\"d2adf8f1-3b63-47fe-b0fa-e71874425f65\",\"attributes\":{\"mantissas\":[1,2,5]}},\"formatter\":{\"type\":\"object\",\"name\":\"BasicTickFormatter\",\"id\":\"592cec9a-8180-422c-b9f2-833472127ded\"},\"axis_label\":\"x\",\"major_label_policy\":{\"type\":\"object\",\"name\":\"AllLabels\",\"id\":\"f07edfd1-6e7a-4a26-9f69-0a9e96b3ae9f\"}}}],\"center\":[{\"type\":\"object\",\"name\":\"Grid\",\"id\":\"ac1a385f-fabe-4c6d-a3f6-8cdd198a5e27\",\"attributes\":{\"axis\":{\"id\":\"9c3043b9-4cf8-4f75-9993-6376d6028579\"},\"grid_line_color\":null}},{\"type\":\"object\",\"name\":\"Grid\",\"id\":\"5f638001-bff4-410a-a397-f632832dd363\",\"attributes\":{\"dimension\":1,\"axis\":{\"id\":\"7c218350-4e61-488c-9d63-2429d59d7b9d\"},\"grid_line_color\":null}}],\"min_border_top\":10,\"min_border_bottom\":10,\"min_border_left\":10,\"min_border_right\":10,\"output_backend\":\"webgl\"}},{\"type\":\"object\",\"name\":\"Spacer\",\"id\":\"b51a4d27-8566-4f3c-b9c6-71e4cb8f662d\",\"attributes\":{\"name\":\"HSpacer00733\",\"stylesheets\":[\"\\n:host(.pn-loading):before, .pn-loading:before {\\n  background-color: #c3c3c3;\\n  mask-size: auto calc(min(50%, 400px));\\n  -webkit-mask-size: auto calc(min(50%, 400px));\\n}\",{\"id\":\"9dcdda10-d265-4ef8-a0da-d706360b978f\"},{\"id\":\"e8271039-e371-48cf-8e47-e10dac6cda9f\"},{\"id\":\"b2b36175-5c89-4233-bafd-767ad3a90f39\"}],\"margin\":0,\"sizing_mode\":\"stretch_width\",\"align\":\"start\"}}]}}],\"defs\":[{\"type\":\"model\",\"name\":\"ReactiveHTML1\"},{\"type\":\"model\",\"name\":\"FlexBox1\",\"properties\":[{\"name\":\"align_content\",\"kind\":\"Any\",\"default\":\"flex-start\"},{\"name\":\"align_items\",\"kind\":\"Any\",\"default\":\"flex-start\"},{\"name\":\"flex_direction\",\"kind\":\"Any\",\"default\":\"row\"},{\"name\":\"flex_wrap\",\"kind\":\"Any\",\"default\":\"wrap\"},{\"name\":\"gap\",\"kind\":\"Any\",\"default\":\"\"},{\"name\":\"justify_content\",\"kind\":\"Any\",\"default\":\"flex-start\"}]},{\"type\":\"model\",\"name\":\"FloatPanel1\",\"properties\":[{\"name\":\"config\",\"kind\":\"Any\",\"default\":{\"type\":\"map\"}},{\"name\":\"contained\",\"kind\":\"Any\",\"default\":true},{\"name\":\"position\",\"kind\":\"Any\",\"default\":\"right-top\"},{\"name\":\"offsetx\",\"kind\":\"Any\",\"default\":null},{\"name\":\"offsety\",\"kind\":\"Any\",\"default\":null},{\"name\":\"theme\",\"kind\":\"Any\",\"default\":\"primary\"},{\"name\":\"status\",\"kind\":\"Any\",\"default\":\"normalized\"}]},{\"type\":\"model\",\"name\":\"GridStack1\",\"properties\":[{\"name\":\"ncols\",\"kind\":\"Any\",\"default\":null},{\"name\":\"nrows\",\"kind\":\"Any\",\"default\":null},{\"name\":\"allow_resize\",\"kind\":\"Any\",\"default\":true},{\"name\":\"allow_drag\",\"kind\":\"Any\",\"default\":true},{\"name\":\"state\",\"kind\":\"Any\",\"default\":[]}]},{\"type\":\"model\",\"name\":\"drag1\",\"properties\":[{\"name\":\"slider_width\",\"kind\":\"Any\",\"default\":5},{\"name\":\"slider_color\",\"kind\":\"Any\",\"default\":\"black\"},{\"name\":\"value\",\"kind\":\"Any\",\"default\":50}]},{\"type\":\"model\",\"name\":\"click1\",\"properties\":[{\"name\":\"terminal_output\",\"kind\":\"Any\",\"default\":\"\"},{\"name\":\"debug_name\",\"kind\":\"Any\",\"default\":\"\"},{\"name\":\"clears\",\"kind\":\"Any\",\"default\":0}]},{\"type\":\"model\",\"name\":\"FastWrapper1\",\"properties\":[{\"name\":\"object\",\"kind\":\"Any\",\"default\":null},{\"name\":\"style\",\"kind\":\"Any\",\"default\":null}]},{\"type\":\"model\",\"name\":\"NotificationArea1\",\"properties\":[{\"name\":\"js_events\",\"kind\":\"Any\",\"default\":{\"type\":\"map\"}},{\"name\":\"max_notifications\",\"kind\":\"Any\",\"default\":5},{\"name\":\"notifications\",\"kind\":\"Any\",\"default\":[]},{\"name\":\"position\",\"kind\":\"Any\",\"default\":\"bottom-right\"},{\"name\":\"_clear\",\"kind\":\"Any\",\"default\":0},{\"name\":\"types\",\"kind\":\"Any\",\"default\":[{\"type\":\"map\",\"entries\":[[\"type\",\"warning\"],[\"background\",\"#ffc107\"],[\"icon\",{\"type\":\"map\",\"entries\":[[\"className\",\"fas fa-exclamation-triangle\"],[\"tagName\",\"i\"],[\"color\",\"white\"]]}]]},{\"type\":\"map\",\"entries\":[[\"type\",\"info\"],[\"background\",\"#007bff\"],[\"icon\",{\"type\":\"map\",\"entries\":[[\"className\",\"fas fa-info-circle\"],[\"tagName\",\"i\"],[\"color\",\"white\"]]}]]}]}]},{\"type\":\"model\",\"name\":\"Notification\",\"properties\":[{\"name\":\"background\",\"kind\":\"Any\",\"default\":null},{\"name\":\"duration\",\"kind\":\"Any\",\"default\":3000},{\"name\":\"icon\",\"kind\":\"Any\",\"default\":null},{\"name\":\"message\",\"kind\":\"Any\",\"default\":\"\"},{\"name\":\"notification_type\",\"kind\":\"Any\",\"default\":null},{\"name\":\"_rendered\",\"kind\":\"Any\",\"default\":false},{\"name\":\"_destroyed\",\"kind\":\"Any\",\"default\":false}]},{\"type\":\"model\",\"name\":\"TemplateActions1\",\"properties\":[{\"name\":\"open_modal\",\"kind\":\"Any\",\"default\":0},{\"name\":\"close_modal\",\"kind\":\"Any\",\"default\":0}]},{\"type\":\"model\",\"name\":\"BootstrapTemplateActions1\",\"properties\":[{\"name\":\"open_modal\",\"kind\":\"Any\",\"default\":0},{\"name\":\"close_modal\",\"kind\":\"Any\",\"default\":0}]},{\"type\":\"model\",\"name\":\"TemplateEditor1\",\"properties\":[{\"name\":\"layout\",\"kind\":\"Any\",\"default\":[]}]},{\"type\":\"model\",\"name\":\"MaterialTemplateActions1\",\"properties\":[{\"name\":\"open_modal\",\"kind\":\"Any\",\"default\":0},{\"name\":\"close_modal\",\"kind\":\"Any\",\"default\":0}]},{\"type\":\"model\",\"name\":\"ReactiveESM1\",\"properties\":[{\"name\":\"esm_constants\",\"kind\":\"Any\",\"default\":{\"type\":\"map\"}}]},{\"type\":\"model\",\"name\":\"JSComponent1\",\"properties\":[{\"name\":\"esm_constants\",\"kind\":\"Any\",\"default\":{\"type\":\"map\"}}]},{\"type\":\"model\",\"name\":\"ReactComponent1\",\"properties\":[{\"name\":\"esm_constants\",\"kind\":\"Any\",\"default\":{\"type\":\"map\"}}]},{\"type\":\"model\",\"name\":\"AnyWidgetComponent1\",\"properties\":[{\"name\":\"esm_constants\",\"kind\":\"Any\",\"default\":{\"type\":\"map\"}}]},{\"type\":\"model\",\"name\":\"request_value1\",\"properties\":[{\"name\":\"fill\",\"kind\":\"Any\",\"default\":\"none\"},{\"name\":\"_synced\",\"kind\":\"Any\",\"default\":null},{\"name\":\"_request_sync\",\"kind\":\"Any\",\"default\":0}]}]}};\n",
       "  var render_items = [{\"docid\":\"3ccf47b3-1ddd-4514-9e46-72edb588bcd4\",\"roots\":{\"c0bd086c-91ab-4d9e-925b-2af8d592c75f\":\"d3f6e981-f8fe-4ee2-b95a-9700ff548fcb\"},\"root_ids\":[\"c0bd086c-91ab-4d9e-925b-2af8d592c75f\"]}];\n",
       "  var docs = Object.values(docs_json)\n",
       "  if (!docs) {\n",
       "    return\n",
       "  }\n",
       "  const py_version = docs[0].version.replace('rc', '-rc.').replace('.dev', '-dev.')\n",
       "  async function embed_document(root) {\n",
       "    var Bokeh = get_bokeh(root)\n",
       "    await Bokeh.embed.embed_items_notebook(docs_json, render_items);\n",
       "    for (const render_item of render_items) {\n",
       "      for (const root_id of render_item.root_ids) {\n",
       "\tconst id_el = document.getElementById(root_id)\n",
       "\tif (id_el.children.length && id_el.children[0].hasAttribute('data-root-id')) {\n",
       "\t  const root_el = id_el.children[0]\n",
       "\t  root_el.id = root_el.id + '-rendered'\n",
       "\t  for (const child of root_el.children) {\n",
       "            // Ensure JupyterLab does not capture keyboard shortcuts\n",
       "            // see: https://jupyterlab.readthedocs.io/en/4.1.x/extension/notebook.html#keyboard-interaction-model\n",
       "\t    child.setAttribute('data-lm-suppress-shortcuts', 'true')\n",
       "\t  }\n",
       "\t}\n",
       "      }\n",
       "    }\n",
       "  }\n",
       "  function get_bokeh(root) {\n",
       "    if (root.Bokeh === undefined) {\n",
       "      return null\n",
       "    } else if (root.Bokeh.version !== py_version) {\n",
       "      if (root.Bokeh.versions === undefined || !root.Bokeh.versions.has(py_version)) {\n",
       "\treturn null\n",
       "      }\n",
       "      return root.Bokeh.versions.get(py_version);\n",
       "    } else if (root.Bokeh.version === py_version) {\n",
       "      return root.Bokeh\n",
       "    }\n",
       "    return null\n",
       "  }\n",
       "  function is_loaded(root) {\n",
       "    var Bokeh = get_bokeh(root)\n",
       "    return (Bokeh != null && Bokeh.Panel !== undefined)\n",
       "  }\n",
       "  if (is_loaded(root)) {\n",
       "    embed_document(root);\n",
       "  } else {\n",
       "    var attempts = 0;\n",
       "    var timer = setInterval(function(root) {\n",
       "      if (is_loaded(root)) {\n",
       "        clearInterval(timer);\n",
       "        embed_document(root);\n",
       "      } else if (document.readyState == \"complete\") {\n",
       "        attempts++;\n",
       "        if (attempts > 200) {\n",
       "          clearInterval(timer);\n",
       "\t  var Bokeh = get_bokeh(root)\n",
       "\t  if (Bokeh == null || Bokeh.Panel == null) {\n",
       "            console.warn(\"Panel: ERROR: Unable to run Panel code because Bokeh or Panel library is missing\");\n",
       "\t  } else {\n",
       "\t    console.warn(\"Panel: WARNING: Attempting to render but not all required libraries could be resolved.\")\n",
       "\t    embed_document(root)\n",
       "\t  }\n",
       "        }\n",
       "      }\n",
       "    }, 25, root)\n",
       "  }\n",
       "})(window);</script>"
      ],
      "text/plain": [
       ":Chord   [source,target]   (value)"
      ]
     },
     "execution_count": 174,
     "metadata": {
      "application/vnd.holoviews_exec.v0+json": {
       "id": "c0bd086c-91ab-4d9e-925b-2af8d592c75f"
      }
     },
     "output_type": "execute_result"
    }
   ],
   "source": [
    "# Create an alluvial/chord diagram using matplotlib\n",
    "\n",
    "# Try to install holoviews and bokeh if not available\n",
    "try:\n",
    "    import holoviews as hv\n",
    "    from holoviews import opts\n",
    "    from bokeh.plotting import show\n",
    "except ImportError:\n",
    "    print(\"Installing holoviews and bokeh packages...\")\n",
    "    !pip install holoviews bokeh\n",
    "    import holoviews as hv\n",
    "    from holoviews import opts\n",
    "    from bokeh.plotting import show\n",
    "\n",
    "# Initialize HoloViews extension\n",
    "hv.extension('bokeh')\n",
    "\n",
    "# Prepare data for the chord diagram\n",
    "links = []\n",
    "for path, count in path_counts.items():\n",
    "    if count > 0:  # Only consider paths that have occurred\n",
    "        steps = path.split('_')\n",
    "        for i in range(len(steps)-1):\n",
    "            # Add link from current step to next step\n",
    "            links.append((steps[i], steps[i+1], count))\n",
    "\n",
    "# Convert to DataFrame\n",
    "chord_data = pd.DataFrame(links, columns=['source', 'target', 'value'])\n",
    "\n",
    "# Create the chord diagram\n",
    "chord = hv.Chord(chord_data)\n",
    "\n",
    "# Configure the appearance\n",
    "chord = chord.opts(\n",
    "    opts.Chord(\n",
    "        cmap='Category10', edge_color='source', node_color='index',\n",
    "        edge_cmap='Category10', labels='name', node_size=15,\n",
    "        edge_line_width=0.5, label_text_font_size='8pt',\n",
    "        title='User Flow as Chord Diagram'\n",
    "    )\n",
    ")\n",
    "\n",
    "# Display the chord diagram\n",
    "chord\n"
   ]
  },
  {
   "cell_type": "code",
   "execution_count": 175,
   "id": "4363bbb6",
   "metadata": {},
   "outputs": [
    {
     "data": {
      "application/vnd.plotly.v1+json": {
       "config": {
        "plotlyServerURL": "https://plot.ly"
       },
       "data": [
        {
         "domain": {
          "x": [
           0,
           1
          ],
          "y": [
           0,
           1
          ]
         },
         "hovertemplate": "name=%{label}<br>value=%{value}<br>parent=%{parent}<br>id=%{id}<extra></extra>",
         "ids": [
          "add",
          "checkout",
          "checkout",
          "checkout_modal",
          "checkout",
          "checkout_modal",
          "checkout_modal_disable",
          "add",
          "add_checkout",
          "add",
          "add_checkout",
          "add_checkout_modal",
          "add",
          "add_checkout",
          "add_checkout_modal",
          "add_checkout_modal_uninstall",
          "add",
          "add_checkout",
          "add_checkout_modal",
          "add_checkout_modal_purchase",
          "add",
          "add_checkout",
          "add_checkout_modal",
          "add_checkout_modal_disable"
         ],
         "labels": [
          null,
          null,
          null,
          "modal",
          null,
          "modal",
          "disable",
          null,
          "checkout",
          null,
          "checkout",
          "modal",
          null,
          "checkout",
          "modal",
          "uninstall",
          null,
          "checkout",
          "modal",
          "purchase",
          null,
          "checkout",
          "modal",
          "disable"
         ],
         "name": "",
         "parents": [
          "",
          "",
          "",
          "checkout",
          "",
          "checkout",
          "checkout_modal",
          "",
          "add",
          "",
          "add",
          "add_checkout",
          "",
          "add",
          "add_checkout",
          "add_checkout_modal",
          "",
          "add",
          "add_checkout",
          "add_checkout_modal",
          "",
          "add",
          "add_checkout",
          "add_checkout_modal"
         ],
         "type": "sunburst",
         "values": {
          "bdata": "AQwBAQICAgUFAwMDAwMDAwEBAQEBAQEB",
          "dtype": "i1"
         }
        }
       ],
       "layout": {
        "height": 700,
        "legend": {
         "tracegroupgap": 0
        },
        "margin": {
         "b": 0,
         "l": 0,
         "r": 0,
         "t": 60
        },
        "sunburstcolorway": [
         "#2E91E5",
         "#E15F99",
         "#1CA71C",
         "#FB0D0D",
         "#DA16FF",
         "#222A2A",
         "#B68100",
         "#750D86",
         "#EB663B",
         "#511CFB",
         "#00A08B",
         "#FB00D1",
         "#FC0080",
         "#B2828D",
         "#6C7C32",
         "#778AAE",
         "#862A16",
         "#A777F1",
         "#620042",
         "#1616A7",
         "#DA60CA",
         "#6C4516",
         "#0D2A63",
         "#AF0038"
        ],
        "template": {
         "data": {
          "bar": [
           {
            "error_x": {
             "color": "#2a3f5f"
            },
            "error_y": {
             "color": "#2a3f5f"
            },
            "marker": {
             "line": {
              "color": "#E5ECF6",
              "width": 0.5
             },
             "pattern": {
              "fillmode": "overlay",
              "size": 10,
              "solidity": 0.2
             }
            },
            "type": "bar"
           }
          ],
          "barpolar": [
           {
            "marker": {
             "line": {
              "color": "#E5ECF6",
              "width": 0.5
             },
             "pattern": {
              "fillmode": "overlay",
              "size": 10,
              "solidity": 0.2
             }
            },
            "type": "barpolar"
           }
          ],
          "carpet": [
           {
            "aaxis": {
             "endlinecolor": "#2a3f5f",
             "gridcolor": "white",
             "linecolor": "white",
             "minorgridcolor": "white",
             "startlinecolor": "#2a3f5f"
            },
            "baxis": {
             "endlinecolor": "#2a3f5f",
             "gridcolor": "white",
             "linecolor": "white",
             "minorgridcolor": "white",
             "startlinecolor": "#2a3f5f"
            },
            "type": "carpet"
           }
          ],
          "choropleth": [
           {
            "colorbar": {
             "outlinewidth": 0,
             "ticks": ""
            },
            "type": "choropleth"
           }
          ],
          "contour": [
           {
            "colorbar": {
             "outlinewidth": 0,
             "ticks": ""
            },
            "colorscale": [
             [
              0,
              "#0d0887"
             ],
             [
              0.1111111111111111,
              "#46039f"
             ],
             [
              0.2222222222222222,
              "#7201a8"
             ],
             [
              0.3333333333333333,
              "#9c179e"
             ],
             [
              0.4444444444444444,
              "#bd3786"
             ],
             [
              0.5555555555555556,
              "#d8576b"
             ],
             [
              0.6666666666666666,
              "#ed7953"
             ],
             [
              0.7777777777777778,
              "#fb9f3a"
             ],
             [
              0.8888888888888888,
              "#fdca26"
             ],
             [
              1,
              "#f0f921"
             ]
            ],
            "type": "contour"
           }
          ],
          "contourcarpet": [
           {
            "colorbar": {
             "outlinewidth": 0,
             "ticks": ""
            },
            "type": "contourcarpet"
           }
          ],
          "heatmap": [
           {
            "colorbar": {
             "outlinewidth": 0,
             "ticks": ""
            },
            "colorscale": [
             [
              0,
              "#0d0887"
             ],
             [
              0.1111111111111111,
              "#46039f"
             ],
             [
              0.2222222222222222,
              "#7201a8"
             ],
             [
              0.3333333333333333,
              "#9c179e"
             ],
             [
              0.4444444444444444,
              "#bd3786"
             ],
             [
              0.5555555555555556,
              "#d8576b"
             ],
             [
              0.6666666666666666,
              "#ed7953"
             ],
             [
              0.7777777777777778,
              "#fb9f3a"
             ],
             [
              0.8888888888888888,
              "#fdca26"
             ],
             [
              1,
              "#f0f921"
             ]
            ],
            "type": "heatmap"
           }
          ],
          "histogram": [
           {
            "marker": {
             "pattern": {
              "fillmode": "overlay",
              "size": 10,
              "solidity": 0.2
             }
            },
            "type": "histogram"
           }
          ],
          "histogram2d": [
           {
            "colorbar": {
             "outlinewidth": 0,
             "ticks": ""
            },
            "colorscale": [
             [
              0,
              "#0d0887"
             ],
             [
              0.1111111111111111,
              "#46039f"
             ],
             [
              0.2222222222222222,
              "#7201a8"
             ],
             [
              0.3333333333333333,
              "#9c179e"
             ],
             [
              0.4444444444444444,
              "#bd3786"
             ],
             [
              0.5555555555555556,
              "#d8576b"
             ],
             [
              0.6666666666666666,
              "#ed7953"
             ],
             [
              0.7777777777777778,
              "#fb9f3a"
             ],
             [
              0.8888888888888888,
              "#fdca26"
             ],
             [
              1,
              "#f0f921"
             ]
            ],
            "type": "histogram2d"
           }
          ],
          "histogram2dcontour": [
           {
            "colorbar": {
             "outlinewidth": 0,
             "ticks": ""
            },
            "colorscale": [
             [
              0,
              "#0d0887"
             ],
             [
              0.1111111111111111,
              "#46039f"
             ],
             [
              0.2222222222222222,
              "#7201a8"
             ],
             [
              0.3333333333333333,
              "#9c179e"
             ],
             [
              0.4444444444444444,
              "#bd3786"
             ],
             [
              0.5555555555555556,
              "#d8576b"
             ],
             [
              0.6666666666666666,
              "#ed7953"
             ],
             [
              0.7777777777777778,
              "#fb9f3a"
             ],
             [
              0.8888888888888888,
              "#fdca26"
             ],
             [
              1,
              "#f0f921"
             ]
            ],
            "type": "histogram2dcontour"
           }
          ],
          "mesh3d": [
           {
            "colorbar": {
             "outlinewidth": 0,
             "ticks": ""
            },
            "type": "mesh3d"
           }
          ],
          "parcoords": [
           {
            "line": {
             "colorbar": {
              "outlinewidth": 0,
              "ticks": ""
             }
            },
            "type": "parcoords"
           }
          ],
          "pie": [
           {
            "automargin": true,
            "type": "pie"
           }
          ],
          "scatter": [
           {
            "fillpattern": {
             "fillmode": "overlay",
             "size": 10,
             "solidity": 0.2
            },
            "type": "scatter"
           }
          ],
          "scatter3d": [
           {
            "line": {
             "colorbar": {
              "outlinewidth": 0,
              "ticks": ""
             }
            },
            "marker": {
             "colorbar": {
              "outlinewidth": 0,
              "ticks": ""
             }
            },
            "type": "scatter3d"
           }
          ],
          "scattercarpet": [
           {
            "marker": {
             "colorbar": {
              "outlinewidth": 0,
              "ticks": ""
             }
            },
            "type": "scattercarpet"
           }
          ],
          "scattergeo": [
           {
            "marker": {
             "colorbar": {
              "outlinewidth": 0,
              "ticks": ""
             }
            },
            "type": "scattergeo"
           }
          ],
          "scattergl": [
           {
            "marker": {
             "colorbar": {
              "outlinewidth": 0,
              "ticks": ""
             }
            },
            "type": "scattergl"
           }
          ],
          "scattermap": [
           {
            "marker": {
             "colorbar": {
              "outlinewidth": 0,
              "ticks": ""
             }
            },
            "type": "scattermap"
           }
          ],
          "scattermapbox": [
           {
            "marker": {
             "colorbar": {
              "outlinewidth": 0,
              "ticks": ""
             }
            },
            "type": "scattermapbox"
           }
          ],
          "scatterpolar": [
           {
            "marker": {
             "colorbar": {
              "outlinewidth": 0,
              "ticks": ""
             }
            },
            "type": "scatterpolar"
           }
          ],
          "scatterpolargl": [
           {
            "marker": {
             "colorbar": {
              "outlinewidth": 0,
              "ticks": ""
             }
            },
            "type": "scatterpolargl"
           }
          ],
          "scatterternary": [
           {
            "marker": {
             "colorbar": {
              "outlinewidth": 0,
              "ticks": ""
             }
            },
            "type": "scatterternary"
           }
          ],
          "surface": [
           {
            "colorbar": {
             "outlinewidth": 0,
             "ticks": ""
            },
            "colorscale": [
             [
              0,
              "#0d0887"
             ],
             [
              0.1111111111111111,
              "#46039f"
             ],
             [
              0.2222222222222222,
              "#7201a8"
             ],
             [
              0.3333333333333333,
              "#9c179e"
             ],
             [
              0.4444444444444444,
              "#bd3786"
             ],
             [
              0.5555555555555556,
              "#d8576b"
             ],
             [
              0.6666666666666666,
              "#ed7953"
             ],
             [
              0.7777777777777778,
              "#fb9f3a"
             ],
             [
              0.8888888888888888,
              "#fdca26"
             ],
             [
              1,
              "#f0f921"
             ]
            ],
            "type": "surface"
           }
          ],
          "table": [
           {
            "cells": {
             "fill": {
              "color": "#EBF0F8"
             },
             "line": {
              "color": "white"
             }
            },
            "header": {
             "fill": {
              "color": "#C8D4E3"
             },
             "line": {
              "color": "white"
             }
            },
            "type": "table"
           }
          ]
         },
         "layout": {
          "annotationdefaults": {
           "arrowcolor": "#2a3f5f",
           "arrowhead": 0,
           "arrowwidth": 1
          },
          "autotypenumbers": "strict",
          "coloraxis": {
           "colorbar": {
            "outlinewidth": 0,
            "ticks": ""
           }
          },
          "colorscale": {
           "diverging": [
            [
             0,
             "#8e0152"
            ],
            [
             0.1,
             "#c51b7d"
            ],
            [
             0.2,
             "#de77ae"
            ],
            [
             0.3,
             "#f1b6da"
            ],
            [
             0.4,
             "#fde0ef"
            ],
            [
             0.5,
             "#f7f7f7"
            ],
            [
             0.6,
             "#e6f5d0"
            ],
            [
             0.7,
             "#b8e186"
            ],
            [
             0.8,
             "#7fbc41"
            ],
            [
             0.9,
             "#4d9221"
            ],
            [
             1,
             "#276419"
            ]
           ],
           "sequential": [
            [
             0,
             "#0d0887"
            ],
            [
             0.1111111111111111,
             "#46039f"
            ],
            [
             0.2222222222222222,
             "#7201a8"
            ],
            [
             0.3333333333333333,
             "#9c179e"
            ],
            [
             0.4444444444444444,
             "#bd3786"
            ],
            [
             0.5555555555555556,
             "#d8576b"
            ],
            [
             0.6666666666666666,
             "#ed7953"
            ],
            [
             0.7777777777777778,
             "#fb9f3a"
            ],
            [
             0.8888888888888888,
             "#fdca26"
            ],
            [
             1,
             "#f0f921"
            ]
           ],
           "sequentialminus": [
            [
             0,
             "#0d0887"
            ],
            [
             0.1111111111111111,
             "#46039f"
            ],
            [
             0.2222222222222222,
             "#7201a8"
            ],
            [
             0.3333333333333333,
             "#9c179e"
            ],
            [
             0.4444444444444444,
             "#bd3786"
            ],
            [
             0.5555555555555556,
             "#d8576b"
            ],
            [
             0.6666666666666666,
             "#ed7953"
            ],
            [
             0.7777777777777778,
             "#fb9f3a"
            ],
            [
             0.8888888888888888,
             "#fdca26"
            ],
            [
             1,
             "#f0f921"
            ]
           ]
          },
          "colorway": [
           "#636efa",
           "#EF553B",
           "#00cc96",
           "#ab63fa",
           "#FFA15A",
           "#19d3f3",
           "#FF6692",
           "#B6E880",
           "#FF97FF",
           "#FECB52"
          ],
          "font": {
           "color": "#2a3f5f"
          },
          "geo": {
           "bgcolor": "white",
           "lakecolor": "white",
           "landcolor": "#E5ECF6",
           "showlakes": true,
           "showland": true,
           "subunitcolor": "white"
          },
          "hoverlabel": {
           "align": "left"
          },
          "hovermode": "closest",
          "mapbox": {
           "style": "light"
          },
          "paper_bgcolor": "white",
          "plot_bgcolor": "#E5ECF6",
          "polar": {
           "angularaxis": {
            "gridcolor": "white",
            "linecolor": "white",
            "ticks": ""
           },
           "bgcolor": "#E5ECF6",
           "radialaxis": {
            "gridcolor": "white",
            "linecolor": "white",
            "ticks": ""
           }
          },
          "scene": {
           "xaxis": {
            "backgroundcolor": "#E5ECF6",
            "gridcolor": "white",
            "gridwidth": 2,
            "linecolor": "white",
            "showbackground": true,
            "ticks": "",
            "zerolinecolor": "white"
           },
           "yaxis": {
            "backgroundcolor": "#E5ECF6",
            "gridcolor": "white",
            "gridwidth": 2,
            "linecolor": "white",
            "showbackground": true,
            "ticks": "",
            "zerolinecolor": "white"
           },
           "zaxis": {
            "backgroundcolor": "#E5ECF6",
            "gridcolor": "white",
            "gridwidth": 2,
            "linecolor": "white",
            "showbackground": true,
            "ticks": "",
            "zerolinecolor": "white"
           }
          },
          "shapedefaults": {
           "line": {
            "color": "#2a3f5f"
           }
          },
          "ternary": {
           "aaxis": {
            "gridcolor": "white",
            "linecolor": "white",
            "ticks": ""
           },
           "baxis": {
            "gridcolor": "white",
            "linecolor": "white",
            "ticks": ""
           },
           "bgcolor": "#E5ECF6",
           "caxis": {
            "gridcolor": "white",
            "linecolor": "white",
            "ticks": ""
           }
          },
          "title": {
           "x": 0.05
          },
          "xaxis": {
           "automargin": true,
           "gridcolor": "white",
           "linecolor": "white",
           "ticks": "",
           "title": {
            "standoff": 15
           },
           "zerolinecolor": "white",
           "zerolinewidth": 2
          },
          "yaxis": {
           "automargin": true,
           "gridcolor": "white",
           "linecolor": "white",
           "ticks": "",
           "title": {
            "standoff": 15
           },
           "zerolinecolor": "white",
           "zerolinewidth": 2
          }
         }
        },
        "title": {
         "text": "User Journey Paths as Sunburst Chart"
        }
       }
      }
     },
     "metadata": {},
     "output_type": "display_data"
    }
   ],
   "source": [
    "# Create a sunburst chart visualization of paths\n",
    "try:\n",
    "    import plotly.express as px\n",
    "    \n",
    "    # Create a dataframe for sunburst chart\n",
    "    sunburst_data = []\n",
    "    \n",
    "    for path, count in path_counts.items():\n",
    "        if count > 0:\n",
    "            steps = path.split('_')\n",
    "            parent = ''\n",
    "            for i, step in enumerate(steps):\n",
    "                if i == 0:\n",
    "                    sunburst_data.append(dict(\n",
    "                        id=step,\n",
    "                        parent='',\n",
    "                        value=count\n",
    "                    ))\n",
    "                else:\n",
    "                    # Create hierarchical path IDs\n",
    "                    path_id = '_'.join(steps[:i+1])\n",
    "                    parent_id = '_'.join(steps[:i])\n",
    "                    sunburst_data.append(dict(\n",
    "                        id=path_id,\n",
    "                        parent=parent_id,\n",
    "                        name=step,\n",
    "                        value=count\n",
    "                    ))\n",
    "    \n",
    "    # Convert to dataframe\n",
    "    sunburst_df = pd.DataFrame(sunburst_data)\n",
    "    \n",
    "    # Create the sunburst chart\n",
    "    fig = px.sunburst(\n",
    "        sunburst_df, \n",
    "        ids='id',\n",
    "        parents='parent',\n",
    "        values='value',\n",
    "        names='name',\n",
    "        color_discrete_sequence=px.colors.qualitative.Dark24\n",
    "    )\n",
    "    \n",
    "    fig.update_layout(\n",
    "        title='User Journey Paths as Sunburst Chart',\n",
    "        height=700,\n",
    "        margin=dict(t=60, l=0, r=0, b=0)\n",
    "    )\n",
    "    \n",
    "    fig.show()\n",
    "except ImportError:\n",
    "    print(\"Plotly is required for sunburst chart. Install with: !pip install plotly\")\n",
    "\n",
    "except Exception as e:\n",
    "    print(f\"Error creating sunburst chart: {e}\")\n"
   ]
  },
  {
   "cell_type": "code",
   "execution_count": 105,
   "id": "1ae794a4",
   "metadata": {},
   "outputs": [
    {
     "ename": "KeyError",
     "evalue": "'add'",
     "output_type": "error",
     "traceback": [
      "\u001b[0;31m---------------------------------------------------------------------------\u001b[0m",
      "\u001b[0;31mKeyError\u001b[0m                                  Traceback (most recent call last)",
      "Cell \u001b[0;32mIn[105], line 21\u001b[0m\n\u001b[1;32m     11\u001b[0m \u001b[38;5;66;03m# Format labels for better readability\u001b[39;00m\n\u001b[1;32m     12\u001b[0m path_labels \u001b[38;5;241m=\u001b[39m {\n\u001b[1;32m     13\u001b[0m     \u001b[38;5;124m'\u001b[39m\u001b[38;5;124madd_to_cart_only\u001b[39m\u001b[38;5;124m'\u001b[39m: \u001b[38;5;124m'\u001b[39m\u001b[38;5;124mAdd to Cart Only\u001b[39m\u001b[38;5;124m'\u001b[39m,\n\u001b[1;32m     14\u001b[0m     \u001b[38;5;124m'\u001b[39m\u001b[38;5;124mcart_to_checkout_only\u001b[39m\u001b[38;5;124m'\u001b[39m: \u001b[38;5;124m'\u001b[39m\u001b[38;5;124mCart → Checkout (No Purchase)\u001b[39m\u001b[38;5;124m'\u001b[39m,\n\u001b[0;32m   (...)\u001b[0m\n\u001b[1;32m     18\u001b[0m     \u001b[38;5;124m'\u001b[39m\u001b[38;5;124mother\u001b[39m\u001b[38;5;124m'\u001b[39m: \u001b[38;5;124m'\u001b[39m\u001b[38;5;124mOther Paths\u001b[39m\u001b[38;5;124m'\u001b[39m\n\u001b[1;32m     19\u001b[0m }\n\u001b[0;32m---> 21\u001b[0m readable_paths \u001b[38;5;241m=\u001b[39m [path_labels[path] \u001b[38;5;28;01mfor\u001b[39;00m path \u001b[38;5;129;01min\u001b[39;00m paths]\n\u001b[1;32m     23\u001b[0m \u001b[38;5;66;03m# Create the bar plot\u001b[39;00m\n\u001b[1;32m     24\u001b[0m bar_plot \u001b[38;5;241m=\u001b[39m sns\u001b[38;5;241m.\u001b[39mbarplot(x\u001b[38;5;241m=\u001b[39mreadable_paths, y\u001b[38;5;241m=\u001b[39mpercentages, palette\u001b[38;5;241m=\u001b[39m\u001b[38;5;124m'\u001b[39m\u001b[38;5;124mviridis\u001b[39m\u001b[38;5;124m'\u001b[39m)\n",
      "Cell \u001b[0;32mIn[105], line 21\u001b[0m, in \u001b[0;36m<listcomp>\u001b[0;34m(.0)\u001b[0m\n\u001b[1;32m     11\u001b[0m \u001b[38;5;66;03m# Format labels for better readability\u001b[39;00m\n\u001b[1;32m     12\u001b[0m path_labels \u001b[38;5;241m=\u001b[39m {\n\u001b[1;32m     13\u001b[0m     \u001b[38;5;124m'\u001b[39m\u001b[38;5;124madd_to_cart_only\u001b[39m\u001b[38;5;124m'\u001b[39m: \u001b[38;5;124m'\u001b[39m\u001b[38;5;124mAdd to Cart Only\u001b[39m\u001b[38;5;124m'\u001b[39m,\n\u001b[1;32m     14\u001b[0m     \u001b[38;5;124m'\u001b[39m\u001b[38;5;124mcart_to_checkout_only\u001b[39m\u001b[38;5;124m'\u001b[39m: \u001b[38;5;124m'\u001b[39m\u001b[38;5;124mCart → Checkout (No Purchase)\u001b[39m\u001b[38;5;124m'\u001b[39m,\n\u001b[0;32m   (...)\u001b[0m\n\u001b[1;32m     18\u001b[0m     \u001b[38;5;124m'\u001b[39m\u001b[38;5;124mother\u001b[39m\u001b[38;5;124m'\u001b[39m: \u001b[38;5;124m'\u001b[39m\u001b[38;5;124mOther Paths\u001b[39m\u001b[38;5;124m'\u001b[39m\n\u001b[1;32m     19\u001b[0m }\n\u001b[0;32m---> 21\u001b[0m readable_paths \u001b[38;5;241m=\u001b[39m [\u001b[43mpath_labels\u001b[49m\u001b[43m[\u001b[49m\u001b[43mpath\u001b[49m\u001b[43m]\u001b[49m \u001b[38;5;28;01mfor\u001b[39;00m path \u001b[38;5;129;01min\u001b[39;00m paths]\n\u001b[1;32m     23\u001b[0m \u001b[38;5;66;03m# Create the bar plot\u001b[39;00m\n\u001b[1;32m     24\u001b[0m bar_plot \u001b[38;5;241m=\u001b[39m sns\u001b[38;5;241m.\u001b[39mbarplot(x\u001b[38;5;241m=\u001b[39mreadable_paths, y\u001b[38;5;241m=\u001b[39mpercentages, palette\u001b[38;5;241m=\u001b[39m\u001b[38;5;124m'\u001b[39m\u001b[38;5;124mviridis\u001b[39m\u001b[38;5;124m'\u001b[39m)\n",
      "\u001b[0;31mKeyError\u001b[0m: 'add'"
     ]
    },
    {
     "data": {
      "text/plain": [
       "<Figure size 1200x600 with 0 Axes>"
      ]
     },
     "metadata": {},
     "output_type": "display_data"
    }
   ],
   "source": [
    "# Visualize the distribution of paths\n",
    "plt.figure(figsize=(12, 6))\n",
    "sns.set_style('whitegrid')\n",
    "\n",
    "# Prepare data for plotting\n",
    "paths = list(path_counts.keys())\n",
    "counts = list(path_counts.values())\n",
    "total = sum(counts)\n",
    "percentages = [count/total*100 for count in counts]\n",
    "\n",
    "# Format labels for better readability\n",
    "path_labels = {\n",
    "    'add_to_cart_only': 'Add to Cart Only',\n",
    "    'cart_to_checkout_only': 'Cart → Checkout (No Purchase)',\n",
    "    'cart_to_checkout_to_purchase_no_modal': 'Cart → Checkout → Purchase',\n",
    "    'cart_to_modal_to_wait_to_purchase': 'Cart → Modal → Wait → Purchase',\n",
    "    'cart_to_modal_to_disable_to_purchase': 'Cart → Modal → Disable → Purchase',\n",
    "    'other': 'Other Paths'\n",
    "}\n",
    "\n",
    "readable_paths = [path_labels[path] for path in paths]\n",
    "\n",
    "# Create the bar plot\n",
    "bar_plot = sns.barplot(x=readable_paths, y=percentages, palette='viridis')\n",
    "\n",
    "# Add percentage labels to the bars\n",
    "for i, p in enumerate(bar_plot.patches):\n",
    "    bar_plot.annotate(f\"{percentages[i]:.1f}%\\n({counts[i]})\", \n",
    "                     (p.get_x() + p.get_width()/2., p.get_height()),\n",
    "                     ha='center', va='bottom')\n",
    "\n",
    "# Customize plot\n",
    "plt.title('Distribution of Shopping Cart Paths', fontsize=15)\n",
    "plt.xlabel('Path Type', fontsize=12)\n",
    "plt.ylabel('Percentage of Sessions', fontsize=12)\n",
    "plt.xticks(rotation=45, ha='right')\n",
    "plt.tight_layout()\n",
    "\n",
    "plt.show()"
   ]
  },
  {
   "cell_type": "code",
   "execution_count": null,
   "id": "e83d43bc",
   "metadata": {},
   "outputs": [],
   "source": [
    "# Calculate key conversion metrics\n",
    "\n",
    "# Total sessions with add-to-cart\n",
    "total_cart_sessions = len(cart_sessions)\n",
    "\n",
    "# Sessions that proceeded to checkout\n",
    "checkout_sessions = path_counts['cart_to_checkout_only'] + path_counts['cart_to_checkout_to_purchase_no_modal'] + \\\n",
    "                    path_counts['cart_to_modal_to_wait_to_purchase'] + path_counts['cart_to_modal_to_disable_to_purchase']\n",
    "\n",
    "# Sessions that saw the modal\n",
    "modal_sessions = path_counts['cart_to_modal_to_wait_to_purchase'] + path_counts['cart_to_modal_to_disable_to_purchase']\n",
    "\n",
    "# Sessions that completed purchase\n",
    "purchase_sessions = path_counts['cart_to_checkout_to_purchase_no_modal'] + \\\n",
    "                   path_counts['cart_to_modal_to_wait_to_purchase'] + path_counts['cart_to_modal_to_disable_to_purchase']\n",
    "\n",
    "# Calculate conversion rates\n",
    "cart_to_checkout_rate = (checkout_sessions / total_cart_sessions) * 100 if total_cart_sessions > 0 else 0\n",
    "checkout_to_purchase_rate = (purchase_sessions / checkout_sessions) * 100 if checkout_sessions > 0 else 0\n",
    "modal_wait_rate = (path_counts['cart_to_modal_to_wait_to_purchase'] / modal_sessions) * 100 if modal_sessions > 0 else 0\n",
    "modal_disable_rate = (path_counts['cart_to_modal_to_disable_to_purchase'] / modal_sessions) * 100 if modal_sessions > 0 else 0\n",
    "\n",
    "# Print the results\n",
    "print(f\"Cart-to-Checkout Conversion: {cart_to_checkout_rate:.1f}% ({checkout_sessions} of {total_cart_sessions})\")\n",
    "print(f\"Checkout-to-Purchase Conversion: {checkout_to_purchase_rate:.1f}% ({purchase_sessions} of {checkout_sessions})\")\n",
    "print(f\"Modal-to-Purchase after Waiting: {modal_wait_rate:.1f}% ({path_counts['cart_to_modal_to_wait_to_purchase']} of {modal_sessions})\")\n",
    "print(f\"Modal-to-Purchase after Disabling: {modal_disable_rate:.1f}% ({path_counts['cart_to_modal_to_disable_to_purchase']} of {modal_sessions})\")"
   ]
  },
  {
   "cell_type": "markdown",
   "id": "e50d2ff6",
   "metadata": {},
   "source": [
    "## Time Analysis\n",
    "\n",
    "Now let's examine the time spent between key events in the shopping journey:"
   ]
  },
  {
   "cell_type": "code",
   "execution_count": 106,
   "id": "34188c18",
   "metadata": {},
   "outputs": [
    {
     "ename": "KeyError",
     "evalue": "'timestamp'",
     "output_type": "error",
     "traceback": [
      "\u001b[0;31m---------------------------------------------------------------------------\u001b[0m",
      "\u001b[0;31mKeyError\u001b[0m                                  Traceback (most recent call last)",
      "File \u001b[0;32m/opt/homebrew/anaconda3/envs/reddit/lib/python3.10/site-packages/pandas/core/indexes/base.py:3791\u001b[0m, in \u001b[0;36mIndex.get_loc\u001b[0;34m(self, key)\u001b[0m\n\u001b[1;32m   3790\u001b[0m \u001b[38;5;28;01mtry\u001b[39;00m:\n\u001b[0;32m-> 3791\u001b[0m     \u001b[38;5;28;01mreturn\u001b[39;00m \u001b[38;5;28;43mself\u001b[39;49m\u001b[38;5;241;43m.\u001b[39;49m\u001b[43m_engine\u001b[49m\u001b[38;5;241;43m.\u001b[39;49m\u001b[43mget_loc\u001b[49m\u001b[43m(\u001b[49m\u001b[43mcasted_key\u001b[49m\u001b[43m)\u001b[49m\n\u001b[1;32m   3792\u001b[0m \u001b[38;5;28;01mexcept\u001b[39;00m \u001b[38;5;167;01mKeyError\u001b[39;00m \u001b[38;5;28;01mas\u001b[39;00m err:\n",
      "File \u001b[0;32mindex.pyx:152\u001b[0m, in \u001b[0;36mpandas._libs.index.IndexEngine.get_loc\u001b[0;34m()\u001b[0m\n",
      "File \u001b[0;32mindex.pyx:181\u001b[0m, in \u001b[0;36mpandas._libs.index.IndexEngine.get_loc\u001b[0;34m()\u001b[0m\n",
      "File \u001b[0;32mpandas/_libs/hashtable_class_helper.pxi:7080\u001b[0m, in \u001b[0;36mpandas._libs.hashtable.PyObjectHashTable.get_item\u001b[0;34m()\u001b[0m\n",
      "File \u001b[0;32mpandas/_libs/hashtable_class_helper.pxi:7088\u001b[0m, in \u001b[0;36mpandas._libs.hashtable.PyObjectHashTable.get_item\u001b[0;34m()\u001b[0m\n",
      "\u001b[0;31mKeyError\u001b[0m: 'timestamp'",
      "\nThe above exception was the direct cause of the following exception:\n",
      "\u001b[0;31mKeyError\u001b[0m                                  Traceback (most recent call last)",
      "Cell \u001b[0;32mIn[106], line 61\u001b[0m\n\u001b[1;32m     58\u001b[0m     \u001b[38;5;28;01mreturn\u001b[39;00m time_data\n\u001b[1;32m     60\u001b[0m \u001b[38;5;66;03m# Calculate time intervals\u001b[39;00m\n\u001b[0;32m---> 61\u001b[0m time_intervals \u001b[38;5;241m=\u001b[39m \u001b[43manalyze_time_intervals\u001b[49m\u001b[43m(\u001b[49m\u001b[43mdf\u001b[49m\u001b[43m)\u001b[49m\n\u001b[1;32m     63\u001b[0m \u001b[38;5;66;03m# Display summary statistics for time intervals\u001b[39;00m\n\u001b[1;32m     64\u001b[0m \u001b[38;5;28;01mfor\u001b[39;00m interval, values \u001b[38;5;129;01min\u001b[39;00m time_intervals\u001b[38;5;241m.\u001b[39mitems():\n",
      "Cell \u001b[0;32mIn[106], line 18\u001b[0m, in \u001b[0;36manalyze_time_intervals\u001b[0;34m(df)\u001b[0m\n\u001b[1;32m     16\u001b[0m \u001b[38;5;66;03m# Get session data and convert timestamp to datetime\u001b[39;00m\n\u001b[1;32m     17\u001b[0m session_df \u001b[38;5;241m=\u001b[39m df[df[\u001b[38;5;124m'\u001b[39m\u001b[38;5;124msession_id\u001b[39m\u001b[38;5;124m'\u001b[39m] \u001b[38;5;241m==\u001b[39m session]\u001b[38;5;241m.\u001b[39mcopy()\n\u001b[0;32m---> 18\u001b[0m session_df[\u001b[38;5;124m'\u001b[39m\u001b[38;5;124mtimestamp\u001b[39m\u001b[38;5;124m'\u001b[39m] \u001b[38;5;241m=\u001b[39m pd\u001b[38;5;241m.\u001b[39mto_datetime(\u001b[43msession_df\u001b[49m\u001b[43m[\u001b[49m\u001b[38;5;124;43m'\u001b[39;49m\u001b[38;5;124;43mtimestamp\u001b[39;49m\u001b[38;5;124;43m'\u001b[39;49m\u001b[43m]\u001b[49m, unit\u001b[38;5;241m=\u001b[39m\u001b[38;5;124m'\u001b[39m\u001b[38;5;124mms\u001b[39m\u001b[38;5;124m'\u001b[39m)\n\u001b[1;32m     19\u001b[0m session_df \u001b[38;5;241m=\u001b[39m session_df\u001b[38;5;241m.\u001b[39msort_values(\u001b[38;5;124m'\u001b[39m\u001b[38;5;124mtimestamp\u001b[39m\u001b[38;5;124m'\u001b[39m)\n\u001b[1;32m     21\u001b[0m \u001b[38;5;66;03m# Extract timestamps for events\u001b[39;00m\n",
      "File \u001b[0;32m/opt/homebrew/anaconda3/envs/reddit/lib/python3.10/site-packages/pandas/core/frame.py:3893\u001b[0m, in \u001b[0;36mDataFrame.__getitem__\u001b[0;34m(self, key)\u001b[0m\n\u001b[1;32m   3891\u001b[0m \u001b[38;5;28;01mif\u001b[39;00m \u001b[38;5;28mself\u001b[39m\u001b[38;5;241m.\u001b[39mcolumns\u001b[38;5;241m.\u001b[39mnlevels \u001b[38;5;241m>\u001b[39m \u001b[38;5;241m1\u001b[39m:\n\u001b[1;32m   3892\u001b[0m     \u001b[38;5;28;01mreturn\u001b[39;00m \u001b[38;5;28mself\u001b[39m\u001b[38;5;241m.\u001b[39m_getitem_multilevel(key)\n\u001b[0;32m-> 3893\u001b[0m indexer \u001b[38;5;241m=\u001b[39m \u001b[38;5;28;43mself\u001b[39;49m\u001b[38;5;241;43m.\u001b[39;49m\u001b[43mcolumns\u001b[49m\u001b[38;5;241;43m.\u001b[39;49m\u001b[43mget_loc\u001b[49m\u001b[43m(\u001b[49m\u001b[43mkey\u001b[49m\u001b[43m)\u001b[49m\n\u001b[1;32m   3894\u001b[0m \u001b[38;5;28;01mif\u001b[39;00m is_integer(indexer):\n\u001b[1;32m   3895\u001b[0m     indexer \u001b[38;5;241m=\u001b[39m [indexer]\n",
      "File \u001b[0;32m/opt/homebrew/anaconda3/envs/reddit/lib/python3.10/site-packages/pandas/core/indexes/base.py:3798\u001b[0m, in \u001b[0;36mIndex.get_loc\u001b[0;34m(self, key)\u001b[0m\n\u001b[1;32m   3793\u001b[0m     \u001b[38;5;28;01mif\u001b[39;00m \u001b[38;5;28misinstance\u001b[39m(casted_key, \u001b[38;5;28mslice\u001b[39m) \u001b[38;5;129;01mor\u001b[39;00m (\n\u001b[1;32m   3794\u001b[0m         \u001b[38;5;28misinstance\u001b[39m(casted_key, abc\u001b[38;5;241m.\u001b[39mIterable)\n\u001b[1;32m   3795\u001b[0m         \u001b[38;5;129;01mand\u001b[39;00m \u001b[38;5;28many\u001b[39m(\u001b[38;5;28misinstance\u001b[39m(x, \u001b[38;5;28mslice\u001b[39m) \u001b[38;5;28;01mfor\u001b[39;00m x \u001b[38;5;129;01min\u001b[39;00m casted_key)\n\u001b[1;32m   3796\u001b[0m     ):\n\u001b[1;32m   3797\u001b[0m         \u001b[38;5;28;01mraise\u001b[39;00m InvalidIndexError(key)\n\u001b[0;32m-> 3798\u001b[0m     \u001b[38;5;28;01mraise\u001b[39;00m \u001b[38;5;167;01mKeyError\u001b[39;00m(key) \u001b[38;5;28;01mfrom\u001b[39;00m \u001b[38;5;21;01merr\u001b[39;00m\n\u001b[1;32m   3799\u001b[0m \u001b[38;5;28;01mexcept\u001b[39;00m \u001b[38;5;167;01mTypeError\u001b[39;00m:\n\u001b[1;32m   3800\u001b[0m     \u001b[38;5;66;03m# If we have a listlike key, _check_indexing_error will raise\u001b[39;00m\n\u001b[1;32m   3801\u001b[0m     \u001b[38;5;66;03m#  InvalidIndexError. Otherwise we fall through and re-raise\u001b[39;00m\n\u001b[1;32m   3802\u001b[0m     \u001b[38;5;66;03m#  the TypeError.\u001b[39;00m\n\u001b[1;32m   3803\u001b[0m     \u001b[38;5;28mself\u001b[39m\u001b[38;5;241m.\u001b[39m_check_indexing_error(key)\n",
      "\u001b[0;31mKeyError\u001b[0m: 'timestamp'"
     ]
    }
   ],
   "source": [
    "# Analyze time intervals between key events\n",
    "def analyze_time_intervals(df):\n",
    "    time_data = {\n",
    "        'cart_to_checkout': [],\n",
    "        'checkout_to_purchase': [],\n",
    "        'modal_to_purchase': [],\n",
    "        'modal_disable_to_purchase': []\n",
    "    }\n",
    "    \n",
    "    for session in session_paths:\n",
    "        # Skip sessions that don't match our analysis\n",
    "        path = session_paths[session]\n",
    "        if path == 'add_to_cart_only':\n",
    "            continue\n",
    "            \n",
    "        # Get session data and convert timestamp to datetime\n",
    "        session_df = df[df['session_id'] == session].copy()\n",
    "        session_df['timestamp'] = pd.to_datetime(session_df['timestamp'], unit='ms')\n",
    "        session_df = session_df.sort_values('timestamp')\n",
    "        \n",
    "        # Extract timestamps for events\n",
    "        cart_time = session_df[session_df['type'] == 'add-to-cart']['timestamp'].min()\n",
    "        \n",
    "        # Calculate cart to checkout time if applicable\n",
    "        if 'checkout' in session_df['type'].values:\n",
    "            checkout_time = session_df[session_df['type'] == 'checkout']['timestamp'].min()\n",
    "            if not pd.isna(cart_time) and not pd.isna(checkout_time):\n",
    "                cart_to_checkout_mins = (checkout_time - cart_time).total_seconds() / 60\n",
    "                time_data['cart_to_checkout'].append(cart_to_checkout_mins)\n",
    "        \n",
    "        # Calculate checkout to purchase time if applicable\n",
    "        if path in ['cart_to_checkout_to_purchase_no_modal', 'cart_to_modal_to_wait_to_purchase', 'cart_to_modal_to_disable_to_purchase']:\n",
    "            checkout_time = session_df[session_df['type'] == 'checkout']['timestamp'].min()\n",
    "            purchase_time = session_df[session_df['type'] == 'place-order']['timestamp'].min()\n",
    "            \n",
    "            if not pd.isna(checkout_time) and not pd.isna(purchase_time):\n",
    "                checkout_to_purchase_mins = (purchase_time - checkout_time).total_seconds() / 60\n",
    "                time_data['checkout_to_purchase'].append(checkout_to_purchase_mins)\n",
    "        \n",
    "        # Calculate modal to purchase time (for waiting sessions)\n",
    "        if path == 'cart_to_modal_to_wait_to_purchase':\n",
    "            modal_time = session_df[session_df['type'] == 'enforce_wait_modal_shown']['timestamp'].min()\n",
    "            purchase_time = session_df[session_df['type'] == 'place-order']['timestamp'].min()\n",
    "            \n",
    "            if not pd.isna(modal_time) and not pd.isna(purchase_time):\n",
    "                modal_to_purchase_mins = (purchase_time - modal_time).total_seconds() / 60\n",
    "                time_data['modal_to_purchase'].append(modal_to_purchase_mins)\n",
    "        \n",
    "        # Calculate modal to purchase time (for disable sessions)\n",
    "        if path == 'cart_to_modal_to_disable_to_purchase':\n",
    "            modal_time = session_df[session_df['type'] == 'enforce_wait_modal_shown']['timestamp'].min()\n",
    "            purchase_time = session_df[session_df['type'] == 'place-order']['timestamp'].min()\n",
    "            \n",
    "            if not pd.isna(modal_time) and not pd.isna(purchase_time):\n",
    "                modal_disable_to_purchase_mins = (purchase_time - modal_time).total_seconds() / 60\n",
    "                time_data['modal_disable_to_purchase'].append(modal_disable_to_purchase_mins)\n",
    "    \n",
    "    return time_data\n",
    "\n",
    "# Calculate time intervals\n",
    "time_intervals = analyze_time_intervals(df)\n",
    "\n",
    "# Display summary statistics for time intervals\n",
    "for interval, values in time_intervals.items():\n",
    "    if len(values) > 0:\n",
    "        print(f\"\\n{interval} time (minutes):\")\n",
    "        print(f\"  Count: {len(values)}\")\n",
    "        print(f\"  Mean: {np.mean(values):.2f}\")\n",
    "        print(f\"  Median: {np.median(values):.2f}\")\n",
    "        print(f\"  Min: {min(values):.2f}\")\n",
    "        print(f\"  Max: {max(values):.2f}\")\n",
    "        \n",
    "        # If this is modal_to_purchase, check how many waited the full 3 hours (180 minutes)\n",
    "        if interval == 'modal_to_purchase':\n",
    "            waited_3_hours = sum(t >= 180 for t in values)\n",
    "            print(f\"  Sessions that waited at least 3 hours: {waited_3_hours} ({waited_3_hours/len(values)*100:.1f}%)\")"
   ]
  },
  {
   "cell_type": "code",
   "execution_count": 107,
   "id": "8356215a",
   "metadata": {},
   "outputs": [
    {
     "ename": "NameError",
     "evalue": "name 'time_intervals' is not defined",
     "output_type": "error",
     "traceback": [
      "\u001b[0;31m---------------------------------------------------------------------------\u001b[0m",
      "\u001b[0;31mNameError\u001b[0m                                 Traceback (most recent call last)",
      "Cell \u001b[0;32mIn[107], line 17\u001b[0m\n\u001b[1;32m      9\u001b[0m interval_labels \u001b[38;5;241m=\u001b[39m {\n\u001b[1;32m     10\u001b[0m     \u001b[38;5;124m'\u001b[39m\u001b[38;5;124mcart_to_checkout\u001b[39m\u001b[38;5;124m'\u001b[39m: \u001b[38;5;124m'\u001b[39m\u001b[38;5;124mCart to Checkout\u001b[39m\u001b[38;5;124m'\u001b[39m,\n\u001b[1;32m     11\u001b[0m     \u001b[38;5;124m'\u001b[39m\u001b[38;5;124mcheckout_to_purchase\u001b[39m\u001b[38;5;124m'\u001b[39m: \u001b[38;5;124m'\u001b[39m\u001b[38;5;124mCheckout to Purchase\u001b[39m\u001b[38;5;124m'\u001b[39m,\n\u001b[1;32m     12\u001b[0m     \u001b[38;5;124m'\u001b[39m\u001b[38;5;124mmodal_to_purchase\u001b[39m\u001b[38;5;124m'\u001b[39m: \u001b[38;5;124m'\u001b[39m\u001b[38;5;124mModal to Purchase (After Waiting)\u001b[39m\u001b[38;5;124m'\u001b[39m,\n\u001b[1;32m     13\u001b[0m     \u001b[38;5;124m'\u001b[39m\u001b[38;5;124mmodal_disable_to_purchase\u001b[39m\u001b[38;5;124m'\u001b[39m: \u001b[38;5;124m'\u001b[39m\u001b[38;5;124mModal to Purchase (After Disabling)\u001b[39m\u001b[38;5;124m'\u001b[39m\n\u001b[1;32m     14\u001b[0m }\n\u001b[1;32m     16\u001b[0m \u001b[38;5;66;03m# Plot histograms for each interval\u001b[39;00m\n\u001b[0;32m---> 17\u001b[0m \u001b[38;5;28;01mfor\u001b[39;00m i, (interval, values) \u001b[38;5;129;01min\u001b[39;00m \u001b[38;5;28menumerate\u001b[39m(\u001b[43mtime_intervals\u001b[49m\u001b[38;5;241m.\u001b[39mitems()):\n\u001b[1;32m     18\u001b[0m     \u001b[38;5;28;01mif\u001b[39;00m \u001b[38;5;28mlen\u001b[39m(values) \u001b[38;5;241m>\u001b[39m \u001b[38;5;241m0\u001b[39m:\n\u001b[1;32m     19\u001b[0m         row, col \u001b[38;5;241m=\u001b[39m i \u001b[38;5;241m/\u001b[39m\u001b[38;5;241m/\u001b[39m \u001b[38;5;241m2\u001b[39m, i \u001b[38;5;241m%\u001b[39m \u001b[38;5;241m2\u001b[39m\n",
      "\u001b[0;31mNameError\u001b[0m: name 'time_intervals' is not defined"
     ]
    },
    {
     "data": {
      "text/plain": [
       "<Figure size 1400x1000 with 0 Axes>"
      ]
     },
     "metadata": {},
     "output_type": "display_data"
    },
    {
     "data": {
      "image/png": "[encoded data removed]",
      "text/plain": [
       "<Figure size 1500x1000 with 4 Axes>"
      ]
     },
     "metadata": {},
     "output_type": "display_data"
    }
   ],
   "source": [
    "# Visualize time intervals\n",
    "plt.figure(figsize=(14, 10))\n",
    "\n",
    "# Create subplot grid\n",
    "fig, axes = plt.subplots(2, 2, figsize=(15, 10))\n",
    "fig.suptitle('Time Intervals in Shopping Journey', fontsize=16)\n",
    "\n",
    "# Define labels for better readability\n",
    "interval_labels = {\n",
    "    'cart_to_checkout': 'Cart to Checkout',\n",
    "    'checkout_to_purchase': 'Checkout to Purchase',\n",
    "    'modal_to_purchase': 'Modal to Purchase (After Waiting)',\n",
    "    'modal_disable_to_purchase': 'Modal to Purchase (After Disabling)'\n",
    "}\n",
    "\n",
    "# Plot histograms for each interval\n",
    "for i, (interval, values) in enumerate(time_intervals.items()):\n",
    "    if len(values) > 0:\n",
    "        row, col = i // 2, i % 2\n",
    "        ax = axes[row, col]\n",
    "        \n",
    "        # Skip extreme outliers for better visualization\n",
    "        filtered_values = [v for v in values if v <= np.percentile(values, 95)]\n",
    "        \n",
    "        sns.histplot(filtered_values, kde=True, ax=ax)\n",
    "        ax.set_title(interval_labels[interval], fontsize=12)\n",
    "        ax.set_xlabel('Time (minutes)')\n",
    "        ax.set_ylabel('Frequency')\n",
    "        \n",
    "        # Add mean and median lines\n",
    "        mean_val = np.mean(filtered_values)\n",
    "        median_val = np.median(filtered_values)\n",
    "        ax.axvline(mean_val, color='red', linestyle='--', label=f'Mean: {mean_val:.2f} min')\n",
    "        ax.axvline(median_val, color='green', linestyle=':', label=f'Median: {median_val:.2f} min')\n",
    "        ax.legend()\n",
    "\n",
    "plt.tight_layout(rect=[0, 0, 1, 0.95])\n",
    "plt.show()"
   ]
  },
  {
   "cell_type": "markdown",
   "id": "43a14ad4",
   "metadata": {},
   "source": [
    "## Conclusion\n",
    "\n",
    "This analysis examines different user paths after adding items to cart. Key insights include:\n",
    "\n",
    "1. The most common path after adding to cart\n",
    "2. The effectiveness of the enforce_wait_modal in deterring immediate purchases\n",
    "3. The percentage of users who disable the extension to bypass the waiting period\n",
    "4. Typical waiting times for users who complete a purchase after seeing the modal\n",
    "\n",
    "These insights can help understand how effective the waiting period is at reducing impulsive purchases while not completely blocking legitimate purchase intent."
   ]
  },
  {
   "cell_type": "code",
   "execution_count": 108,
   "id": "251f5cc7",
   "metadata": {},
   "outputs": [
    {
     "ename": "NameError",
     "evalue": "name 'checkout_sessions' is not defined",
     "output_type": "error",
     "traceback": [
      "\u001b[0;31m---------------------------------------------------------------------------\u001b[0m",
      "\u001b[0;31mNameError\u001b[0m                                 Traceback (most recent call last)",
      "Cell \u001b[0;32mIn[108], line 19\u001b[0m\n\u001b[1;32m     15\u001b[0m target \u001b[38;5;241m=\u001b[39m [\u001b[38;5;241m1\u001b[39m, \u001b[38;5;241m6\u001b[39m, \u001b[38;5;241m2\u001b[39m, \u001b[38;5;241m6\u001b[39m, \u001b[38;5;241m3\u001b[39m, \u001b[38;5;241m4\u001b[39m, \u001b[38;5;241m5\u001b[39m, \u001b[38;5;241m5\u001b[39m]  \n\u001b[1;32m     17\u001b[0m \u001b[38;5;66;03m# Values (number of sessions for each flow)\u001b[39;00m\n\u001b[1;32m     18\u001b[0m \u001b[38;5;66;03m# Add to Cart -> Checkout\u001b[39;00m\n\u001b[0;32m---> 19\u001b[0m value_cart_to_checkout \u001b[38;5;241m=\u001b[39m \u001b[43mcheckout_sessions\u001b[49m\n\u001b[1;32m     20\u001b[0m \u001b[38;5;66;03m# Add to Cart -> No Further Action\u001b[39;00m\n\u001b[1;32m     21\u001b[0m value_cart_to_no_action \u001b[38;5;241m=\u001b[39m path_counts[\u001b[38;5;124m'\u001b[39m\u001b[38;5;124madd_to_cart_only\u001b[39m\u001b[38;5;124m'\u001b[39m]\n",
      "\u001b[0;31mNameError\u001b[0m: name 'checkout_sessions' is not defined"
     ]
    }
   ],
   "source": [
    "# Create a Sankey diagram to visualize the user flow\n",
    "try:\n",
    "    import plotly.graph_objects as go\n",
    "    \n",
    "    # Define the nodes\n",
    "    labels = [\n",
    "        'Add to Cart', 'Checkout', 'Modal Shown', 'Wait 3 Hours', \n",
    "        'Disable Extension', 'Purchase', 'No Further Action'\n",
    "    ]\n",
    "    \n",
    "    # Define flow values based on our path counts\n",
    "    # Source nodes (index from labels list)\n",
    "    source = [0, 0, 1, 1, 2, 2, 3, 4]  \n",
    "    # Target nodes (index from labels list)\n",
    "    target = [1, 6, 2, 6, 3, 4, 5, 5]  \n",
    "    \n",
    "    # Values (number of sessions for each flow)\n",
    "    # Add to Cart -> Checkout\n",
    "    value_cart_to_checkout = checkout_sessions\n",
    "    # Add to Cart -> No Further Action\n",
    "    value_cart_to_no_action = path_counts['add_to_cart_only']\n",
    "    # Checkout -> Modal\n",
    "    value_checkout_to_modal = modal_sessions\n",
    "    # Checkout -> No Further Action\n",
    "    value_checkout_to_no_action = path_counts['cart_to_checkout_only']\n",
    "    # Modal -> Wait\n",
    "    value_modal_to_wait = path_counts['cart_to_modal_to_wait_to_purchase']\n",
    "    # Modal -> Disable\n",
    "    value_modal_to_disable = path_counts['cart_to_modal_to_disable_to_purchase']\n",
    "    # Wait -> Purchase\n",
    "    value_wait_to_purchase = path_counts['cart_to_modal_to_wait_to_purchase']\n",
    "    # Disable -> Purchase\n",
    "    value_disable_to_purchase = path_counts['cart_to_modal_to_disable_to_purchase']\n",
    "    \n",
    "    value = [value_cart_to_checkout, value_cart_to_no_action, value_checkout_to_modal, \n",
    "             value_checkout_to_no_action, value_modal_to_wait, value_modal_to_disable,\n",
    "             value_wait_to_purchase, value_disable_to_purchase]\n",
    "    \n",
    "    # Define node colors\n",
    "    node_colors = [\n",
    "        'rgba(31, 119, 180, 0.8)',  # Add to Cart - blue\n",
    "        'rgba(255, 127, 14, 0.8)',   # Checkout - orange\n",
    "        'rgba(44, 160, 44, 0.8)',    # Modal Shown - green\n",
    "        'rgba(214, 39, 40, 0.8)',    # Wait 3 Hours - red\n",
    "        'rgba(148, 103, 189, 0.8)',  # Disable Extension - purple\n",
    "        'rgba(140, 86, 75, 0.8)',    # Purchase - brown\n",
    "        'rgba(188, 189, 34, 0.8)'    # No Further Action - olive\n",
    "    ]\n",
    "    \n",
    "    # Create the Sankey diagram\n",
    "    fig = go.Figure(data=[go.Sankey(\n",
    "        node = dict(\n",
    "            pad = 15,\n",
    "            thickness = 20,\n",
    "            line = dict(color = \"black\", width = 0.5),\n",
    "            label = labels,\n",
    "            color = node_colors\n",
    "        ),\n",
    "        link = dict(\n",
    "            source = source,\n",
    "            target = target,\n",
    "            value = value\n",
    "        ))\n",
    "    ])\n",
    "    \n",
    "    # Update layout\n",
    "    fig.update_layout(\n",
    "        title_text=\"User Flow From Cart Addition to Purchase\",\n",
    "        font_size=12,\n",
    "        height=600\n",
    "    )\n",
    "    \n",
    "    fig.show()\n",
    "except ImportError:\n",
    "    print(\"Plotly is required for Sankey diagram. Install with: !pip install plotly\")"
   ]
  },
  {
   "cell_type": "code",
   "execution_count": null,
   "id": "bc01df6f",
   "metadata": {},
   "outputs": [],
   "source": []
  }
 ],
 "metadata": {
  "kernelspec": {
   "display_name": "reddit",
   "language": "python",
   "name": "python3"
  },
  "language_info": {
   "codemirror_mode": {
    "name": "ipython",
    "version": 3
   },
   "file_extension": ".py",
   "mimetype": "text/x-python",
   "name": "python",
   "nbconvert_exporter": "python",
   "pygments_lexer": "ipython3",
   "version": "3.10.15"
  }
 },
 "nbformat": 4,
 "nbformat_minor": 5
}
