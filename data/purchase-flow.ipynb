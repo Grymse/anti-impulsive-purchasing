{
 "cells": [
  {
   "cell_type": "code",
   "execution_count": 109,
   "id": "7393e7f1",
   "metadata": {},
   "outputs": [],
   "source": [
    "# Enhanced Comparison Analysis - Checkout Visits, Pop-up Modal, and Purchase Events\n",
    "import pandas as pd\n",
    "import numpy as np\n",
    "import matplotlib.pyplot as plt\n",
    "import seaborn as sns\n",
    "\n",
    "# Load the CSV file\n",
    "df = pd.read_csv('analytics.csv')"
   ]
  },
  {
   "cell_type": "code",
   "execution_count": 110,
   "id": "547d13ce",
   "metadata": {},
   "outputs": [
    {
     "name": "stdout",
     "output_type": "stream",
     "text": [
      "Dataset shape: (8568, 9)\n",
      "\n",
      "Column names:\n",
      "['id', 'type', 'url', 'payload', 'user_id', 'session_id', 'received_at', 'created_at', 'domain']\n",
      "\n",
      "Event types:\n",
      "type\n",
      "time-spent                    7212\n",
      "page-view                      748\n",
      "from-directs                   213\n",
      "on-onboarding                  174\n",
      "from-directs-cta                42\n",
      "add-to-cart                     36\n",
      "uninstall                       28\n",
      "open-popup                      25\n",
      "checkout                        24\n",
      "welcome-modal-seen              17\n",
      "active                          15\n",
      "enforce_wait_modal_shown        14\n",
      "enforce_wait_info_expanded       7\n",
      "enforce_wait_canceled            6\n",
      "questionary-popup                4\n",
      "open-options                     3\n",
      "Name: count, dtype: int64\n",
      "\n",
      "First few rows:\n"
     ]
    },
    {
     "data": {
      "text/html": [
       "<div>\n",
       "<style scoped>\n",
       "    .dataframe tbody tr th:only-of-type {\n",
       "        vertical-align: middle;\n",
       "    }\n",
       "\n",
       "    .dataframe tbody tr th {\n",
       "        vertical-align: top;\n",
       "    }\n",
       "\n",
       "    .dataframe thead th {\n",
       "        text-align: right;\n",
       "    }\n",
       "</style>\n",
       "<table border=\"1\" class=\"dataframe\">\n",
       "  <thead>\n",
       "    <tr style=\"text-align: right;\">\n",
       "      <th></th>\n",
       "      <th>id</th>\n",
       "      <th>type</th>\n",
       "      <th>url</th>\n",
       "      <th>payload</th>\n",
       "      <th>user_id</th>\n",
       "      <th>session_id</th>\n",
       "      <th>received_at</th>\n",
       "      <th>created_at</th>\n",
       "      <th>domain</th>\n",
       "    </tr>\n",
       "  </thead>\n",
       "  <tbody>\n",
       "    <tr>\n",
       "      <th>0</th>\n",
       "      <td>19500</td>\n",
       "      <td>from-directs</td>\n",
       "      <td>www.lessextension.com/</td>\n",
       "      <td>\"anticonsumption\"</td>\n",
       "      <td>less-website</td>\n",
       "      <td>27682d65-a8df-44b3-b7d0-6d77ef421460</td>\n",
       "      <td>2025-03-27T01:06:50.771229+00:00</td>\n",
       "      <td>2025-03-27T01:06:50.072+00:00</td>\n",
       "      <td>lessextension.com</td>\n",
       "    </tr>\n",
       "    <tr>\n",
       "      <th>1</th>\n",
       "      <td>19501</td>\n",
       "      <td>from-directs</td>\n",
       "      <td>www.lessextension.com/</td>\n",
       "      <td>\"chrome_extensions\"</td>\n",
       "      <td>less-website</td>\n",
       "      <td>cb587f39-8d50-4b2e-8285-1c84c006a3f6</td>\n",
       "      <td>2025-03-27T04:40:08.182539+00:00</td>\n",
       "      <td>2025-03-27T04:40:08.386+00:00</td>\n",
       "      <td>lessextension.com</td>\n",
       "    </tr>\n",
       "    <tr>\n",
       "      <th>2</th>\n",
       "      <td>19502</td>\n",
       "      <td>from-directs</td>\n",
       "      <td>www.lessextension.com/</td>\n",
       "      <td>\"chrome_extensions\"</td>\n",
       "      <td>less-website</td>\n",
       "      <td>cb587f39-8d50-4b2e-8285-1c84c006a3f6</td>\n",
       "      <td>2025-03-27T04:40:12.087957+00:00</td>\n",
       "      <td>2025-03-27T04:40:11.03+00:00</td>\n",
       "      <td>lessextension.com</td>\n",
       "    </tr>\n",
       "    <tr>\n",
       "      <th>3</th>\n",
       "      <td>19503</td>\n",
       "      <td>from-directs</td>\n",
       "      <td>www.lessextension.com/</td>\n",
       "      <td>\"shoppingaddiction\"</td>\n",
       "      <td>less-website</td>\n",
       "      <td>832c9f44-45dc-41c4-b153-f52622bf8cd3</td>\n",
       "      <td>2025-03-27T06:05:28.66007+00:00</td>\n",
       "      <td>2025-03-27T06:05:28.463+00:00</td>\n",
       "      <td>lessextension.com</td>\n",
       "    </tr>\n",
       "    <tr>\n",
       "      <th>4</th>\n",
       "      <td>19504</td>\n",
       "      <td>from-directs</td>\n",
       "      <td>www.lessextension.com/</td>\n",
       "      <td>\"kua\"</td>\n",
       "      <td>less-website</td>\n",
       "      <td>fd5b0644-a4ba-4050-b119-8b495140847b</td>\n",
       "      <td>2025-03-27T07:16:26.763114+00:00</td>\n",
       "      <td>2025-03-27T07:16:25.837+00:00</td>\n",
       "      <td>lessextension.com</td>\n",
       "    </tr>\n",
       "  </tbody>\n",
       "</table>\n",
       "</div>"
      ],
      "text/plain": [
       "      id          type                     url              payload  \\\n",
       "0  19500  from-directs  www.lessextension.com/    \"anticonsumption\"   \n",
       "1  19501  from-directs  www.lessextension.com/  \"chrome_extensions\"   \n",
       "2  19502  from-directs  www.lessextension.com/  \"chrome_extensions\"   \n",
       "3  19503  from-directs  www.lessextension.com/  \"shoppingaddiction\"   \n",
       "4  19504  from-directs  www.lessextension.com/                \"kua\"   \n",
       "\n",
       "        user_id                            session_id  \\\n",
       "0  less-website  27682d65-a8df-44b3-b7d0-6d77ef421460   \n",
       "1  less-website  cb587f39-8d50-4b2e-8285-1c84c006a3f6   \n",
       "2  less-website  cb587f39-8d50-4b2e-8285-1c84c006a3f6   \n",
       "3  less-website  832c9f44-45dc-41c4-b153-f52622bf8cd3   \n",
       "4  less-website  fd5b0644-a4ba-4050-b119-8b495140847b   \n",
       "\n",
       "                        received_at                     created_at  \\\n",
       "0  2025-03-27T01:06:50.771229+00:00  2025-03-27T01:06:50.072+00:00   \n",
       "1  2025-03-27T04:40:08.182539+00:00  2025-03-27T04:40:08.386+00:00   \n",
       "2  2025-03-27T04:40:12.087957+00:00   2025-03-27T04:40:11.03+00:00   \n",
       "3   2025-03-27T06:05:28.66007+00:00  2025-03-27T06:05:28.463+00:00   \n",
       "4  2025-03-27T07:16:26.763114+00:00  2025-03-27T07:16:25.837+00:00   \n",
       "\n",
       "              domain  \n",
       "0  lessextension.com  \n",
       "1  lessextension.com  \n",
       "2  lessextension.com  \n",
       "3  lessextension.com  \n",
       "4  lessextension.com  "
      ]
     },
     "execution_count": 110,
     "metadata": {},
     "output_type": "execute_result"
    }
   ],
   "source": [
    "# Examine the structure of the data\n",
    "print(f\"Dataset shape: {df.shape}\")\n",
    "print(\"\\nColumn names:\")\n",
    "print(df.columns.tolist())\n",
    "print(\"\\nEvent types:\")\n",
    "print(df['type'].value_counts())\n",
    "print(\"\\nFirst few rows:\")\n",
    "df.head()"
   ]
  },
  {
   "cell_type": "markdown",
   "id": "f4257c30",
   "metadata": {},
   "source": [
    "# Shopping Session Analysis\n",
    "\n",
    "We'll analyze user behavior after adding items to cart. The possible paths are:\n",
    "\n",
    "1. Add to cart → Never proceed to checkout\n",
    "2. Add to cart → Checkout → Don't place order\n",
    "3. Add to cart → Checkout → See enforce_wait_modal → Wait 3 hours → Place order\n",
    "4. Add to cart → Checkout → See enforce_wait_modal → Disable extension → Place order\n",
    "\n",
    "We'll define a unique shopping session by each combination of `user_id` and `domain`."
   ]
  },
  {
   "cell_type": "code",
   "execution_count": 111,
   "id": "8240d979",
   "metadata": {},
   "outputs": [
    {
     "name": "stdout",
     "output_type": "stream",
     "text": [
      "Total unique shopping sessions: 117\n",
      "Sessions with at least one add-to-cart event: 11\n"
     ]
    }
   ],
   "source": [
    "# Define shopping sessions by user_id and domain\n",
    "\n",
    "# Create a unique session ID by combining user_id and domain\n",
    "df['session_id'] = df['user_id'] + '_' + df['domain']\n",
    "\n",
    "# Count unique sessions\n",
    "unique_sessions = df['session_id'].nunique()\n",
    "print(f\"Total unique shopping sessions: {unique_sessions}\")\n",
    "\n",
    "# Extract sessions that have at least one add-to-cart event\n",
    "cart_sessions = df[df['type'] == 'add-to-cart']['session_id'].unique()\n",
    "print(f\"Sessions with at least one add-to-cart event: {len(cart_sessions)}\")"
   ]
  },
  {
   "cell_type": "code",
   "execution_count": 143,
   "id": "1ed3862c",
   "metadata": {},
   "outputs": [
    {
     "name": "stdout",
     "output_type": "stream",
     "text": [
      "Successful blockings:\n",
      "{'amazon.com', 'e2eb1291-5fec-45e6-bded-3018f0d67d66'}\n",
      "{'e2eb1291-5fec-45e6-bded-3018f0d67d66', 'etsy.com'}\n",
      "add: 1 sessions\n",
      "checkout: 9 sessions\n",
      "checkout_modal: 1 sessions\n",
      "checkout_modal_purchase: 0 sessions\n",
      "checkout_modal_uninstall: 0 sessions\n",
      "checkout_modal_disable: 2 sessions\n",
      "add_checkout: 5 sessions\n",
      "add_checkout_modal: 1 sessions\n",
      "add_checkout_modal_uninstall: 3 sessions\n",
      "add_checkout_modal_purchase: 0 sessions\n",
      "add_checkout_modal_disable: 1 sessions\n"
     ]
    }
   ],
   "source": [
    "# Function to determine the path for each session\n",
    "def analyze_session_paths(df):\n",
    "    # Initialize dictionaries to store session paths and counts\n",
    "    session_paths = {}\n",
    "    path_counts = {\n",
    "        'add': 0,\n",
    "        'checkout': 0,\n",
    "        'checkout_modal': 0,\n",
    "        'checkout_modal_purchase': 0,\n",
    "        'checkout_modal_uninstall': 0,\n",
    "        'checkout_modal_disable': 0,\n",
    "        'add_checkout': 0,\n",
    "        'add_checkout_modal': 0,\n",
    "        'add_checkout_modal_uninstall': 0,\n",
    "        'add_checkout_modal_purchase': 0,\n",
    "        'add_checkout_modal_disable': 0,\n",
    "    }\n",
    "    \n",
    "    # Get all unique session IDs\n",
    "    # Distinguish sessions by unique user_id and domain\n",
    "    sessions = df[['user_id', 'domain']].drop_duplicates().apply(lambda row: f\"{row['user_id']}_{row['domain']}\", axis=1).values\n",
    "\n",
    "    successful_blockings = []\n",
    "    \n",
    "    for session in sessions:\n",
    "        # Filter data for this session\n",
    "        user_id, domain = session.split('_', 1)\n",
    "        session_data = df[(df['user_id'] == user_id) & (df['domain'] == domain)].sort_values('received_at')\n",
    "        \n",
    "        # Check for add-to-cart event\n",
    "        has_add_to_cart = 'add-to-cart' in session_data['type'].values\n",
    "\n",
    "        # Check for various events\n",
    "        has_checkout = 'checkout' in session_data['type'].values\n",
    "        has_modal = 'enforce_wait_modal_shown' in session_data['type'].values\n",
    "        has_purchase = 'place-order' in session_data['type'].values\n",
    "\n",
    "        deactivated = False\n",
    "        uninstall = False\n",
    "        \n",
    "        # Check for extension deactivation after modal\n",
    "        if has_modal:\n",
    "            modal_time = session_data[session_data['type'] == 'enforce_wait_modal_shown']['created_at'].iloc[0]\n",
    "            # Look for 'active' events where active=false after modal time\n",
    "            deactivated = len(df[\n",
    "                (df['user_id'] == user_id) & \n",
    "                (df['type'] == 'active') & \n",
    "                (df['created_at'] > modal_time) &\n",
    "                (pd.to_datetime(df['created_at'], format=\"mixed\") <= (pd.to_datetime(modal_time, format=\"mixed\") + pd.Timedelta(minutes=10)))\n",
    "            ]) > 0\n",
    "\n",
    "            # Only consider uninstall events within 10 minutes after modal shown\n",
    "            uninstall = len(df[\n",
    "                (df['user_id'] == user_id) & \n",
    "                (df['type'] == 'uninstall') & \n",
    "                (df['created_at'] > modal_time)\n",
    "                & (pd.to_datetime(df['created_at'], format=\"mixed\") <= (pd.to_datetime(modal_time, format=\"mixed\") + pd.Timedelta(minutes=50)))\n",
    "            ]) > 0\n",
    "\n",
    "            if has_modal and not uninstall and not deactivated:\n",
    "                successful_blockings.append({user_id, session_data.iloc[0]['domain']})\n",
    "\n",
    "        str_to_add = []\n",
    "\n",
    "        if has_add_to_cart:\n",
    "            str_to_add.append(\"add\")\n",
    "        \n",
    "        if has_checkout:\n",
    "            str_to_add.append(\"checkout\")\n",
    "\n",
    "        if has_modal:\n",
    "            str_to_add.append(\"modal\")\n",
    "\n",
    "        if has_purchase:\n",
    "            str_to_add.append(\"purchase\")\n",
    "\n",
    "        if deactivated:\n",
    "            str_to_add.append(\"disable\")\n",
    "\n",
    "        if uninstall:\n",
    "            str_to_add.append(\"uninstall\")\n",
    "\n",
    "        if len(str_to_add) == 0:\n",
    "            continue\n",
    "\n",
    "        path = \"_\".join(str_to_add)\n",
    "        \n",
    "        # Store path for this session\n",
    "        session_paths[session] = path\n",
    "        path_counts[path] += 1\n",
    "\n",
    "    return session_paths, path_counts, successful_blockings\n",
    "\n",
    "# Analyze session paths\n",
    "session_paths, path_counts, successful_blockings = analyze_session_paths(df)\n",
    "\n",
    "print(\"Successful blockings:\")\n",
    "for blocking in successful_blockings:\n",
    "    print(blocking)\n",
    "\n",
    "# Display results\n",
    "for path, count in path_counts.items():\n",
    "    print(f\"{path}: {count} sessions\")\n"
   ]
  },
  {
   "cell_type": "code",
   "execution_count": null,
   "id": "a2116078",
   "metadata": {},
   "outputs": [
    {
     "ename": "ValueError",
     "evalue": "The truth value of a Series is ambiguous. Use a.empty, a.bool(), a.item(), a.any() or a.all().",
     "output_type": "error",
     "traceback": [
      "\u001b[0;31m---------------------------------------------------------------------------\u001b[0m",
      "\u001b[0;31mValueError\u001b[0m                                Traceback (most recent call last)",
      "\u001b[0;32m/var/folders/yv/xt28csc14lq6qntd89nbqmfm0000gn/T/ipykernel_24991/2088480494.py\u001b[0m in \u001b[0;36m?\u001b[0;34m()\u001b[0m\n\u001b[1;32m      1\u001b[0m \u001b[0;31m# print event id = 21170 and the prior 100 events\u001b[0m\u001b[0;34m\u001b[0m\u001b[0;34m\u001b[0m\u001b[0m\n\u001b[1;32m      2\u001b[0m \u001b[0mevent_id\u001b[0m \u001b[0;34m=\u001b[0m \u001b[0;36m21170\u001b[0m\u001b[0;34m\u001b[0m\u001b[0;34m\u001b[0m\u001b[0m\n\u001b[0;32m----> 3\u001b[0;31m \u001b[0mevent_data\u001b[0m \u001b[0;34m=\u001b[0m \u001b[0mdf\u001b[0m\u001b[0;34m[\u001b[0m\u001b[0mevent_id\u001b[0m \u001b[0;34m-\u001b[0m \u001b[0;36m100\u001b[0m \u001b[0;34m<\u001b[0m \u001b[0mdf\u001b[0m\u001b[0;34m[\u001b[0m\u001b[0;34m'id'\u001b[0m\u001b[0;34m]\u001b[0m \u001b[0;34m&\u001b[0m \u001b[0mdf\u001b[0m\u001b[0;34m[\u001b[0m\u001b[0;34m'id'\u001b[0m\u001b[0;34m]\u001b[0m \u001b[0;34m<=\u001b[0m \u001b[0mevent_id\u001b[0m\u001b[0;34m]\u001b[0m\u001b[0;34m\u001b[0m\u001b[0;34m\u001b[0m\u001b[0m\n\u001b[0m",
      "\u001b[0;32m/opt/homebrew/anaconda3/envs/reddit/lib/python3.10/site-packages/pandas/core/generic.py\u001b[0m in \u001b[0;36m?\u001b[0;34m(self)\u001b[0m\n\u001b[1;32m   1517\u001b[0m     \u001b[0;34m@\u001b[0m\u001b[0mfinal\u001b[0m\u001b[0;34m\u001b[0m\u001b[0;34m\u001b[0m\u001b[0m\n\u001b[1;32m   1518\u001b[0m     \u001b[0;32mdef\u001b[0m \u001b[0m__nonzero__\u001b[0m\u001b[0;34m(\u001b[0m\u001b[0mself\u001b[0m\u001b[0;34m)\u001b[0m \u001b[0;34m->\u001b[0m \u001b[0mNoReturn\u001b[0m\u001b[0;34m:\u001b[0m\u001b[0;34m\u001b[0m\u001b[0;34m\u001b[0m\u001b[0m\n\u001b[0;32m-> 1519\u001b[0;31m         raise ValueError(\n\u001b[0m\u001b[1;32m   1520\u001b[0m             \u001b[0;34mf\"The truth value of a {type(self).__name__} is ambiguous. \"\u001b[0m\u001b[0;34m\u001b[0m\u001b[0;34m\u001b[0m\u001b[0m\n\u001b[1;32m   1521\u001b[0m             \u001b[0;34m\"Use a.empty, a.bool(), a.item(), a.any() or a.all().\"\u001b[0m\u001b[0;34m\u001b[0m\u001b[0;34m\u001b[0m\u001b[0m\n\u001b[1;32m   1522\u001b[0m         )\n",
      "\u001b[0;31mValueError\u001b[0m: The truth value of a Series is ambiguous. Use a.empty, a.bool(), a.item(), a.any() or a.all()."
     ]
    }
   ],
   "source": [
    "# print event id = 21170 and the prior 100 events\n",
    "event_id = 21170\n",
    "# print event id = 21170 and the prior 100 events"
   ]
  },
  {
   "cell_type": "code",
   "execution_count": 52,
   "id": "5dfdfe5c",
   "metadata": {},
   "outputs": [
    {
     "data": {
      "image/png": "[encoded data removed]",
      "text/plain": [
       "<Figure size 1000x600 with 1 Axes>"
      ]
     },
     "metadata": {},
     "output_type": "display_data"
    }
   ],
   "source": [
    "\n",
    "import matplotlib.pyplot as plt\n",
    "\n",
    "# Prepare data for plotting\n",
    "labels = list(path_counts.keys())\n",
    "values = list(path_counts.values())\n",
    "\n",
    "plt.figure(figsize=(10, 6))\n",
    "bars = plt.bar(labels, values, color='skyblue')\n",
    "\n",
    "# Add value labels on top of bars\n",
    "for bar, value in zip(bars, values):\n",
    "    plt.text(bar.get_x() + bar.get_width() / 2, bar.get_height(), str(value),\n",
    "                ha='center', va='bottom', fontsize=10)\n",
    "\n",
    "plt.title('Distribution of Session Paths')\n",
    "plt.xlabel('Session Path')\n",
    "plt.ylabel('Number of Sessions')\n",
    "plt.xticks(rotation=30, ha='right')\n",
    "plt.tight_layout()\n",
    "plt.show()\n"
   ]
  },
  {
   "cell_type": "code",
   "execution_count": null,
   "id": "11d54951",
   "metadata": {},
   "outputs": [
    {
     "ename": "KeyError",
     "evalue": "'add'",
     "output_type": "error",
     "traceback": [
      "\u001b[0;31m---------------------------------------------------------------------------\u001b[0m\n",
      "\u001b[0;31mKeyError\u001b[0m                                  Traceback (most recent call last)\n",
      "Cell \u001b[0;32mIn[105], line 21\u001b[0m\n",
      "\u001b[1;32m     11\u001b[0m \u001b[38;5;66;03m# Format labels for better readability\u001b[39;00m\n",
      "\u001b[1;32m     12\u001b[0m path_labels \u001b[38;5;241m=\u001b[39m {\n",
      "\u001b[1;32m     13\u001b[0m     \u001b[38;5;124m'\u001b[39m\u001b[38;5;124madd_to_cart_only\u001b[39m\u001b[38;5;124m'\u001b[39m: \u001b[38;5;124m'\u001b[39m\u001b[38;5;124mAdd to Cart Only\u001b[39m\u001b[38;5;124m'\u001b[39m,\n",
      "\u001b[1;32m     14\u001b[0m     \u001b[38;5;124m'\u001b[39m\u001b[38;5;124mcart_to_checkout_only\u001b[39m\u001b[38;5;124m'\u001b[39m: \u001b[38;5;124m'\u001b[39m\u001b[38;5;124mCart → Checkout (No Purchase)\u001b[39m\u001b[38;5;124m'\u001b[39m,\n",
      "\u001b[0;32m   (...)\u001b[0m\n",
      "\u001b[1;32m     18\u001b[0m     \u001b[38;5;124m'\u001b[39m\u001b[38;5;124mother\u001b[39m\u001b[38;5;124m'\u001b[39m: \u001b[38;5;124m'\u001b[39m\u001b[38;5;124mOther Paths\u001b[39m\u001b[38;5;124m'\u001b[39m\n",
      "\u001b[1;32m     19\u001b[0m }\n",
      "\u001b[0;32m---> 21\u001b[0m readable_paths \u001b[38;5;241m=\u001b[39m [path_labels[path] \u001b[38;5;28;01mfor\u001b[39;00m path \u001b[38;5;129;01min\u001b[39;00m paths]\n",
      "\u001b[1;32m     23\u001b[0m \u001b[38;5;66;03m# Create the bar plot\u001b[39;00m\n",
      "\u001b[1;32m     24\u001b[0m bar_plot \u001b[38;5;241m=\u001b[39m sns\u001b[38;5;241m.\u001b[39mbarplot(x\u001b[38;5;241m=\u001b[39mreadable_paths, y\u001b[38;5;241m=\u001b[39mpercentages, palette\u001b[38;5;241m=\u001b[39m\u001b[38;5;124m'\u001b[39m\u001b[38;5;124mviridis\u001b[39m\u001b[38;5;124m'\u001b[39m)\n",
      "\n",
      "Cell \u001b[0;32mIn[105], line 21\u001b[0m, in \u001b[0;36m<listcomp>\u001b[0;34m(.0)\u001b[0m\n",
      "\u001b[1;32m     11\u001b[0m \u001b[38;5;66;03m# Format labels for better readability\u001b[39;00m\n",
      "\u001b[1;32m     12\u001b[0m path_labels \u001b[38;5;241m=\u001b[39m {\n",
      "\u001b[1;32m     13\u001b[0m     \u001b[38;5;124m'\u001b[39m\u001b[38;5;124madd_to_cart_only\u001b[39m\u001b[38;5;124m'\u001b[39m: \u001b[38;5;124m'\u001b[39m\u001b[38;5;124mAdd to Cart Only\u001b[39m\u001b[38;5;124m'\u001b[39m,\n",
      "\u001b[1;32m     14\u001b[0m     \u001b[38;5;124m'\u001b[39m\u001b[38;5;124mcart_to_checkout_only\u001b[39m\u001b[38;5;124m'\u001b[39m: \u001b[38;5;124m'\u001b[39m\u001b[38;5;124mCart → Checkout (No Purchase)\u001b[39m\u001b[38;5;124m'\u001b[39m,\n",
      "\u001b[0;32m   (...)\u001b[0m\n",
      "\u001b[1;32m     18\u001b[0m     \u001b[38;5;124m'\u001b[39m\u001b[38;5;124mother\u001b[39m\u001b[38;5;124m'\u001b[39m: \u001b[38;5;124m'\u001b[39m\u001b[38;5;124mOther Paths\u001b[39m\u001b[38;5;124m'\u001b[39m\n",
      "\u001b[1;32m     19\u001b[0m }\n",
      "\u001b[0;32m---> 21\u001b[0m readable_paths \u001b[38;5;241m=\u001b[39m [\u001b[43mpath_labels\u001b[49m\u001b[43m[\u001b[49m\u001b[43mpath\u001b[49m\u001b[43m]\u001b[49m \u001b[38;5;28;01mfor\u001b[39;00m path \u001b[38;5;129;01min\u001b[39;00m paths]\n",
      "\u001b[1;32m     23\u001b[0m \u001b[38;5;66;03m# Create the bar plot\u001b[39;00m\n",
      "\u001b[1;32m     24\u001b[0m bar_plot \u001b[38;5;241m=\u001b[39m sns\u001b[38;5;241m.\u001b[39mbarplot(x\u001b[38;5;241m=\u001b[39mreadable_paths, y\u001b[38;5;241m=\u001b[39mpercentages, palette\u001b[38;5;241m=\u001b[39m\u001b[38;5;124m'\u001b[39m\u001b[38;5;124mviridis\u001b[39m\u001b[38;5;124m'\u001b[39m)\n",
      "\n",
      "\u001b[0;31mKeyError\u001b[0m: 'add'"
     ]
    },
    {
     "data": {
      "text/plain": [
       "<Figure size 1200x600 with 0 Axes>"
      ]
     },
     "metadata": {},
     "output_type": "display_data"
    }
   ],
   "source": [
    "# Visualize the distribution of paths\n",
    "plt.figure(figsize=(12, 6))\n",
    "sns.set_style('whitegrid')\n",
    "\n",
    "# Prepare data for plotting\n",
    "paths = list(path_counts.keys())\n",
    "counts = list(path_counts.values())\n",
    "total = sum(counts)\n",
    "percentages = [count/total*100 for count in counts]\n",
    "\n",
    "# Format labels for better readability\n",
    "path_labels = {\n",
    "    'add_to_cart_only': 'Add to Cart Only',\n",
    "    'cart_to_checkout_only': 'Cart → Checkout (No Purchase)',\n",
    "    'cart_to_checkout_to_purchase_no_modal': 'Cart → Checkout → Purchase',\n",
    "    'cart_to_modal_to_wait_to_purchase': 'Cart → Modal → Wait → Purchase',\n",
    "    'cart_to_modal_to_disable_to_purchase': 'Cart → Modal → Disable → Purchase',\n",
    "    'other': 'Other Paths'\n",
    "}\n",
    "\n",
    "readable_paths = [path_labels[path] for path in paths]\n",
    "\n",
    "# Create the bar plot\n",
    "bar_plot = sns.barplot(x=readable_paths, y=percentages, palette='viridis')\n",
    "\n",
    "# Add percentage labels to the bars\n",
    "for i, p in enumerate(bar_plot.patches):\n",
    "    bar_plot.annotate(f\"{percentages[i]:.1f}%\\n({counts[i]})\", \n",
    "                     (p.get_x() + p.get_width()/2., p.get_height()),\n",
    "                     ha='center', va='bottom')\n",
    "\n",
    "# Customize plot\n",
    "plt.title('Distribution of Shopping Cart Paths', fontsize=15)\n",
    "plt.xlabel('Path Type', fontsize=12)\n",
    "plt.ylabel('Percentage of Sessions', fontsize=12)\n",
    "plt.xticks(rotation=45, ha='right')\n",
    "plt.tight_layout()\n",
    "\n",
    "plt.show()"
   ]
  },
  {
   "cell_type": "code",
   "execution_count": 144,
   "id": "6b27f03b",
   "metadata": {},
   "outputs": [
    {
     "data": {
      "image/png": "[encoded data removed]",
      "text/plain": [
       "<Figure size 700x600 with 1 Axes>"
      ]
     },
     "metadata": {},
     "output_type": "display_data"
    }
   ],
   "source": [
    "import networkx as nx\n",
    "import matplotlib.pyplot as plt\n",
    "import numpy as np\n",
    "\n",
    "# Create a directed graph\n",
    "G = nx.DiGraph()\n",
    "\n",
    "# Define the possible states (nodes)\n",
    "states = ['add', 'checkout', 'modal', 'purchase', 'disable', 'uninstall']\n",
    "for state in states:\n",
    "    G.add_node(state)\n",
    "\n",
    "# Add edges based on the path counts\n",
    "for path, count in path_counts.items():\n",
    "    if count > 0:  # Only consider paths that have occurred\n",
    "        steps = path.split('_')\n",
    "        for i in range(len(steps)-1):\n",
    "            # Add edge from current step to next step\n",
    "            if G.has_edge(steps[i], steps[i+1]):\n",
    "                # Increment weight if edge exists\n",
    "                G[steps[i]][steps[i+1]]['weight'] += count\n",
    "            else:\n",
    "                # Create new edge with weight\n",
    "                G.add_edge(steps[i], steps[i+1], weight=count)\n",
    "\n",
    "# Calculate node sizes based on total frequency\n",
    "node_counts = {node: 0 for node in states}\n",
    "for path, count in path_counts.items():\n",
    "    steps = path.split('_')\n",
    "    for step in steps:\n",
    "        if step in node_counts:\n",
    "            node_counts[step] += count\n",
    "\n",
    "colors = ['salmon', '#F899F3', '#73FABD', '#6ED1F8','#E0F26D', '#106ED3']\n",
    "\n",
    "# Create a clean, minimal figure with white background\n",
    "plt.figure(figsize=(7, 6), facecolor='white')\n",
    "\n",
    "# Define a nice pastel color palette\n",
    "pastel_colors = {\n",
    "    'add': '#106ED3',      # Light periwinkle\n",
    "    'checkout': '#6ED1F8',  # Light peach\n",
    "    'modal': '#73FABD',    # Light lime\n",
    "    'purchase': '#E0F26D',  # Light mint\n",
    "    'disable': '#F899F3',   # Light salmon\n",
    "    'uninstall': 'salmon'  # Light coral\n",
    "}\n",
    "\n",
    "# Define edge color (soft gray)\n",
    "edge_color = '#555'\n",
    "\n",
    "# Define node positions in a clear horizontal flow layout\n",
    "positions = {\n",
    "    'add': (0, 0),\n",
    "    'checkout': (2, 0),\n",
    "    'modal': (4, 0),\n",
    "    'purchase': (6, 2),\n",
    "    'disable': (6, 0),\n",
    "    'uninstall': (6, -2),\n",
    "}\n",
    "\n",
    "# Normalize edge widths for better visualization\n",
    "max_edge_weight = max([G[u][v]['weight'] for u, v in G.edges()])\n",
    "edge_widths = [1.5 + (G[u][v]['weight'] / max_edge_weight) * 4 for u, v in G.edges()]\n",
    "\n",
    "# Normalize node sizes\n",
    "max_node_count = max(node_counts.values())\n",
    "node_sizes = {node: 800 + (count / max_node_count) * 1200 for node, count in node_counts.items()}\n",
    "\n",
    "# Draw nodes with custom colors and sizes\n",
    "for node in G.nodes():\n",
    "    nx.draw_networkx_nodes(\n",
    "        G, positions, \n",
    "        nodelist=[node],\n",
    "        node_size=node_sizes[node],\n",
    "        node_color=pastel_colors[node],\n",
    "        edgecolors='#888888',\n",
    "        linewidths=1,\n",
    "        alpha=0.9\n",
    "    )\n",
    "\n",
    "# Draw edges with slight curve, tapered edges would be ideal but requires more complex code\n",
    "for u, v, data in G.edges(data=True):\n",
    "    weight = data['weight']\n",
    "    normalized_weight = 1.5 + (weight / max_edge_weight) * 4\n",
    "    \n",
    "    # Calculate edge opacity based on weight\n",
    "    alpha = 0.1 + (weight / max_edge_weight) * 0.6\n",
    "    \n",
    "    # Draw curved arrows\n",
    "    plt.arrow(\n",
    "        positions[u][0] + .35, positions[u][1],           # start\n",
    "        positions[v][0] - positions[u][0] - .7,          # dx\n",
    "        positions[v][1] - positions[u][1],          # dy\n",
    "        head_width=0.3,\n",
    "        head_length=0.3,\n",
    "        fc=edge_color,\n",
    "        ec=edge_color,\n",
    "        alpha=alpha,\n",
    "        length_includes_head=True,\n",
    "        width=2/40,                 # width of arrow body\n",
    "    )\n",
    "\n",
    "# Add elegant, clean labels to nodes\n",
    "for node, (x, y) in positions.items():\n",
    "    plt.text(\n",
    "        x, y-0.5,\n",
    "        f\"{node.capitalize()}\\n({node_counts[node]})\",\n",
    "        fontsize=11,\n",
    "        ha='center',\n",
    "        va='center',\n",
    "        fontfamily='sans-serif',\n",
    "        fontweight='medium',\n",
    "        bbox=dict(\n",
    "            boxstyle=\"round,pad=0.3\",\n",
    "            fc=\"white\",\n",
    "            ec=\"none\",\n",
    "            alpha=0.7\n",
    "        )\n",
    "    )\n",
    "\n",
    "# Add edge labels using a cleaner approach\n",
    "for u, v, data in G.edges(data=True):\n",
    "    x1, y1 = positions[u]\n",
    "    x2, y2 = positions[v]\n",
    "    # Position labels slightly off the direct line\n",
    "    label_pos_x = (x1 + x2) / 2\n",
    "    label_pos_y = (y1 + y2) / 2 -.2\n",
    "    \n",
    "    # Add a small offset based on the positions\n",
    "    if y1 == y2:  # horizontal edge\n",
    "        offset = 0.15\n",
    "    else:  # diagonal edge\n",
    "        offset = 0.2\n",
    "        \n",
    "    if y2 > y1:  # going up\n",
    "        label_pos_y += offset\n",
    "    else:  # going down or flat\n",
    "        label_pos_y -= offset\n",
    "\n",
    "    plt.text(\n",
    "        label_pos_x, label_pos_y,\n",
    "        str(data['weight']),\n",
    "        fontsize=12,\n",
    "        ha='center',\n",
    "        va='center',\n",
    "        fontfamily='sans-serif',\n",
    "        color='#555555',\n",
    "        bbox=dict(\n",
    "            boxstyle=\"round,pad=0.1\",\n",
    "            fc=\"white\",\n",
    "            ec=\"none\",\n",
    "            alpha=0.7\n",
    "        )\n",
    "    )\n",
    "\n",
    "# Add a clean, minimal title\n",
    "plt.text(\n",
    "    3, 2,\n",
    "    'User Journey Flow',\n",
    "    fontsize=16,\n",
    "    ha='center',\n",
    "    fontfamily='sans-serif',\n",
    "    fontweight='bold',\n",
    "    color='#333333'\n",
    ")\n",
    "\n",
    "# Remove axes completely\n",
    "plt.axis('off')\n",
    "plt.tight_layout()\n",
    "\n",
    "# Set equal aspect ratio to make the graph more balanced\n",
    "plt.gca().set_aspect('equal', adjustable='datalim')\n",
    "\n",
    "plt.show()"
   ]
  },
  {
   "cell_type": "code",
   "execution_count": 145,
   "id": "681facbc",
   "metadata": {},
   "outputs": [
    {
     "data": {
      "application/vnd.plotly.v1+json": {
       "config": {
        "plotlyServerURL": "https://plot.ly"
       },
       "data": [
        {
         "link": {
          "source": [
           1,
           1,
           0,
           4,
           4,
           1,
           4,
           1,
           0,
           4,
           1,
           0
          ],
          "target": [
           0,
           0,
           3,
           1,
           1,
           0,
           1,
           0,
           2,
           1,
           0,
           3
          ],
          "value": [
           1,
           2,
           2,
           5,
           1,
           1,
           3,
           3,
           3,
           1,
           1,
           1
          ]
         },
         "node": {
          "color": [
           "rgba(31, 119, 180, 0.8)",
           "rgba(255, 127, 14, 0.8)",
           "rgba(44, 160, 44, 0.8)",
           "rgba(214, 39, 40, 0.8)",
           "rgba(148, 103, 189, 0.8)"
          ],
          "label": [
           "Modal",
           "Checkout",
           "Uninstall",
           "Disable",
           "Add"
          ],
          "line": {
           "color": "black",
           "width": 0.5
          },
          "pad": 15,
          "thickness": 20
         },
         "type": "sankey"
        }
       ],
       "layout": {
        "font": {
         "size": 12
        },
        "height": 600,
        "template": {
         "data": {
          "bar": [
           {
            "error_x": {
             "color": "#2a3f5f"
            },
            "error_y": {
             "color": "#2a3f5f"
            },
            "marker": {
             "line": {
              "color": "#E5ECF6",
              "width": 0.5
             },
             "pattern": {
              "fillmode": "overlay",
              "size": 10,
              "solidity": 0.2
             }
            },
            "type": "bar"
           }
          ],
          "barpolar": [
           {
            "marker": {
             "line": {
              "color": "#E5ECF6",
              "width": 0.5
             },
             "pattern": {
              "fillmode": "overlay",
              "size": 10,
              "solidity": 0.2
             }
            },
            "type": "barpolar"
           }
          ],
          "carpet": [
           {
            "aaxis": {
             "endlinecolor": "#2a3f5f",
             "gridcolor": "white",
             "linecolor": "white",
             "minorgridcolor": "white",
             "startlinecolor": "#2a3f5f"
            },
            "baxis": {
             "endlinecolor": "#2a3f5f",
             "gridcolor": "white",
             "linecolor": "white",
             "minorgridcolor": "white",
             "startlinecolor": "#2a3f5f"
            },
            "type": "carpet"
           }
          ],
          "choropleth": [
           {
            "colorbar": {
             "outlinewidth": 0,
             "ticks": ""
            },
            "type": "choropleth"
           }
          ],
          "contour": [
           {
            "colorbar": {
             "outlinewidth": 0,
             "ticks": ""
            },
            "colorscale": [
             [
              0,
              "#0d0887"
             ],
             [
              0.1111111111111111,
              "#46039f"
             ],
             [
              0.2222222222222222,
              "#7201a8"
             ],
             [
              0.3333333333333333,
              "#9c179e"
             ],
             [
              0.4444444444444444,
              "#bd3786"
             ],
             [
              0.5555555555555556,
              "#d8576b"
             ],
             [
              0.6666666666666666,
              "#ed7953"
             ],
             [
              0.7777777777777778,
              "#fb9f3a"
             ],
             [
              0.8888888888888888,
              "#fdca26"
             ],
             [
              1,
              "#f0f921"
             ]
            ],
            "type": "contour"
           }
          ],
          "contourcarpet": [
           {
            "colorbar": {
             "outlinewidth": 0,
             "ticks": ""
            },
            "type": "contourcarpet"
           }
          ],
          "heatmap": [
           {
            "colorbar": {
             "outlinewidth": 0,
             "ticks": ""
            },
            "colorscale": [
             [
              0,
              "#0d0887"
             ],
             [
              0.1111111111111111,
              "#46039f"
             ],
             [
              0.2222222222222222,
              "#7201a8"
             ],
             [
              0.3333333333333333,
              "#9c179e"
             ],
             [
              0.4444444444444444,
              "#bd3786"
             ],
             [
              0.5555555555555556,
              "#d8576b"
             ],
             [
              0.6666666666666666,
              "#ed7953"
             ],
             [
              0.7777777777777778,
              "#fb9f3a"
             ],
             [
              0.8888888888888888,
              "#fdca26"
             ],
             [
              1,
              "#f0f921"
             ]
            ],
            "type": "heatmap"
           }
          ],
          "histogram": [
           {
            "marker": {
             "pattern": {
              "fillmode": "overlay",
              "size": 10,
              "solidity": 0.2
             }
            },
            "type": "histogram"
           }
          ],
          "histogram2d": [
           {
            "colorbar": {
             "outlinewidth": 0,
             "ticks": ""
            },
            "colorscale": [
             [
              0,
              "#0d0887"
             ],
             [
              0.1111111111111111,
              "#46039f"
             ],
             [
              0.2222222222222222,
              "#7201a8"
             ],
             [
              0.3333333333333333,
              "#9c179e"
             ],
             [
              0.4444444444444444,
              "#bd3786"
             ],
             [
              0.5555555555555556,
              "#d8576b"
             ],
             [
              0.6666666666666666,
              "#ed7953"
             ],
             [
              0.7777777777777778,
              "#fb9f3a"
             ],
             [
              0.8888888888888888,
              "#fdca26"
             ],
             [
              1,
              "#f0f921"
             ]
            ],
            "type": "histogram2d"
           }
          ],
          "histogram2dcontour": [
           {
            "colorbar": {
             "outlinewidth": 0,
             "ticks": ""
            },
            "colorscale": [
             [
              0,
              "#0d0887"
             ],
             [
              0.1111111111111111,
              "#46039f"
             ],
             [
              0.2222222222222222,
              "#7201a8"
             ],
             [
              0.3333333333333333,
              "#9c179e"
             ],
             [
              0.4444444444444444,
              "#bd3786"
             ],
             [
              0.5555555555555556,
              "#d8576b"
             ],
             [
              0.6666666666666666,
              "#ed7953"
             ],
             [
              0.7777777777777778,
              "#fb9f3a"
             ],
             [
              0.8888888888888888,
              "#fdca26"
             ],
             [
              1,
              "#f0f921"
             ]
            ],
            "type": "histogram2dcontour"
           }
          ],
          "mesh3d": [
           {
            "colorbar": {
             "outlinewidth": 0,
             "ticks": ""
            },
            "type": "mesh3d"
           }
          ],
          "parcoords": [
           {
            "line": {
             "colorbar": {
              "outlinewidth": 0,
              "ticks": ""
             }
            },
            "type": "parcoords"
           }
          ],
          "pie": [
           {
            "automargin": true,
            "type": "pie"
           }
          ],
          "scatter": [
           {
            "fillpattern": {
             "fillmode": "overlay",
             "size": 10,
             "solidity": 0.2
            },
            "type": "scatter"
           }
          ],
          "scatter3d": [
           {
            "line": {
             "colorbar": {
              "outlinewidth": 0,
              "ticks": ""
             }
            },
            "marker": {
             "colorbar": {
              "outlinewidth": 0,
              "ticks": ""
             }
            },
            "type": "scatter3d"
           }
          ],
          "scattercarpet": [
           {
            "marker": {
             "colorbar": {
              "outlinewidth": 0,
              "ticks": ""
             }
            },
            "type": "scattercarpet"
           }
          ],
          "scattergeo": [
           {
            "marker": {
             "colorbar": {
              "outlinewidth": 0,
              "ticks": ""
             }
            },
            "type": "scattergeo"
           }
          ],
          "scattergl": [
           {
            "marker": {
             "colorbar": {
              "outlinewidth": 0,
              "ticks": ""
             }
            },
            "type": "scattergl"
           }
          ],
          "scattermap": [
           {
            "marker": {
             "colorbar": {
              "outlinewidth": 0,
              "ticks": ""
             }
            },
            "type": "scattermap"
           }
          ],
          "scattermapbox": [
           {
            "marker": {
             "colorbar": {
              "outlinewidth": 0,
              "ticks": ""
             }
            },
            "type": "scattermapbox"
           }
          ],
          "scatterpolar": [
           {
            "marker": {
             "colorbar": {
              "outlinewidth": 0,
              "ticks": ""
             }
            },
            "type": "scatterpolar"
           }
          ],
          "scatterpolargl": [
           {
            "marker": {
             "colorbar": {
              "outlinewidth": 0,
              "ticks": ""
             }
            },
            "type": "scatterpolargl"
           }
          ],
          "scatterternary": [
           {
            "marker": {
             "colorbar": {
              "outlinewidth": 0,
              "ticks": ""
             }
            },
            "type": "scatterternary"
           }
          ],
          "surface": [
           {
            "colorbar": {
             "outlinewidth": 0,
             "ticks": ""
            },
            "colorscale": [
             [
              0,
              "#0d0887"
             ],
             [
              0.1111111111111111,
              "#46039f"
             ],
             [
              0.2222222222222222,
              "#7201a8"
             ],
             [
              0.3333333333333333,
              "#9c179e"
             ],
             [
              0.4444444444444444,
              "#bd3786"
             ],
             [
              0.5555555555555556,
              "#d8576b"
             ],
             [
              0.6666666666666666,
              "#ed7953"
             ],
             [
              0.7777777777777778,
              "#fb9f3a"
             ],
             [
              0.8888888888888888,
              "#fdca26"
             ],
             [
              1,
              "#f0f921"
             ]
            ],
            "type": "surface"
           }
          ],
          "table": [
           {
            "cells": {
             "fill": {
              "color": "#EBF0F8"
             },
             "line": {
              "color": "white"
             }
            },
            "header": {
             "fill": {
              "color": "#C8D4E3"
             },
             "line": {
              "color": "white"
             }
            },
            "type": "table"
           }
          ]
         },
         "layout": {
          "annotationdefaults": {
           "arrowcolor": "#2a3f5f",
           "arrowhead": 0,
           "arrowwidth": 1
          },
          "autotypenumbers": "strict",
          "coloraxis": {
           "colorbar": {
            "outlinewidth": 0,
            "ticks": ""
           }
          },
          "colorscale": {
           "diverging": [
            [
             0,
             "#8e0152"
            ],
            [
             0.1,
             "#c51b7d"
            ],
            [
             0.2,
             "#de77ae"
            ],
            [
             0.3,
             "#f1b6da"
            ],
            [
             0.4,
             "#fde0ef"
            ],
            [
             0.5,
             "#f7f7f7"
            ],
            [
             0.6,
             "#e6f5d0"
            ],
            [
             0.7,
             "#b8e186"
            ],
            [
             0.8,
             "#7fbc41"
            ],
            [
             0.9,
             "#4d9221"
            ],
            [
             1,
             "#276419"
            ]
           ],
           "sequential": [
            [
             0,
             "#0d0887"
            ],
            [
             0.1111111111111111,
             "#46039f"
            ],
            [
             0.2222222222222222,
             "#7201a8"
            ],
            [
             0.3333333333333333,
             "#9c179e"
            ],
            [
             0.4444444444444444,
             "#bd3786"
            ],
            [
             0.5555555555555556,
             "#d8576b"
            ],
            [
             0.6666666666666666,
             "#ed7953"
            ],
            [
             0.7777777777777778,
             "#fb9f3a"
            ],
            [
             0.8888888888888888,
             "#fdca26"
            ],
            [
             1,
             "#f0f921"
            ]
           ],
           "sequentialminus": [
            [
             0,
             "#0d0887"
            ],
            [
             0.1111111111111111,
             "#46039f"
            ],
            [
             0.2222222222222222,
             "#7201a8"
            ],
            [
             0.3333333333333333,
             "#9c179e"
            ],
            [
             0.4444444444444444,
             "#bd3786"
            ],
            [
             0.5555555555555556,
             "#d8576b"
            ],
            [
             0.6666666666666666,
             "#ed7953"
            ],
            [
             0.7777777777777778,
             "#fb9f3a"
            ],
            [
             0.8888888888888888,
             "#fdca26"
            ],
            [
             1,
             "#f0f921"
            ]
           ]
          },
          "colorway": [
           "#636efa",
           "#EF553B",
           "#00cc96",
           "#ab63fa",
           "#FFA15A",
           "#19d3f3",
           "#FF6692",
           "#B6E880",
           "#FF97FF",
           "#FECB52"
          ],
          "font": {
           "color": "#2a3f5f"
          },
          "geo": {
           "bgcolor": "white",
           "lakecolor": "white",
           "landcolor": "#E5ECF6",
           "showlakes": true,
           "showland": true,
           "subunitcolor": "white"
          },
          "hoverlabel": {
           "align": "left"
          },
          "hovermode": "closest",
          "mapbox": {
           "style": "light"
          },
          "paper_bgcolor": "white",
          "plot_bgcolor": "#E5ECF6",
          "polar": {
           "angularaxis": {
            "gridcolor": "white",
            "linecolor": "white",
            "ticks": ""
           },
           "bgcolor": "#E5ECF6",
           "radialaxis": {
            "gridcolor": "white",
            "linecolor": "white",
            "ticks": ""
           }
          },
          "scene": {
           "xaxis": {
            "backgroundcolor": "#E5ECF6",
            "gridcolor": "white",
            "gridwidth": 2,
            "linecolor": "white",
            "showbackground": true,
            "ticks": "",
            "zerolinecolor": "white"
           },
           "yaxis": {
            "backgroundcolor": "#E5ECF6",
            "gridcolor": "white",
            "gridwidth": 2,
            "linecolor": "white",
            "showbackground": true,
            "ticks": "",
            "zerolinecolor": "white"
           },
           "zaxis": {
            "backgroundcolor": "#E5ECF6",
            "gridcolor": "white",
            "gridwidth": 2,
            "linecolor": "white",
            "showbackground": true,
            "ticks": "",
            "zerolinecolor": "white"
           }
          },
          "shapedefaults": {
           "line": {
            "color": "#2a3f5f"
           }
          },
          "ternary": {
           "aaxis": {
            "gridcolor": "white",
            "linecolor": "white",
            "ticks": ""
           },
           "baxis": {
            "gridcolor": "white",
            "linecolor": "white",
            "ticks": ""
           },
           "bgcolor": "#E5ECF6",
           "caxis": {
            "gridcolor": "white",
            "linecolor": "white",
            "ticks": ""
           }
          },
          "title": {
           "x": 0.05
          },
          "xaxis": {
           "automargin": true,
           "gridcolor": "white",
           "linecolor": "white",
           "ticks": "",
           "title": {
            "standoff": 15
           },
           "zerolinecolor": "white",
           "zerolinewidth": 2
          },
          "yaxis": {
           "automargin": true,
           "gridcolor": "white",
           "linecolor": "white",
           "ticks": "",
           "title": {
            "standoff": 15
           },
           "zerolinecolor": "white",
           "zerolinewidth": 2
          }
         }
        },
        "title": {
         "text": "User Journey Flow"
        }
       }
      }
     },
     "metadata": {},
     "output_type": "display_data"
    }
   ],
   "source": [
    "# Create a more detailed Sankey diagram based on actual paths\n",
    "try:\n",
    "    import plotly.graph_objects as go\n",
    "    \n",
    "    # Get all steps that have occurred in our paths\n",
    "    all_steps = set()\n",
    "    for path in path_counts.keys():\n",
    "        if path_counts[path] > 0:\n",
    "            steps = path.split('_')\n",
    "            all_steps.update(steps)\n",
    "    \n",
    "    # Create a mapping from step names to indices for the Sankey diagram\n",
    "    step_indices = {step: i for i, step in enumerate(all_steps)}\n",
    "    \n",
    "    # Prepare sources, targets and values for Sankey diagram\n",
    "    sources = []\n",
    "    targets = []\n",
    "    values = []\n",
    "    \n",
    "    # Process each path to create the flow links\n",
    "    for path, count in path_counts.items():\n",
    "        if count > 0:  # Only consider paths that have occurred\n",
    "            steps = path.split('_')\n",
    "            for i in range(len(steps)-1):\n",
    "                # Add link from current step to next step\n",
    "                sources.append(step_indices[steps[i]])\n",
    "                targets.append(step_indices[steps[i+1]])\n",
    "                values.append(count)\n",
    "    \n",
    "    # Prettier node labels with capitalization\n",
    "    node_labels = [step.capitalize() for step in all_steps]\n",
    "    \n",
    "    # Define node colors\n",
    "    node_colors = [\n",
    "        'rgba(31, 119, 180, 0.8)',   # Blue\n",
    "        'rgba(255, 127, 14, 0.8)',    # Orange\n",
    "        'rgba(44, 160, 44, 0.8)',     # Green\n",
    "        'rgba(214, 39, 40, 0.8)',     # Red\n",
    "        'rgba(148, 103, 189, 0.8)',   # Purple\n",
    "        'rgba(140, 86, 75, 0.8)',     # Brown\n",
    "        'rgba(227, 119, 194, 0.8)',   # Pink\n",
    "        'rgba(188, 189, 34, 0.8)'     # Olive\n",
    "    ]\n",
    "    \n",
    "    # Create the Sankey diagram\n",
    "    fig = go.Figure(data=[go.Sankey(\n",
    "        node=dict(\n",
    "            pad=15,\n",
    "            thickness=20,\n",
    "            line=dict(color='black', width=0.5),\n",
    "            label=node_labels,\n",
    "            color=node_colors[:len(node_labels)]\n",
    "        ),\n",
    "        link=dict(\n",
    "            source=sources,\n",
    "            target=targets,\n",
    "            value=values\n",
    "        ))\n",
    "    ])\n",
    "    \n",
    "    # Update layout\n",
    "    fig.update_layout(\n",
    "        title_text='User Journey Flow',\n",
    "        font_size=12,\n",
    "        height=600\n",
    "    )\n",
    "    \n",
    "    fig.show()\n",
    "except ImportError:\n",
    "    print(\"Plotly is required for Sankey diagram. Install with: !pip install plotly\")\n"
   ]
  },
  {
   "cell_type": "code",
   "execution_count": 103,
   "id": "403d9bdd",
   "metadata": {},
   "outputs": [
    {
     "data": {
      "text/html": [
       "<script type=\"esms-options\">{\"shimMode\": true}</script><style>*[data-root-id],\n",
       "*[data-root-id] > * {\n",
       "  box-sizing: border-box;\n",
       "  font-family: var(--jp-ui-font-family);\n",
       "  font-size: var(--jp-ui-font-size1);\n",
       "  color: var(--vscode-editor-foreground, var(--jp-ui-font-color1));\n",
       "}\n",
       "\n",
       "/* Override VSCode background color */\n",
       ".cell-output-ipywidget-background:has(\n",
       "    > .cell-output-ipywidget-background > .lm-Widget > *[data-root-id]\n",
       "  ),\n",
       ".cell-output-ipywidget-background:has(> .lm-Widget > *[data-root-id]) {\n",
       "  background-color: transparent !important;\n",
       "}\n",
       "</style>"
      ]
     },
     "metadata": {},
     "output_type": "display_data"
    },
    {
     "data": {
      "application/javascript": "(function(root) {\n  function now() {\n    return new Date();\n  }\n\n  const force = true;\n  const py_version = '3.7.3'.replace('rc', '-rc.').replace('.dev', '-dev.');\n  const reloading = false;\n  const Bokeh = root.Bokeh;\n\n  // Set a timeout for this load but only if we are not already initializing\n  if (typeof (root._bokeh_timeout) === \"undefined\" || (force || !root._bokeh_is_initializing)) {\n    root._bokeh_timeout = Date.now() + 5000;\n    root._bokeh_failed_load = false;\n  }\n\n  function run_callbacks() {\n    try {\n      root._bokeh_onload_callbacks.forEach(function(callback) {\n        if (callback != null)\n          callback();\n      });\n    } finally {\n      delete root._bokeh_onload_callbacks;\n    }\n    console.debug(\"Bokeh: all callbacks have finished\");\n  }\n\n  function load_libs(css_urls, js_urls, js_modules, js_exports, callback) {\n    if (css_urls == null) css_urls = [];\n    if (js_urls == null) js_urls = [];\n    if (js_modules == null) js_modules = [];\n    if (js_exports == null) js_exports = {};\n\n    root._bokeh_onload_callbacks.push(callback);\n\n    if (root._bokeh_is_loading > 0) {\n      // Don't load bokeh if it is still initializing\n      console.debug(\"Bokeh: BokehJS is being loaded, scheduling callback at\", now());\n      return null;\n    } else if (js_urls.length === 0 && js_modules.length === 0 && Object.keys(js_exports).length === 0) {\n      // There is nothing to load\n      run_callbacks();\n      return null;\n    }\n\n    function on_load() {\n      root._bokeh_is_loading--;\n      if (root._bokeh_is_loading === 0) {\n        console.debug(\"Bokeh: all BokehJS libraries/stylesheets loaded\");\n        run_callbacks()\n      }\n    }\n    window._bokeh_on_load = on_load\n\n    function on_error(e) {\n      const src_el = e.srcElement\n      console.error(\"failed to load \" + (src_el.href || src_el.src));\n    }\n\n    const skip = [];\n    if (window.requirejs) {\n      window.requirejs.config({'packages': {}, 'paths': {}, 'shim': {}});\n      root._bokeh_is_loading = css_urls.length + 0;\n    } else {\n      root._bokeh_is_loading = css_urls.length + js_urls.length + js_modules.length + Object.keys(js_exports).length;\n    }\n\n    const existing_stylesheets = []\n    const links = document.getElementsByTagName('link')\n    for (let i = 0; i < links.length; i++) {\n      const link = links[i]\n      if (link.href != null) {\n        existing_stylesheets.push(link.href)\n      }\n    }\n    for (let i = 0; i < css_urls.length; i++) {\n      const url = css_urls[i];\n      const escaped = encodeURI(url)\n      if (existing_stylesheets.indexOf(escaped) !== -1) {\n        on_load()\n        continue;\n      }\n      const element = document.createElement(\"link\");\n      element.onload = on_load;\n      element.onerror = on_error;\n      element.rel = \"stylesheet\";\n      element.type = \"text/css\";\n      element.href = url;\n      console.debug(\"Bokeh: injecting link tag for BokehJS stylesheet: \", url);\n      document.body.appendChild(element);\n    }    var existing_scripts = []\n    const scripts = document.getElementsByTagName('script')\n    for (let i = 0; i < scripts.length; i++) {\n      var script = scripts[i]\n      if (script.src != null) {\n        existing_scripts.push(script.src)\n      }\n    }\n    for (let i = 0; i < js_urls.length; i++) {\n      const url = js_urls[i];\n      const escaped = encodeURI(url)\n      if (skip.indexOf(escaped) !== -1 || existing_scripts.indexOf(escaped) !== -1) {\n        if (!window.requirejs) {\n          on_load();\n        }\n        continue;\n      }\n      const element = document.createElement('script');\n      element.onload = on_load;\n      element.onerror = on_error;\n      element.async = false;\n      element.src = url;\n      console.debug(\"Bokeh: injecting script tag for BokehJS library: \", url);\n      document.head.appendChild(element);\n    }\n    for (let i = 0; i < js_modules.length; i++) {\n      const url = js_modules[i];\n      const escaped = encodeURI(url)\n      if (skip.indexOf(escaped) !== -1 || existing_scripts.indexOf(escaped) !== -1) {\n        if (!window.requirejs) {\n          on_load();\n        }\n        continue;\n      }\n      var element = document.createElement('script');\n      element.onload = on_load;\n      element.onerror = on_error;\n      element.async = false;\n      element.src = url;\n      element.type = \"module\";\n      console.debug(\"Bokeh: injecting script tag for BokehJS library: \", url);\n      document.head.appendChild(element);\n    }\n    for (const name in js_exports) {\n      const url = js_exports[name];\n      const escaped = encodeURI(url)\n      if (skip.indexOf(escaped) >= 0 || root[name] != null) {\n        if (!window.requirejs) {\n          on_load();\n        }\n        continue;\n      }\n      var element = document.createElement('script');\n      element.onerror = on_error;\n      element.async = false;\n      element.type = \"module\";\n      console.debug(\"Bokeh: injecting script tag for BokehJS library: \", url);\n      element.textContent = `\n      import ${name} from \"${url}\"\n      window.${name} = ${name}\n      window._bokeh_on_load()\n      `\n      document.head.appendChild(element);\n    }\n    if (!js_urls.length && !js_modules.length) {\n      on_load()\n    }\n  };\n\n  function inject_raw_css(css) {\n    const element = document.createElement(\"style\");\n    element.appendChild(document.createTextNode(css));\n    document.body.appendChild(element);\n  }\n\n  const js_urls = [\"https://cdn.holoviz.org/panel/1.6.3/dist/bundled/reactiveesm/es-module-shims@^1.10.0/dist/es-module-shims.min.js\", \"https://cdn.bokeh.org/bokeh/release/bokeh-3.7.3.min.js\", \"https://cdn.bokeh.org/bokeh/release/bokeh-gl-3.7.3.min.js\", \"https://cdn.bokeh.org/bokeh/release/bokeh-widgets-3.7.3.min.js\", \"https://cdn.bokeh.org/bokeh/release/bokeh-tables-3.7.3.min.js\", \"https://cdn.holoviz.org/panel/1.6.3/dist/panel.min.js\"];\n  const js_modules = [];\n  const js_exports = {};\n  const css_urls = [];\n  const inline_js = [    function(Bokeh) {\n      Bokeh.set_log_level(\"info\");\n    },\nfunction(Bokeh) {} // ensure no trailing comma for IE\n  ];\n\n  function run_inline_js() {\n    if ((root.Bokeh !== undefined) || (force === true)) {\n      for (let i = 0; i < inline_js.length; i++) {\n        try {\n          inline_js[i].call(root, root.Bokeh);\n        } catch(e) {\n          if (!reloading) {\n            throw e;\n          }\n        }\n      }\n      // Cache old bokeh versions\n      if (Bokeh != undefined && !reloading) {\n        var NewBokeh = root.Bokeh;\n        if (Bokeh.versions === undefined) {\n          Bokeh.versions = new Map();\n        }\n        if (NewBokeh.version !== Bokeh.version) {\n          Bokeh.versions.set(NewBokeh.version, NewBokeh)\n        }\n        root.Bokeh = Bokeh;\n      }\n    } else if (Date.now() < root._bokeh_timeout) {\n      setTimeout(run_inline_js, 100);\n    } else if (!root._bokeh_failed_load) {\n      console.log(\"Bokeh: BokehJS failed to load within specified timeout.\");\n      root._bokeh_failed_load = true;\n    }\n    root._bokeh_is_initializing = false\n  }\n\n  function load_or_wait() {\n    // Implement a backoff loop that tries to ensure we do not load multiple\n    // versions of Bokeh and its dependencies at the same time.\n    // In recent versions we use the root._bokeh_is_initializing flag\n    // to determine whether there is an ongoing attempt to initialize\n    // bokeh, however for backward compatibility we also try to ensure\n    // that we do not start loading a newer (Panel>=1.0 and Bokeh>3) version\n    // before older versions are fully initialized.\n    if (root._bokeh_is_initializing && Date.now() > root._bokeh_timeout) {\n      // If the timeout and bokeh was not successfully loaded we reset\n      // everything and try loading again\n      root._bokeh_timeout = Date.now() + 5000;\n      root._bokeh_is_initializing = false;\n      root._bokeh_onload_callbacks = undefined;\n      root._bokeh_is_loading = 0\n      console.log(\"Bokeh: BokehJS was loaded multiple times but one version failed to initialize.\");\n      load_or_wait();\n    } else if (root._bokeh_is_initializing || (typeof root._bokeh_is_initializing === \"undefined\" && root._bokeh_onload_callbacks !== undefined)) {\n      setTimeout(load_or_wait, 100);\n    } else {\n      root._bokeh_is_initializing = true\n      root._bokeh_onload_callbacks = []\n      const bokeh_loaded = root.Bokeh != null && (root.Bokeh.version === py_version || (root.Bokeh.versions !== undefined && root.Bokeh.versions.has(py_version)));\n      if (!reloading && !bokeh_loaded) {\n        if (root.Bokeh) {\n          root.Bokeh = undefined;\n        }\n        console.debug(\"Bokeh: BokehJS not loaded, scheduling load and callback at\", now());\n      }\n      load_libs(css_urls, js_urls, js_modules, js_exports, function() {\n        console.debug(\"Bokeh: BokehJS plotting callback run at\", now());\n        run_inline_js();\n      });\n    }\n  }\n  // Give older versions of the autoload script a head-start to ensure\n  // they initialize before we start loading newer version.\n  setTimeout(load_or_wait, 100)\n}(window));",
      "application/vnd.holoviews_load.v0+json": ""
     },
     "metadata": {},
     "output_type": "display_data"
    },
    {
     "data": {
      "application/javascript": "\nif ((window.PyViz === undefined) || (window.PyViz instanceof HTMLElement)) {\n  window.PyViz = {comms: {}, comm_status:{}, kernels:{}, receivers: {}, plot_index: []}\n}\n\n\n    function JupyterCommManager() {\n    }\n\n    JupyterCommManager.prototype.register_target = function(plot_id, comm_id, msg_handler) {\n      if (window.comm_manager || ((window.Jupyter !== undefined) && (Jupyter.notebook.kernel != null))) {\n        var comm_manager = window.comm_manager || Jupyter.notebook.kernel.comm_manager;\n        comm_manager.register_target(comm_id, function(comm) {\n          comm.on_msg(msg_handler);\n        });\n      } else if ((plot_id in window.PyViz.kernels) && (window.PyViz.kernels[plot_id])) {\n        window.PyViz.kernels[plot_id].registerCommTarget(comm_id, function(comm) {\n          comm.onMsg = msg_handler;\n        });\n      } else if (typeof google != 'undefined' && google.colab.kernel != null) {\n        google.colab.kernel.comms.registerTarget(comm_id, (comm) => {\n          var messages = comm.messages[Symbol.asyncIterator]();\n          function processIteratorResult(result) {\n            var message = result.value;\n            console.log(message)\n            var content = {data: message.data, comm_id};\n            var buffers = []\n            for (var buffer of message.buffers || []) {\n              buffers.push(new DataView(buffer))\n            }\n            var metadata = message.metadata || {};\n            var msg = {content, buffers, metadata}\n            msg_handler(msg);\n            return messages.next().then(processIteratorResult);\n          }\n          return messages.next().then(processIteratorResult);\n        })\n      }\n    }\n\n    JupyterCommManager.prototype.get_client_comm = function(plot_id, comm_id, msg_handler) {\n      if (comm_id in window.PyViz.comms) {\n        return window.PyViz.comms[comm_id];\n      } else if (window.comm_manager || ((window.Jupyter !== undefined) && (Jupyter.notebook.kernel != null))) {\n        var comm_manager = window.comm_manager || Jupyter.notebook.kernel.comm_manager;\n        var comm = comm_manager.new_comm(comm_id, {}, {}, {}, comm_id);\n        if (msg_handler) {\n          comm.on_msg(msg_handler);\n        }\n      } else if ((plot_id in window.PyViz.kernels) && (window.PyViz.kernels[plot_id])) {\n        var comm = window.PyViz.kernels[plot_id].connectToComm(comm_id);\n        comm.open();\n        if (msg_handler) {\n          comm.onMsg = msg_handler;\n        }\n      } else if (typeof google != 'undefined' && google.colab.kernel != null) {\n        var comm_promise = google.colab.kernel.comms.open(comm_id)\n        comm_promise.then((comm) => {\n          window.PyViz.comms[comm_id] = comm;\n          if (msg_handler) {\n            var messages = comm.messages[Symbol.asyncIterator]();\n            function processIteratorResult(result) {\n              var message = result.value;\n              var content = {data: message.data};\n              var metadata = message.metadata || {comm_id};\n              var msg = {content, metadata}\n              msg_handler(msg);\n              return messages.next().then(processIteratorResult);\n            }\n            return messages.next().then(processIteratorResult);\n          }\n        })\n        var sendClosure = (data, metadata, buffers, disposeOnDone) => {\n          return comm_promise.then((comm) => {\n            comm.send(data, metadata, buffers, disposeOnDone);\n          });\n        };\n        var comm = {\n          send: sendClosure\n        };\n      }\n      window.PyViz.comms[comm_id] = comm;\n      return comm;\n    }\n    window.PyViz.comm_manager = new JupyterCommManager();\n    \n\n\nvar JS_MIME_TYPE = 'application/javascript';\nvar HTML_MIME_TYPE = 'text/html';\nvar EXEC_MIME_TYPE = 'application/vnd.holoviews_exec.v0+json';\nvar CLASS_NAME = 'output';\n\n/**\n * Render data to the DOM node\n */\nfunction render(props, node) {\n  var div = document.createElement(\"div\");\n  var script = document.createElement(\"script\");\n  node.appendChild(div);\n  node.appendChild(script);\n}\n\n/**\n * Handle when a new output is added\n */\nfunction handle_add_output(event, handle) {\n  var output_area = handle.output_area;\n  var output = handle.output;\n  if ((output.data == undefined) || (!output.data.hasOwnProperty(EXEC_MIME_TYPE))) {\n    return\n  }\n  var id = output.metadata[EXEC_MIME_TYPE][\"id\"];\n  var toinsert = output_area.element.find(\".\" + CLASS_NAME.split(' ')[0]);\n  if (id !== undefined) {\n    var nchildren = toinsert.length;\n    var html_node = toinsert[nchildren-1].children[0];\n    html_node.innerHTML = output.data[HTML_MIME_TYPE];\n    var scripts = [];\n    var nodelist = html_node.querySelectorAll(\"script\");\n    for (var i in nodelist) {\n      if (nodelist.hasOwnProperty(i)) {\n        scripts.push(nodelist[i])\n      }\n    }\n\n    scripts.forEach( function (oldScript) {\n      var newScript = document.createElement(\"script\");\n      var attrs = [];\n      var nodemap = oldScript.attributes;\n      for (var j in nodemap) {\n        if (nodemap.hasOwnProperty(j)) {\n          attrs.push(nodemap[j])\n        }\n      }\n      attrs.forEach(function(attr) { newScript.setAttribute(attr.name, attr.value) });\n      newScript.appendChild(document.createTextNode(oldScript.innerHTML));\n      oldScript.parentNode.replaceChild(newScript, oldScript);\n    });\n    if (JS_MIME_TYPE in output.data) {\n      toinsert[nchildren-1].children[1].textContent = output.data[JS_MIME_TYPE];\n    }\n    output_area._hv_plot_id = id;\n    if ((window.Bokeh !== undefined) && (id in Bokeh.index)) {\n      window.PyViz.plot_index[id] = Bokeh.index[id];\n    } else {\n      window.PyViz.plot_index[id] = null;\n    }\n  } else if (output.metadata[EXEC_MIME_TYPE][\"server_id\"] !== undefined) {\n    var bk_div = document.createElement(\"div\");\n    bk_div.innerHTML = output.data[HTML_MIME_TYPE];\n    var script_attrs = bk_div.children[0].attributes;\n    for (var i = 0; i < script_attrs.length; i++) {\n      toinsert[toinsert.length - 1].childNodes[1].setAttribute(script_attrs[i].name, script_attrs[i].value);\n    }\n    // store reference to server id on output_area\n    output_area._bokeh_server_id = output.metadata[EXEC_MIME_TYPE][\"server_id\"];\n  }\n}\n\n/**\n * Handle when an output is cleared or removed\n */\nfunction handle_clear_output(event, handle) {\n  var id = handle.cell.output_area._hv_plot_id;\n  var server_id = handle.cell.output_area._bokeh_server_id;\n  if (((id === undefined) || !(id in PyViz.plot_index)) && (server_id !== undefined)) { return; }\n  var comm = window.PyViz.comm_manager.get_client_comm(\"hv-extension-comm\", \"hv-extension-comm\", function () {});\n  if (server_id !== null) {\n    comm.send({event_type: 'server_delete', 'id': server_id});\n    return;\n  } else if (comm !== null) {\n    comm.send({event_type: 'delete', 'id': id});\n  }\n  delete PyViz.plot_index[id];\n  if ((window.Bokeh !== undefined) & (id in window.Bokeh.index)) {\n    var doc = window.Bokeh.index[id].model.document\n    doc.clear();\n    const i = window.Bokeh.documents.indexOf(doc);\n    if (i > -1) {\n      window.Bokeh.documents.splice(i, 1);\n    }\n  }\n}\n\n/**\n * Handle kernel restart event\n */\nfunction handle_kernel_cleanup(event, handle) {\n  delete PyViz.comms[\"hv-extension-comm\"];\n  window.PyViz.plot_index = {}\n}\n\n/**\n * Handle update_display_data messages\n */\nfunction handle_update_output(event, handle) {\n  handle_clear_output(event, {cell: {output_area: handle.output_area}})\n  handle_add_output(event, handle)\n}\n\nfunction register_renderer(events, OutputArea) {\n  function append_mime(data, metadata, element) {\n    // create a DOM node to render to\n    var toinsert = this.create_output_subarea(\n    metadata,\n    CLASS_NAME,\n    EXEC_MIME_TYPE\n    );\n    this.keyboard_manager.register_events(toinsert);\n    // Render to node\n    var props = {data: data, metadata: metadata[EXEC_MIME_TYPE]};\n    render(props, toinsert[0]);\n    element.append(toinsert);\n    return toinsert\n  }\n\n  events.on('output_added.OutputArea', handle_add_output);\n  events.on('output_updated.OutputArea', handle_update_output);\n  events.on('clear_output.CodeCell', handle_clear_output);\n  events.on('delete.Cell', handle_clear_output);\n  events.on('kernel_ready.Kernel', handle_kernel_cleanup);\n\n  OutputArea.prototype.register_mime_type(EXEC_MIME_TYPE, append_mime, {\n    safe: true,\n    index: 0\n  });\n}\n\nif (window.Jupyter !== undefined) {\n  try {\n    var events = require('base/js/events');\n    var OutputArea = require('notebook/js/outputarea').OutputArea;\n    if (OutputArea.prototype.mime_types().indexOf(EXEC_MIME_TYPE) == -1) {\n      register_renderer(events, OutputArea);\n    }\n  } catch(err) {\n  }\n}\n",
      "application/vnd.holoviews_load.v0+json": ""
     },
     "metadata": {},
     "output_type": "display_data"
    },
    {
     "data": {
      "application/vnd.holoviews_exec.v0+json": "",
      "text/html": [
       "<div id='6c80361f-c635-4906-8eab-7ad1a72c05b7'>\n",
       "  <div id=\"c6dbdc62-7326-46f6-b75c-a9241f9adda8\" data-root-id=\"6c80361f-c635-4906-8eab-7ad1a72c05b7\" style=\"display: contents;\"></div>\n",
       "</div>\n",
       "<script type=\"application/javascript\">(function(root) {\n",
       "  var docs_json = {\"026133d7-4698-4774-bed0-9b2f1914fc78\":{\"version\":\"3.7.3\",\"title\":\"Bokeh Application\",\"roots\":[{\"type\":\"object\",\"name\":\"panel.models.browser.BrowserInfo\",\"id\":\"6c80361f-c635-4906-8eab-7ad1a72c05b7\"},{\"type\":\"object\",\"name\":\"panel.models.comm_manager.CommManager\",\"id\":\"6e10832c-9b8d-4624-93cf-50d034e3b757\",\"attributes\":{\"plot_id\":\"6c80361f-c635-4906-8eab-7ad1a72c05b7\",\"comm_id\":\"80d944ab0b7942bd952fdf119c741010\",\"client_comm_id\":\"e27675b381644dba828146c2a2a9e0d2\"}}],\"defs\":[{\"type\":\"model\",\"name\":\"ReactiveHTML1\"},{\"type\":\"model\",\"name\":\"FlexBox1\",\"properties\":[{\"name\":\"align_content\",\"kind\":\"Any\",\"default\":\"flex-start\"},{\"name\":\"align_items\",\"kind\":\"Any\",\"default\":\"flex-start\"},{\"name\":\"flex_direction\",\"kind\":\"Any\",\"default\":\"row\"},{\"name\":\"flex_wrap\",\"kind\":\"Any\",\"default\":\"wrap\"},{\"name\":\"gap\",\"kind\":\"Any\",\"default\":\"\"},{\"name\":\"justify_content\",\"kind\":\"Any\",\"default\":\"flex-start\"}]},{\"type\":\"model\",\"name\":\"FloatPanel1\",\"properties\":[{\"name\":\"config\",\"kind\":\"Any\",\"default\":{\"type\":\"map\"}},{\"name\":\"contained\",\"kind\":\"Any\",\"default\":true},{\"name\":\"position\",\"kind\":\"Any\",\"default\":\"right-top\"},{\"name\":\"offsetx\",\"kind\":\"Any\",\"default\":null},{\"name\":\"offsety\",\"kind\":\"Any\",\"default\":null},{\"name\":\"theme\",\"kind\":\"Any\",\"default\":\"primary\"},{\"name\":\"status\",\"kind\":\"Any\",\"default\":\"normalized\"}]},{\"type\":\"model\",\"name\":\"GridStack1\",\"properties\":[{\"name\":\"ncols\",\"kind\":\"Any\",\"default\":null},{\"name\":\"nrows\",\"kind\":\"Any\",\"default\":null},{\"name\":\"allow_resize\",\"kind\":\"Any\",\"default\":true},{\"name\":\"allow_drag\",\"kind\":\"Any\",\"default\":true},{\"name\":\"state\",\"kind\":\"Any\",\"default\":[]}]},{\"type\":\"model\",\"name\":\"drag1\",\"properties\":[{\"name\":\"slider_width\",\"kind\":\"Any\",\"default\":5},{\"name\":\"slider_color\",\"kind\":\"Any\",\"default\":\"black\"},{\"name\":\"value\",\"kind\":\"Any\",\"default\":50}]},{\"type\":\"model\",\"name\":\"click1\",\"properties\":[{\"name\":\"terminal_output\",\"kind\":\"Any\",\"default\":\"\"},{\"name\":\"debug_name\",\"kind\":\"Any\",\"default\":\"\"},{\"name\":\"clears\",\"kind\":\"Any\",\"default\":0}]},{\"type\":\"model\",\"name\":\"FastWrapper1\",\"properties\":[{\"name\":\"object\",\"kind\":\"Any\",\"default\":null},{\"name\":\"style\",\"kind\":\"Any\",\"default\":null}]},{\"type\":\"model\",\"name\":\"NotificationArea1\",\"properties\":[{\"name\":\"js_events\",\"kind\":\"Any\",\"default\":{\"type\":\"map\"}},{\"name\":\"max_notifications\",\"kind\":\"Any\",\"default\":5},{\"name\":\"notifications\",\"kind\":\"Any\",\"default\":[]},{\"name\":\"position\",\"kind\":\"Any\",\"default\":\"bottom-right\"},{\"name\":\"_clear\",\"kind\":\"Any\",\"default\":0},{\"name\":\"types\",\"kind\":\"Any\",\"default\":[{\"type\":\"map\",\"entries\":[[\"type\",\"warning\"],[\"background\",\"#ffc107\"],[\"icon\",{\"type\":\"map\",\"entries\":[[\"className\",\"fas fa-exclamation-triangle\"],[\"tagName\",\"i\"],[\"color\",\"white\"]]}]]},{\"type\":\"map\",\"entries\":[[\"type\",\"info\"],[\"background\",\"#007bff\"],[\"icon\",{\"type\":\"map\",\"entries\":[[\"className\",\"fas fa-info-circle\"],[\"tagName\",\"i\"],[\"color\",\"white\"]]}]]}]}]},{\"type\":\"model\",\"name\":\"Notification\",\"properties\":[{\"name\":\"background\",\"kind\":\"Any\",\"default\":null},{\"name\":\"duration\",\"kind\":\"Any\",\"default\":3000},{\"name\":\"icon\",\"kind\":\"Any\",\"default\":null},{\"name\":\"message\",\"kind\":\"Any\",\"default\":\"\"},{\"name\":\"notification_type\",\"kind\":\"Any\",\"default\":null},{\"name\":\"_rendered\",\"kind\":\"Any\",\"default\":false},{\"name\":\"_destroyed\",\"kind\":\"Any\",\"default\":false}]},{\"type\":\"model\",\"name\":\"TemplateActions1\",\"properties\":[{\"name\":\"open_modal\",\"kind\":\"Any\",\"default\":0},{\"name\":\"close_modal\",\"kind\":\"Any\",\"default\":0}]},{\"type\":\"model\",\"name\":\"BootstrapTemplateActions1\",\"properties\":[{\"name\":\"open_modal\",\"kind\":\"Any\",\"default\":0},{\"name\":\"close_modal\",\"kind\":\"Any\",\"default\":0}]},{\"type\":\"model\",\"name\":\"TemplateEditor1\",\"properties\":[{\"name\":\"layout\",\"kind\":\"Any\",\"default\":[]}]},{\"type\":\"model\",\"name\":\"MaterialTemplateActions1\",\"properties\":[{\"name\":\"open_modal\",\"kind\":\"Any\",\"default\":0},{\"name\":\"close_modal\",\"kind\":\"Any\",\"default\":0}]},{\"type\":\"model\",\"name\":\"ReactiveESM1\",\"properties\":[{\"name\":\"esm_constants\",\"kind\":\"Any\",\"default\":{\"type\":\"map\"}}]},{\"type\":\"model\",\"name\":\"JSComponent1\",\"properties\":[{\"name\":\"esm_constants\",\"kind\":\"Any\",\"default\":{\"type\":\"map\"}}]},{\"type\":\"model\",\"name\":\"ReactComponent1\",\"properties\":[{\"name\":\"esm_constants\",\"kind\":\"Any\",\"default\":{\"type\":\"map\"}}]},{\"type\":\"model\",\"name\":\"AnyWidgetComponent1\",\"properties\":[{\"name\":\"esm_constants\",\"kind\":\"Any\",\"default\":{\"type\":\"map\"}}]},{\"type\":\"model\",\"name\":\"request_value1\",\"properties\":[{\"name\":\"fill\",\"kind\":\"Any\",\"default\":\"none\"},{\"name\":\"_synced\",\"kind\":\"Any\",\"default\":null},{\"name\":\"_request_sync\",\"kind\":\"Any\",\"default\":0}]}]}};\n",
       "  var render_items = [{\"docid\":\"026133d7-4698-4774-bed0-9b2f1914fc78\",\"roots\":{\"6c80361f-c635-4906-8eab-7ad1a72c05b7\":\"c6dbdc62-7326-46f6-b75c-a9241f9adda8\"},\"root_ids\":[\"6c80361f-c635-4906-8eab-7ad1a72c05b7\"]}];\n",
       "  var docs = Object.values(docs_json)\n",
       "  if (!docs) {\n",
       "    return\n",
       "  }\n",
       "  const py_version = docs[0].version.replace('rc', '-rc.').replace('.dev', '-dev.')\n",
       "  async function embed_document(root) {\n",
       "    var Bokeh = get_bokeh(root)\n",
       "    await Bokeh.embed.embed_items_notebook(docs_json, render_items);\n",
       "    for (const render_item of render_items) {\n",
       "      for (const root_id of render_item.root_ids) {\n",
       "\tconst id_el = document.getElementById(root_id)\n",
       "\tif (id_el.children.length && id_el.children[0].hasAttribute('data-root-id')) {\n",
       "\t  const root_el = id_el.children[0]\n",
       "\t  root_el.id = root_el.id + '-rendered'\n",
       "\t  for (const child of root_el.children) {\n",
       "            // Ensure JupyterLab does not capture keyboard shortcuts\n",
       "            // see: https://jupyterlab.readthedocs.io/en/4.1.x/extension/notebook.html#keyboard-interaction-model\n",
       "\t    child.setAttribute('data-lm-suppress-shortcuts', 'true')\n",
       "\t  }\n",
       "\t}\n",
       "      }\n",
       "    }\n",
       "  }\n",
       "  function get_bokeh(root) {\n",
       "    if (root.Bokeh === undefined) {\n",
       "      return null\n",
       "    } else if (root.Bokeh.version !== py_version) {\n",
       "      if (root.Bokeh.versions === undefined || !root.Bokeh.versions.has(py_version)) {\n",
       "\treturn null\n",
       "      }\n",
       "      return root.Bokeh.versions.get(py_version);\n",
       "    } else if (root.Bokeh.version === py_version) {\n",
       "      return root.Bokeh\n",
       "    }\n",
       "    return null\n",
       "  }\n",
       "  function is_loaded(root) {\n",
       "    var Bokeh = get_bokeh(root)\n",
       "    return (Bokeh != null && Bokeh.Panel !== undefined)\n",
       "  }\n",
       "  if (is_loaded(root)) {\n",
       "    embed_document(root);\n",
       "  } else {\n",
       "    var attempts = 0;\n",
       "    var timer = setInterval(function(root) {\n",
       "      if (is_loaded(root)) {\n",
       "        clearInterval(timer);\n",
       "        embed_document(root);\n",
       "      } else if (document.readyState == \"complete\") {\n",
       "        attempts++;\n",
       "        if (attempts > 200) {\n",
       "          clearInterval(timer);\n",
       "\t  var Bokeh = get_bokeh(root)\n",
       "\t  if (Bokeh == null || Bokeh.Panel == null) {\n",
       "            console.warn(\"Panel: ERROR: Unable to run Panel code because Bokeh or Panel library is missing\");\n",
       "\t  } else {\n",
       "\t    console.warn(\"Panel: WARNING: Attempting to render but not all required libraries could be resolved.\")\n",
       "\t    embed_document(root)\n",
       "\t  }\n",
       "        }\n",
       "      }\n",
       "    }, 25, root)\n",
       "  }\n",
       "})(window);</script>"
      ]
     },
     "metadata": {
      "application/vnd.holoviews_exec.v0+json": {
       "id": "6c80361f-c635-4906-8eab-7ad1a72c05b7"
      }
     },
     "output_type": "display_data"
    },
    {
     "data": {
      "text/html": [
       "\n",
       "<div class=\"logo-block\">\n",
       "<img src='data:image/png;base64,iVBORw0KGgoAAAANSUhEUgAAAEAAAABACAYAAACqaXHeAAAABHNCSVQICAgIfAhkiAAAAAlwSFlz\n",
       "AAAB+wAAAfsBxc2miwAAABl0RVh0U29mdHdhcmUAd3d3Lmlua3NjYXBlLm9yZ5vuPBoAAA6zSURB\n",
       "VHic7ZtpeFRVmsf/5966taWqUlUJ2UioBBJiIBAwCZtog9IOgjqACsogKtqirT2ttt069nQ/zDzt\n",
       "tI4+CrJIREFaFgWhBXpUNhHZQoKBkIUASchWla1S+3ar7r1nPkDaCAnZKoQP/D7mnPOe9/xy76n3\n",
       "nFSAW9ziFoPFNED2LLK5wcyBDObkb8ZkxuaoSYlI6ZcOKq1eWFdedqNzGHQBk9RMEwFAASkk0Xw3\n",
       "ETacDNi2vtvc7L0ROdw0AjoSotQVkKSvHQz/wRO1lScGModBFbDMaNRN1A4tUBCS3lk7BWhQkgpD\n",
       "lG4852/+7DWr1R3uHAZVQDsbh6ZPN7CyxUrCzJMRouusj0ipRwD2uKm0Zn5d2dFwzX1TCGhnmdGo\n",
       "G62Nna+isiUqhkzuKrkQaJlPEv5mFl2fvGg2t/VnzkEV8F5ioioOEWkLG86fvbpthynjdhXYZziQ\n",
       "x1hC9J2NFyi8vCTt91Fh04KGip0AaG9zuCk2wQCVyoNU3Hjezee9bq92duzzTmxsRJoy+jEZZZYo\n",
       "GTKJ6SJngdJqAfRzpze0+jHreUtPc7gpBLQnIYK6BYp/uGhw9YK688eu7v95ysgshcg9qSLMo3JC\n",
       "4jqLKQFBgdKDPoQ+Pltb8dUyQLpeDjeVgI6EgLIQFT5tEl3rn2losHVsexbZ3EyT9wE1uGdkIPcy\n",
       "BGxn8QUq1QrA5nqW5i2tLqvrrM9NK6AdkVIvL9E9bZL/oyfMVd/jqvc8LylzRBKDJSzIExwhQzuL\n",
       "QYGQj4rHfFTc8mUdu3E7yoLtbTe9gI4EqVgVkug2i5+uXGo919ixbRog+3fTbQ8qJe4ZOYNfMoTI\n",
       "OoshUNosgO60AisX15aeI2PSIp5KiFLI9ubb1vV3Qb2ltwLakUCDAkWX7/nHKRmmGIl9VgYsUhJm\n",
       "2NXjKYADtM1ygne9QQDIXlk49FBstMKx66D1v4+XuQr7vqTe0VcBHQlRWiOCbmmSYe2SqtL6q5rJ\n",
       "zsTb7lKx3FKOYC4DoqyS/B5bvLPxvD9Qtf6saxYLQGJErmDOdOMr/zo96km1nElr8bmPOBwI9COv\n",
       "HnFPRIwmkSOv9kcAS4heRsidOkpeWBgZM+UBrTFAXNYL5Vf2ii9c1trNzpYdaoVil3WIc+wdk+gQ\n",
       "noie3ecCcxt9ITcLAPWt/laGEO/9U6PmzZkenTtsSMQ8uYywJVW+grCstAvCIaAdArAsIWkRDDs/\n",
       "KzLm2YcjY1Lv0UdW73HabE9n6V66cxSzfEmuJssTpKGVp+0vHq73FwL46eOjpMpbRAnNmJFrGJNu\n",
       "Ukf9Yrz+3rghiumCKNXXWPhLYcjxGsIpoCMsIRoFITkW8AuyM8jC1+/QLx4bozCEJIq38+1rtpR6\n",
       "V/yzb8eBlRb3fo5l783N0CWolAzJHaVNzkrTzlEp2bQ2q3TC5gn6wpnoQAmwSiGh2GitnTmVMc5O\n",
       "UyfKWUKCIsU7+fZDKwqdT6DDpvkzAX4/+AMFjk0tDp5GRXLpQ2MUmhgDp5gxQT8+Y7hyPsMi8uxF\n",
       "71H0oebujHALECjFKaW9Lm68n18wXp2kVzIcABytD5iXFzg+WVXkegpAsOOYziqo0OkK76GyquC3\n",
       "ltZAzMhhqlSNmmWTE5T6e3IN05ITFLM4GdN0vtZ3ob8Jh1NAKXFbm5PtLU/eqTSlGjkNAJjdgn/N\n",
       "aedXa0tdi7+t9G0FIF49rtMSEgAs1kDLkTPO7ebm4IUWeyh1bKomXqlgMG6kJmHcSM0clYLJ8XtR\n",
       "1GTnbV3F6I5wCGikAb402npp1h1s7LQUZZSMIfALFOuL3UUrfnS8+rez7v9qcold5tilgHbO1fjK\n",
       "9ubb17u9oshxzMiUBKXWqJNxd+fqb0tLVs4lILFnK71H0Ind7uiPgACVcFJlrb0tV6DzxqqTIhUM\n",
       "CwDf1/rrVhTa33/3pGPxJYdQ2l2cbgVcQSosdx8uqnDtbGjh9SlDVSMNWhlnilfqZk42Th2ZpLpf\n",
       "xrHec5e815zrr0dfBZSwzkZfqsv+1FS1KUknUwPARVvItfKUY+cn57yP7qv07UE3p8B2uhUwLk09\n",
       "e0SCOrK+hbdYHYLjRIl71wWzv9jpEoeOHhGRrJAzyEyNiJuUqX0g2sBN5kGK6y2Blp5M3lsB9Qh4\n",
       "y2Ja6x6+i0ucmKgwMATwhSjdUu49tKrQ/pvN5d53ml2CGwCmJipmKjgmyuaXzNeL2a0AkQ01Th5j\n",
       "2DktO3Jyk8f9vcOBQHV94OK+fPumJmvQHxJoWkaKWq9Vs+yUsbq0zGT1I4RgeH2b5wef7+c7bl8F\n",
       "eKgoHVVZa8ZPEORzR6sT1BzDUAD/d9F78e2Tzv99v8D+fLVTqAKAsbGamKey1Mt9Ann4eH3gTXTz\n",
       "idWtAJ8PQWOk7NzSeQn/OTHDuEikVF1R4z8BQCy+6D1aWRfY0tTGG2OM8rRoPaeIj5ZHzJxszElN\n",
       "VM8K8JS5WOfv8mzRnQAKoEhmt8gyPM4lU9SmBK1MCQBnW4KONT86v1hZ1PbwSXPw4JWussVjtH9Y\n",
       "NCoiL9UoH/6PSu8jFrfY2t36erQHXLIEakMi1SydmzB31h3GGXFDFNPaK8Rme9B79Ixrd0WN+1ij\n",
       "NRQ/doRmuFLBkHSTOm5GruG+pFjFdAmorG4IXH1Qua6ASniclfFtDYt+oUjKipPrCQB7QBQ2lrgP\n",
       "fFzm+9XWUtcqJ3/5vDLDpJ79XHZk3u8nGZ42qlj1+ydtbxysCezrydp6ugmipNJ7WBPB5tydY0jP\n",
       "HaVNzs3QzeE4ZpTbI+ZbnSFPbVOw9vsfnVvqWnirPyCNGD08IlqtYkh2hjZ5dErEQzoNm+6ykyOt\n",
       "Lt5/PQEuSRRKo22VkydK+vvS1XEKlhCJAnsqvcVvH7f/ZU2R67eXbMEGAMiIV5oWZWiWvz5Fv2xG\n",
       "sjqNJQRvn3Rs2lji/lNP19VjAQDgD7FHhujZB9OGqYxRkZxixgRDVlqS6uEOFaJUVu0rPFzctrnF\n",
       "JqijImVp8dEKVWyUXDk92zAuMZ6bFwpBU1HrOw6AdhQgUooChb0+ItMbWJitSo5Ws3IAOGEOtL53\n",
       "0vHZih9sC4vtofZ7Qu6523V/fmGcds1TY3V36pUsBwAbSlxnVh2xLfAD/IAIMDf7XYIkNmXfpp2l\n",
       "18rkAJAy9HKFaIr/qULkeQQKy9zf1JgDB2uaeFNGijo5QsUyacNUUTOnGO42xSnv4oOwpDi1zYkc\n",
       "efUc3I5Gk6PhyTuVKaOGyLUAYPGIoY9Pu/atL/L92+4q9wbflRJ2Trpm/jPjdBtfnqB/dIThcl8A\n",
       "KG7hbRuKnb8qsQsVvVlTrwQAQMUlf3kwJI24Z4JhPMtcfng5GcH49GsrxJpGvvHIaeem2ma+KSjQ\n",
       "lIwUdYyCY8j4dE1KzijNnIP2llF2wcXNnsoapw9XxsgYAl6k+KzUXbi2yP3KR2ecf6z3BFsBICdW\n",
       "nvnIaG3eHybqX7vbpEqUMT+9OL4Qpe8VON7dXuFd39v19FoAABRVePbGGuXTszO0P7tu6lghUonE\n",
       "llRdrhArLvmKdh9u29jcFiRRkfLUxBiFNiqSU9icoZQHo5mYBI1MBgBH6wMNb+U7Pnw337H4gi1Y\n",
       "ciWs+uks3Z9fztUvfzxTm9Ne8XXkvQLHNytOOZeiD4e0PgkAIAYCYknKUNUDSXEKzdWNpnil7r4p\n",
       "xqkjTarZMtk/K8TQ6Qve78qqvXurGwIJqcOUKfUWHsm8KGvxSP68YudXq4pcj39X49uOK2X142O0\n",
       "Tz5/u/7TVybqH0rSya6ZBwD21/gubbrgWdDgEOx9WUhfBaC2ibcEBYm7a7x+ukrBMNcEZggyR0TE\n",
       "T8zUPjikQ4VosQZbTpS4vqizBKvqmvjsqnpfzaZyx9JPiz1/bfGKdgD45XB1zoIMzYbfTdS/NClB\n",
       "Gct0USiY3YL/g0LHy/uq/Ef6uo5+n0R/vyhp17Klpge763f8rMu6YU/zrn2nml+2WtH+Z+5IAAFc\n",
       "2bUTdTDOSNa9+cQY7YLsOIXhevEkCvzph7a8laecz/Un/z4/Ae04XeL3UQb57IwU9ZDr9UuKVajv\n",
       "nxp1+1UVIo/LjztZkKH59fO3G/JemqCfmaCRqbqbd90ZZ8FfjtkfAyD0J/9+C2h1hDwsSxvGjNDc\n",
       "b4zk5NfrSwiQblLHzZhg+Jf4aPlUwpDqkQqa9nimbt1/TDH8OitGMaQnj+RJS6B1fbF7SY1TqO5v\n",
       "/v0WAADl1f7zokgS7s7VT2DZ7pegUjBM7mjtiDZbcN4j0YrHH0rXpCtY0qPX0cVL0rv5jv/ZXend\n",
       "0u/EESYBAFBU4T4Qa5TflZOhTe7pmKpaP8kCVUVw1+yhXfJWvn1P3hnXi33JsTN6PnP3hHZ8Z3/h\n",
       "aLHzmkNPuPj7Bc/F/Q38CwjTpSwQXgE4Vmwry9tpfq/ZFgqFMy4AVDtCvi8rvMvOmv0N4YwbVgEA\n",
       "sPM72/KVnzfspmH7HQGCRLG2yL1+z8XwvPcdCbsAANh+xPzstgMtxeGKt+6MK3/tacfvwhWvIwMi\n",
       "oKEBtm0H7W+UVfkc/Y1V0BhoPlDr/w1w/eu1vjIgAgDg22OtX6/eYfnEz/focrZTHAFR+PSs56/7\n",
       "q32nwpjazxgwAQCwcU/T62t3WL7r6/jVRa6/byp1rei+Z98ZUAEAhEPHPc8fKnTU9nbgtnOe8h0l\n",
       "9hcGIqmODLQAHCy2Xti6v/XNRivf43f4fFvIteu854+VHnR7q9tfBlwAAGz+pnndB9vM26UebAe8\n",
       "SLHujPOTPVW+rwY+sxskAAC2HrA8t2Vvc7ffP1r9o+vwR2dcr92InIAbKKC1FZ5tB1tf+/G8p8sv\n",
       "N/9Q5zd/XR34LYCwV5JdccMEAMDBk45DH243r/X4xGvqxFa/GNpS7n6rwOwNWwHVE26oAADYurf1\n",
       "zx/utOzt+DMKYM0p17YtZZ5VNzqfsB2HewG1WXE8PoZ7gOclbTIvynZf9JV+fqZtfgs/8F/Nu5rB\n",
       "EIBmJ+8QRMmpU7EzGRsf2FzuePqYRbzh/zE26EwdrT10f6r6o8HOYzCJB9Dpff8tbnGLG8L/A/WE\n",
       "roTBs2RqAAAAAElFTkSuQmCC'\n",
       "     style='height:25px; border-radius:12px; display: inline-block; float: left; vertical-align: middle'></img>\n",
       "\n",
       "\n",
       "  <img src='data:image/png;base64,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'\n",
       "       style='height:15px; border-radius:12px; display: inline-block; float: left'></img>\n",
       "  \n",
       "\n",
       "\n",
       "\n",
       "\n",
       "</div>\n"
      ]
     },
     "metadata": {},
     "output_type": "display_data"
    },
    {
     "data": {},
     "metadata": {},
     "output_type": "display_data"
    },
    {
     "data": {
      "application/vnd.holoviews_exec.v0+json": "",
      "text/html": [
       "<div id='ed9d14a8-15e5-4c3f-938a-9795adbc6a00'>\n",
       "  <div id=\"f4f2d8af-428e-4c45-85e6-99fcb220fba7\" data-root-id=\"ed9d14a8-15e5-4c3f-938a-9795adbc6a00\" style=\"display: contents;\"></div>\n",
       "</div>\n",
       "<script type=\"application/javascript\">(function(root) {\n",
       "  var docs_json = {\"54d79192-cd55-4348-b287-b5a7244cf595\":{\"version\":\"3.7.3\",\"title\":\"Bokeh Application\",\"roots\":[{\"type\":\"object\",\"name\":\"Row\",\"id\":\"ed9d14a8-15e5-4c3f-938a-9795adbc6a00\",\"attributes\":{\"name\":\"Row00370\",\"tags\":[\"embedded\"],\"stylesheets\":[\"\\n:host(.pn-loading):before, .pn-loading:before {\\n  background-color: #c3c3c3;\\n  mask-size: auto calc(min(50%, 400px));\\n  -webkit-mask-size: auto calc(min(50%, 400px));\\n}\",{\"type\":\"object\",\"name\":\"ImportedStyleSheet\",\"id\":\"6812e1e3-4fa7-4bb4-8bed-98390e1ed74d\",\"attributes\":{\"url\":\"https://cdn.holoviz.org/panel/1.6.3/dist/css/loading.css\"}},{\"type\":\"object\",\"name\":\"ImportedStyleSheet\",\"id\":\"c0de8cb1-2391-4370-a29f-8a1c02c6ed3c\",\"attributes\":{\"url\":\"https://cdn.holoviz.org/panel/1.6.3/dist/css/listpanel.css\"}},{\"type\":\"object\",\"name\":\"ImportedStyleSheet\",\"id\":\"78551cea-28df-4cda-88d2-36477ef1e45c\",\"attributes\":{\"url\":\"https://cdn.holoviz.org/panel/1.6.3/dist/bundled/theme/default.css\"}},{\"type\":\"object\",\"name\":\"ImportedStyleSheet\",\"id\":\"4f90431a-b670-48f7-a0a2-feb418ff5db0\",\"attributes\":{\"url\":\"https://cdn.holoviz.org/panel/1.6.3/dist/bundled/theme/native.css\"}}],\"min_width\":300,\"margin\":0,\"sizing_mode\":\"stretch_width\",\"align\":\"start\",\"children\":[{\"type\":\"object\",\"name\":\"Spacer\",\"id\":\"3805fd4e-8a44-4c08-aa48-3c63d566198b\",\"attributes\":{\"name\":\"HSpacer00374\",\"stylesheets\":[\"\\n:host(.pn-loading):before, .pn-loading:before {\\n  background-color: #c3c3c3;\\n  mask-size: auto calc(min(50%, 400px));\\n  -webkit-mask-size: auto calc(min(50%, 400px));\\n}\",{\"id\":\"6812e1e3-4fa7-4bb4-8bed-98390e1ed74d\"},{\"id\":\"78551cea-28df-4cda-88d2-36477ef1e45c\"},{\"id\":\"4f90431a-b670-48f7-a0a2-feb418ff5db0\"}],\"margin\":0,\"sizing_mode\":\"stretch_width\",\"align\":\"start\"}},{\"type\":\"object\",\"name\":\"Figure\",\"id\":\"aa60ed6f-1ca1-4c57-a4e2-b2611e7204fc\",\"attributes\":{\"width\":300,\"height\":300,\"margin\":[5,10],\"sizing_mode\":\"fixed\",\"align\":\"start\",\"x_range\":{\"type\":\"object\",\"name\":\"Range1d\",\"id\":\"08e35c9e-e4dd-43eb-80e5-6e7ad290d331\",\"attributes\":{\"name\":\"x\",\"tags\":[[[\"x\",null]],[]],\"start\":-1.4,\"end\":1.4,\"reset_start\":-1.4,\"reset_end\":1.4}},\"y_range\":{\"type\":\"object\",\"name\":\"Range1d\",\"id\":\"c6f93c0c-f742-4d61-b88b-4731a7fd48c7\",\"attributes\":{\"name\":\"y\",\"tags\":[[[\"y\",null]],{\"type\":\"map\",\"entries\":[[\"invert_yaxis\",false],[\"autorange\",false]]}],\"start\":-1.4,\"end\":1.4,\"reset_start\":-1.4,\"reset_end\":1.4}},\"x_scale\":{\"type\":\"object\",\"name\":\"LinearScale\",\"id\":\"cfca3905-1ff0-428f-b1e4-7c207ffcc594\"},\"y_scale\":{\"type\":\"object\",\"name\":\"LinearScale\",\"id\":\"d254d1f6-abff-4266-a786-5a0bee3fe177\"},\"title\":{\"type\":\"object\",\"name\":\"Title\",\"id\":\"62e5c584-10e4-4741-be9b-08195ad8985f\",\"attributes\":{\"text\":\"User Flow as Chord Diagram\",\"text_color\":\"black\",\"text_font_size\":\"12pt\"}},\"outline_line_alpha\":0,\"renderers\":[{\"type\":\"object\",\"name\":\"GlyphRenderer\",\"id\":\"4fb71939-437b-49f8-942e-5ae3410ebe1e\",\"attributes\":{\"data_source\":{\"type\":\"object\",\"name\":\"ColumnDataSource\",\"id\":\"fd905cda-2595-4e85-ad9b-f2cc13b987ac\",\"attributes\":{\"selected\":{\"type\":\"object\",\"name\":\"Selection\",\"id\":\"9ed3b3d8-03ba-485d-823b-21dc10db1bd5\",\"attributes\":{\"indices\":[],\"line_indices\":[]}},\"selection_policy\":{\"type\":\"object\",\"name\":\"UnionRenderers\",\"id\":\"4b0ac9dc-6c8a-4d36-acf3-498be4f1cb47\"},\"data\":{\"type\":\"map\",\"entries\":[[\"index\",{\"type\":\"ndarray\",\"array\":{\"type\":\"bytes\",\"data\":\"AAAAAAEAAAACAAAAAwAAAAQAAAA=\"},\"shape\":[5],\"dtype\":\"int32\",\"order\":\"little\"}],[\"index_hover\",[\"add\",\"checkout\",\"disable\",\"modal\",\"uninstall\"]],[\"arc_xs\",[{\"type\":\"ndarray\",\"array\":{\"type\":\"bytes\",\"data\":\"AAAAAAAA8D9Lg+e23+jvP0NZsUigo+8/kidHzKUw7z+DBr5xlpDuP0wLIpJZxO0/rXMTYRbN7D+6wxhCMqzrP7OMDsROY+o/pX6fRUf06D/5GS1GLmHnPwAdCmdKrOU/lfRaIRPY4z+mYF01LefhP2EOfbDNuN8/zI8KTGd12z+JfNq6UArXPxwGutfsfdI/a96dP52tyz/iRA9kXzfCPw==\"},\"shape\":[20],\"dtype\":\"float64\",\"order\":\"little\"},{\"type\":\"ndarray\",\"array\":{\"type\":\"bytes\",\"data\":\"4kQPZF83wj/UZ8OpyMh+P2sAV/JST8C/vgE5yU+k0L9nNQXtG9PYv3f6uhvjRuC/k/RaIRPY47+QHEoLbgznvzokCiX21Om/+OnjIqYk7L8W7GYLrvDtv5EnR8ylMO+/j0P5jbTe77/DuhMOrPfvvzAqf4AXe++/H//ZsT1r7r+scxNhFs3svxc0EAIzqOq/hV8QVpsG6L+FWHd/nvTkvw==\"},\"shape\":[20],\"dtype\":\"float64\",\"order\":\"little\"},{\"type\":\"ndarray\",\"array\":{\"type\":\"bytes\",\"data\":\"hVh3f5705L+Cv4Lp78Xkv+L1EG30luS/zJIOuKxn5L/zVoJ5GTjkv9GkimE7COS/kvRaIRPY478eRDlroafjvzODe/LmduO/XvuEa+RF479ktMOLmhTjv4LUrQkK4+K/Av2+nDOx4r/sonX9F3/ivyxkUOW3TOK/zVjLDhQa4r+iYF01Lefhv1htdRUEtOG/ysh3bJmA4b8KWLv47Uzhvw==\"},\"shape\":[20],\"dtype\":\"float64\",\"order\":\"little\"},{\"type\":\"ndarray\",\"array\":{\"type\":\"bytes\",\"data\":\"Cli7+O1M4b/mBguPdJzdv57CzttuYdi/7wN1Pa3z0r/rjQBZ97zKv8TaNMngtb6/GXl8xavHnr/KSrlHHMSuP3iFVTkCK8M/fonxSRp9zj+nz1BI4MfUP0CDDzD1Jdo/WlDUgaBN3z/QWMsOFBriP9CSDrisZ+Q/I0qxVc+K5j9P32BcCX/oP9eYst1JQOo/OLc7/unK6z8TLO6OtBvtPw==\"},\"shape\":[20],\"dtype\":\"float64\",\"order\":\"little\"},{\"type\":\"ndarray\",\"array\":{\"type\":\"bytes\",\"data\":\"EyzujrQb7T9P7bP4iGbtPxwNYOGJre0/FuxmC67w7T8G0Om57C/uPx7/2bE9a+4/afYKO5mi7j/UlzMh+NXuPxgu3rRTBe8/kSdHzKUw7z/MairE6FfvPy8qf4AXe+8/VR4ibS2a7z/QEG5+JrXvP5WjwjH/y+8/jkP5jbTe7z/3NsgjRO3vP8O6Ew6s9+8/biQt8ur97z8AAAAAAADwPw==\"},\"shape\":[20],\"dtype\":\"float64\",\"order\":\"little\"}]],[\"arc_ys\",[{\"type\":\"ndarray\",\"array\":{\"type\":\"bytes\",\"data\":\"AAAAAAAAAACfTNOD5jizP3qFVTkCK8M/+/b4r9ydzD/3A3U9rfPSP63x9ZsHfdc/lxAp2m7k2z8r+1u4whHgP89Yyw4UGuI/06SKYTsI5D8Mv/JybtnlPw8+594Mi+c/DiCz5qMa6T+8m+v68YXqPzW3O/7pyus/ygtiPLbn7D9arhcRu9rtP2r2CjuZou4/1yqS1y8+7z/vQjgEnqzvPw==\"},\"shape\":[20],\"dtype\":\"float64\",\"order\":\"little\"},{\"type\":\"ndarray\",\"array\":{\"type\":\"bytes\",\"data\":\"70I4BJ6s7z/+DwHFxP/vP4wJvJc5ve8/3AW1yDPm7j84ldU9oX7tP51Z8xQUjes/ECCz5qMa6T8GP809wzLmP4jUrQkK4+I/8HvtDex13j9W1MCORJfWPwX3+K/cncw/ABsHQqIOtz/UAwz3oxSnv028Pc6k9sa/3rS23Fne07+bECnabuTbv1ZtdRUEtOG/RNcegv8i5b+jKDq7GS/ovw==\"},\"shape\":[20],\"dtype\":\"float64\",\"order\":\"little\"},{\"type\":\"ndarray\",\"array\":{\"type\":\"bytes\",\"data\":\"oyg6uxkv6L+X+4iZPlfov1XfYFwJf+i/UWxzcHmm6L/k7cFDjs3ov6Z+n0VH9Oi/ESCz5qMa6b8nzfmYo0DpvyKIyM9FZum/SWPO/4mL6b+IhBafb7Dpvz4kCiX21Om/0oZyCh356b9X8XrJ4xzqv9eYst1JQOq/tYwOxE5j6r+/m+v68YXqvxU0EAIzqOq/5D2uWhHK6r+68GSHjOvqvw==\"},\"shape\":[20],\"dtype\":\"float64\",\"order\":\"little\"},{\"type\":\"ndarray\",\"array\":{\"type\":\"bytes\",\"data\":\"uvBkh4zr6r/RevyzcF7sv+yrQ1NMlu2/hAa+cZaQ7r/khVk6Rkvvv/H5PTLXxO+/ZjUyYUz8778r2gRgMvHvv0NZsUigo++/zm1NhjcU77/iGyOFIkTuv30tskUSNe2/1Gql1zrp67+yjA7ETmPqv01sc3B5pui/wJxahli25r/p9RBt9Jbkvy1kUOW3TOK/Vg59sM2437+2EsfZKJbavw==\"},\"shape\":[20],\"dtype\":\"float64\",\"order\":\"little\"},{\"type\":\"ndarray\",\"array\":{\"type\":\"bytes\",\"data\":\"thLH2SiW2r8+3TsYbUTZv/LaaYln79e/WNTAjkSX1r8qW3fxMDzVv+S0ttxZ3tO/Hwa61+x90r/tgeG/FxvRv0DIdIURbM+/Cff4r9ydzL+oG/x27svJv1q8Pc6k9sa/Z0BWGV4exL8sSW4feUPBvzws0v2pzLy/KRsHQqIOt7/2EdNamk2xvwkEDPejFKe/DbrViSQWl78HXBQzJqaxvA==\"},\"shape\":[20],\"dtype\":\"float64\",\"order\":\"little\"}]],[\"node_color\",[\"add\",\"checkout\",\"disable\",\"modal\",\"uninstall\"]]]}}},\"view\":{\"type\":\"object\",\"name\":\"CDSView\",\"id\":\"2c7b075f-23e7-4685-8973-8809d057b337\",\"attributes\":{\"filter\":{\"type\":\"object\",\"name\":\"AllIndices\",\"id\":\"14ac3f95-d6de-4397-9341-b5c4b9ff8582\"}}},\"glyph\":{\"type\":\"object\",\"name\":\"MultiLine\",\"id\":\"21fe643a-3a6a-4aeb-9859-14ec8082e90a\",\"attributes\":{\"xs\":{\"type\":\"field\",\"field\":\"arc_xs\"},\"ys\":{\"type\":\"field\",\"field\":\"arc_ys\"},\"line_color\":{\"type\":\"field\",\"field\":\"node_color\",\"transform\":{\"type\":\"object\",\"name\":\"CategoricalColorMapper\",\"id\":\"e3d37c41-9b5a-4136-b76a-b6f8de2f99d9\",\"attributes\":{\"palette\":[\"#1f77b4\",\"#ff7f0e\",\"#2ca02c\",\"#d62728\",\"#9467bd\"],\"factors\":[\"add\",\"checkout\",\"disable\",\"modal\",\"uninstall\"]}}},\"line_width\":{\"type\":\"value\",\"value\":10}}},\"selection_glyph\":{\"type\":\"object\",\"name\":\"MultiLine\",\"id\":\"383c1449-4b26-471b-9fa6-f77b068aaa25\",\"attributes\":{\"xs\":{\"type\":\"field\",\"field\":\"arc_xs\"},\"ys\":{\"type\":\"field\",\"field\":\"arc_ys\"},\"line_color\":{\"type\":\"field\",\"field\":\"node_color\",\"transform\":{\"id\":\"e3d37c41-9b5a-4136-b76a-b6f8de2f99d9\"}},\"line_width\":{\"type\":\"value\",\"value\":10}}},\"nonselection_glyph\":{\"type\":\"object\",\"name\":\"MultiLine\",\"id\":\"ca438874-83ac-44f1-b517-7eb52e45123e\",\"attributes\":{\"xs\":{\"type\":\"field\",\"field\":\"arc_xs\"},\"ys\":{\"type\":\"field\",\"field\":\"arc_ys\"},\"line_color\":{\"type\":\"field\",\"field\":\"node_color\",\"transform\":{\"id\":\"e3d37c41-9b5a-4136-b76a-b6f8de2f99d9\"}},\"line_alpha\":{\"type\":\"value\",\"value\":0.2},\"line_width\":{\"type\":\"value\",\"value\":10}}},\"hover_glyph\":{\"type\":\"object\",\"name\":\"MultiLine\",\"id\":\"d005de2c-eff4-4148-bebb-ad87504c6ee2\",\"attributes\":{\"xs\":{\"type\":\"field\",\"field\":\"arc_xs\"},\"ys\":{\"type\":\"field\",\"field\":\"arc_ys\"},\"line_color\":{\"type\":\"value\",\"value\":\"limegreen\"},\"line_width\":{\"type\":\"value\",\"value\":10}}},\"muted_glyph\":{\"type\":\"object\",\"name\":\"MultiLine\",\"id\":\"912072a5-f360-42d4-a2a0-c93f32d245ef\",\"attributes\":{\"xs\":{\"type\":\"field\",\"field\":\"arc_xs\"},\"ys\":{\"type\":\"field\",\"field\":\"arc_ys\"},\"line_color\":{\"type\":\"field\",\"field\":\"node_color\",\"transform\":{\"id\":\"e3d37c41-9b5a-4136-b76a-b6f8de2f99d9\"}},\"line_alpha\":{\"type\":\"value\",\"value\":0.2},\"line_width\":{\"type\":\"value\",\"value\":10}}}}},{\"type\":\"object\",\"name\":\"GraphRenderer\",\"id\":\"4de299b5-767b-4485-854c-ef7ba584cae2\",\"attributes\":{\"layout_provider\":{\"type\":\"object\",\"name\":\"StaticLayoutProvider\",\"id\":\"6cad0056-fe43-4a5f-ab1c-b722154c00f4\",\"attributes\":{\"graph_layout\":{\"type\":\"map\",\"entries\":[[0,[0.7557495743542584,0.654860733945285]],[1,[-0.9096319953545184,0.4154150130018863]],[2,[-0.5992776665113471,-0.8005412409243603]],[3,[0.28173255684142934,-0.9594929736144975]],[4,[0.9771468659711596,-0.21256528955297635]]]}}},\"node_renderer\":{\"type\":\"object\",\"name\":\"GlyphRenderer\",\"id\":\"1cb53c64-a186-49e8-8fa2-b6561b2d03a4\",\"attributes\":{\"data_source\":{\"id\":\"fd905cda-2595-4e85-ad9b-f2cc13b987ac\"},\"view\":{\"id\":\"2c7b075f-23e7-4685-8973-8809d057b337\"},\"glyph\":{\"type\":\"object\",\"name\":\"Scatter\",\"id\":\"3b321ae4-af00-4754-ad49-fb0da32d464e\",\"attributes\":{\"size\":{\"type\":\"value\",\"value\":15},\"fill_color\":{\"type\":\"field\",\"field\":\"node_color\",\"transform\":{\"id\":\"e3d37c41-9b5a-4136-b76a-b6f8de2f99d9\"}},\"hatch_color\":{\"type\":\"field\",\"field\":\"node_color\",\"transform\":{\"id\":\"e3d37c41-9b5a-4136-b76a-b6f8de2f99d9\"}}}},\"selection_glyph\":{\"type\":\"object\",\"name\":\"Scatter\",\"id\":\"2f533236-2ad0-4ca4-9b18-b33714f70966\",\"attributes\":{\"size\":{\"type\":\"value\",\"value\":15},\"fill_color\":{\"type\":\"field\",\"field\":\"node_color\",\"transform\":{\"id\":\"e3d37c41-9b5a-4136-b76a-b6f8de2f99d9\"}},\"hatch_color\":{\"type\":\"field\",\"field\":\"node_color\",\"transform\":{\"id\":\"e3d37c41-9b5a-4136-b76a-b6f8de2f99d9\"}}}},\"nonselection_glyph\":{\"type\":\"object\",\"name\":\"Scatter\",\"id\":\"5742e278-d48e-4bb2-9644-65ca308a5580\",\"attributes\":{\"size\":{\"type\":\"value\",\"value\":15},\"line_alpha\":{\"type\":\"value\",\"value\":0.2},\"fill_color\":{\"type\":\"field\",\"field\":\"node_color\",\"transform\":{\"id\":\"e3d37c41-9b5a-4136-b76a-b6f8de2f99d9\"}},\"fill_alpha\":{\"type\":\"value\",\"value\":0.2},\"hatch_color\":{\"type\":\"field\",\"field\":\"node_color\",\"transform\":{\"id\":\"e3d37c41-9b5a-4136-b76a-b6f8de2f99d9\"}},\"hatch_alpha\":{\"type\":\"value\",\"value\":0.2}}},\"hover_glyph\":{\"type\":\"object\",\"name\":\"Scatter\",\"id\":\"a2f99755-f703-4085-9787-780ae82c075e\",\"attributes\":{\"size\":{\"type\":\"value\",\"value\":15},\"fill_color\":{\"type\":\"value\",\"value\":\"limegreen\"},\"hatch_color\":{\"type\":\"field\",\"field\":\"node_color\",\"transform\":{\"id\":\"e3d37c41-9b5a-4136-b76a-b6f8de2f99d9\"}}}},\"muted_glyph\":{\"type\":\"object\",\"name\":\"Scatter\",\"id\":\"72acd151-917f-476f-b0fa-0735a9523107\",\"attributes\":{\"size\":{\"type\":\"value\",\"value\":15},\"line_alpha\":{\"type\":\"value\",\"value\":0.2},\"fill_color\":{\"type\":\"field\",\"field\":\"node_color\",\"transform\":{\"id\":\"e3d37c41-9b5a-4136-b76a-b6f8de2f99d9\"}},\"fill_alpha\":{\"type\":\"value\",\"value\":0.2},\"hatch_color\":{\"type\":\"field\",\"field\":\"node_color\",\"transform\":{\"id\":\"e3d37c41-9b5a-4136-b76a-b6f8de2f99d9\"}},\"hatch_alpha\":{\"type\":\"value\",\"value\":0.2}}}}},\"edge_renderer\":{\"type\":\"object\",\"name\":\"GlyphRenderer\",\"id\":\"f36460a1-9170-4799-8bdb-f623eb44ac62\",\"attributes\":{\"data_source\":{\"type\":\"object\",\"name\":\"ColumnDataSource\",\"id\":\"faaf3534-5509-4176-adee-e85250027fa2\",\"attributes\":{\"selected\":{\"type\":\"object\",\"name\":\"Selection\",\"id\":\"1060e17b-43f9-4329-9808-48f765aab18b\",\"attributes\":{\"indices\":[],\"line_indices\":[]}},\"selection_policy\":{\"type\":\"object\",\"name\":\"UnionRenderers\",\"id\":\"ab12e9b4-3406-4c72-b51d-55b3334a2adc\"},\"data\":{\"type\":\"map\",\"entries\":[[\"start\",{\"type\":\"ndarray\",\"array\":{\"type\":\"bytes\",\"data\":\"AQAAAAEAAAADAAAAAAAAAAAAAAABAAAAAAAAAAEAAAADAAAA\"},\"shape\":[9],\"dtype\":\"int32\",\"order\":\"little\"}],[\"end\",{\"type\":\"ndarray\",\"array\":{\"type\":\"bytes\",\"data\":\"AwAAAAMAAAACAAAAAQAAAAEAAAADAAAAAQAAAAMAAAAEAAAA\"},\"shape\":[9],\"dtype\":\"int32\",\"order\":\"little\"}],[\"xs\",[{\"type\":\"ndarray\",\"array\":{\"type\":\"bytes\",\"data\":\"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\"},\"shape\":[407],\"dtype\":\"float64\",\"order\":\"little\"},{\"type\":\"ndarray\",\"array\":{\"type\":\"bytes\",\"data\":\"V3GfvHIH7r+twOiBrRztvxZqCpAkM+y/vBOdigRL67/LYzkVemTqv3IAeNOxf+m/2o/xaNic6L82uD55Grznv6wf+Kek3ea/amy2mKMB5r+fRBLvQyjlv3ZOpE6yUeS/GzAFWxt+47+/j823q63iv4kTlgiQ4OG/qWH38PQW4b9KIIoUB1HgvzLrzS3mHd+/hg9NN8uh3b/n+cKMFi7cv7H2YHUhw9q/PlJYOEVh2b/nWNoc2wjYvwNXGGo8uta/65hDZ8J11b/6ao1bxjvUv4oZJ46hDNO/8vBBRq3o0b+OPQ/LQtDQv2eXgMd2h8+/gM8Mr+CGzb8RvCXbdZ/Lv9L1Ldro0cm/dBWIOuweyL+rs5aKMofGvytpvFhuC8W/oM5bM1Ksw7/CfNeokGrCv0EMkkfcRsG/0xXunedBwL9MZJx0yri+v97zKVYPLr2/wAtK/QLlu79X3cGGCt+6vwqaVg+LHbq/PHPNs+mhub9TmuuQi225v7NAdsPVgbm/wpcyaC3gub/l0OWb94m6vwAAAAAAAPh/wwz8ymQF7L+pH1WvIivrv5laqmSiU+q/e1wfBAV/6b8zxNema63ov6sw92X33ue/x0ChWskT5791k/mdAkzmv5fHI0nEh+W/FnxDdS/H5L/YT3w7ZQrkv8fh8bSGUeO/ydDH+rSc4r/IuyEmEezhv6lBI1C8P+G/VAHwkdeX4L9dM1cJCOnfv0VT84LFq96/LaD7wil43b/kV7f7dk7cvzu4bV/vLtu/AP9lINUZ2r8Daudwag/Zvw43OYPxD9i/9KOiiawb17+C7mq23TLWv4pU2TvHVdW/2BM1TKuE1L89asUZzL/Tv4WV0dZrB9O/g9Ogtcxb0r8CYnroML3Rv9J+paHaK9G/xGdpEwyo0L+lWg1wBzLQv4sqsdMdlM+/5KokZsngzr/2sQP8lUrOv2C73PkH0s2/vkI+xKN3zb+uw7a/7TvNv8251FBqH82/vKAm3J0izb8U9DrGDEbNv3gvoHM7is2/g87kSK7vzb/UTJeq6XbOvwgmRv1xIM+/vdV/pcvsz7/Ja+mDPW7QvwAAAAAAAPh/LS4heahf6b8jtYHx45rov++XurtV2ue/pVEQqhIe579VXceOL2bmvxM2JDzBsuW/8lZrhNwD5b8IO+E5llnkv2Jdyi4DtOO/FjlrNTgT4783SQggSnfiv9cI5sBN4OG/CfNI6ldO4b/jgnVufcHgv3MzsB/TOeC/n/96oNtu378RxsOkxHTev2Sww/CKhd2/vLQDKVih3L9EyQzyVcjbvxzkZ/Ct+tq/b/udyIk42r9gBTgfE4LZvxP4vphz19i/ssm72dQ42L9ccLeGYKbXvz3iOkRAINe/eRXPtp2m1r80AP2CojnWv5aYTU142dW/xNRJukiG1b/iqnpuPUDVvxcRaQ6AB9W/iv2dPjrc1L9fZqKjlb7Uv75B/+G7rtS/yIU9ntas1L+oKOZ8D7nUv4AggiKQ09S/eGOaM4L81L+257dUDzTVv12jYyphetW/lYwmWaHP1b+CmYmF+TPWv0vAFVSTp9a/GPdTaZgq178KNM1pMr3Xv0ltCvqKX9i/+5iUvssR2b9GrfRbHtTZvwAAAAAAAPh/QwfnrLQl5r9KKAth6nrlv5nmftmw1eS/KiPFLxA25L/2vmB9EJzjv/ua1Nu5B+O/MZijZBR54r+Wl1AxKPDhvyF6Xlv9bOG/zyBQ/Jvv4L+abKgtDHjgv3w+6ghWBuC/5O4wTwM137/v8GtGLmnevwhFiyo9qd2/KK2ULkD13L9B642FR03cv0zBfGJjsdu/PfFm+KMh278LPVJ6GZ7av6xmRBvUJtq/FjBDDuS72b88W1SGWV3ZvxSqfbZEC9m/lN7E0bXF2L+yui8LvYzYv2MAxJVqYNi/nnGHpM5A2L9X0H9q+S3Yv4Leshr7J9i/GF4m6OMu2L8MEeAFxELYv1W55aarY9i/6Bg9/qqR2L+68es+0szYv8IF+JsxFdm/9BZnSNlq2b9H5z532c3Zv684hVtCPtq/I80/KCS82r+WZnQQj0fbvwLHKEeT4Nu/WLBi/0CH3L+Q5CdsqDvdv54lfsDZ/d2/ejVrL+XN3r8Y1vTr2qvfv7ZkkJTlS+C/t2j6DOPI4L8KWLv47Uzhvw==\"},\"shape\":[203],\"dtype\":\"float64\",\"order\":\"little\"},{\"type\":\"ndarray\",\"array\":{\"type\":\"bytes\",\"data\":\"\"},\"shape\":[0],\"dtype\":\"float64\",\"order\":\"little\"},{\"type\":\"ndarray\",\"array\":{\"type\":\"bytes\",\"data\":\"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\"},\"shape\":[305],\"dtype\":\"float64\",\"order\":\"little\"},{\"type\":\"ndarray\",\"array\":{\"type\":\"bytes\",\"data\":\"\"},\"shape\":[0],\"dtype\":\"float64\",\"order\":\"little\"},{\"type\":\"ndarray\",\"array\":{\"type\":\"bytes\",\"data\":\"\"},\"shape\":[0],\"dtype\":\"float64\",\"order\":\"little\"},{\"type\":\"ndarray\",\"array\":{\"type\":\"bytes\",\"data\":\"\"},\"shape\":[0],\"dtype\":\"float64\",\"order\":\"little\"},{\"type\":\"ndarray\",\"array\":{\"type\":\"bytes\",\"data\":\"\"},\"shape\":[0],\"dtype\":\"float64\",\"order\":\"little\"},{\"type\":\"ndarray\",\"array\":{\"type\":\"bytes\",\"data\":\"\"},\"shape\":[0],\"dtype\":\"float64\",\"order\":\"little\"}]],[\"ys\",[{\"type\":\"ndarray\",\"array\":{\"type\":\"bytes\",\"data\":\"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\"},\"shape\":[407],\"dtype\":\"float64\",\"order\":\"little\"},{\"type\":\"ndarray\",\"array\":{\"type\":\"bytes\",\"data\":\"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\"},\"shape\":[203],\"dtype\":\"float64\",\"order\":\"little\"},{\"type\":\"ndarray\",\"array\":{\"type\":\"bytes\",\"data\":\"\"},\"shape\":[0],\"dtype\":\"float64\",\"order\":\"little\"},{\"type\":\"ndarray\",\"array\":{\"type\":\"bytes\",\"data\":\"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\"},\"shape\":[305],\"dtype\":\"float64\",\"order\":\"little\"},{\"type\":\"ndarray\",\"array\":{\"type\":\"bytes\",\"data\":\"\"},\"shape\":[0],\"dtype\":\"float64\",\"order\":\"little\"},{\"type\":\"ndarray\",\"array\":{\"type\":\"bytes\",\"data\":\"\"},\"shape\":[0],\"dtype\":\"float64\",\"order\":\"little\"},{\"type\":\"ndarray\",\"array\":{\"type\":\"bytes\",\"data\":\"\"},\"shape\":[0],\"dtype\":\"float64\",\"order\":\"little\"},{\"type\":\"ndarray\",\"array\":{\"type\":\"bytes\",\"data\":\"\"},\"shape\":[0],\"dtype\":\"float64\",\"order\":\"little\"},{\"type\":\"ndarray\",\"array\":{\"type\":\"bytes\",\"data\":\"\"},\"shape\":[0],\"dtype\":\"float64\",\"order\":\"little\"}]],[\"edge_color\",{\"type\":\"ndarray\",\"array\":[\"checkout\",\"checkout\",\"modal\",\"add\",\"add\",\"checkout\",\"add\",\"checkout\",\"modal\"],\"shape\":[9],\"dtype\":\"object\",\"order\":\"little\"}]]}}},\"view\":{\"type\":\"object\",\"name\":\"CDSView\",\"id\":\"2bb8bf92-840c-4c97-808f-7b45b36a067d\",\"attributes\":{\"filter\":{\"type\":\"object\",\"name\":\"AllIndices\",\"id\":\"2674bca4-2e60-47db-ac6f-2e684d63daa3\"}}},\"glyph\":{\"type\":\"object\",\"name\":\"MultiLine\",\"id\":\"0ed776b1-6277-4d55-ad5f-88d47d316ff5\",\"attributes\":{\"xs\":{\"type\":\"field\",\"field\":\"xs\"},\"ys\":{\"type\":\"field\",\"field\":\"ys\"},\"line_color\":{\"type\":\"field\",\"field\":\"edge_color\",\"transform\":{\"type\":\"object\",\"name\":\"CategoricalColorMapper\",\"id\":\"eba7a0e4-9b15-4707-88ea-768fa8547829\",\"attributes\":{\"palette\":[\"#1f77b4\",\"#ff7f0e\",\"#2ca02c\",\"#d62728\",\"#9467bd\"],\"factors\":[\"add\",\"checkout\",\"disable\",\"modal\",\"uninstall\"]}}},\"line_width\":{\"type\":\"value\",\"value\":0.5}}},\"selection_glyph\":{\"type\":\"object\",\"name\":\"MultiLine\",\"id\":\"e634b7a6-d068-4328-8276-961b833fce2f\",\"attributes\":{\"xs\":{\"type\":\"field\",\"field\":\"xs\"},\"ys\":{\"type\":\"field\",\"field\":\"ys\"},\"line_color\":{\"type\":\"field\",\"field\":\"edge_color\",\"transform\":{\"id\":\"eba7a0e4-9b15-4707-88ea-768fa8547829\"}},\"line_width\":{\"type\":\"value\",\"value\":0.5}}},\"nonselection_glyph\":{\"type\":\"object\",\"name\":\"MultiLine\",\"id\":\"7a0bde79-b784-497b-9d5e-489176e16e73\",\"attributes\":{\"xs\":{\"type\":\"field\",\"field\":\"xs\"},\"ys\":{\"type\":\"field\",\"field\":\"ys\"},\"line_color\":{\"type\":\"field\",\"field\":\"edge_color\",\"transform\":{\"id\":\"eba7a0e4-9b15-4707-88ea-768fa8547829\"}},\"line_alpha\":{\"type\":\"value\",\"value\":0.1},\"line_width\":{\"type\":\"value\",\"value\":0.5}}},\"hover_glyph\":{\"type\":\"object\",\"name\":\"MultiLine\",\"id\":\"f5c0fbe1-9b4c-483e-876a-f758458dfcca\",\"attributes\":{\"xs\":{\"type\":\"field\",\"field\":\"xs\"},\"ys\":{\"type\":\"field\",\"field\":\"ys\"},\"line_color\":{\"type\":\"value\",\"value\":\"limegreen\"},\"line_width\":{\"type\":\"value\",\"value\":0.5}}},\"muted_glyph\":{\"type\":\"object\",\"name\":\"MultiLine\",\"id\":\"a1b66575-f311-43d0-8875-d1b4d2ee290e\",\"attributes\":{\"xs\":{\"type\":\"field\",\"field\":\"xs\"},\"ys\":{\"type\":\"field\",\"field\":\"ys\"},\"line_color\":{\"type\":\"field\",\"field\":\"edge_color\",\"transform\":{\"id\":\"eba7a0e4-9b15-4707-88ea-768fa8547829\"}},\"line_alpha\":{\"type\":\"value\",\"value\":0.2},\"line_width\":{\"type\":\"value\",\"value\":0.5}}}}},\"selection_policy\":{\"type\":\"object\",\"name\":\"NodesAndLinkedEdges\",\"id\":\"c5649ccd-d3d5-4abc-9d1a-3bb39e186158\"},\"inspection_policy\":{\"type\":\"object\",\"name\":\"NodesAndLinkedEdges\",\"id\":\"040a1dda-d624-4c61-a631-42c524471c10\"}}}],\"toolbar\":{\"type\":\"object\",\"name\":\"Toolbar\",\"id\":\"fd6ce18f-8a2b-4add-b5d9-8915b3986260\",\"attributes\":{\"tools\":[{\"type\":\"object\",\"name\":\"WheelZoomTool\",\"id\":\"1a0154d3-1c54-4b1a-a8ae-0f2dde1f1036\",\"attributes\":{\"tags\":[\"hv_created\"],\"renderers\":\"auto\",\"zoom_together\":\"none\"}},{\"type\":\"object\",\"name\":\"HoverTool\",\"id\":\"0bc00181-5961-46ce-bef3-e2268b4956e0\",\"attributes\":{\"tags\":[\"hv_created\"],\"renderers\":[{\"id\":\"4fb71939-437b-49f8-942e-5ae3410ebe1e\"},{\"id\":\"4de299b5-767b-4485-854c-ef7ba584cae2\"}],\"tooltips\":[[\"index\",\"@{index_hover}\"]]}},{\"type\":\"object\",\"name\":\"SaveTool\",\"id\":\"1cc67e3d-7e28-4c1f-a755-dfae5cf2f329\"},{\"type\":\"object\",\"name\":\"PanTool\",\"id\":\"4e9bda34-2773-44e5-bb17-39a48a55f62f\"},{\"type\":\"object\",\"name\":\"BoxZoomTool\",\"id\":\"b0b0302f-3c18-4e3e-8d56-38d062e2d587\",\"attributes\":{\"dimensions\":\"both\",\"overlay\":{\"type\":\"object\",\"name\":\"BoxAnnotation\",\"id\":\"3af78511-d9fe-40f7-b44c-1d205456db9a\",\"attributes\":{\"syncable\":false,\"line_color\":\"black\",\"line_alpha\":1.0,\"line_width\":2,\"line_dash\":[4,4],\"fill_color\":\"lightgrey\",\"fill_alpha\":0.5,\"level\":\"overlay\",\"visible\":false,\"left\":{\"type\":\"number\",\"value\":\"nan\"},\"right\":{\"type\":\"number\",\"value\":\"nan\"},\"top\":{\"type\":\"number\",\"value\":\"nan\"},\"bottom\":{\"type\":\"number\",\"value\":\"nan\"},\"left_units\":\"canvas\",\"right_units\":\"canvas\",\"top_units\":\"canvas\",\"bottom_units\":\"canvas\",\"handles\":{\"type\":\"object\",\"name\":\"BoxInteractionHandles\",\"id\":\"bab7a7ac-80b2-42a6-ade8-add779f1574d\",\"attributes\":{\"all\":{\"type\":\"object\",\"name\":\"AreaVisuals\",\"id\":\"05fa819d-a1f7-40a1-b078-95cad0895a37\",\"attributes\":{\"fill_color\":\"white\",\"hover_fill_color\":\"lightgray\"}}}}}}}},{\"type\":\"object\",\"name\":\"ResetTool\",\"id\":\"5b6579af-05e5-4c00-a38c-38c3c5a91bfa\"},{\"type\":\"object\",\"name\":\"TapTool\",\"id\":\"4cf0ba5f-7a91-45ec-af72-4a30a90ce30d\",\"attributes\":{\"renderers\":\"auto\"}}],\"active_drag\":{\"id\":\"4e9bda34-2773-44e5-bb17-39a48a55f62f\"},\"active_scroll\":{\"id\":\"1a0154d3-1c54-4b1a-a8ae-0f2dde1f1036\"}}},\"left\":[{\"type\":\"object\",\"name\":\"LinearAxis\",\"id\":\"ad5ff3e5-f358-473c-b8a8-08b2ec872dee\",\"attributes\":{\"visible\":false,\"ticker\":{\"type\":\"object\",\"name\":\"BasicTicker\",\"id\":\"8fe67e41-d9fc-4892-bece-e79c3149a606\",\"attributes\":{\"mantissas\":[1,2,5]}},\"formatter\":{\"type\":\"object\",\"name\":\"BasicTickFormatter\",\"id\":\"5ac92456-0f1f-42fb-a03f-24c269340732\"},\"axis_label\":\"y\",\"major_label_policy\":{\"type\":\"object\",\"name\":\"AllLabels\",\"id\":\"f9a86ea4-f656-4238-89d3-085fa2ea361c\"}}}],\"below\":[{\"type\":\"object\",\"name\":\"LinearAxis\",\"id\":\"2b427e62-4839-4d35-8c60-0a4f84b5e35e\",\"attributes\":{\"visible\":false,\"ticker\":{\"type\":\"object\",\"name\":\"BasicTicker\",\"id\":\"f07decff-60f4-4016-8a60-b80f33402a74\",\"attributes\":{\"mantissas\":[1,2,5]}},\"formatter\":{\"type\":\"object\",\"name\":\"BasicTickFormatter\",\"id\":\"a036caba-a129-4bee-ac97-7264bd70c828\"},\"axis_label\":\"x\",\"major_label_policy\":{\"type\":\"object\",\"name\":\"AllLabels\",\"id\":\"071c5b58-5976-45e2-baf2-6d05d887ed33\"}}}],\"center\":[{\"type\":\"object\",\"name\":\"Grid\",\"id\":\"24c26a2a-968a-4285-b629-c8955a18c114\",\"attributes\":{\"axis\":{\"id\":\"2b427e62-4839-4d35-8c60-0a4f84b5e35e\"},\"grid_line_color\":null}},{\"type\":\"object\",\"name\":\"Grid\",\"id\":\"e7908599-a704-4c03-ba2a-50fe55966865\",\"attributes\":{\"dimension\":1,\"axis\":{\"id\":\"ad5ff3e5-f358-473c-b8a8-08b2ec872dee\"},\"grid_line_color\":null}}],\"min_border_top\":10,\"min_border_bottom\":10,\"min_border_left\":10,\"min_border_right\":10,\"output_backend\":\"webgl\"}},{\"type\":\"object\",\"name\":\"Spacer\",\"id\":\"7eca2b20-fd44-4cce-af36-b0b59ccf57b7\",\"attributes\":{\"name\":\"HSpacer00375\",\"stylesheets\":[\"\\n:host(.pn-loading):before, .pn-loading:before {\\n  background-color: #c3c3c3;\\n  mask-size: auto calc(min(50%, 400px));\\n  -webkit-mask-size: auto calc(min(50%, 400px));\\n}\",{\"id\":\"6812e1e3-4fa7-4bb4-8bed-98390e1ed74d\"},{\"id\":\"78551cea-28df-4cda-88d2-36477ef1e45c\"},{\"id\":\"4f90431a-b670-48f7-a0a2-feb418ff5db0\"}],\"margin\":0,\"sizing_mode\":\"stretch_width\",\"align\":\"start\"}}]}}],\"defs\":[{\"type\":\"model\",\"name\":\"ReactiveHTML1\"},{\"type\":\"model\",\"name\":\"FlexBox1\",\"properties\":[{\"name\":\"align_content\",\"kind\":\"Any\",\"default\":\"flex-start\"},{\"name\":\"align_items\",\"kind\":\"Any\",\"default\":\"flex-start\"},{\"name\":\"flex_direction\",\"kind\":\"Any\",\"default\":\"row\"},{\"name\":\"flex_wrap\",\"kind\":\"Any\",\"default\":\"wrap\"},{\"name\":\"gap\",\"kind\":\"Any\",\"default\":\"\"},{\"name\":\"justify_content\",\"kind\":\"Any\",\"default\":\"flex-start\"}]},{\"type\":\"model\",\"name\":\"FloatPanel1\",\"properties\":[{\"name\":\"config\",\"kind\":\"Any\",\"default\":{\"type\":\"map\"}},{\"name\":\"contained\",\"kind\":\"Any\",\"default\":true},{\"name\":\"position\",\"kind\":\"Any\",\"default\":\"right-top\"},{\"name\":\"offsetx\",\"kind\":\"Any\",\"default\":null},{\"name\":\"offsety\",\"kind\":\"Any\",\"default\":null},{\"name\":\"theme\",\"kind\":\"Any\",\"default\":\"primary\"},{\"name\":\"status\",\"kind\":\"Any\",\"default\":\"normalized\"}]},{\"type\":\"model\",\"name\":\"GridStack1\",\"properties\":[{\"name\":\"ncols\",\"kind\":\"Any\",\"default\":null},{\"name\":\"nrows\",\"kind\":\"Any\",\"default\":null},{\"name\":\"allow_resize\",\"kind\":\"Any\",\"default\":true},{\"name\":\"allow_drag\",\"kind\":\"Any\",\"default\":true},{\"name\":\"state\",\"kind\":\"Any\",\"default\":[]}]},{\"type\":\"model\",\"name\":\"drag1\",\"properties\":[{\"name\":\"slider_width\",\"kind\":\"Any\",\"default\":5},{\"name\":\"slider_color\",\"kind\":\"Any\",\"default\":\"black\"},{\"name\":\"value\",\"kind\":\"Any\",\"default\":50}]},{\"type\":\"model\",\"name\":\"click1\",\"properties\":[{\"name\":\"terminal_output\",\"kind\":\"Any\",\"default\":\"\"},{\"name\":\"debug_name\",\"kind\":\"Any\",\"default\":\"\"},{\"name\":\"clears\",\"kind\":\"Any\",\"default\":0}]},{\"type\":\"model\",\"name\":\"FastWrapper1\",\"properties\":[{\"name\":\"object\",\"kind\":\"Any\",\"default\":null},{\"name\":\"style\",\"kind\":\"Any\",\"default\":null}]},{\"type\":\"model\",\"name\":\"NotificationArea1\",\"properties\":[{\"name\":\"js_events\",\"kind\":\"Any\",\"default\":{\"type\":\"map\"}},{\"name\":\"max_notifications\",\"kind\":\"Any\",\"default\":5},{\"name\":\"notifications\",\"kind\":\"Any\",\"default\":[]},{\"name\":\"position\",\"kind\":\"Any\",\"default\":\"bottom-right\"},{\"name\":\"_clear\",\"kind\":\"Any\",\"default\":0},{\"name\":\"types\",\"kind\":\"Any\",\"default\":[{\"type\":\"map\",\"entries\":[[\"type\",\"warning\"],[\"background\",\"#ffc107\"],[\"icon\",{\"type\":\"map\",\"entries\":[[\"className\",\"fas fa-exclamation-triangle\"],[\"tagName\",\"i\"],[\"color\",\"white\"]]}]]},{\"type\":\"map\",\"entries\":[[\"type\",\"info\"],[\"background\",\"#007bff\"],[\"icon\",{\"type\":\"map\",\"entries\":[[\"className\",\"fas fa-info-circle\"],[\"tagName\",\"i\"],[\"color\",\"white\"]]}]]}]}]},{\"type\":\"model\",\"name\":\"Notification\",\"properties\":[{\"name\":\"background\",\"kind\":\"Any\",\"default\":null},{\"name\":\"duration\",\"kind\":\"Any\",\"default\":3000},{\"name\":\"icon\",\"kind\":\"Any\",\"default\":null},{\"name\":\"message\",\"kind\":\"Any\",\"default\":\"\"},{\"name\":\"notification_type\",\"kind\":\"Any\",\"default\":null},{\"name\":\"_rendered\",\"kind\":\"Any\",\"default\":false},{\"name\":\"_destroyed\",\"kind\":\"Any\",\"default\":false}]},{\"type\":\"model\",\"name\":\"TemplateActions1\",\"properties\":[{\"name\":\"open_modal\",\"kind\":\"Any\",\"default\":0},{\"name\":\"close_modal\",\"kind\":\"Any\",\"default\":0}]},{\"type\":\"model\",\"name\":\"BootstrapTemplateActions1\",\"properties\":[{\"name\":\"open_modal\",\"kind\":\"Any\",\"default\":0},{\"name\":\"close_modal\",\"kind\":\"Any\",\"default\":0}]},{\"type\":\"model\",\"name\":\"TemplateEditor1\",\"properties\":[{\"name\":\"layout\",\"kind\":\"Any\",\"default\":[]}]},{\"type\":\"model\",\"name\":\"MaterialTemplateActions1\",\"properties\":[{\"name\":\"open_modal\",\"kind\":\"Any\",\"default\":0},{\"name\":\"close_modal\",\"kind\":\"Any\",\"default\":0}]},{\"type\":\"model\",\"name\":\"ReactiveESM1\",\"properties\":[{\"name\":\"esm_constants\",\"kind\":\"Any\",\"default\":{\"type\":\"map\"}}]},{\"type\":\"model\",\"name\":\"JSComponent1\",\"properties\":[{\"name\":\"esm_constants\",\"kind\":\"Any\",\"default\":{\"type\":\"map\"}}]},{\"type\":\"model\",\"name\":\"ReactComponent1\",\"properties\":[{\"name\":\"esm_constants\",\"kind\":\"Any\",\"default\":{\"type\":\"map\"}}]},{\"type\":\"model\",\"name\":\"AnyWidgetComponent1\",\"properties\":[{\"name\":\"esm_constants\",\"kind\":\"Any\",\"default\":{\"type\":\"map\"}}]},{\"type\":\"model\",\"name\":\"request_value1\",\"properties\":[{\"name\":\"fill\",\"kind\":\"Any\",\"default\":\"none\"},{\"name\":\"_synced\",\"kind\":\"Any\",\"default\":null},{\"name\":\"_request_sync\",\"kind\":\"Any\",\"default\":0}]}]}};\n",
       "  var render_items = [{\"docid\":\"54d79192-cd55-4348-b287-b5a7244cf595\",\"roots\":{\"ed9d14a8-15e5-4c3f-938a-9795adbc6a00\":\"f4f2d8af-428e-4c45-85e6-99fcb220fba7\"},\"root_ids\":[\"ed9d14a8-15e5-4c3f-938a-9795adbc6a00\"]}];\n",
       "  var docs = Object.values(docs_json)\n",
       "  if (!docs) {\n",
       "    return\n",
       "  }\n",
       "  const py_version = docs[0].version.replace('rc', '-rc.').replace('.dev', '-dev.')\n",
       "  async function embed_document(root) {\n",
       "    var Bokeh = get_bokeh(root)\n",
       "    await Bokeh.embed.embed_items_notebook(docs_json, render_items);\n",
       "    for (const render_item of render_items) {\n",
       "      for (const root_id of render_item.root_ids) {\n",
       "\tconst id_el = document.getElementById(root_id)\n",
       "\tif (id_el.children.length && id_el.children[0].hasAttribute('data-root-id')) {\n",
       "\t  const root_el = id_el.children[0]\n",
       "\t  root_el.id = root_el.id + '-rendered'\n",
       "\t  for (const child of root_el.children) {\n",
       "            // Ensure JupyterLab does not capture keyboard shortcuts\n",
       "            // see: https://jupyterlab.readthedocs.io/en/4.1.x/extension/notebook.html#keyboard-interaction-model\n",
       "\t    child.setAttribute('data-lm-suppress-shortcuts', 'true')\n",
       "\t  }\n",
       "\t}\n",
       "      }\n",
       "    }\n",
       "  }\n",
       "  function get_bokeh(root) {\n",
       "    if (root.Bokeh === undefined) {\n",
       "      return null\n",
       "    } else if (root.Bokeh.version !== py_version) {\n",
       "      if (root.Bokeh.versions === undefined || !root.Bokeh.versions.has(py_version)) {\n",
       "\treturn null\n",
       "      }\n",
       "      return root.Bokeh.versions.get(py_version);\n",
       "    } else if (root.Bokeh.version === py_version) {\n",
       "      return root.Bokeh\n",
       "    }\n",
       "    return null\n",
       "  }\n",
       "  function is_loaded(root) {\n",
       "    var Bokeh = get_bokeh(root)\n",
       "    return (Bokeh != null && Bokeh.Panel !== undefined)\n",
       "  }\n",
       "  if (is_loaded(root)) {\n",
       "    embed_document(root);\n",
       "  } else {\n",
       "    var attempts = 0;\n",
       "    var timer = setInterval(function(root) {\n",
       "      if (is_loaded(root)) {\n",
       "        clearInterval(timer);\n",
       "        embed_document(root);\n",
       "      } else if (document.readyState == \"complete\") {\n",
       "        attempts++;\n",
       "        if (attempts > 200) {\n",
       "          clearInterval(timer);\n",
       "\t  var Bokeh = get_bokeh(root)\n",
       "\t  if (Bokeh == null || Bokeh.Panel == null) {\n",
       "            console.warn(\"Panel: ERROR: Unable to run Panel code because Bokeh or Panel library is missing\");\n",
       "\t  } else {\n",
       "\t    console.warn(\"Panel: WARNING: Attempting to render but not all required libraries could be resolved.\")\n",
       "\t    embed_document(root)\n",
       "\t  }\n",
       "        }\n",
       "      }\n",
       "    }, 25, root)\n",
       "  }\n",
       "})(window);</script>"
      ],
      "text/plain": [
       ":Chord   [source,target]   (value)"
      ]
     },
     "execution_count": 103,
     "metadata": {
      "application/vnd.holoviews_exec.v0+json": {
       "id": "ed9d14a8-15e5-4c3f-938a-9795adbc6a00"
      }
     },
     "output_type": "execute_result"
    }
   ],
   "source": [
    "# Create an alluvial/chord diagram using matplotlib\n",
    "\n",
    "# Try to install holoviews and bokeh if not available\n",
    "try:\n",
    "    import holoviews as hv\n",
    "    from holoviews import opts\n",
    "    from bokeh.plotting import show\n",
    "except ImportError:\n",
    "    print(\"Installing holoviews and bokeh packages...\")\n",
    "    !pip install holoviews bokeh\n",
    "    import holoviews as hv\n",
    "    from holoviews import opts\n",
    "    from bokeh.plotting import show\n",
    "\n",
    "# Initialize HoloViews extension\n",
    "hv.extension('bokeh')\n",
    "\n",
    "# Prepare data for the chord diagram\n",
    "links = []\n",
    "for path, count in path_counts.items():\n",
    "    if count > 0:  # Only consider paths that have occurred\n",
    "        steps = path.split('_')\n",
    "        for i in range(len(steps)-1):\n",
    "            # Add link from current step to next step\n",
    "            links.append((steps[i], steps[i+1], count))\n",
    "\n",
    "# Convert to DataFrame\n",
    "chord_data = pd.DataFrame(links, columns=['source', 'target', 'value'])\n",
    "\n",
    "# Create the chord diagram\n",
    "chord = hv.Chord(chord_data)\n",
    "\n",
    "# Configure the appearance\n",
    "chord = chord.opts(\n",
    "    opts.Chord(\n",
    "        cmap='Category10', edge_color='source', node_color='index',\n",
    "        edge_cmap='Category10', labels='name', node_size=15,\n",
    "        edge_line_width=0.5, label_text_font_size='8pt',\n",
    "        title='User Flow as Chord Diagram'\n",
    "    )\n",
    ")\n",
    "\n",
    "# Display the chord diagram\n",
    "chord\n"
   ]
  },
  {
   "cell_type": "code",
   "execution_count": 104,
   "id": "4363bbb6",
   "metadata": {},
   "outputs": [
    {
     "data": {
      "application/vnd.plotly.v1+json": {
       "config": {
        "plotlyServerURL": "https://plot.ly"
       },
       "data": [
        {
         "domain": {
          "x": [
           0,
           1
          ],
          "y": [
           0,
           1
          ]
         },
         "hovertemplate": "name=%{label}<br>value=%{value}<br>parent=%{parent}<br>id=%{id}<extra></extra>",
         "ids": [
          "add",
          "checkout",
          "checkout",
          "checkout_modal",
          "checkout",
          "checkout_modal",
          "checkout_modal_disable",
          "add",
          "add_checkout",
          "add",
          "add_checkout",
          "add_checkout_modal",
          "add",
          "add_checkout",
          "add_checkout_modal",
          "add_checkout_modal_uninstall"
         ],
         "labels": [
          null,
          null,
          null,
          "modal",
          null,
          "modal",
          "disable",
          null,
          "checkout",
          null,
          "checkout",
          "modal",
          null,
          "checkout",
          "modal",
          "uninstall"
         ],
         "name": "",
         "parents": [
          "",
          "",
          "",
          "checkout",
          "",
          "checkout",
          "checkout_modal",
          "",
          "add",
          "",
          "add",
          "add_checkout",
          "",
          "add",
          "add_checkout",
          "add_checkout_modal"
         ],
         "type": "sunburst",
         "values": {
          "bdata": "AQkCAgEBAQUFAgICAwMDAw==",
          "dtype": "i1"
         }
        }
       ],
       "layout": {
        "height": 700,
        "legend": {
         "tracegroupgap": 0
        },
        "margin": {
         "b": 0,
         "l": 0,
         "r": 0,
         "t": 60
        },
        "sunburstcolorway": [
         "#2E91E5",
         "#E15F99",
         "#1CA71C",
         "#FB0D0D",
         "#DA16FF",
         "#222A2A",
         "#B68100",
         "#750D86",
         "#EB663B",
         "#511CFB",
         "#00A08B",
         "#FB00D1",
         "#FC0080",
         "#B2828D",
         "#6C7C32",
         "#778AAE",
         "#862A16",
         "#A777F1",
         "#620042",
         "#1616A7",
         "#DA60CA",
         "#6C4516",
         "#0D2A63",
         "#AF0038"
        ],
        "template": {
         "data": {
          "bar": [
           {
            "error_x": {
             "color": "#2a3f5f"
            },
            "error_y": {
             "color": "#2a3f5f"
            },
            "marker": {
             "line": {
              "color": "#E5ECF6",
              "width": 0.5
             },
             "pattern": {
              "fillmode": "overlay",
              "size": 10,
              "solidity": 0.2
             }
            },
            "type": "bar"
           }
          ],
          "barpolar": [
           {
            "marker": {
             "line": {
              "color": "#E5ECF6",
              "width": 0.5
             },
             "pattern": {
              "fillmode": "overlay",
              "size": 10,
              "solidity": 0.2
             }
            },
            "type": "barpolar"
           }
          ],
          "carpet": [
           {
            "aaxis": {
             "endlinecolor": "#2a3f5f",
             "gridcolor": "white",
             "linecolor": "white",
             "minorgridcolor": "white",
             "startlinecolor": "#2a3f5f"
            },
            "baxis": {
             "endlinecolor": "#2a3f5f",
             "gridcolor": "white",
             "linecolor": "white",
             "minorgridcolor": "white",
             "startlinecolor": "#2a3f5f"
            },
            "type": "carpet"
           }
          ],
          "choropleth": [
           {
            "colorbar": {
             "outlinewidth": 0,
             "ticks": ""
            },
            "type": "choropleth"
           }
          ],
          "contour": [
           {
            "colorbar": {
             "outlinewidth": 0,
             "ticks": ""
            },
            "colorscale": [
             [
              0,
              "#0d0887"
             ],
             [
              0.1111111111111111,
              "#46039f"
             ],
             [
              0.2222222222222222,
              "#7201a8"
             ],
             [
              0.3333333333333333,
              "#9c179e"
             ],
             [
              0.4444444444444444,
              "#bd3786"
             ],
             [
              0.5555555555555556,
              "#d8576b"
             ],
             [
              0.6666666666666666,
              "#ed7953"
             ],
             [
              0.7777777777777778,
              "#fb9f3a"
             ],
             [
              0.8888888888888888,
              "#fdca26"
             ],
             [
              1,
              "#f0f921"
             ]
            ],
            "type": "contour"
           }
          ],
          "contourcarpet": [
           {
            "colorbar": {
             "outlinewidth": 0,
             "ticks": ""
            },
            "type": "contourcarpet"
           }
          ],
          "heatmap": [
           {
            "colorbar": {
             "outlinewidth": 0,
             "ticks": ""
            },
            "colorscale": [
             [
              0,
              "#0d0887"
             ],
             [
              0.1111111111111111,
              "#46039f"
             ],
             [
              0.2222222222222222,
              "#7201a8"
             ],
             [
              0.3333333333333333,
              "#9c179e"
             ],
             [
              0.4444444444444444,
              "#bd3786"
             ],
             [
              0.5555555555555556,
              "#d8576b"
             ],
             [
              0.6666666666666666,
              "#ed7953"
             ],
             [
              0.7777777777777778,
              "#fb9f3a"
             ],
             [
              0.8888888888888888,
              "#fdca26"
             ],
             [
              1,
              "#f0f921"
             ]
            ],
            "type": "heatmap"
           }
          ],
          "histogram": [
           {
            "marker": {
             "pattern": {
              "fillmode": "overlay",
              "size": 10,
              "solidity": 0.2
             }
            },
            "type": "histogram"
           }
          ],
          "histogram2d": [
           {
            "colorbar": {
             "outlinewidth": 0,
             "ticks": ""
            },
            "colorscale": [
             [
              0,
              "#0d0887"
             ],
             [
              0.1111111111111111,
              "#46039f"
             ],
             [
              0.2222222222222222,
              "#7201a8"
             ],
             [
              0.3333333333333333,
              "#9c179e"
             ],
             [
              0.4444444444444444,
              "#bd3786"
             ],
             [
              0.5555555555555556,
              "#d8576b"
             ],
             [
              0.6666666666666666,
              "#ed7953"
             ],
             [
              0.7777777777777778,
              "#fb9f3a"
             ],
             [
              0.8888888888888888,
              "#fdca26"
             ],
             [
              1,
              "#f0f921"
             ]
            ],
            "type": "histogram2d"
           }
          ],
          "histogram2dcontour": [
           {
            "colorbar": {
             "outlinewidth": 0,
             "ticks": ""
            },
            "colorscale": [
             [
              0,
              "#0d0887"
             ],
             [
              0.1111111111111111,
              "#46039f"
             ],
             [
              0.2222222222222222,
              "#7201a8"
             ],
             [
              0.3333333333333333,
              "#9c179e"
             ],
             [
              0.4444444444444444,
              "#bd3786"
             ],
             [
              0.5555555555555556,
              "#d8576b"
             ],
             [
              0.6666666666666666,
              "#ed7953"
             ],
             [
              0.7777777777777778,
              "#fb9f3a"
             ],
             [
              0.8888888888888888,
              "#fdca26"
             ],
             [
              1,
              "#f0f921"
             ]
            ],
            "type": "histogram2dcontour"
           }
          ],
          "mesh3d": [
           {
            "colorbar": {
             "outlinewidth": 0,
             "ticks": ""
            },
            "type": "mesh3d"
           }
          ],
          "parcoords": [
           {
            "line": {
             "colorbar": {
              "outlinewidth": 0,
              "ticks": ""
             }
            },
            "type": "parcoords"
           }
          ],
          "pie": [
           {
            "automargin": true,
            "type": "pie"
           }
          ],
          "scatter": [
           {
            "fillpattern": {
             "fillmode": "overlay",
             "size": 10,
             "solidity": 0.2
            },
            "type": "scatter"
           }
          ],
          "scatter3d": [
           {
            "line": {
             "colorbar": {
              "outlinewidth": 0,
              "ticks": ""
             }
            },
            "marker": {
             "colorbar": {
              "outlinewidth": 0,
              "ticks": ""
             }
            },
            "type": "scatter3d"
           }
          ],
          "scattercarpet": [
           {
            "marker": {
             "colorbar": {
              "outlinewidth": 0,
              "ticks": ""
             }
            },
            "type": "scattercarpet"
           }
          ],
          "scattergeo": [
           {
            "marker": {
             "colorbar": {
              "outlinewidth": 0,
              "ticks": ""
             }
            },
            "type": "scattergeo"
           }
          ],
          "scattergl": [
           {
            "marker": {
             "colorbar": {
              "outlinewidth": 0,
              "ticks": ""
             }
            },
            "type": "scattergl"
           }
          ],
          "scattermap": [
           {
            "marker": {
             "colorbar": {
              "outlinewidth": 0,
              "ticks": ""
             }
            },
            "type": "scattermap"
           }
          ],
          "scattermapbox": [
           {
            "marker": {
             "colorbar": {
              "outlinewidth": 0,
              "ticks": ""
             }
            },
            "type": "scattermapbox"
           }
          ],
          "scatterpolar": [
           {
            "marker": {
             "colorbar": {
              "outlinewidth": 0,
              "ticks": ""
             }
            },
            "type": "scatterpolar"
           }
          ],
          "scatterpolargl": [
           {
            "marker": {
             "colorbar": {
              "outlinewidth": 0,
              "ticks": ""
             }
            },
            "type": "scatterpolargl"
           }
          ],
          "scatterternary": [
           {
            "marker": {
             "colorbar": {
              "outlinewidth": 0,
              "ticks": ""
             }
            },
            "type": "scatterternary"
           }
          ],
          "surface": [
           {
            "colorbar": {
             "outlinewidth": 0,
             "ticks": ""
            },
            "colorscale": [
             [
              0,
              "#0d0887"
             ],
             [
              0.1111111111111111,
              "#46039f"
             ],
             [
              0.2222222222222222,
              "#7201a8"
             ],
             [
              0.3333333333333333,
              "#9c179e"
             ],
             [
              0.4444444444444444,
              "#bd3786"
             ],
             [
              0.5555555555555556,
              "#d8576b"
             ],
             [
              0.6666666666666666,
              "#ed7953"
             ],
             [
              0.7777777777777778,
              "#fb9f3a"
             ],
             [
              0.8888888888888888,
              "#fdca26"
             ],
             [
              1,
              "#f0f921"
             ]
            ],
            "type": "surface"
           }
          ],
          "table": [
           {
            "cells": {
             "fill": {
              "color": "#EBF0F8"
             },
             "line": {
              "color": "white"
             }
            },
            "header": {
             "fill": {
              "color": "#C8D4E3"
             },
             "line": {
              "color": "white"
             }
            },
            "type": "table"
           }
          ]
         },
         "layout": {
          "annotationdefaults": {
           "arrowcolor": "#2a3f5f",
           "arrowhead": 0,
           "arrowwidth": 1
          },
          "autotypenumbers": "strict",
          "coloraxis": {
           "colorbar": {
            "outlinewidth": 0,
            "ticks": ""
           }
          },
          "colorscale": {
           "diverging": [
            [
             0,
             "#8e0152"
            ],
            [
             0.1,
             "#c51b7d"
            ],
            [
             0.2,
             "#de77ae"
            ],
            [
             0.3,
             "#f1b6da"
            ],
            [
             0.4,
             "#fde0ef"
            ],
            [
             0.5,
             "#f7f7f7"
            ],
            [
             0.6,
             "#e6f5d0"
            ],
            [
             0.7,
             "#b8e186"
            ],
            [
             0.8,
             "#7fbc41"
            ],
            [
             0.9,
             "#4d9221"
            ],
            [
             1,
             "#276419"
            ]
           ],
           "sequential": [
            [
             0,
             "#0d0887"
            ],
            [
             0.1111111111111111,
             "#46039f"
            ],
            [
             0.2222222222222222,
             "#7201a8"
            ],
            [
             0.3333333333333333,
             "#9c179e"
            ],
            [
             0.4444444444444444,
             "#bd3786"
            ],
            [
             0.5555555555555556,
             "#d8576b"
            ],
            [
             0.6666666666666666,
             "#ed7953"
            ],
            [
             0.7777777777777778,
             "#fb9f3a"
            ],
            [
             0.8888888888888888,
             "#fdca26"
            ],
            [
             1,
             "#f0f921"
            ]
           ],
           "sequentialminus": [
            [
             0,
             "#0d0887"
            ],
            [
             0.1111111111111111,
             "#46039f"
            ],
            [
             0.2222222222222222,
             "#7201a8"
            ],
            [
             0.3333333333333333,
             "#9c179e"
            ],
            [
             0.4444444444444444,
             "#bd3786"
            ],
            [
             0.5555555555555556,
             "#d8576b"
            ],
            [
             0.6666666666666666,
             "#ed7953"
            ],
            [
             0.7777777777777778,
             "#fb9f3a"
            ],
            [
             0.8888888888888888,
             "#fdca26"
            ],
            [
             1,
             "#f0f921"
            ]
           ]
          },
          "colorway": [
           "#636efa",
           "#EF553B",
           "#00cc96",
           "#ab63fa",
           "#FFA15A",
           "#19d3f3",
           "#FF6692",
           "#B6E880",
           "#FF97FF",
           "#FECB52"
          ],
          "font": {
           "color": "#2a3f5f"
          },
          "geo": {
           "bgcolor": "white",
           "lakecolor": "white",
           "landcolor": "#E5ECF6",
           "showlakes": true,
           "showland": true,
           "subunitcolor": "white"
          },
          "hoverlabel": {
           "align": "left"
          },
          "hovermode": "closest",
          "mapbox": {
           "style": "light"
          },
          "paper_bgcolor": "white",
          "plot_bgcolor": "#E5ECF6",
          "polar": {
           "angularaxis": {
            "gridcolor": "white",
            "linecolor": "white",
            "ticks": ""
           },
           "bgcolor": "#E5ECF6",
           "radialaxis": {
            "gridcolor": "white",
            "linecolor": "white",
            "ticks": ""
           }
          },
          "scene": {
           "xaxis": {
            "backgroundcolor": "#E5ECF6",
            "gridcolor": "white",
            "gridwidth": 2,
            "linecolor": "white",
            "showbackground": true,
            "ticks": "",
            "zerolinecolor": "white"
           },
           "yaxis": {
            "backgroundcolor": "#E5ECF6",
            "gridcolor": "white",
            "gridwidth": 2,
            "linecolor": "white",
            "showbackground": true,
            "ticks": "",
            "zerolinecolor": "white"
           },
           "zaxis": {
            "backgroundcolor": "#E5ECF6",
            "gridcolor": "white",
            "gridwidth": 2,
            "linecolor": "white",
            "showbackground": true,
            "ticks": "",
            "zerolinecolor": "white"
           }
          },
          "shapedefaults": {
           "line": {
            "color": "#2a3f5f"
           }
          },
          "ternary": {
           "aaxis": {
            "gridcolor": "white",
            "linecolor": "white",
            "ticks": ""
           },
           "baxis": {
            "gridcolor": "white",
            "linecolor": "white",
            "ticks": ""
           },
           "bgcolor": "#E5ECF6",
           "caxis": {
            "gridcolor": "white",
            "linecolor": "white",
            "ticks": ""
           }
          },
          "title": {
           "x": 0.05
          },
          "xaxis": {
           "automargin": true,
           "gridcolor": "white",
           "linecolor": "white",
           "ticks": "",
           "title": {
            "standoff": 15
           },
           "zerolinecolor": "white",
           "zerolinewidth": 2
          },
          "yaxis": {
           "automargin": true,
           "gridcolor": "white",
           "linecolor": "white",
           "ticks": "",
           "title": {
            "standoff": 15
           },
           "zerolinecolor": "white",
           "zerolinewidth": 2
          }
         }
        },
        "title": {
         "text": "User Journey Paths as Sunburst Chart"
        }
       }
      }
     },
     "metadata": {},
     "output_type": "display_data"
    }
   ],
   "source": [
    "# Create a sunburst chart visualization of paths\n",
    "try:\n",
    "    import plotly.express as px\n",
    "    \n",
    "    # Create a dataframe for sunburst chart\n",
    "    sunburst_data = []\n",
    "    \n",
    "    for path, count in path_counts.items():\n",
    "        if count > 0:\n",
    "            steps = path.split('_')\n",
    "            parent = ''\n",
    "            for i, step in enumerate(steps):\n",
    "                if i == 0:\n",
    "                    sunburst_data.append(dict(\n",
    "                        id=step,\n",
    "                        parent='',\n",
    "                        value=count\n",
    "                    ))\n",
    "                else:\n",
    "                    # Create hierarchical path IDs\n",
    "                    path_id = '_'.join(steps[:i+1])\n",
    "                    parent_id = '_'.join(steps[:i])\n",
    "                    sunburst_data.append(dict(\n",
    "                        id=path_id,\n",
    "                        parent=parent_id,\n",
    "                        name=step,\n",
    "                        value=count\n",
    "                    ))\n",
    "    \n",
    "    # Convert to dataframe\n",
    "    sunburst_df = pd.DataFrame(sunburst_data)\n",
    "    \n",
    "    # Create the sunburst chart\n",
    "    fig = px.sunburst(\n",
    "        sunburst_df, \n",
    "        ids='id',\n",
    "        parents='parent',\n",
    "        values='value',\n",
    "        names='name',\n",
    "        color_discrete_sequence=px.colors.qualitative.Dark24\n",
    "    )\n",
    "    \n",
    "    fig.update_layout(\n",
    "        title='User Journey Paths as Sunburst Chart',\n",
    "        height=700,\n",
    "        margin=dict(t=60, l=0, r=0, b=0)\n",
    "    )\n",
    "    \n",
    "    fig.show()\n",
    "except ImportError:\n",
    "    print(\"Plotly is required for sunburst chart. Install with: !pip install plotly\")\n",
    "\n",
    "except Exception as e:\n",
    "    print(f\"Error creating sunburst chart: {e}\")\n"
   ]
  },
  {
   "cell_type": "code",
   "execution_count": 105,
   "id": "1ae794a4",
   "metadata": {},
   "outputs": [
    {
     "ename": "KeyError",
     "evalue": "'add'",
     "output_type": "error",
     "traceback": [
      "\u001b[0;31m---------------------------------------------------------------------------\u001b[0m",
      "\u001b[0;31mKeyError\u001b[0m                                  Traceback (most recent call last)",
      "Cell \u001b[0;32mIn[105], line 21\u001b[0m\n\u001b[1;32m     11\u001b[0m \u001b[38;5;66;03m# Format labels for better readability\u001b[39;00m\n\u001b[1;32m     12\u001b[0m path_labels \u001b[38;5;241m=\u001b[39m {\n\u001b[1;32m     13\u001b[0m     \u001b[38;5;124m'\u001b[39m\u001b[38;5;124madd_to_cart_only\u001b[39m\u001b[38;5;124m'\u001b[39m: \u001b[38;5;124m'\u001b[39m\u001b[38;5;124mAdd to Cart Only\u001b[39m\u001b[38;5;124m'\u001b[39m,\n\u001b[1;32m     14\u001b[0m     \u001b[38;5;124m'\u001b[39m\u001b[38;5;124mcart_to_checkout_only\u001b[39m\u001b[38;5;124m'\u001b[39m: \u001b[38;5;124m'\u001b[39m\u001b[38;5;124mCart → Checkout (No Purchase)\u001b[39m\u001b[38;5;124m'\u001b[39m,\n\u001b[0;32m   (...)\u001b[0m\n\u001b[1;32m     18\u001b[0m     \u001b[38;5;124m'\u001b[39m\u001b[38;5;124mother\u001b[39m\u001b[38;5;124m'\u001b[39m: \u001b[38;5;124m'\u001b[39m\u001b[38;5;124mOther Paths\u001b[39m\u001b[38;5;124m'\u001b[39m\n\u001b[1;32m     19\u001b[0m }\n\u001b[0;32m---> 21\u001b[0m readable_paths \u001b[38;5;241m=\u001b[39m [path_labels[path] \u001b[38;5;28;01mfor\u001b[39;00m path \u001b[38;5;129;01min\u001b[39;00m paths]\n\u001b[1;32m     23\u001b[0m \u001b[38;5;66;03m# Create the bar plot\u001b[39;00m\n\u001b[1;32m     24\u001b[0m bar_plot \u001b[38;5;241m=\u001b[39m sns\u001b[38;5;241m.\u001b[39mbarplot(x\u001b[38;5;241m=\u001b[39mreadable_paths, y\u001b[38;5;241m=\u001b[39mpercentages, palette\u001b[38;5;241m=\u001b[39m\u001b[38;5;124m'\u001b[39m\u001b[38;5;124mviridis\u001b[39m\u001b[38;5;124m'\u001b[39m)\n",
      "Cell \u001b[0;32mIn[105], line 21\u001b[0m, in \u001b[0;36m<listcomp>\u001b[0;34m(.0)\u001b[0m\n\u001b[1;32m     11\u001b[0m \u001b[38;5;66;03m# Format labels for better readability\u001b[39;00m\n\u001b[1;32m     12\u001b[0m path_labels \u001b[38;5;241m=\u001b[39m {\n\u001b[1;32m     13\u001b[0m     \u001b[38;5;124m'\u001b[39m\u001b[38;5;124madd_to_cart_only\u001b[39m\u001b[38;5;124m'\u001b[39m: \u001b[38;5;124m'\u001b[39m\u001b[38;5;124mAdd to Cart Only\u001b[39m\u001b[38;5;124m'\u001b[39m,\n\u001b[1;32m     14\u001b[0m     \u001b[38;5;124m'\u001b[39m\u001b[38;5;124mcart_to_checkout_only\u001b[39m\u001b[38;5;124m'\u001b[39m: \u001b[38;5;124m'\u001b[39m\u001b[38;5;124mCart → Checkout (No Purchase)\u001b[39m\u001b[38;5;124m'\u001b[39m,\n\u001b[0;32m   (...)\u001b[0m\n\u001b[1;32m     18\u001b[0m     \u001b[38;5;124m'\u001b[39m\u001b[38;5;124mother\u001b[39m\u001b[38;5;124m'\u001b[39m: \u001b[38;5;124m'\u001b[39m\u001b[38;5;124mOther Paths\u001b[39m\u001b[38;5;124m'\u001b[39m\n\u001b[1;32m     19\u001b[0m }\n\u001b[0;32m---> 21\u001b[0m readable_paths \u001b[38;5;241m=\u001b[39m [\u001b[43mpath_labels\u001b[49m\u001b[43m[\u001b[49m\u001b[43mpath\u001b[49m\u001b[43m]\u001b[49m \u001b[38;5;28;01mfor\u001b[39;00m path \u001b[38;5;129;01min\u001b[39;00m paths]\n\u001b[1;32m     23\u001b[0m \u001b[38;5;66;03m# Create the bar plot\u001b[39;00m\n\u001b[1;32m     24\u001b[0m bar_plot \u001b[38;5;241m=\u001b[39m sns\u001b[38;5;241m.\u001b[39mbarplot(x\u001b[38;5;241m=\u001b[39mreadable_paths, y\u001b[38;5;241m=\u001b[39mpercentages, palette\u001b[38;5;241m=\u001b[39m\u001b[38;5;124m'\u001b[39m\u001b[38;5;124mviridis\u001b[39m\u001b[38;5;124m'\u001b[39m)\n",
      "\u001b[0;31mKeyError\u001b[0m: 'add'"
     ]
    },
    {
     "data": {
      "text/plain": [
       "<Figure size 1200x600 with 0 Axes>"
      ]
     },
     "metadata": {},
     "output_type": "display_data"
    }
   ],
   "source": [
    "# Visualize the distribution of paths\n",
    "plt.figure(figsize=(12, 6))\n",
    "sns.set_style('whitegrid')\n",
    "\n",
    "# Prepare data for plotting\n",
    "paths = list(path_counts.keys())\n",
    "counts = list(path_counts.values())\n",
    "total = sum(counts)\n",
    "percentages = [count/total*100 for count in counts]\n",
    "\n",
    "# Format labels for better readability\n",
    "path_labels = {\n",
    "    'add_to_cart_only': 'Add to Cart Only',\n",
    "    'cart_to_checkout_only': 'Cart → Checkout (No Purchase)',\n",
    "    'cart_to_checkout_to_purchase_no_modal': 'Cart → Checkout → Purchase',\n",
    "    'cart_to_modal_to_wait_to_purchase': 'Cart → Modal → Wait → Purchase',\n",
    "    'cart_to_modal_to_disable_to_purchase': 'Cart → Modal → Disable → Purchase',\n",
    "    'other': 'Other Paths'\n",
    "}\n",
    "\n",
    "readable_paths = [path_labels[path] for path in paths]\n",
    "\n",
    "# Create the bar plot\n",
    "bar_plot = sns.barplot(x=readable_paths, y=percentages, palette='viridis')\n",
    "\n",
    "# Add percentage labels to the bars\n",
    "for i, p in enumerate(bar_plot.patches):\n",
    "    bar_plot.annotate(f\"{percentages[i]:.1f}%\\n({counts[i]})\", \n",
    "                     (p.get_x() + p.get_width()/2., p.get_height()),\n",
    "                     ha='center', va='bottom')\n",
    "\n",
    "# Customize plot\n",
    "plt.title('Distribution of Shopping Cart Paths', fontsize=15)\n",
    "plt.xlabel('Path Type', fontsize=12)\n",
    "plt.ylabel('Percentage of Sessions', fontsize=12)\n",
    "plt.xticks(rotation=45, ha='right')\n",
    "plt.tight_layout()\n",
    "\n",
    "plt.show()"
   ]
  },
  {
   "cell_type": "code",
   "execution_count": null,
   "id": "e83d43bc",
   "metadata": {},
   "outputs": [],
   "source": [
    "# Calculate key conversion metrics\n",
    "\n",
    "# Total sessions with add-to-cart\n",
    "total_cart_sessions = len(cart_sessions)\n",
    "\n",
    "# Sessions that proceeded to checkout\n",
    "checkout_sessions = path_counts['cart_to_checkout_only'] + path_counts['cart_to_checkout_to_purchase_no_modal'] + \\\n",
    "                    path_counts['cart_to_modal_to_wait_to_purchase'] + path_counts['cart_to_modal_to_disable_to_purchase']\n",
    "\n",
    "# Sessions that saw the modal\n",
    "modal_sessions = path_counts['cart_to_modal_to_wait_to_purchase'] + path_counts['cart_to_modal_to_disable_to_purchase']\n",
    "\n",
    "# Sessions that completed purchase\n",
    "purchase_sessions = path_counts['cart_to_checkout_to_purchase_no_modal'] + \\\n",
    "                   path_counts['cart_to_modal_to_wait_to_purchase'] + path_counts['cart_to_modal_to_disable_to_purchase']\n",
    "\n",
    "# Calculate conversion rates\n",
    "cart_to_checkout_rate = (checkout_sessions / total_cart_sessions) * 100 if total_cart_sessions > 0 else 0\n",
    "checkout_to_purchase_rate = (purchase_sessions / checkout_sessions) * 100 if checkout_sessions > 0 else 0\n",
    "modal_wait_rate = (path_counts['cart_to_modal_to_wait_to_purchase'] / modal_sessions) * 100 if modal_sessions > 0 else 0\n",
    "modal_disable_rate = (path_counts['cart_to_modal_to_disable_to_purchase'] / modal_sessions) * 100 if modal_sessions > 0 else 0\n",
    "\n",
    "# Print the results\n",
    "print(f\"Cart-to-Checkout Conversion: {cart_to_checkout_rate:.1f}% ({checkout_sessions} of {total_cart_sessions})\")\n",
    "print(f\"Checkout-to-Purchase Conversion: {checkout_to_purchase_rate:.1f}% ({purchase_sessions} of {checkout_sessions})\")\n",
    "print(f\"Modal-to-Purchase after Waiting: {modal_wait_rate:.1f}% ({path_counts['cart_to_modal_to_wait_to_purchase']} of {modal_sessions})\")\n",
    "print(f\"Modal-to-Purchase after Disabling: {modal_disable_rate:.1f}% ({path_counts['cart_to_modal_to_disable_to_purchase']} of {modal_sessions})\")"
   ]
  },
  {
   "cell_type": "markdown",
   "id": "e50d2ff6",
   "metadata": {},
   "source": [
    "## Time Analysis\n",
    "\n",
    "Now let's examine the time spent between key events in the shopping journey:"
   ]
  },
  {
   "cell_type": "code",
   "execution_count": 106,
   "id": "34188c18",
   "metadata": {},
   "outputs": [
    {
     "ename": "KeyError",
     "evalue": "'timestamp'",
     "output_type": "error",
     "traceback": [
      "\u001b[0;31m---------------------------------------------------------------------------\u001b[0m",
      "\u001b[0;31mKeyError\u001b[0m                                  Traceback (most recent call last)",
      "File \u001b[0;32m/opt/homebrew/anaconda3/envs/reddit/lib/python3.10/site-packages/pandas/core/indexes/base.py:3791\u001b[0m, in \u001b[0;36mIndex.get_loc\u001b[0;34m(self, key)\u001b[0m\n\u001b[1;32m   3790\u001b[0m \u001b[38;5;28;01mtry\u001b[39;00m:\n\u001b[0;32m-> 3791\u001b[0m     \u001b[38;5;28;01mreturn\u001b[39;00m \u001b[38;5;28;43mself\u001b[39;49m\u001b[38;5;241;43m.\u001b[39;49m\u001b[43m_engine\u001b[49m\u001b[38;5;241;43m.\u001b[39;49m\u001b[43mget_loc\u001b[49m\u001b[43m(\u001b[49m\u001b[43mcasted_key\u001b[49m\u001b[43m)\u001b[49m\n\u001b[1;32m   3792\u001b[0m \u001b[38;5;28;01mexcept\u001b[39;00m \u001b[38;5;167;01mKeyError\u001b[39;00m \u001b[38;5;28;01mas\u001b[39;00m err:\n",
      "File \u001b[0;32mindex.pyx:152\u001b[0m, in \u001b[0;36mpandas._libs.index.IndexEngine.get_loc\u001b[0;34m()\u001b[0m\n",
      "File \u001b[0;32mindex.pyx:181\u001b[0m, in \u001b[0;36mpandas._libs.index.IndexEngine.get_loc\u001b[0;34m()\u001b[0m\n",
      "File \u001b[0;32mpandas/_libs/hashtable_class_helper.pxi:7080\u001b[0m, in \u001b[0;36mpandas._libs.hashtable.PyObjectHashTable.get_item\u001b[0;34m()\u001b[0m\n",
      "File \u001b[0;32mpandas/_libs/hashtable_class_helper.pxi:7088\u001b[0m, in \u001b[0;36mpandas._libs.hashtable.PyObjectHashTable.get_item\u001b[0;34m()\u001b[0m\n",
      "\u001b[0;31mKeyError\u001b[0m: 'timestamp'",
      "\nThe above exception was the direct cause of the following exception:\n",
      "\u001b[0;31mKeyError\u001b[0m                                  Traceback (most recent call last)",
      "Cell \u001b[0;32mIn[106], line 61\u001b[0m\n\u001b[1;32m     58\u001b[0m     \u001b[38;5;28;01mreturn\u001b[39;00m time_data\n\u001b[1;32m     60\u001b[0m \u001b[38;5;66;03m# Calculate time intervals\u001b[39;00m\n\u001b[0;32m---> 61\u001b[0m time_intervals \u001b[38;5;241m=\u001b[39m \u001b[43manalyze_time_intervals\u001b[49m\u001b[43m(\u001b[49m\u001b[43mdf\u001b[49m\u001b[43m)\u001b[49m\n\u001b[1;32m     63\u001b[0m \u001b[38;5;66;03m# Display summary statistics for time intervals\u001b[39;00m\n\u001b[1;32m     64\u001b[0m \u001b[38;5;28;01mfor\u001b[39;00m interval, values \u001b[38;5;129;01min\u001b[39;00m time_intervals\u001b[38;5;241m.\u001b[39mitems():\n",
      "Cell \u001b[0;32mIn[106], line 18\u001b[0m, in \u001b[0;36manalyze_time_intervals\u001b[0;34m(df)\u001b[0m\n\u001b[1;32m     16\u001b[0m \u001b[38;5;66;03m# Get session data and convert timestamp to datetime\u001b[39;00m\n\u001b[1;32m     17\u001b[0m session_df \u001b[38;5;241m=\u001b[39m df[df[\u001b[38;5;124m'\u001b[39m\u001b[38;5;124msession_id\u001b[39m\u001b[38;5;124m'\u001b[39m] \u001b[38;5;241m==\u001b[39m session]\u001b[38;5;241m.\u001b[39mcopy()\n\u001b[0;32m---> 18\u001b[0m session_df[\u001b[38;5;124m'\u001b[39m\u001b[38;5;124mtimestamp\u001b[39m\u001b[38;5;124m'\u001b[39m] \u001b[38;5;241m=\u001b[39m pd\u001b[38;5;241m.\u001b[39mto_datetime(\u001b[43msession_df\u001b[49m\u001b[43m[\u001b[49m\u001b[38;5;124;43m'\u001b[39;49m\u001b[38;5;124;43mtimestamp\u001b[39;49m\u001b[38;5;124;43m'\u001b[39;49m\u001b[43m]\u001b[49m, unit\u001b[38;5;241m=\u001b[39m\u001b[38;5;124m'\u001b[39m\u001b[38;5;124mms\u001b[39m\u001b[38;5;124m'\u001b[39m)\n\u001b[1;32m     19\u001b[0m session_df \u001b[38;5;241m=\u001b[39m session_df\u001b[38;5;241m.\u001b[39msort_values(\u001b[38;5;124m'\u001b[39m\u001b[38;5;124mtimestamp\u001b[39m\u001b[38;5;124m'\u001b[39m)\n\u001b[1;32m     21\u001b[0m \u001b[38;5;66;03m# Extract timestamps for events\u001b[39;00m\n",
      "File \u001b[0;32m/opt/homebrew/anaconda3/envs/reddit/lib/python3.10/site-packages/pandas/core/frame.py:3893\u001b[0m, in \u001b[0;36mDataFrame.__getitem__\u001b[0;34m(self, key)\u001b[0m\n\u001b[1;32m   3891\u001b[0m \u001b[38;5;28;01mif\u001b[39;00m \u001b[38;5;28mself\u001b[39m\u001b[38;5;241m.\u001b[39mcolumns\u001b[38;5;241m.\u001b[39mnlevels \u001b[38;5;241m>\u001b[39m \u001b[38;5;241m1\u001b[39m:\n\u001b[1;32m   3892\u001b[0m     \u001b[38;5;28;01mreturn\u001b[39;00m \u001b[38;5;28mself\u001b[39m\u001b[38;5;241m.\u001b[39m_getitem_multilevel(key)\n\u001b[0;32m-> 3893\u001b[0m indexer \u001b[38;5;241m=\u001b[39m \u001b[38;5;28;43mself\u001b[39;49m\u001b[38;5;241;43m.\u001b[39;49m\u001b[43mcolumns\u001b[49m\u001b[38;5;241;43m.\u001b[39;49m\u001b[43mget_loc\u001b[49m\u001b[43m(\u001b[49m\u001b[43mkey\u001b[49m\u001b[43m)\u001b[49m\n\u001b[1;32m   3894\u001b[0m \u001b[38;5;28;01mif\u001b[39;00m is_integer(indexer):\n\u001b[1;32m   3895\u001b[0m     indexer \u001b[38;5;241m=\u001b[39m [indexer]\n",
      "File \u001b[0;32m/opt/homebrew/anaconda3/envs/reddit/lib/python3.10/site-packages/pandas/core/indexes/base.py:3798\u001b[0m, in \u001b[0;36mIndex.get_loc\u001b[0;34m(self, key)\u001b[0m\n\u001b[1;32m   3793\u001b[0m     \u001b[38;5;28;01mif\u001b[39;00m \u001b[38;5;28misinstance\u001b[39m(casted_key, \u001b[38;5;28mslice\u001b[39m) \u001b[38;5;129;01mor\u001b[39;00m (\n\u001b[1;32m   3794\u001b[0m         \u001b[38;5;28misinstance\u001b[39m(casted_key, abc\u001b[38;5;241m.\u001b[39mIterable)\n\u001b[1;32m   3795\u001b[0m         \u001b[38;5;129;01mand\u001b[39;00m \u001b[38;5;28many\u001b[39m(\u001b[38;5;28misinstance\u001b[39m(x, \u001b[38;5;28mslice\u001b[39m) \u001b[38;5;28;01mfor\u001b[39;00m x \u001b[38;5;129;01min\u001b[39;00m casted_key)\n\u001b[1;32m   3796\u001b[0m     ):\n\u001b[1;32m   3797\u001b[0m         \u001b[38;5;28;01mraise\u001b[39;00m InvalidIndexError(key)\n\u001b[0;32m-> 3798\u001b[0m     \u001b[38;5;28;01mraise\u001b[39;00m \u001b[38;5;167;01mKeyError\u001b[39;00m(key) \u001b[38;5;28;01mfrom\u001b[39;00m \u001b[38;5;21;01merr\u001b[39;00m\n\u001b[1;32m   3799\u001b[0m \u001b[38;5;28;01mexcept\u001b[39;00m \u001b[38;5;167;01mTypeError\u001b[39;00m:\n\u001b[1;32m   3800\u001b[0m     \u001b[38;5;66;03m# If we have a listlike key, _check_indexing_error will raise\u001b[39;00m\n\u001b[1;32m   3801\u001b[0m     \u001b[38;5;66;03m#  InvalidIndexError. Otherwise we fall through and re-raise\u001b[39;00m\n\u001b[1;32m   3802\u001b[0m     \u001b[38;5;66;03m#  the TypeError.\u001b[39;00m\n\u001b[1;32m   3803\u001b[0m     \u001b[38;5;28mself\u001b[39m\u001b[38;5;241m.\u001b[39m_check_indexing_error(key)\n",
      "\u001b[0;31mKeyError\u001b[0m: 'timestamp'"
     ]
    }
   ],
   "source": [
    "# Analyze time intervals between key events\n",
    "def analyze_time_intervals(df):\n",
    "    time_data = {\n",
    "        'cart_to_checkout': [],\n",
    "        'checkout_to_purchase': [],\n",
    "        'modal_to_purchase': [],\n",
    "        'modal_disable_to_purchase': []\n",
    "    }\n",
    "    \n",
    "    for session in session_paths:\n",
    "        # Skip sessions that don't match our analysis\n",
    "        path = session_paths[session]\n",
    "        if path == 'add_to_cart_only':\n",
    "            continue\n",
    "            \n",
    "        # Get session data and convert timestamp to datetime\n",
    "        session_df = df[df['session_id'] == session].copy()\n",
    "        session_df['timestamp'] = pd.to_datetime(session_df['timestamp'], unit='ms')\n",
    "        session_df = session_df.sort_values('timestamp')\n",
    "        \n",
    "        # Extract timestamps for events\n",
    "        cart_time = session_df[session_df['type'] == 'add-to-cart']['timestamp'].min()\n",
    "        \n",
    "        # Calculate cart to checkout time if applicable\n",
    "        if 'checkout' in session_df['type'].values:\n",
    "            checkout_time = session_df[session_df['type'] == 'checkout']['timestamp'].min()\n",
    "            if not pd.isna(cart_time) and not pd.isna(checkout_time):\n",
    "                cart_to_checkout_mins = (checkout_time - cart_time).total_seconds() / 60\n",
    "                time_data['cart_to_checkout'].append(cart_to_checkout_mins)\n",
    "        \n",
    "        # Calculate checkout to purchase time if applicable\n",
    "        if path in ['cart_to_checkout_to_purchase_no_modal', 'cart_to_modal_to_wait_to_purchase', 'cart_to_modal_to_disable_to_purchase']:\n",
    "            checkout_time = session_df[session_df['type'] == 'checkout']['timestamp'].min()\n",
    "            purchase_time = session_df[session_df['type'] == 'place-order']['timestamp'].min()\n",
    "            \n",
    "            if not pd.isna(checkout_time) and not pd.isna(purchase_time):\n",
    "                checkout_to_purchase_mins = (purchase_time - checkout_time).total_seconds() / 60\n",
    "                time_data['checkout_to_purchase'].append(checkout_to_purchase_mins)\n",
    "        \n",
    "        # Calculate modal to purchase time (for waiting sessions)\n",
    "        if path == 'cart_to_modal_to_wait_to_purchase':\n",
    "            modal_time = session_df[session_df['type'] == 'enforce_wait_modal_shown']['timestamp'].min()\n",
    "            purchase_time = session_df[session_df['type'] == 'place-order']['timestamp'].min()\n",
    "            \n",
    "            if not pd.isna(modal_time) and not pd.isna(purchase_time):\n",
    "                modal_to_purchase_mins = (purchase_time - modal_time).total_seconds() / 60\n",
    "                time_data['modal_to_purchase'].append(modal_to_purchase_mins)\n",
    "        \n",
    "        # Calculate modal to purchase time (for disable sessions)\n",
    "        if path == 'cart_to_modal_to_disable_to_purchase':\n",
    "            modal_time = session_df[session_df['type'] == 'enforce_wait_modal_shown']['timestamp'].min()\n",
    "            purchase_time = session_df[session_df['type'] == 'place-order']['timestamp'].min()\n",
    "            \n",
    "            if not pd.isna(modal_time) and not pd.isna(purchase_time):\n",
    "                modal_disable_to_purchase_mins = (purchase_time - modal_time).total_seconds() / 60\n",
    "                time_data['modal_disable_to_purchase'].append(modal_disable_to_purchase_mins)\n",
    "    \n",
    "    return time_data\n",
    "\n",
    "# Calculate time intervals\n",
    "time_intervals = analyze_time_intervals(df)\n",
    "\n",
    "# Display summary statistics for time intervals\n",
    "for interval, values in time_intervals.items():\n",
    "    if len(values) > 0:\n",
    "        print(f\"\\n{interval} time (minutes):\")\n",
    "        print(f\"  Count: {len(values)}\")\n",
    "        print(f\"  Mean: {np.mean(values):.2f}\")\n",
    "        print(f\"  Median: {np.median(values):.2f}\")\n",
    "        print(f\"  Min: {min(values):.2f}\")\n",
    "        print(f\"  Max: {max(values):.2f}\")\n",
    "        \n",
    "        # If this is modal_to_purchase, check how many waited the full 3 hours (180 minutes)\n",
    "        if interval == 'modal_to_purchase':\n",
    "            waited_3_hours = sum(t >= 180 for t in values)\n",
    "            print(f\"  Sessions that waited at least 3 hours: {waited_3_hours} ({waited_3_hours/len(values)*100:.1f}%)\")"
   ]
  },
  {
   "cell_type": "code",
   "execution_count": 107,
   "id": "8356215a",
   "metadata": {},
   "outputs": [
    {
     "ename": "NameError",
     "evalue": "name 'time_intervals' is not defined",
     "output_type": "error",
     "traceback": [
      "\u001b[0;31m---------------------------------------------------------------------------\u001b[0m",
      "\u001b[0;31mNameError\u001b[0m                                 Traceback (most recent call last)",
      "Cell \u001b[0;32mIn[107], line 17\u001b[0m\n\u001b[1;32m      9\u001b[0m interval_labels \u001b[38;5;241m=\u001b[39m {\n\u001b[1;32m     10\u001b[0m     \u001b[38;5;124m'\u001b[39m\u001b[38;5;124mcart_to_checkout\u001b[39m\u001b[38;5;124m'\u001b[39m: \u001b[38;5;124m'\u001b[39m\u001b[38;5;124mCart to Checkout\u001b[39m\u001b[38;5;124m'\u001b[39m,\n\u001b[1;32m     11\u001b[0m     \u001b[38;5;124m'\u001b[39m\u001b[38;5;124mcheckout_to_purchase\u001b[39m\u001b[38;5;124m'\u001b[39m: \u001b[38;5;124m'\u001b[39m\u001b[38;5;124mCheckout to Purchase\u001b[39m\u001b[38;5;124m'\u001b[39m,\n\u001b[1;32m     12\u001b[0m     \u001b[38;5;124m'\u001b[39m\u001b[38;5;124mmodal_to_purchase\u001b[39m\u001b[38;5;124m'\u001b[39m: \u001b[38;5;124m'\u001b[39m\u001b[38;5;124mModal to Purchase (After Waiting)\u001b[39m\u001b[38;5;124m'\u001b[39m,\n\u001b[1;32m     13\u001b[0m     \u001b[38;5;124m'\u001b[39m\u001b[38;5;124mmodal_disable_to_purchase\u001b[39m\u001b[38;5;124m'\u001b[39m: \u001b[38;5;124m'\u001b[39m\u001b[38;5;124mModal to Purchase (After Disabling)\u001b[39m\u001b[38;5;124m'\u001b[39m\n\u001b[1;32m     14\u001b[0m }\n\u001b[1;32m     16\u001b[0m \u001b[38;5;66;03m# Plot histograms for each interval\u001b[39;00m\n\u001b[0;32m---> 17\u001b[0m \u001b[38;5;28;01mfor\u001b[39;00m i, (interval, values) \u001b[38;5;129;01min\u001b[39;00m \u001b[38;5;28menumerate\u001b[39m(\u001b[43mtime_intervals\u001b[49m\u001b[38;5;241m.\u001b[39mitems()):\n\u001b[1;32m     18\u001b[0m     \u001b[38;5;28;01mif\u001b[39;00m \u001b[38;5;28mlen\u001b[39m(values) \u001b[38;5;241m>\u001b[39m \u001b[38;5;241m0\u001b[39m:\n\u001b[1;32m     19\u001b[0m         row, col \u001b[38;5;241m=\u001b[39m i \u001b[38;5;241m/\u001b[39m\u001b[38;5;241m/\u001b[39m \u001b[38;5;241m2\u001b[39m, i \u001b[38;5;241m%\u001b[39m \u001b[38;5;241m2\u001b[39m\n",
      "\u001b[0;31mNameError\u001b[0m: name 'time_intervals' is not defined"
     ]
    },
    {
     "data": {
      "text/plain": [
       "<Figure size 1400x1000 with 0 Axes>"
      ]
     },
     "metadata": {},
     "output_type": "display_data"
    },
    {
     "data": {
      "image/png": "[encoded data removed]",
      "text/plain": [
       "<Figure size 1500x1000 with 4 Axes>"
      ]
     },
     "metadata": {},
     "output_type": "display_data"
    }
   ],
   "source": [
    "# Visualize time intervals\n",
    "plt.figure(figsize=(14, 10))\n",
    "\n",
    "# Create subplot grid\n",
    "fig, axes = plt.subplots(2, 2, figsize=(15, 10))\n",
    "fig.suptitle('Time Intervals in Shopping Journey', fontsize=16)\n",
    "\n",
    "# Define labels for better readability\n",
    "interval_labels = {\n",
    "    'cart_to_checkout': 'Cart to Checkout',\n",
    "    'checkout_to_purchase': 'Checkout to Purchase',\n",
    "    'modal_to_purchase': 'Modal to Purchase (After Waiting)',\n",
    "    'modal_disable_to_purchase': 'Modal to Purchase (After Disabling)'\n",
    "}\n",
    "\n",
    "# Plot histograms for each interval\n",
    "for i, (interval, values) in enumerate(time_intervals.items()):\n",
    "    if len(values) > 0:\n",
    "        row, col = i // 2, i % 2\n",
    "        ax = axes[row, col]\n",
    "        \n",
    "        # Skip extreme outliers for better visualization\n",
    "        filtered_values = [v for v in values if v <= np.percentile(values, 95)]\n",
    "        \n",
    "        sns.histplot(filtered_values, kde=True, ax=ax)\n",
    "        ax.set_title(interval_labels[interval], fontsize=12)\n",
    "        ax.set_xlabel('Time (minutes)')\n",
    "        ax.set_ylabel('Frequency')\n",
    "        \n",
    "        # Add mean and median lines\n",
    "        mean_val = np.mean(filtered_values)\n",
    "        median_val = np.median(filtered_values)\n",
    "        ax.axvline(mean_val, color='red', linestyle='--', label=f'Mean: {mean_val:.2f} min')\n",
    "        ax.axvline(median_val, color='green', linestyle=':', label=f'Median: {median_val:.2f} min')\n",
    "        ax.legend()\n",
    "\n",
    "plt.tight_layout(rect=[0, 0, 1, 0.95])\n",
    "plt.show()"
   ]
  },
  {
   "cell_type": "markdown",
   "id": "43a14ad4",
   "metadata": {},
   "source": [
    "## Conclusion\n",
    "\n",
    "This analysis examines different user paths after adding items to cart. Key insights include:\n",
    "\n",
    "1. The most common path after adding to cart\n",
    "2. The effectiveness of the enforce_wait_modal in deterring immediate purchases\n",
    "3. The percentage of users who disable the extension to bypass the waiting period\n",
    "4. Typical waiting times for users who complete a purchase after seeing the modal\n",
    "\n",
    "These insights can help understand how effective the waiting period is at reducing impulsive purchases while not completely blocking legitimate purchase intent."
   ]
  },
  {
   "cell_type": "code",
   "execution_count": 108,
   "id": "251f5cc7",
   "metadata": {},
   "outputs": [
    {
     "ename": "NameError",
     "evalue": "name 'checkout_sessions' is not defined",
     "output_type": "error",
     "traceback": [
      "\u001b[0;31m---------------------------------------------------------------------------\u001b[0m",
      "\u001b[0;31mNameError\u001b[0m                                 Traceback (most recent call last)",
      "Cell \u001b[0;32mIn[108], line 19\u001b[0m\n\u001b[1;32m     15\u001b[0m target \u001b[38;5;241m=\u001b[39m [\u001b[38;5;241m1\u001b[39m, \u001b[38;5;241m6\u001b[39m, \u001b[38;5;241m2\u001b[39m, \u001b[38;5;241m6\u001b[39m, \u001b[38;5;241m3\u001b[39m, \u001b[38;5;241m4\u001b[39m, \u001b[38;5;241m5\u001b[39m, \u001b[38;5;241m5\u001b[39m]  \n\u001b[1;32m     17\u001b[0m \u001b[38;5;66;03m# Values (number of sessions for each flow)\u001b[39;00m\n\u001b[1;32m     18\u001b[0m \u001b[38;5;66;03m# Add to Cart -> Checkout\u001b[39;00m\n\u001b[0;32m---> 19\u001b[0m value_cart_to_checkout \u001b[38;5;241m=\u001b[39m \u001b[43mcheckout_sessions\u001b[49m\n\u001b[1;32m     20\u001b[0m \u001b[38;5;66;03m# Add to Cart -> No Further Action\u001b[39;00m\n\u001b[1;32m     21\u001b[0m value_cart_to_no_action \u001b[38;5;241m=\u001b[39m path_counts[\u001b[38;5;124m'\u001b[39m\u001b[38;5;124madd_to_cart_only\u001b[39m\u001b[38;5;124m'\u001b[39m]\n",
      "\u001b[0;31mNameError\u001b[0m: name 'checkout_sessions' is not defined"
     ]
    }
   ],
   "source": [
    "# Create a Sankey diagram to visualize the user flow\n",
    "try:\n",
    "    import plotly.graph_objects as go\n",
    "    \n",
    "    # Define the nodes\n",
    "    labels = [\n",
    "        'Add to Cart', 'Checkout', 'Modal Shown', 'Wait 3 Hours', \n",
    "        'Disable Extension', 'Purchase', 'No Further Action'\n",
    "    ]\n",
    "    \n",
    "    # Define flow values based on our path counts\n",
    "    # Source nodes (index from labels list)\n",
    "    source = [0, 0, 1, 1, 2, 2, 3, 4]  \n",
    "    # Target nodes (index from labels list)\n",
    "    target = [1, 6, 2, 6, 3, 4, 5, 5]  \n",
    "    \n",
    "    # Values (number of sessions for each flow)\n",
    "    # Add to Cart -> Checkout\n",
    "    value_cart_to_checkout = checkout_sessions\n",
    "    # Add to Cart -> No Further Action\n",
    "    value_cart_to_no_action = path_counts['add_to_cart_only']\n",
    "    # Checkout -> Modal\n",
    "    value_checkout_to_modal = modal_sessions\n",
    "    # Checkout -> No Further Action\n",
    "    value_checkout_to_no_action = path_counts['cart_to_checkout_only']\n",
    "    # Modal -> Wait\n",
    "    value_modal_to_wait = path_counts['cart_to_modal_to_wait_to_purchase']\n",
    "    # Modal -> Disable\n",
    "    value_modal_to_disable = path_counts['cart_to_modal_to_disable_to_purchase']\n",
    "    # Wait -> Purchase\n",
    "    value_wait_to_purchase = path_counts['cart_to_modal_to_wait_to_purchase']\n",
    "    # Disable -> Purchase\n",
    "    value_disable_to_purchase = path_counts['cart_to_modal_to_disable_to_purchase']\n",
    "    \n",
    "    value = [value_cart_to_checkout, value_cart_to_no_action, value_checkout_to_modal, \n",
    "             value_checkout_to_no_action, value_modal_to_wait, value_modal_to_disable,\n",
    "             value_wait_to_purchase, value_disable_to_purchase]\n",
    "    \n",
    "    # Define node colors\n",
    "    node_colors = [\n",
    "        'rgba(31, 119, 180, 0.8)',  # Add to Cart - blue\n",
    "        'rgba(255, 127, 14, 0.8)',   # Checkout - orange\n",
    "        'rgba(44, 160, 44, 0.8)',    # Modal Shown - green\n",
    "        'rgba(214, 39, 40, 0.8)',    # Wait 3 Hours - red\n",
    "        'rgba(148, 103, 189, 0.8)',  # Disable Extension - purple\n",
    "        'rgba(140, 86, 75, 0.8)',    # Purchase - brown\n",
    "        'rgba(188, 189, 34, 0.8)'    # No Further Action - olive\n",
    "    ]\n",
    "    \n",
    "    # Create the Sankey diagram\n",
    "    fig = go.Figure(data=[go.Sankey(\n",
    "        node = dict(\n",
    "            pad = 15,\n",
    "            thickness = 20,\n",
    "            line = dict(color = \"black\", width = 0.5),\n",
    "            label = labels,\n",
    "            color = node_colors\n",
    "        ),\n",
    "        link = dict(\n",
    "            source = source,\n",
    "            target = target,\n",
    "            value = value\n",
    "        ))\n",
    "    ])\n",
    "    \n",
    "    # Update layout\n",
    "    fig.update_layout(\n",
    "        title_text=\"User Flow From Cart Addition to Purchase\",\n",
    "        font_size=12,\n",
    "        height=600\n",
    "    )\n",
    "    \n",
    "    fig.show()\n",
    "except ImportError:\n",
    "    print(\"Plotly is required for Sankey diagram. Install with: !pip install plotly\")"
   ]
  },
  {
   "cell_type": "code",
   "execution_count": null,
   "id": "bc01df6f",
   "metadata": {},
   "outputs": [],
   "source": []
  }
 ],
 "metadata": {
  "kernelspec": {
   "display_name": "reddit",
   "language": "python",
   "name": "python3"
  },
  "language_info": {
   "codemirror_mode": {
    "name": "ipython",
    "version": 3
   },
   "file_extension": ".py",
   "mimetype": "text/x-python",
   "name": "python",
   "nbconvert_exporter": "python",
   "pygments_lexer": "ipython3",
   "version": "3.10.15"
  }
 },
 "nbformat": 4,
 "nbformat_minor": 5
}
